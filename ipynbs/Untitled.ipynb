{
  "nbformat": 4,
  "nbformat_minor": 0,
  "metadata": {
    "colab": {
      "name": "Untitled.ipynb",
      "provenance": [],
      "collapsed_sections": []
    },
    "kernelspec": {
      "name": "python3",
      "display_name": "Python 3"
    },
    "language_info": {
      "name": "python"
    }
  },
  "cells": [
    {
      "cell_type": "code",
      "metadata": {
        "id": "fjhN1TYaNbvj"
      },
      "source": [
        "import pandas as pd\n",
        "import requests\n",
        "from bs4 import BeautifulSoup"
      ],
      "execution_count": null,
      "outputs": []
    },
    {
      "cell_type": "code",
      "metadata": {
        "id": "NZIUhBwGN2O8"
      },
      "source": [
        "def get_price(url):\n",
        "  r = requests.get(url)\n",
        "  soup = BeautifulSoup(r.text, 'html.parser')\n",
        "  price = soup.find('span',{'itemprop': 'price'})['content']\n",
        "  return price\n"
      ],
      "execution_count": null,
      "outputs": []
    },
    {
      "cell_type": "code",
      "metadata": {
        "colab": {
          "base_uri": "https://localhost:8080/"
        },
        "id": "irMeGSDWN2k7",
        "outputId": "2afaf3a5-13a7-4dd2-ebb1-dd4c8823e45a"
      },
      "source": [
        "print(get_price('https://www.ebay.com/itm/393514670181?_trkparms=amclksrc%3DITM%26aid%3D1110010%26algo%3DHOMESPLICE.DISCCARDS%26ao%3D1%26asc%3D20200818141627%26meid%3D35d3db7929d24681ae460bcffcef9ec3%26pid%3D101110%26rk%3D1%26rkt%3D1%26sd%3D234145481103%26itm%3D393514670181%26pmt%3D1%26noa%3D0%26pg%3D2563228%26algv%3Ddefault%26brand%3DPUMA&_trksid=p2563228.c101110.m1982&amdata=cksum%3A39351467018135d3db7929d24681ae460bcffcef9ec3%7Cenc%3AAQAGAAAB4LAfpiaX1XNFiDFtpTEdZWAf3k%252BG0cxQdDyso%252BsfnJRewPxG54S3DsmowvuLtaYAL074LDQn8f4BO%252FQ4tnhMeCvyvItOMvn9aGVeR0jIgBiCJKa5jp6Qg1tJFMDfSONIILjnzUX%252FKOKhppxys0f9I%252BhBJ7txJuN4sF4CAUDbMdW7mKbQbYhpUMJi5Ezm%252FRh7WDuJ%252FuD%252FWp4JgcihztnZkJJdE3CEvi5CylVvWmrSLJX30dPOgNFdI%252BBfMJY4vegu%252FqE%252FUIaUVAg8GtZxGtDvMSj59qitBkZt%252F2Ca%252BOr8%252FHCTDBnDMklT7uinO3rowg3kguth%252FHYBMbLNHLR4zlcxS01QbVicZjnG7WlsxuvEcwwVuO0r3zPQ0oYhrjy0P1PuKktzVwA2ZySbCaTEolkwcuJZhNRyJNwgoTAAcn3c8t9FFMoPrjKC%252B9sEi5xsQbxCP33HknaJY1JzR05ZbcHyRWDyfj7YQViK9%252BN%252F4wAQDqkzxpncA6zwjCBmRefCVqs5%252BseobqNDkB3NM358%252BasmsJShdxMnLtDFo1%252BIRRPztK2GZTDxSlBS7PjPZAS2lZH0CJE4mBgBqa2VhF1hY%252Fm%252FEjh8uwEqY%252FTZD484aCkIXKN%252F7ztdjmv4vPtI1n4MPc42sw%253D%253D%7Campid%3APL_CLK%7Cclp%3A2563228'))"
      ],
      "execution_count": null,
      "outputs": [
        {
          "output_type": "stream",
          "name": "stdout",
          "text": [
            "82.99\n"
          ]
        }
      ]
    },
    {
      "cell_type": "code",
      "metadata": {
        "id": "mAj96hmCN2rl"
      },
      "source": [
        ""
      ],
      "execution_count": null,
      "outputs": []
    },
    {
      "cell_type": "markdown",
      "metadata": {
        "id": "-JET4ySUPFYh"
      },
      "source": [
        "### Using selenium\n"
      ]
    },
    {
      "cell_type": "code",
      "metadata": {
        "colab": {
          "base_uri": "https://localhost:8080/"
        },
        "id": "lFq6-47NN2wz",
        "outputId": "4402862a-733b-4ac7-bfe7-7c583bc9b369"
      },
      "source": [
        "!pip install selenium\n",
        "!apt-get update \n",
        "!apt install chromium-chromedriver\n",
        "!pip install beautifulsoup4\n",
        "\n",
        "from selenium import webdriver\n",
        "chrome_options = webdriver.ChromeOptions()\n",
        "chrome_options.add_argument('--headless')\n",
        "chrome_options.add_argument('--no-sandbox')\n",
        "chrome_options.add_argument('--disable-dev-shm-usage')\n",
        "#chrome_options.add_argument('useAutomationExtention', False)\n",
        "chrome_options.add_argument('--ifnore-certificate-errors')\n",
        "chrome_options.add_argument('--start-maximized')\n",
        "\n",
        "wd = webdriver.Chrome('chromedriver',chrome_options=chrome_options)"
      ],
      "execution_count": 1,
      "outputs": [
        {
          "output_type": "stream",
          "name": "stdout",
          "text": [
            "Collecting selenium\n",
            "  Downloading selenium-4.0.0-py3-none-any.whl (954 kB)\n",
            "\u001b[K     |████████████████████████████████| 954 kB 5.2 MB/s \n",
            "\u001b[?25hCollecting trio~=0.17\n",
            "  Downloading trio-0.19.0-py3-none-any.whl (356 kB)\n",
            "\u001b[K     |████████████████████████████████| 356 kB 36.8 MB/s \n",
            "\u001b[?25hCollecting urllib3[secure]~=1.26\n",
            "  Downloading urllib3-1.26.7-py2.py3-none-any.whl (138 kB)\n",
            "\u001b[K     |████████████████████████████████| 138 kB 56.2 MB/s \n",
            "\u001b[?25hCollecting trio-websocket~=0.9\n",
            "  Downloading trio_websocket-0.9.2-py3-none-any.whl (16 kB)\n",
            "Requirement already satisfied: attrs>=19.2.0 in /usr/local/lib/python3.7/dist-packages (from trio~=0.17->selenium) (21.2.0)\n",
            "Collecting async-generator>=1.9\n",
            "  Downloading async_generator-1.10-py3-none-any.whl (18 kB)\n",
            "Collecting outcome\n",
            "  Downloading outcome-1.1.0-py2.py3-none-any.whl (9.7 kB)\n",
            "Requirement already satisfied: idna in /usr/local/lib/python3.7/dist-packages (from trio~=0.17->selenium) (2.10)\n",
            "Requirement already satisfied: sortedcontainers in /usr/local/lib/python3.7/dist-packages (from trio~=0.17->selenium) (2.4.0)\n",
            "Collecting sniffio\n",
            "  Downloading sniffio-1.2.0-py3-none-any.whl (10 kB)\n",
            "Collecting wsproto>=0.14\n",
            "  Downloading wsproto-1.0.0-py3-none-any.whl (24 kB)\n",
            "Requirement already satisfied: certifi in /usr/local/lib/python3.7/dist-packages (from urllib3[secure]~=1.26->selenium) (2021.5.30)\n",
            "Collecting cryptography>=1.3.4\n",
            "  Downloading cryptography-35.0.0-cp36-abi3-manylinux_2_24_x86_64.whl (3.5 MB)\n",
            "\u001b[K     |████████████████████████████████| 3.5 MB 29.4 MB/s \n",
            "\u001b[?25hCollecting pyOpenSSL>=0.14\n",
            "  Downloading pyOpenSSL-21.0.0-py2.py3-none-any.whl (55 kB)\n",
            "\u001b[K     |████████████████████████████████| 55 kB 2.7 MB/s \n",
            "\u001b[?25hRequirement already satisfied: cffi>=1.12 in /usr/local/lib/python3.7/dist-packages (from cryptography>=1.3.4->urllib3[secure]~=1.26->selenium) (1.14.6)\n",
            "Requirement already satisfied: pycparser in /usr/local/lib/python3.7/dist-packages (from cffi>=1.12->cryptography>=1.3.4->urllib3[secure]~=1.26->selenium) (2.20)\n",
            "Requirement already satisfied: six>=1.5.2 in /usr/local/lib/python3.7/dist-packages (from pyOpenSSL>=0.14->urllib3[secure]~=1.26->selenium) (1.15.0)\n",
            "Collecting h11<1,>=0.9.0\n",
            "  Downloading h11-0.12.0-py3-none-any.whl (54 kB)\n",
            "\u001b[K     |████████████████████████████████| 54 kB 2.7 MB/s \n",
            "\u001b[?25hInstalling collected packages: sniffio, outcome, h11, cryptography, async-generator, wsproto, urllib3, trio, pyOpenSSL, trio-websocket, selenium\n",
            "  Attempting uninstall: urllib3\n",
            "    Found existing installation: urllib3 1.24.3\n",
            "    Uninstalling urllib3-1.24.3:\n",
            "      Successfully uninstalled urllib3-1.24.3\n",
            "\u001b[31mERROR: pip's dependency resolver does not currently take into account all the packages that are installed. This behaviour is the source of the following dependency conflicts.\n",
            "requests 2.23.0 requires urllib3!=1.25.0,!=1.25.1,<1.26,>=1.21.1, but you have urllib3 1.26.7 which is incompatible.\n",
            "datascience 0.10.6 requires folium==0.2.1, but you have folium 0.8.3 which is incompatible.\u001b[0m\n",
            "Successfully installed async-generator-1.10 cryptography-35.0.0 h11-0.12.0 outcome-1.1.0 pyOpenSSL-21.0.0 selenium-4.0.0 sniffio-1.2.0 trio-0.19.0 trio-websocket-0.9.2 urllib3-1.26.7 wsproto-1.0.0\n",
            "Get:1 http://security.ubuntu.com/ubuntu bionic-security InRelease [88.7 kB]\n",
            "Get:2 https://cloud.r-project.org/bin/linux/ubuntu bionic-cran40/ InRelease [3,626 B]\n",
            "Ign:3 https://developer.download.nvidia.com/compute/cuda/repos/ubuntu1804/x86_64  InRelease\n",
            "Hit:4 http://ppa.launchpad.net/c2d4u.team/c2d4u4.0+/ubuntu bionic InRelease\n",
            "Ign:5 https://developer.download.nvidia.com/compute/machine-learning/repos/ubuntu1804/x86_64  InRelease\n",
            "Hit:6 https://developer.download.nvidia.com/compute/cuda/repos/ubuntu1804/x86_64  Release\n",
            "Hit:7 https://developer.download.nvidia.com/compute/machine-learning/repos/ubuntu1804/x86_64  Release\n",
            "Hit:8 http://archive.ubuntu.com/ubuntu bionic InRelease\n",
            "Get:9 http://archive.ubuntu.com/ubuntu bionic-updates InRelease [88.7 kB]\n",
            "Hit:10 http://ppa.launchpad.net/cran/libgit2/ubuntu bionic InRelease\n",
            "Hit:11 http://ppa.launchpad.net/deadsnakes/ppa/ubuntu bionic InRelease\n",
            "Get:12 http://security.ubuntu.com/ubuntu bionic-security/main amd64 Packages [2,367 kB]\n",
            "Get:13 http://archive.ubuntu.com/ubuntu bionic-backports InRelease [74.6 kB]\n",
            "Hit:14 http://ppa.launchpad.net/graphics-drivers/ppa/ubuntu bionic InRelease\n",
            "Get:15 http://security.ubuntu.com/ubuntu bionic-security/universe amd64 Packages [1,431 kB]\n",
            "Get:16 http://security.ubuntu.com/ubuntu bionic-security/restricted amd64 Packages [607 kB]\n",
            "Get:19 http://archive.ubuntu.com/ubuntu bionic-updates/universe amd64 Packages [2,210 kB]\n",
            "Get:20 http://archive.ubuntu.com/ubuntu bionic-updates/main amd64 Packages [2,803 kB]\n",
            "Get:21 http://archive.ubuntu.com/ubuntu bionic-updates/restricted amd64 Packages [640 kB]\n",
            "Fetched 10.3 MB in 4s (2,798 kB/s)\n",
            "Reading package lists... Done\n",
            "Reading package lists... Done\n",
            "Building dependency tree       \n",
            "Reading state information... Done\n",
            "The following additional packages will be installed:\n",
            "  chromium-browser chromium-browser-l10n chromium-codecs-ffmpeg-extra\n",
            "Suggested packages:\n",
            "  webaccounts-chromium-extension unity-chromium-extension\n",
            "The following NEW packages will be installed:\n",
            "  chromium-browser chromium-browser-l10n chromium-chromedriver\n",
            "  chromium-codecs-ffmpeg-extra\n",
            "0 upgraded, 4 newly installed, 0 to remove and 37 not upgraded.\n",
            "Need to get 95.4 MB of archives.\n",
            "After this operation, 323 MB of additional disk space will be used.\n",
            "Get:1 http://archive.ubuntu.com/ubuntu bionic-updates/universe amd64 chromium-codecs-ffmpeg-extra amd64 94.0.4606.71-0ubuntu0.18.04.1 [1,136 kB]\n",
            "Get:2 http://archive.ubuntu.com/ubuntu bionic-updates/universe amd64 chromium-browser amd64 94.0.4606.71-0ubuntu0.18.04.1 [85.1 MB]\n",
            "Get:3 http://archive.ubuntu.com/ubuntu bionic-updates/universe amd64 chromium-browser-l10n all 94.0.4606.71-0ubuntu0.18.04.1 [4,161 kB]\n",
            "Get:4 http://archive.ubuntu.com/ubuntu bionic-updates/universe amd64 chromium-chromedriver amd64 94.0.4606.71-0ubuntu0.18.04.1 [4,964 kB]\n",
            "Fetched 95.4 MB in 5s (19.8 MB/s)\n",
            "Selecting previously unselected package chromium-codecs-ffmpeg-extra.\n",
            "(Reading database ... 155047 files and directories currently installed.)\n",
            "Preparing to unpack .../chromium-codecs-ffmpeg-extra_94.0.4606.71-0ubuntu0.18.04.1_amd64.deb ...\n",
            "Unpacking chromium-codecs-ffmpeg-extra (94.0.4606.71-0ubuntu0.18.04.1) ...\n",
            "Selecting previously unselected package chromium-browser.\n",
            "Preparing to unpack .../chromium-browser_94.0.4606.71-0ubuntu0.18.04.1_amd64.deb ...\n",
            "Unpacking chromium-browser (94.0.4606.71-0ubuntu0.18.04.1) ...\n",
            "Selecting previously unselected package chromium-browser-l10n.\n",
            "Preparing to unpack .../chromium-browser-l10n_94.0.4606.71-0ubuntu0.18.04.1_all.deb ...\n",
            "Unpacking chromium-browser-l10n (94.0.4606.71-0ubuntu0.18.04.1) ...\n",
            "Selecting previously unselected package chromium-chromedriver.\n",
            "Preparing to unpack .../chromium-chromedriver_94.0.4606.71-0ubuntu0.18.04.1_amd64.deb ...\n",
            "Unpacking chromium-chromedriver (94.0.4606.71-0ubuntu0.18.04.1) ...\n",
            "Setting up chromium-codecs-ffmpeg-extra (94.0.4606.71-0ubuntu0.18.04.1) ...\n",
            "Setting up chromium-browser (94.0.4606.71-0ubuntu0.18.04.1) ...\n",
            "update-alternatives: using /usr/bin/chromium-browser to provide /usr/bin/x-www-browser (x-www-browser) in auto mode\n",
            "update-alternatives: using /usr/bin/chromium-browser to provide /usr/bin/gnome-www-browser (gnome-www-browser) in auto mode\n",
            "Setting up chromium-chromedriver (94.0.4606.71-0ubuntu0.18.04.1) ...\n",
            "Setting up chromium-browser-l10n (94.0.4606.71-0ubuntu0.18.04.1) ...\n",
            "Processing triggers for man-db (2.8.3-2ubuntu0.1) ...\n",
            "Processing triggers for hicolor-icon-theme (0.17-2) ...\n",
            "Processing triggers for mime-support (3.60ubuntu1) ...\n",
            "Processing triggers for libc-bin (2.27-3ubuntu1.3) ...\n",
            "/sbin/ldconfig.real: /usr/local/lib/python3.7/dist-packages/ideep4py/lib/libmkldnn.so.0 is not a symbolic link\n",
            "\n",
            "Requirement already satisfied: beautifulsoup4 in /usr/local/lib/python3.7/dist-packages (4.6.3)\n"
          ]
        },
        {
          "output_type": "stream",
          "name": "stderr",
          "text": [
            "/usr/local/lib/python3.7/dist-packages/ipykernel_launcher.py:15: DeprecationWarning: use options instead of chrome_options\n",
            "  from ipykernel import kernelapp as app\n"
          ]
        }
      ]
    },
    {
      "cell_type": "code",
      "metadata": {
        "id": "pTkROFO7PKgn"
      },
      "source": [
        "from selenium.webdriver.support.ui import WebDriverWait, Select\n",
        "from selenium.webdriver.support import expected_conditions as EC\n",
        "from selenium.webdriver.firefox.options import Options\n",
        "from selenium.webdriver.common.by import By\n",
        "from selenium.webdriver.common.action_chains import ActionChains\n",
        "from selenium.webdriver.common.keys import Keys\n",
        "from selenium.common.exceptions import TimeoutException, NoSuchElementException\n",
        "from bs4 import BeautifulSoup \n",
        "import pandas as pd \n",
        "import os\n",
        "import time"
      ],
      "execution_count": 2,
      "outputs": []
    },
    {
      "cell_type": "code",
      "metadata": {
        "id": "_pLMwaZoPKnD"
      },
      "source": [
        "#user_agent = 'Mozilla/5.0 (Windows NT 10.0; Win64; x64; rv:87.0) Gecko/20100101 Firefox/87.0'\n",
        "#FireFoxDriverPath = os.path.join(os.getcwd(), 'Drivers', 'geckodriver.exe')\n",
        "#FireFoxProfile = webdriver.FirefoxProfile()\n",
        "#FireFoxProfile.set_preference(\"general.useragent.override\", user_agent)\n",
        "url = \"https://www.ebay.com/\"\n",
        "browser = wd\n",
        "browser.implicitly_wait(7)\n",
        "browser.get(url)\n",
        "\n",
        "search_keyword = 'Playstation 5'\n",
        "search_field = browser.find_element_by_id('gh-ac')\n",
        "search_field.clear()\n",
        "search_field.send_keys(search_keyword)\n",
        "search_field.send_keys(Keys.ENTER)\n",
        "\n",
        "total_result = int(browser.find_element_by_class_name('srp-controls__count-heading').find_element_by_class_name('BOLD').text.replace(',', ''))\n",
        "ebay_listings = []\n",
        "\n",
        "current_page = 1\n",
        "to_continue = True"
      ],
      "execution_count": 3,
      "outputs": []
    },
    {
      "cell_type": "code",
      "metadata": {
        "id": "YHtNJSGkPKss"
      },
      "source": [
        "while to_continue:\n",
        "    try:\n",
        "        print('Processing page {0}'.format(current_page))\n",
        "\n",
        "        soup = BeautifulSoup(browser.page_source, 'html.parser')\n",
        "        item_list = soup.find_all('li', 's-item--watch-at-corner')\n",
        "        \n",
        "        for listing in item_list:\n",
        "            product_detail = {}\n",
        "\n",
        "            product_detail['product title'] = listing.h3.text\n",
        "            product_detail['product url'] = listing.a['href']\n",
        "            \n",
        "            listing_subtitles = listing.find_all('div', 's-item__subtitle')\n",
        "            if len(listing_subtitles) == 2:\n",
        "                listing_subtitle_1 = listing_subtitles[0].text\n",
        "                listing_subtitle_2 = listing_subtitles[1].text\n",
        "            elif len(listing_subtitles) == 1:\n",
        "                listing_subtitle_1 = listing_subtitles[0].text\n",
        "                listing_subtitle_2 = None\n",
        "            else:\n",
        "                listing_subtitle_1 = None\n",
        "                listing_subtitle_2 = None\n",
        "\n",
        "            product_detail['subtitle1'] = listing_subtitle_1\n",
        "            product_detail['subtitle2'] = listing_subtitle_2\n",
        "\n",
        "\n",
        "            # Star rating and product review count\n",
        "            try:\n",
        "                x_star_rating = listing.find('div', 'x-star-rating')\n",
        "                stars = len(x_star_rating.find_all('svg', 'icon--star-full-small'))\n",
        "                if int(stars) > 4: print(stars) \n",
        "                review_count = int(listing.find('span', 's-item__reviews-count').span.text.replace( ' product ratings', ''))\n",
        "                \n",
        "                product_detail['stars'] = stars\n",
        "                product_detail['product review_count'] = review_count\n",
        "            except Exception as e:\n",
        "                product_detail['stars'] = ''\n",
        "                product_detail['product review_count'] = ''\n",
        "\n",
        "            product_detail['price'] = listing.find('span', 's-item__price').text\n",
        "\n",
        "            try:\n",
        "                product_detail['shipping detail'] = listing.find('span', 's-item__logisticsCost').text\n",
        "            except AttributeError:\n",
        "                product_detail['shipping detail'] = 'Not Available'\n",
        "                \n",
        "            ebay_listings.append(product_detail)\n",
        "\n",
        "\n",
        "        time.sleep(1)\n",
        "        browser.find_element_by_xpath('//a[@class=\"pagination__item\" and text()=\"{0}\"]'.format(current_page+1)).click()\n",
        "        current_page +=1\n",
        "\n",
        "        if current_page > 5:\n",
        "            raise Exception('Stop')\n",
        "\n",
        "    except NoSuchElementException:\n",
        "        print('Last page {0}'.format(current_page))\n",
        "        to_continue = False\n",
        "\n"
      ],
      "execution_count": 17,
      "outputs": []
    },
    {
      "cell_type": "code",
      "metadata": {
        "colab": {
          "base_uri": "https://localhost:8080/",
          "height": 561
        },
        "id": "KvU6DbXZSZNe",
        "outputId": "6a9b4ed0-9974-4554-a2ee-f500d3960715"
      },
      "source": [
        "df = pd.DataFrame(ebay_listings)\n",
        "df.head()"
      ],
      "execution_count": 18,
      "outputs": [
        {
          "output_type": "execute_result",
          "data": {
            "text/html": [
              "<div>\n",
              "<style scoped>\n",
              "    .dataframe tbody tr th:only-of-type {\n",
              "        vertical-align: middle;\n",
              "    }\n",
              "\n",
              "    .dataframe tbody tr th {\n",
              "        vertical-align: top;\n",
              "    }\n",
              "\n",
              "    .dataframe thead th {\n",
              "        text-align: right;\n",
              "    }\n",
              "</style>\n",
              "<table border=\"1\" class=\"dataframe\">\n",
              "  <thead>\n",
              "    <tr style=\"text-align: right;\">\n",
              "      <th></th>\n",
              "      <th>product title</th>\n",
              "      <th>product url</th>\n",
              "      <th>subtitle1</th>\n",
              "      <th>subtitle2</th>\n",
              "      <th>stars</th>\n",
              "      <th>product review_count</th>\n",
              "      <th>price</th>\n",
              "      <th>shipping detail</th>\n",
              "    </tr>\n",
              "  </thead>\n",
              "  <tbody>\n",
              "    <tr>\n",
              "      <th>0</th>\n",
              "      <td>Sony PlayStation 5 PS5 Console Disc Version *N...</td>\n",
              "      <td>https://www.ebay.com/itm/333896636458?epid=190...</td>\n",
              "      <td>Brand New · Sony PlayStation 5 · Sony PlayStat...</td>\n",
              "      <td>None</td>\n",
              "      <td>0</td>\n",
              "      <td>1976</td>\n",
              "      <td>$1,049.00</td>\n",
              "      <td>Not Available</td>\n",
              "    </tr>\n",
              "    <tr>\n",
              "      <th>1</th>\n",
              "      <td>PS5 Sony PlayStation 5 Console Disc Version</td>\n",
              "      <td>https://www.ebay.com/itm/324483721021?epid=190...</td>\n",
              "      <td>Pre-Owned · Sony PlayStation 5 · Sony PlayStat...</td>\n",
              "      <td>None</td>\n",
              "      <td>0</td>\n",
              "      <td>1976</td>\n",
              "      <td>$859.99</td>\n",
              "      <td>Free shipping</td>\n",
              "    </tr>\n",
              "    <tr>\n",
              "      <th>2</th>\n",
              "      <td>Sony PlayStation 5 Console Disc Version (PS5) ...</td>\n",
              "      <td>https://www.ebay.com/itm/144223680923?epid=190...</td>\n",
              "      <td>Brand New · Sony PlayStation 5 · Sony PlayStat...</td>\n",
              "      <td>None</td>\n",
              "      <td>0</td>\n",
              "      <td>1976</td>\n",
              "      <td>$949.99</td>\n",
              "      <td>Free shipping</td>\n",
              "    </tr>\n",
              "    <tr>\n",
              "      <th>3</th>\n",
              "      <td>Sony PlayStation 5 PS5 Console Disc Version Bl...</td>\n",
              "      <td>https://www.ebay.com/itm/193955663603?epid=190...</td>\n",
              "      <td>Brand New · Sony PlayStation 5 · Sony PlayStat...</td>\n",
              "      <td>None</td>\n",
              "      <td>0</td>\n",
              "      <td>1976</td>\n",
              "      <td>$899.99</td>\n",
              "      <td>Free shipping</td>\n",
              "    </tr>\n",
              "    <tr>\n",
              "      <th>4</th>\n",
              "      <td>New ListingSony PlayStation 5 PS5 DISC Edition...</td>\n",
              "      <td>https://www.ebay.com/itm/203647656449?hash=ite...</td>\n",
              "      <td>Brand New · Sony PlayStation 5</td>\n",
              "      <td>None</td>\n",
              "      <td></td>\n",
              "      <td></td>\n",
              "      <td>$760.00</td>\n",
              "      <td>+$23.77 shipping</td>\n",
              "    </tr>\n",
              "  </tbody>\n",
              "</table>\n",
              "</div>"
            ],
            "text/plain": [
              "                                       product title  ...   shipping detail\n",
              "0  Sony PlayStation 5 PS5 Console Disc Version *N...  ...     Not Available\n",
              "1        PS5 Sony PlayStation 5 Console Disc Version  ...     Free shipping\n",
              "2  Sony PlayStation 5 Console Disc Version (PS5) ...  ...     Free shipping\n",
              "3  Sony PlayStation 5 PS5 Console Disc Version Bl...  ...     Free shipping\n",
              "4  New ListingSony PlayStation 5 PS5 DISC Edition...  ...  +$23.77 shipping\n",
              "\n",
              "[5 rows x 8 columns]"
            ]
          },
          "metadata": {},
          "execution_count": 18
        }
      ]
    },
    {
      "cell_type": "code",
      "metadata": {
        "id": "taFahtVhStIm"
      },
      "source": [
        "df['amount'] = df.price.apply(lambda x: int(\"\".join(filter(str.isdigit, x))))"
      ],
      "execution_count": 19,
      "outputs": []
    },
    {
      "cell_type": "code",
      "metadata": {
        "colab": {
          "base_uri": "https://localhost:8080/",
          "height": 1000
        },
        "id": "_IV86jD9XZVp",
        "outputId": "46b9e5dc-8bba-40a0-e53b-acd2780630ef"
      },
      "source": [
        "df.sort_values(by='amount')"
      ],
      "execution_count": 20,
      "outputs": [
        {
          "output_type": "execute_result",
          "data": {
            "text/html": [
              "<div>\n",
              "<style scoped>\n",
              "    .dataframe tbody tr th:only-of-type {\n",
              "        vertical-align: middle;\n",
              "    }\n",
              "\n",
              "    .dataframe tbody tr th {\n",
              "        vertical-align: top;\n",
              "    }\n",
              "\n",
              "    .dataframe thead th {\n",
              "        text-align: right;\n",
              "    }\n",
              "</style>\n",
              "<table border=\"1\" class=\"dataframe\">\n",
              "  <thead>\n",
              "    <tr style=\"text-align: right;\">\n",
              "      <th></th>\n",
              "      <th>product title</th>\n",
              "      <th>product url</th>\n",
              "      <th>subtitle1</th>\n",
              "      <th>subtitle2</th>\n",
              "      <th>stars</th>\n",
              "      <th>product review_count</th>\n",
              "      <th>price</th>\n",
              "      <th>shipping detail</th>\n",
              "      <th>amount</th>\n",
              "    </tr>\n",
              "  </thead>\n",
              "  <tbody>\n",
              "    <tr>\n",
              "      <th>7</th>\n",
              "      <td>Turtle Beach Elite Atlas Pro Performance Heads...</td>\n",
              "      <td>https://www.ebay.com/itm/324391510282?hash=ite...</td>\n",
              "      <td>None</td>\n",
              "      <td>None</td>\n",
              "      <td></td>\n",
              "      <td></td>\n",
              "      <td>$59.95</td>\n",
              "      <td>Free shipping</td>\n",
              "      <td>5995</td>\n",
              "    </tr>\n",
              "    <tr>\n",
              "      <th>8</th>\n",
              "      <td>Razer Kraken Gaming Headset For PC, PS4, PS5, ...</td>\n",
              "      <td>https://www.ebay.com/itm/144123396447?hash=ite...</td>\n",
              "      <td>None</td>\n",
              "      <td>None</td>\n",
              "      <td></td>\n",
              "      <td></td>\n",
              "      <td>$59.99</td>\n",
              "      <td>Free shipping</td>\n",
              "      <td>5999</td>\n",
              "    </tr>\n",
              "    <tr>\n",
              "      <th>9</th>\n",
              "      <td>SteelSeries Arctis 5 RGB Wired Gaming Headset ...</td>\n",
              "      <td>https://www.ebay.com/itm/334129396663?hash=ite...</td>\n",
              "      <td>None</td>\n",
              "      <td>None</td>\n",
              "      <td></td>\n",
              "      <td></td>\n",
              "      <td>$89.95</td>\n",
              "      <td>Free shipping</td>\n",
              "      <td>8995</td>\n",
              "    </tr>\n",
              "    <tr>\n",
              "      <th>191</th>\n",
              "      <td>New ListingSony PlayStation 5 PS5 Blu-Ray Edit...</td>\n",
              "      <td>https://www.ebay.com/itm/324827522681?epid=190...</td>\n",
              "      <td>Brand New · Sony PlayStation 5 · Sony PlayStat...</td>\n",
              "      <td>None</td>\n",
              "      <td>0</td>\n",
              "      <td>1976</td>\n",
              "      <td>$102.50</td>\n",
              "      <td>+$77.61 shipping</td>\n",
              "      <td>10250</td>\n",
              "    </tr>\n",
              "    <tr>\n",
              "      <th>113</th>\n",
              "      <td>New Listing🎁Sony PlayStation 5 Console🎁Digital...</td>\n",
              "      <td>https://www.ebay.com/itm/265357244952?epid=250...</td>\n",
              "      <td>Brand New · Sony PlayStation 5 · Sony PlayStat...</td>\n",
              "      <td>None</td>\n",
              "      <td>0</td>\n",
              "      <td>461</td>\n",
              "      <td>$202.50</td>\n",
              "      <td>+$50.00 shipping</td>\n",
              "      <td>20250</td>\n",
              "    </tr>\n",
              "    <tr>\n",
              "      <th>...</th>\n",
              "      <td>...</td>\n",
              "      <td>...</td>\n",
              "      <td>...</td>\n",
              "      <td>...</td>\n",
              "      <td>...</td>\n",
              "      <td>...</td>\n",
              "      <td>...</td>\n",
              "      <td>...</td>\n",
              "      <td>...</td>\n",
              "    </tr>\n",
              "    <tr>\n",
              "      <th>129</th>\n",
              "      <td>New Listingplaystation 5 console</td>\n",
              "      <td>https://www.ebay.com/itm/304180922459?_trkparm...</td>\n",
              "      <td>Brand New · Sony PlayStation 5</td>\n",
              "      <td>None</td>\n",
              "      <td></td>\n",
              "      <td></td>\n",
              "      <td>$1,124.00</td>\n",
              "      <td>+$10.00 shipping</td>\n",
              "      <td>112400</td>\n",
              "    </tr>\n",
              "    <tr>\n",
              "      <th>137</th>\n",
              "      <td>Sony PlayStation 5 Console PS5 [Disc Version] ...</td>\n",
              "      <td>https://www.ebay.com/itm/284478117917?epid=190...</td>\n",
              "      <td>Brand New · Sony PlayStation 5</td>\n",
              "      <td>None</td>\n",
              "      <td>0</td>\n",
              "      <td>1976</td>\n",
              "      <td>$1,151.00</td>\n",
              "      <td>+$30.15 shipping</td>\n",
              "      <td>115100</td>\n",
              "    </tr>\n",
              "    <tr>\n",
              "      <th>64</th>\n",
              "      <td>Sony PlayStation 5 PS5 Console Disc Version BR...</td>\n",
              "      <td>https://www.ebay.com/itm/203581141972?epid=190...</td>\n",
              "      <td>Brand New · Sony PlayStation 5 · Sony PlayStat...</td>\n",
              "      <td>None</td>\n",
              "      <td>0</td>\n",
              "      <td>1976</td>\n",
              "      <td>$1,199.95</td>\n",
              "      <td>Free shipping</td>\n",
              "      <td>119995</td>\n",
              "    </tr>\n",
              "    <tr>\n",
              "      <th>103</th>\n",
              "      <td>PS5 Sony Playstation 5 Console Disc Version 🔥B...</td>\n",
              "      <td>https://www.ebay.com/itm/304128005531?epid=190...</td>\n",
              "      <td>Brand New · Sony PlayStation 5 · Sony PlayStat...</td>\n",
              "      <td>None</td>\n",
              "      <td>0</td>\n",
              "      <td>1976</td>\n",
              "      <td>$1,199.99</td>\n",
              "      <td>Free shipping</td>\n",
              "      <td>119999</td>\n",
              "    </tr>\n",
              "    <tr>\n",
              "      <th>235</th>\n",
              "      <td>Sony Playstation (PS5) Disc/Blu-Ray Edition Co...</td>\n",
              "      <td>https://www.ebay.com/itm/353710456445?epid=190...</td>\n",
              "      <td>Brand New · Sony PlayStation 5 · Sony PlayStat...</td>\n",
              "      <td>None</td>\n",
              "      <td>0</td>\n",
              "      <td>1976</td>\n",
              "      <td>$1,205.00</td>\n",
              "      <td>+$44.16 shipping</td>\n",
              "      <td>120500</td>\n",
              "    </tr>\n",
              "  </tbody>\n",
              "</table>\n",
              "<p>239 rows × 9 columns</p>\n",
              "</div>"
            ],
            "text/plain": [
              "                                         product title  ...  amount\n",
              "7    Turtle Beach Elite Atlas Pro Performance Heads...  ...    5995\n",
              "8    Razer Kraken Gaming Headset For PC, PS4, PS5, ...  ...    5999\n",
              "9    SteelSeries Arctis 5 RGB Wired Gaming Headset ...  ...    8995\n",
              "191  New ListingSony PlayStation 5 PS5 Blu-Ray Edit...  ...   10250\n",
              "113  New Listing🎁Sony PlayStation 5 Console🎁Digital...  ...   20250\n",
              "..                                                 ...  ...     ...\n",
              "129                   New Listingplaystation 5 console  ...  112400\n",
              "137  Sony PlayStation 5 Console PS5 [Disc Version] ...  ...  115100\n",
              "64   Sony PlayStation 5 PS5 Console Disc Version BR...  ...  119995\n",
              "103  PS5 Sony Playstation 5 Console Disc Version 🔥B...  ...  119999\n",
              "235  Sony Playstation (PS5) Disc/Blu-Ray Edition Co...  ...  120500\n",
              "\n",
              "[239 rows x 9 columns]"
            ]
          },
          "metadata": {},
          "execution_count": 20
        }
      ]
    },
    {
      "cell_type": "code",
      "metadata": {
        "id": "bFmtW5UmK8Mz",
        "colab": {
          "base_uri": "https://localhost:8080/"
        },
        "outputId": "1cfcc646-901e-4d4b-c724-4fc563b40bf5"
      },
      "source": [
        "#df.to_excel('playstation 5 listings.xlsx', index=False)\n",
        "print(df.iloc[103])"
      ],
      "execution_count": 11,
      "outputs": [
        {
          "output_type": "stream",
          "name": "stdout",
          "text": [
            "product title           PS5 Sony Playstation 5 Console Disc Version 🔥B...\n",
            "product url             https://www.ebay.com/itm/304128005531?epid=190...\n",
            "subtitle1               Brand New · Sony PlayStation 5 · Sony PlayStat...\n",
            "subtitle2                                                            None\n",
            "stars                                                                   0\n",
            "product review_count                                                 1976\n",
            "price                                                           $1,199.99\n",
            "shipping detail                                             Free shipping\n",
            "amount                                                             119999\n",
            "Name: 103, dtype: object\n"
          ]
        }
      ]
    },
    {
      "cell_type": "code",
      "metadata": {
        "id": "ltFgXk3ngPZl"
      },
      "source": [
        ""
      ],
      "execution_count": null,
      "outputs": []
    },
    {
      "cell_type": "code",
      "metadata": {
        "id": "0dVowVyJgPd-"
      },
      "source": [
        ""
      ],
      "execution_count": null,
      "outputs": []
    },
    {
      "cell_type": "code",
      "metadata": {
        "id": "NZzdEgI8gPiZ"
      },
      "source": [
        ""
      ],
      "execution_count": null,
      "outputs": []
    },
    {
      "cell_type": "code",
      "metadata": {
        "id": "Mah6KJFZgPm9"
      },
      "source": [
        "# https://towardsdatascience.com/scraping-multiple-amazon-stores-with-python-5eab811453a8"
      ],
      "execution_count": null,
      "outputs": []
    },
    {
      "cell_type": "markdown",
      "metadata": {
        "id": "MYx4sDuFgRRp"
      },
      "source": [
        "# scrapping Amazon\n",
        "\n"
      ]
    },
    {
      "cell_type": "code",
      "metadata": {
        "id": "QaWdA-EPgPrM"
      },
      "source": [
        "def get_url(search_term):\n",
        "  \"\"\"Genetare the Url from search term\"\"\"\n",
        "  template = \"https://www.amazon.com.mx/s?k={}&__mk_es_MX=%C3%85M%C3%85%C5%BD%C3%95%C3%91&ref=nb_sb_noss_1\"\n",
        "  search_term = search_term.replace(' ', '+')\n",
        "  return template.format(search_term)"
      ],
      "execution_count": 3,
      "outputs": []
    },
    {
      "cell_type": "code",
      "metadata": {
        "colab": {
          "base_uri": "https://localhost:8080/"
        },
        "id": "rZMWedCp_ubt",
        "outputId": "4eedbdff-9c7e-411f-de64-a7e472a3b55d"
      },
      "source": [
        "url = get_url('jetson nano')\n",
        "print(url)"
      ],
      "execution_count": 4,
      "outputs": [
        {
          "output_type": "stream",
          "name": "stdout",
          "text": [
            "https://www.amazon.com.mx/s?k=jetson+nano&__mk_es_MX=%C3%85M%C3%85%C5%BD%C3%95%C3%91&ref=nb_sb_noss_1\n"
          ]
        }
      ]
    },
    {
      "cell_type": "code",
      "metadata": {
        "id": "FBKQeGWgf65F"
      },
      "source": [
        "wd.get(url)"
      ],
      "execution_count": 5,
      "outputs": []
    },
    {
      "cell_type": "code",
      "metadata": {
        "id": "Ut4H2jFyAsIv"
      },
      "source": [
        "# Extract the collection\n",
        "soup = BeautifulSoup(wd.page_source, 'html.parser')"
      ],
      "execution_count": 6,
      "outputs": []
    },
    {
      "cell_type": "code",
      "metadata": {
        "id": "-IBanDEDAuv6"
      },
      "source": [
        "results = soup.find_all('div', {'data-component-type': 's-search-result'})"
      ],
      "execution_count": 7,
      "outputs": []
    },
    {
      "cell_type": "code",
      "metadata": {
        "colab": {
          "base_uri": "https://localhost:8080/"
        },
        "id": "hoSTENSTCjTA",
        "outputId": "4ba22f13-0e75-47f6-b1ae-b0c742620996"
      },
      "source": [
        "len(results)"
      ],
      "execution_count": 8,
      "outputs": [
        {
          "output_type": "execute_result",
          "data": {
            "text/plain": [
              "60"
            ]
          },
          "metadata": {},
          "execution_count": 8
        }
      ]
    },
    {
      "cell_type": "code",
      "metadata": {
        "id": "cFoe7XdIF4_q"
      },
      "source": [
        "# prototype the record\n",
        "item = results[0]\n",
        "atag = item.h2.a\n",
        "description = atag.text.strip()\n",
        "url = 'https://www.amazon.com.mx' + atag.get('href')"
      ],
      "execution_count": 9,
      "outputs": []
    },
    {
      "cell_type": "code",
      "metadata": {
        "id": "bXUcrozpHDLC"
      },
      "source": [
        "# price\n",
        "price_parent = item.find('span', 'a-price')\n",
        "price = price_parent.find('span', 'a-offscreen').text"
      ],
      "execution_count": 11,
      "outputs": []
    },
    {
      "cell_type": "code",
      "metadata": {
        "id": "1VvqQ5ztH51N"
      },
      "source": [
        "# stars\n",
        "rating = item.i.text"
      ],
      "execution_count": 14,
      "outputs": []
    },
    {
      "cell_type": "code",
      "metadata": {
        "id": "YbpNF8tMIe6L"
      },
      "source": [
        "# find the reviews\n",
        "review_count = item.find('span', {'class':'a-size-base'}).text"
      ],
      "execution_count": 19,
      "outputs": []
    },
    {
      "cell_type": "code",
      "metadata": {
        "id": "cw-B0awvKET7"
      },
      "source": [
        "# Generalize pattern\n",
        "\n",
        "def extract_record(item):\n",
        "\n",
        "  # description and url\n",
        "  atag = item.h2.a\n",
        "  description = atag.text.strip()\n",
        "  url = 'https://www.amazon.com.mx' + atag.get('href')\n",
        "\n",
        "  # price\n",
        "  price_parent = item.find('span', 'a-price')\n",
        "  price = price_parent.find('span', 'a-offscreen').text\n",
        "\n",
        "  # reviews and rating\n",
        "  rating = item.i.text\n",
        "  review_count = item.find('span', {'class':'a-size-base'}).text\n",
        "\n",
        "  result = (description, price, rating, review_count, url)\n",
        "\n",
        "  return result\n",
        "  "
      ],
      "execution_count": 20,
      "outputs": []
    },
    {
      "cell_type": "code",
      "metadata": {
        "id": "C23RoX_tLOAB",
        "outputId": "7d7045b0-04bb-4be7-e995-d598b446f4a6",
        "colab": {
          "base_uri": "https://localhost:8080/",
          "height": 316
        }
      },
      "source": [
        "records = []\n",
        "results = soup.find_all('div', {'data-component-type': 's-search-result'})\n",
        "\n",
        "for item in results:\n",
        "  records.append(extract_record(item))"
      ],
      "execution_count": 21,
      "outputs": [
        {
          "output_type": "error",
          "ename": "AttributeError",
          "evalue": "ignored",
          "traceback": [
            "\u001b[0;31m---------------------------------------------------------------------------\u001b[0m",
            "\u001b[0;31mAttributeError\u001b[0m                            Traceback (most recent call last)",
            "\u001b[0;32m<ipython-input-21-28b8e5f8f072>\u001b[0m in \u001b[0;36m<module>\u001b[0;34m()\u001b[0m\n\u001b[1;32m      3\u001b[0m \u001b[0;34m\u001b[0m\u001b[0m\n\u001b[1;32m      4\u001b[0m \u001b[0;32mfor\u001b[0m \u001b[0mitem\u001b[0m \u001b[0;32min\u001b[0m \u001b[0mresults\u001b[0m\u001b[0;34m:\u001b[0m\u001b[0;34m\u001b[0m\u001b[0;34m\u001b[0m\u001b[0m\n\u001b[0;32m----> 5\u001b[0;31m   \u001b[0mrecords\u001b[0m\u001b[0;34m.\u001b[0m\u001b[0mappend\u001b[0m\u001b[0;34m(\u001b[0m\u001b[0mextract_record\u001b[0m\u001b[0;34m(\u001b[0m\u001b[0mitem\u001b[0m\u001b[0;34m)\u001b[0m\u001b[0;34m)\u001b[0m\u001b[0;34m\u001b[0m\u001b[0;34m\u001b[0m\u001b[0m\n\u001b[0m",
            "\u001b[0;32m<ipython-input-20-483a9d4ec7fb>\u001b[0m in \u001b[0;36mextract_record\u001b[0;34m(item)\u001b[0m\n\u001b[1;32m     10\u001b[0m   \u001b[0;31m# price\u001b[0m\u001b[0;34m\u001b[0m\u001b[0;34m\u001b[0m\u001b[0;34m\u001b[0m\u001b[0m\n\u001b[1;32m     11\u001b[0m   \u001b[0mprice_parent\u001b[0m \u001b[0;34m=\u001b[0m \u001b[0mitem\u001b[0m\u001b[0;34m.\u001b[0m\u001b[0mfind\u001b[0m\u001b[0;34m(\u001b[0m\u001b[0;34m'span'\u001b[0m\u001b[0;34m,\u001b[0m \u001b[0;34m'a-price'\u001b[0m\u001b[0;34m)\u001b[0m\u001b[0;34m\u001b[0m\u001b[0;34m\u001b[0m\u001b[0m\n\u001b[0;32m---> 12\u001b[0;31m   \u001b[0mprice\u001b[0m \u001b[0;34m=\u001b[0m \u001b[0mprice_parent\u001b[0m\u001b[0;34m.\u001b[0m\u001b[0mfind\u001b[0m\u001b[0;34m(\u001b[0m\u001b[0;34m'span'\u001b[0m\u001b[0;34m,\u001b[0m \u001b[0;34m'a-offscreen'\u001b[0m\u001b[0;34m)\u001b[0m\u001b[0;34m.\u001b[0m\u001b[0mtext\u001b[0m\u001b[0;34m\u001b[0m\u001b[0;34m\u001b[0m\u001b[0m\n\u001b[0m\u001b[1;32m     13\u001b[0m \u001b[0;34m\u001b[0m\u001b[0m\n\u001b[1;32m     14\u001b[0m   \u001b[0;31m# reviews and rating\u001b[0m\u001b[0;34m\u001b[0m\u001b[0;34m\u001b[0m\u001b[0;34m\u001b[0m\u001b[0m\n",
            "\u001b[0;31mAttributeError\u001b[0m: 'NoneType' object has no attribute 'find'"
          ]
        }
      ]
    },
    {
      "cell_type": "code",
      "metadata": {
        "id": "dxeoGqEBRl_x"
      },
      "source": [
        ""
      ],
      "execution_count": null,
      "outputs": []
    },
    {
      "cell_type": "code",
      "metadata": {
        "id": "mRSYDc99RmLy"
      },
      "source": [
        ""
      ],
      "execution_count": null,
      "outputs": []
    }
  ]
}