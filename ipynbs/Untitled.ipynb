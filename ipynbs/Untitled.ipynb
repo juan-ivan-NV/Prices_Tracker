{
  "nbformat": 4,
  "nbformat_minor": 0,
  "metadata": {
    "colab": {
      "name": "Untitled.ipynb",
      "provenance": []
    },
    "kernelspec": {
      "name": "python3",
      "display_name": "Python 3"
    },
    "language_info": {
      "name": "python"
    }
  },
  "cells": [
    {
      "cell_type": "code",
      "metadata": {
        "id": "fjhN1TYaNbvj"
      },
      "source": [
        "import pandas as pd\n",
        "import requests\n",
        "from bs4 import BeautifulSoup"
      ],
      "execution_count": 1,
      "outputs": []
    },
    {
      "cell_type": "code",
      "metadata": {
        "id": "NZIUhBwGN2O8"
      },
      "source": [
        "def get_price(url):\n",
        "  r = requests.get(url)\n",
        "  soup = BeautifulSoup(r.text, 'html.parser')\n",
        "  price = soup.find('span',{'itemprop': 'price'})['content']\n",
        "  return price\n"
      ],
      "execution_count": 4,
      "outputs": []
    },
    {
      "cell_type": "code",
      "metadata": {
        "colab": {
          "base_uri": "https://localhost:8080/"
        },
        "id": "irMeGSDWN2k7",
        "outputId": "2afaf3a5-13a7-4dd2-ebb1-dd4c8823e45a"
      },
      "source": [
        "print(get_price('https://www.ebay.com/itm/393514670181?_trkparms=amclksrc%3DITM%26aid%3D1110010%26algo%3DHOMESPLICE.DISCCARDS%26ao%3D1%26asc%3D20200818141627%26meid%3D35d3db7929d24681ae460bcffcef9ec3%26pid%3D101110%26rk%3D1%26rkt%3D1%26sd%3D234145481103%26itm%3D393514670181%26pmt%3D1%26noa%3D0%26pg%3D2563228%26algv%3Ddefault%26brand%3DPUMA&_trksid=p2563228.c101110.m1982&amdata=cksum%3A39351467018135d3db7929d24681ae460bcffcef9ec3%7Cenc%3AAQAGAAAB4LAfpiaX1XNFiDFtpTEdZWAf3k%252BG0cxQdDyso%252BsfnJRewPxG54S3DsmowvuLtaYAL074LDQn8f4BO%252FQ4tnhMeCvyvItOMvn9aGVeR0jIgBiCJKa5jp6Qg1tJFMDfSONIILjnzUX%252FKOKhppxys0f9I%252BhBJ7txJuN4sF4CAUDbMdW7mKbQbYhpUMJi5Ezm%252FRh7WDuJ%252FuD%252FWp4JgcihztnZkJJdE3CEvi5CylVvWmrSLJX30dPOgNFdI%252BBfMJY4vegu%252FqE%252FUIaUVAg8GtZxGtDvMSj59qitBkZt%252F2Ca%252BOr8%252FHCTDBnDMklT7uinO3rowg3kguth%252FHYBMbLNHLR4zlcxS01QbVicZjnG7WlsxuvEcwwVuO0r3zPQ0oYhrjy0P1PuKktzVwA2ZySbCaTEolkwcuJZhNRyJNwgoTAAcn3c8t9FFMoPrjKC%252B9sEi5xsQbxCP33HknaJY1JzR05ZbcHyRWDyfj7YQViK9%252BN%252F4wAQDqkzxpncA6zwjCBmRefCVqs5%252BseobqNDkB3NM358%252BasmsJShdxMnLtDFo1%252BIRRPztK2GZTDxSlBS7PjPZAS2lZH0CJE4mBgBqa2VhF1hY%252Fm%252FEjh8uwEqY%252FTZD484aCkIXKN%252F7ztdjmv4vPtI1n4MPc42sw%253D%253D%7Campid%3APL_CLK%7Cclp%3A2563228'))"
      ],
      "execution_count": 5,
      "outputs": [
        {
          "output_type": "stream",
          "name": "stdout",
          "text": [
            "82.99\n"
          ]
        }
      ]
    },
    {
      "cell_type": "code",
      "metadata": {
        "id": "mAj96hmCN2rl"
      },
      "source": [
        ""
      ],
      "execution_count": null,
      "outputs": []
    },
    {
      "cell_type": "markdown",
      "metadata": {
        "id": "-JET4ySUPFYh"
      },
      "source": [
        "### Using selenium\n"
      ]
    },
    {
      "cell_type": "code",
      "metadata": {
        "colab": {
          "base_uri": "https://localhost:8080/"
        },
        "id": "lFq6-47NN2wz",
        "outputId": "dd559683-9a02-4a86-fa13-384e1863b7b9"
      },
      "source": [
        "!pip install selenium\n",
        "!apt-get update \n",
        "!apt install chromium-chromedriver\n",
        "!pip install beautifulsoup4\n",
        "\n",
        "from selenium import webdriver\n",
        "chrome_options = webdriver.ChromeOptions()\n",
        "chrome_options.add_argument('--headless')\n",
        "chrome_options.add_argument('--no-sandbox')\n",
        "chrome_options.add_argument('--disable-dev-shm-usage')\n",
        "#chrome_options.add_argument('useAutomationExtention', False)\n",
        "chrome_options.add_argument('--ifnore-certificate-errors')\n",
        "chrome_options.add_argument('--start-maximized')\n",
        "\n",
        "wd = webdriver.Chrome('chromedriver',chrome_options=chrome_options)"
      ],
      "execution_count": 2,
      "outputs": [
        {
          "output_type": "stream",
          "name": "stdout",
          "text": [
            "Requirement already satisfied: selenium in /usr/local/lib/python3.7/dist-packages (3.141.0)\n",
            "Requirement already satisfied: urllib3 in /usr/local/lib/python3.7/dist-packages (from selenium) (1.24.3)\n",
            "Hit:1 https://cloud.r-project.org/bin/linux/ubuntu bionic-cran40/ InRelease\n",
            "Ign:2 https://developer.download.nvidia.com/compute/cuda/repos/ubuntu1804/x86_64  InRelease\n",
            "Hit:3 http://security.ubuntu.com/ubuntu bionic-security InRelease\n",
            "Ign:4 https://developer.download.nvidia.com/compute/machine-learning/repos/ubuntu1804/x86_64  InRelease\n",
            "Hit:5 https://developer.download.nvidia.com/compute/cuda/repos/ubuntu1804/x86_64  Release\n",
            "Hit:6 https://developer.download.nvidia.com/compute/machine-learning/repos/ubuntu1804/x86_64  Release\n",
            "Hit:7 http://ppa.launchpad.net/c2d4u.team/c2d4u4.0+/ubuntu bionic InRelease\n",
            "Hit:8 http://archive.ubuntu.com/ubuntu bionic InRelease\n",
            "Hit:10 http://archive.ubuntu.com/ubuntu bionic-updates InRelease\n",
            "Hit:11 http://ppa.launchpad.net/cran/libgit2/ubuntu bionic InRelease\n",
            "Hit:13 http://archive.ubuntu.com/ubuntu bionic-backports InRelease\n",
            "Hit:14 http://ppa.launchpad.net/deadsnakes/ppa/ubuntu bionic InRelease\n",
            "Hit:15 http://ppa.launchpad.net/graphics-drivers/ppa/ubuntu bionic InRelease\n",
            "Reading package lists... Done\n",
            "Reading package lists... Done\n",
            "Building dependency tree       \n",
            "Reading state information... Done\n",
            "chromium-chromedriver is already the newest version (94.0.4606.71-0ubuntu0.18.04.1).\n",
            "0 upgraded, 0 newly installed, 0 to remove and 39 not upgraded.\n",
            "Requirement already satisfied: beautifulsoup4 in /usr/local/lib/python3.7/dist-packages (4.6.3)\n"
          ]
        },
        {
          "output_type": "stream",
          "name": "stderr",
          "text": [
            "/usr/local/lib/python3.7/dist-packages/ipykernel_launcher.py:15: DeprecationWarning: use options instead of chrome_options\n",
            "  from ipykernel import kernelapp as app\n"
          ]
        }
      ]
    },
    {
      "cell_type": "code",
      "metadata": {
        "id": "pTkROFO7PKgn"
      },
      "source": [
        "from selenium.webdriver.support.ui import WebDriverWait, Select\n",
        "from selenium.webdriver.support import expected_conditions as EC\n",
        "from selenium.webdriver.firefox.options import Options\n",
        "from selenium.webdriver.common.by import By\n",
        "from selenium.webdriver.common.action_chains import ActionChains\n",
        "from selenium.webdriver.common.keys import Keys\n",
        "from selenium.common.exceptions import TimeoutException, NoSuchElementException\n",
        "from bs4 import BeautifulSoup \n",
        "import pandas as pd \n",
        "import os\n",
        "import time"
      ],
      "execution_count": 6,
      "outputs": []
    },
    {
      "cell_type": "code",
      "metadata": {
        "id": "_pLMwaZoPKnD"
      },
      "source": [
        "#user_agent = 'Mozilla/5.0 (Windows NT 10.0; Win64; x64; rv:87.0) Gecko/20100101 Firefox/87.0'\n",
        "#FireFoxDriverPath = os.path.join(os.getcwd(), 'Drivers', 'geckodriver.exe')\n",
        "#FireFoxProfile = webdriver.FirefoxProfile()\n",
        "#FireFoxProfile.set_preference(\"general.useragent.override\", user_agent)\n",
        "url = \"https://www.ebay.com/\"\n",
        "browser = wd\n",
        "browser.implicitly_wait(7)\n",
        "browser.get(url)\n",
        "\n",
        "search_keyword = 'Playstation 5'\n",
        "search_field = browser.find_element_by_id('gh-ac')\n",
        "search_field.clear()\n",
        "search_field.send_keys(search_keyword)\n",
        "search_field.send_keys(Keys.ENTER)\n",
        "\n",
        "total_result = int(browser.find_element_by_class_name('srp-controls__count-heading').find_element_by_class_name('BOLD').text.replace(',', ''))\n",
        "ebay_listings = []\n",
        "\n",
        "current_page = 1\n",
        "to_continue = True"
      ],
      "execution_count": 4,
      "outputs": []
    },
    {
      "cell_type": "code",
      "metadata": {
        "colab": {
          "base_uri": "https://localhost:8080/"
        },
        "id": "YHtNJSGkPKss",
        "outputId": "2b084ee7-8ebb-4115-ee71-40194c5b2236"
      },
      "source": [
        "while to_continue:\n",
        "    try:\n",
        "        print('Processing page {0}'.format(current_page))\n",
        "\n",
        "        soup = BeautifulSoup(browser.page_source, 'html.parser')\n",
        "        item_list = soup.find_all('li', 's-item--watch-at-corner')\n",
        "        \n",
        "        for listing in item_list:\n",
        "            product_detail = {}\n",
        "\n",
        "            product_detail['product title'] = listing.h3.text\n",
        "            product_detail['product url'] = listing.a['href']\n",
        "            \n",
        "            listing_subtitles = listing.find_all('div', 's-item__subtitle')\n",
        "            if len(listing_subtitles) == 2:\n",
        "                listing_subtitle_1 = listing_subtitles[0].text\n",
        "                listing_subtitle_2 = listing_subtitles[1].text\n",
        "            elif len(listing_subtitles) == 1:\n",
        "                listing_subtitle_1 = listing_subtitles[0].text\n",
        "                listing_subtitle_2 = None\n",
        "            else:\n",
        "                listing_subtitle_1 = None\n",
        "                listing_subtitle_2 = None\n",
        "\n",
        "            product_detail['subtitle1'] = listing_subtitle_1\n",
        "            product_detail['subtitle2'] = listing_subtitle_2\n",
        "\n",
        "\n",
        "            # Star rating and product review count\n",
        "            try:\n",
        "                x_star_rating = listing.find('div', 'x-star-rating')\n",
        "                stars = len(x_star_rating.find_all('svg', 'icon--star-filled-small'))\n",
        "                review_count = int(listing.find('span', 's-item__reviews-count').span.text.replace( ' product ratings', ''))\n",
        "                \n",
        "                product_detail['stars'] = stars\n",
        "                product_detail['product review_count'] = review_count\n",
        "            except Exception as e:\n",
        "                product_detail['stars'] = ''\n",
        "                product_detail['product review_count'] = ''\n",
        "\n",
        "            product_detail['price'] = listing.find('span', 's-item__price').text\n",
        "\n",
        "            try:\n",
        "                product_detail['shipping detail'] = listing.find('span', 's-item__logisticsCost').text\n",
        "            except AttributeError:\n",
        "                product_detail['shipping detail'] = 'Not Available'\n",
        "                \n",
        "            ebay_listings.append(product_detail)\n",
        "\n",
        "\n",
        "        time.sleep(1)\n",
        "        browser.find_element_by_xpath('//a[@class=\"pagination__item\" and text()=\"{0}\"]'.format(current_page+1)).click()\n",
        "        current_page +=1\n",
        "\n",
        "        if current_page > 5:\n",
        "            raise Exception('Stop')\n",
        "\n",
        "    except NoSuchElementException:\n",
        "        print('Last page {0}'.format(current_page))\n",
        "        to_continue = False\n",
        "\n"
      ],
      "execution_count": 7,
      "outputs": [
        {
          "output_type": "stream",
          "name": "stdout",
          "text": [
            "Processing page 1\n",
            "Processing page 2\n",
            "Processing page 3\n",
            "Processing page 4\n",
            "Processing page 5\n",
            "Last page 5\n"
          ]
        }
      ]
    },
    {
      "cell_type": "code",
      "metadata": {
        "id": "KvU6DbXZSZNe"
      },
      "source": [
        "df = pd.DataFrame(ebay_listings)\n",
        "df.head()"
      ],
      "execution_count": 31,
      "outputs": []
    },
    {
      "cell_type": "code",
      "metadata": {
        "id": "taFahtVhStIm"
      },
      "source": [
        "#cleaner_price = lambda x: int(\"\".join(filter(str.isdigit, x)))\n",
        "#df.amount = 0\n",
        "df['amount'] = df.price.apply(lambda x: int(\"\".join(filter(str.isdigit, x))))"
      ],
      "execution_count": 28,
      "outputs": []
    },
    {
      "cell_type": "code",
      "metadata": {
        "colab": {
          "base_uri": "https://localhost:8080/",
          "height": 932
        },
        "id": "_IV86jD9XZVp",
        "outputId": "d533d30e-a1a8-47e9-ae4d-8896d2e75b67"
      },
      "source": [
        "df.sort_values(by='amount')"
      ],
      "execution_count": 31,
      "outputs": [
        {
          "output_type": "execute_result",
          "data": {
            "text/html": [
              "<div>\n",
              "<style scoped>\n",
              "    .dataframe tbody tr th:only-of-type {\n",
              "        vertical-align: middle;\n",
              "    }\n",
              "\n",
              "    .dataframe tbody tr th {\n",
              "        vertical-align: top;\n",
              "    }\n",
              "\n",
              "    .dataframe thead th {\n",
              "        text-align: right;\n",
              "    }\n",
              "</style>\n",
              "<table border=\"1\" class=\"dataframe\">\n",
              "  <thead>\n",
              "    <tr style=\"text-align: right;\">\n",
              "      <th></th>\n",
              "      <th>product title</th>\n",
              "      <th>product url</th>\n",
              "      <th>subtitle1</th>\n",
              "      <th>subtitle2</th>\n",
              "      <th>stars</th>\n",
              "      <th>product review_count</th>\n",
              "      <th>price</th>\n",
              "      <th>shipping detail</th>\n",
              "      <th>amount</th>\n",
              "    </tr>\n",
              "  </thead>\n",
              "  <tbody>\n",
              "    <tr>\n",
              "      <th>263</th>\n",
              "      <td>Sony Playstation 5 Blu-ray Edition 825gb Conso...</td>\n",
              "      <td>https://www.ebay.com/itm/133894832474?epid=140...</td>\n",
              "      <td>New (Other)</td>\n",
              "      <td>None</td>\n",
              "      <td></td>\n",
              "      <td></td>\n",
              "      <td>NT$ 617</td>\n",
              "      <td>Shipping not specified</td>\n",
              "      <td>617</td>\n",
              "    </tr>\n",
              "    <tr>\n",
              "      <th>182</th>\n",
              "      <td>New ListingPlayStation 5 Disc Edition Console ...</td>\n",
              "      <td>https://www.ebay.com/itm/304174282576?epid=240...</td>\n",
              "      <td>Brand New · Sony · Sony PlayStation 5 · Sony P...</td>\n",
              "      <td>None</td>\n",
              "      <td>0</td>\n",
              "      <td>243</td>\n",
              "      <td>NT$ 15,295</td>\n",
              "      <td>+NT$ 3,208 shipping estimate</td>\n",
              "      <td>15295</td>\n",
              "    </tr>\n",
              "    <tr>\n",
              "      <th>19</th>\n",
              "      <td>New ListingSony PlayStation 5 Disc Edition Cus...</td>\n",
              "      <td>https://www.ebay.com/itm/174972254900?epid=240...</td>\n",
              "      <td>Pre-Owned · Sony · Sony PlayStation 5 · Sony P...</td>\n",
              "      <td>None</td>\n",
              "      <td>0</td>\n",
              "      <td>243</td>\n",
              "      <td>NT$ 15,677</td>\n",
              "      <td>+NT$ 2,517 shipping estimate</td>\n",
              "      <td>15677</td>\n",
              "    </tr>\n",
              "    <tr>\n",
              "      <th>79</th>\n",
              "      <td>New ListingSony PlayStation 5 Disc Edition Cus...</td>\n",
              "      <td>https://www.ebay.com/itm/174972254900?epid=240...</td>\n",
              "      <td>Pre-Owned · Sony · Sony PlayStation 5 · Sony P...</td>\n",
              "      <td>None</td>\n",
              "      <td>0</td>\n",
              "      <td>243</td>\n",
              "      <td>NT$ 15,677</td>\n",
              "      <td>+NT$ 2,517 shipping estimate</td>\n",
              "      <td>15677</td>\n",
              "    </tr>\n",
              "    <tr>\n",
              "      <th>115</th>\n",
              "      <td>Sony PS5 Digital Edition Console - NEW IN BOX,...</td>\n",
              "      <td>https://www.ebay.com/itm/284480903089?epid=250...</td>\n",
              "      <td>Brand New · Sony PlayStation 5 · Sony PlayStat...</td>\n",
              "      <td>None</td>\n",
              "      <td>0</td>\n",
              "      <td>458</td>\n",
              "      <td>NT$ 16,543</td>\n",
              "      <td>+NT$ 2,152 shipping estimate</td>\n",
              "      <td>16543</td>\n",
              "    </tr>\n",
              "    <tr>\n",
              "      <th>...</th>\n",
              "      <td>...</td>\n",
              "      <td>...</td>\n",
              "      <td>...</td>\n",
              "      <td>...</td>\n",
              "      <td>...</td>\n",
              "      <td>...</td>\n",
              "      <td>...</td>\n",
              "      <td>...</td>\n",
              "      <td>...</td>\n",
              "    </tr>\n",
              "    <tr>\n",
              "      <th>191</th>\n",
              "      <td>Sony Playstation 5 + deathloop + Death strandi...</td>\n",
              "      <td>https://www.ebay.com/itm/234227290719?epid=504...</td>\n",
              "      <td>Brand New · Sony</td>\n",
              "      <td>None</td>\n",
              "      <td>0</td>\n",
              "      <td>5</td>\n",
              "      <td>NT$ 29,206</td>\n",
              "      <td>Shipping not specified</td>\n",
              "      <td>29206</td>\n",
              "    </tr>\n",
              "    <tr>\n",
              "      <th>172</th>\n",
              "      <td>SONY Playstation 5 SONY PS5 Disc BRAND NEW *UP...</td>\n",
              "      <td>https://www.ebay.com/itm/393534744747?epid=504...</td>\n",
              "      <td>MAKE SURE ENTER CODE SPENDNSAVEOCT WHEN YOU CH...</td>\n",
              "      <td>Brand New · Sony · Sony PlayStation 5 · Sony P...</td>\n",
              "      <td>0</td>\n",
              "      <td>64</td>\n",
              "      <td>NT$ 29,520</td>\n",
              "      <td>Shipping not specified</td>\n",
              "      <td>29520</td>\n",
              "    </tr>\n",
              "    <tr>\n",
              "      <th>221</th>\n",
              "      <td>Playstation 5 Console Disc Edition Bundle</td>\n",
              "      <td>https://www.ebay.com/itm/114995275163?hash=ite...</td>\n",
              "      <td>Brand New · Sony · Sony PlayStation 5 · Sony P...</td>\n",
              "      <td>None</td>\n",
              "      <td></td>\n",
              "      <td></td>\n",
              "      <td>NT$ 30,552</td>\n",
              "      <td>Shipping not specified</td>\n",
              "      <td>30552</td>\n",
              "    </tr>\n",
              "    <tr>\n",
              "      <th>151</th>\n",
              "      <td>Sony PS5 PlayStation 5 Disc Ratchet &amp; Clank: R...</td>\n",
              "      <td>https://www.ebay.com/itm/165108360287?hash=ite...</td>\n",
              "      <td>Brand New · Sony · Sony PlayStation 5 · Sony P...</td>\n",
              "      <td>None</td>\n",
              "      <td></td>\n",
              "      <td></td>\n",
              "      <td>NT$ 34,414</td>\n",
              "      <td>+NT$ 3,821 shipping estimate</td>\n",
              "      <td>34414</td>\n",
              "    </tr>\n",
              "    <tr>\n",
              "      <th>254</th>\n",
              "      <td>✅ Sony PlayStation 5 (PS5) Disc Edition ✅Next ...</td>\n",
              "      <td>https://www.ebay.com/itm/324816202013?_trkparm...</td>\n",
              "      <td>Brand New · Sony · Sony PlayStation 5 · Sony P...</td>\n",
              "      <td>None</td>\n",
              "      <td></td>\n",
              "      <td></td>\n",
              "      <td>NT$ 65,004</td>\n",
              "      <td>+NT$ 3,926 shipping estimate</td>\n",
              "      <td>65004</td>\n",
              "    </tr>\n",
              "  </tbody>\n",
              "</table>\n",
              "<p>300 rows × 9 columns</p>\n",
              "</div>"
            ],
            "text/plain": [
              "                                         product title  ... amount\n",
              "263  Sony Playstation 5 Blu-ray Edition 825gb Conso...  ...    617\n",
              "182  New ListingPlayStation 5 Disc Edition Console ...  ...  15295\n",
              "19   New ListingSony PlayStation 5 Disc Edition Cus...  ...  15677\n",
              "79   New ListingSony PlayStation 5 Disc Edition Cus...  ...  15677\n",
              "115  Sony PS5 Digital Edition Console - NEW IN BOX,...  ...  16543\n",
              "..                                                 ...  ...    ...\n",
              "191  Sony Playstation 5 + deathloop + Death strandi...  ...  29206\n",
              "172  SONY Playstation 5 SONY PS5 Disc BRAND NEW *UP...  ...  29520\n",
              "221         Playstation 5 Console Disc Edition Bundle   ...  30552\n",
              "151  Sony PS5 PlayStation 5 Disc Ratchet & Clank: R...  ...  34414\n",
              "254  ✅ Sony PlayStation 5 (PS5) Disc Edition ✅Next ...  ...  65004\n",
              "\n",
              "[300 rows x 9 columns]"
            ]
          },
          "metadata": {},
          "execution_count": 31
        }
      ]
    },
    {
      "cell_type": "code",
      "metadata": {
        "id": "bFmtW5UmK8Mz"
      },
      "source": [
        "df.to_excel('playstation 5 listings.xlsx', index=False)"
      ],
      "execution_count": null,
      "outputs": []
    }
  ]
}