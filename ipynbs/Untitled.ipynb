{
  "nbformat": 4,
  "nbformat_minor": 0,
  "metadata": {
    "colab": {
      "name": "Untitled.ipynb",
      "provenance": [],
      "collapsed_sections": [
        "9k9xMbPBNp9M"
      ]
    },
    "kernelspec": {
      "name": "python3",
      "display_name": "Python 3"
    },
    "language_info": {
      "name": "python"
    }
  },
  "cells": [
    {
      "cell_type": "markdown",
      "metadata": {
        "id": "9k9xMbPBNp9M"
      },
      "source": [
        "## Libraries & settings"
      ]
    },
    {
      "cell_type": "code",
      "metadata": {
        "colab": {
          "base_uri": "https://localhost:8080/"
        },
        "id": "lFq6-47NN2wz",
        "outputId": "745d3958-8502-4184-ce19-51a1e920ba3c"
      },
      "source": [
        "!pip install selenium\n",
        "!apt-get update \n",
        "!apt install chromium-chromedriver\n",
        "!pip install beautifulsoup4\n",
        "\n",
        "from selenium import webdriver\n",
        "chrome_options = webdriver.ChromeOptions()\n",
        "chrome_options.add_argument('--headless')\n",
        "chrome_options.add_argument('--no-sandbox')\n",
        "chrome_options.add_argument('--disable-dev-shm-usage')\n",
        "#chrome_options.add_argument('useAutomationExtention', False)\n",
        "chrome_options.add_argument('--ifnore-certificate-errors')\n",
        "chrome_options.add_argument('--start-maximized')\n",
        "\n",
        "wd = webdriver.Chrome('chromedriver',chrome_options=chrome_options)"
      ],
      "execution_count": 1,
      "outputs": [
        {
          "output_type": "stream",
          "name": "stdout",
          "text": [
            "Collecting selenium\n",
            "  Downloading selenium-4.0.0-py3-none-any.whl (954 kB)\n",
            "\u001b[K     |████████████████████████████████| 954 kB 5.1 MB/s \n",
            "\u001b[?25hCollecting trio-websocket~=0.9\n",
            "  Downloading trio_websocket-0.9.2-py3-none-any.whl (16 kB)\n",
            "Collecting urllib3[secure]~=1.26\n",
            "  Downloading urllib3-1.26.7-py2.py3-none-any.whl (138 kB)\n",
            "\u001b[K     |████████████████████████████████| 138 kB 67.0 MB/s \n",
            "\u001b[?25hCollecting trio~=0.17\n",
            "  Downloading trio-0.19.0-py3-none-any.whl (356 kB)\n",
            "\u001b[K     |████████████████████████████████| 356 kB 52.1 MB/s \n",
            "\u001b[?25hCollecting async-generator>=1.9\n",
            "  Downloading async_generator-1.10-py3-none-any.whl (18 kB)\n",
            "Collecting sniffio\n",
            "  Downloading sniffio-1.2.0-py3-none-any.whl (10 kB)\n",
            "Requirement already satisfied: sortedcontainers in /usr/local/lib/python3.7/dist-packages (from trio~=0.17->selenium) (2.4.0)\n",
            "Requirement already satisfied: attrs>=19.2.0 in /usr/local/lib/python3.7/dist-packages (from trio~=0.17->selenium) (21.2.0)\n",
            "Requirement already satisfied: idna in /usr/local/lib/python3.7/dist-packages (from trio~=0.17->selenium) (2.10)\n",
            "Collecting outcome\n",
            "  Downloading outcome-1.1.0-py2.py3-none-any.whl (9.7 kB)\n",
            "Collecting wsproto>=0.14\n",
            "  Downloading wsproto-1.0.0-py3-none-any.whl (24 kB)\n",
            "Collecting pyOpenSSL>=0.14\n",
            "  Downloading pyOpenSSL-21.0.0-py2.py3-none-any.whl (55 kB)\n",
            "\u001b[K     |████████████████████████████████| 55 kB 3.8 MB/s \n",
            "\u001b[?25hRequirement already satisfied: certifi in /usr/local/lib/python3.7/dist-packages (from urllib3[secure]~=1.26->selenium) (2021.5.30)\n",
            "Collecting cryptography>=1.3.4\n",
            "  Downloading cryptography-35.0.0-cp36-abi3-manylinux_2_24_x86_64.whl (3.5 MB)\n",
            "\u001b[K     |████████████████████████████████| 3.5 MB 31.5 MB/s \n",
            "\u001b[?25hRequirement already satisfied: cffi>=1.12 in /usr/local/lib/python3.7/dist-packages (from cryptography>=1.3.4->urllib3[secure]~=1.26->selenium) (1.14.6)\n",
            "Requirement already satisfied: pycparser in /usr/local/lib/python3.7/dist-packages (from cffi>=1.12->cryptography>=1.3.4->urllib3[secure]~=1.26->selenium) (2.20)\n",
            "Requirement already satisfied: six>=1.5.2 in /usr/local/lib/python3.7/dist-packages (from pyOpenSSL>=0.14->urllib3[secure]~=1.26->selenium) (1.15.0)\n",
            "Collecting h11<1,>=0.9.0\n",
            "  Downloading h11-0.12.0-py3-none-any.whl (54 kB)\n",
            "\u001b[K     |████████████████████████████████| 54 kB 3.8 MB/s \n",
            "\u001b[?25hInstalling collected packages: sniffio, outcome, h11, cryptography, async-generator, wsproto, urllib3, trio, pyOpenSSL, trio-websocket, selenium\n",
            "  Attempting uninstall: urllib3\n",
            "    Found existing installation: urllib3 1.24.3\n",
            "    Uninstalling urllib3-1.24.3:\n",
            "      Successfully uninstalled urllib3-1.24.3\n",
            "\u001b[31mERROR: pip's dependency resolver does not currently take into account all the packages that are installed. This behaviour is the source of the following dependency conflicts.\n",
            "requests 2.23.0 requires urllib3!=1.25.0,!=1.25.1,<1.26,>=1.21.1, but you have urllib3 1.26.7 which is incompatible.\n",
            "datascience 0.10.6 requires folium==0.2.1, but you have folium 0.8.3 which is incompatible.\u001b[0m\n",
            "Successfully installed async-generator-1.10 cryptography-35.0.0 h11-0.12.0 outcome-1.1.0 pyOpenSSL-21.0.0 selenium-4.0.0 sniffio-1.2.0 trio-0.19.0 trio-websocket-0.9.2 urllib3-1.26.7 wsproto-1.0.0\n",
            "Ign:1 https://developer.download.nvidia.com/compute/cuda/repos/ubuntu1804/x86_64  InRelease\n",
            "Get:2 https://cloud.r-project.org/bin/linux/ubuntu bionic-cran40/ InRelease [3,626 B]\n",
            "Ign:3 https://developer.download.nvidia.com/compute/machine-learning/repos/ubuntu1804/x86_64  InRelease\n",
            "Get:4 https://developer.download.nvidia.com/compute/cuda/repos/ubuntu1804/x86_64  Release [696 B]\n",
            "Hit:5 http://archive.ubuntu.com/ubuntu bionic InRelease\n",
            "Hit:6 https://developer.download.nvidia.com/compute/machine-learning/repos/ubuntu1804/x86_64  Release\n",
            "Get:7 https://developer.download.nvidia.com/compute/cuda/repos/ubuntu1804/x86_64  Release.gpg [836 B]\n",
            "Get:8 http://ppa.launchpad.net/c2d4u.team/c2d4u4.0+/ubuntu bionic InRelease [15.9 kB]\n",
            "Get:9 http://archive.ubuntu.com/ubuntu bionic-updates InRelease [88.7 kB]\n",
            "Get:10 http://security.ubuntu.com/ubuntu bionic-security InRelease [88.7 kB]\n",
            "Get:11 https://cloud.r-project.org/bin/linux/ubuntu bionic-cran40/ Packages [69.5 kB]\n",
            "Hit:12 http://ppa.launchpad.net/cran/libgit2/ubuntu bionic InRelease\n",
            "Get:13 http://archive.ubuntu.com/ubuntu bionic-backports InRelease [74.6 kB]\n",
            "Hit:14 http://ppa.launchpad.net/deadsnakes/ppa/ubuntu bionic InRelease\n",
            "Hit:15 http://ppa.launchpad.net/graphics-drivers/ppa/ubuntu bionic InRelease\n",
            "Get:17 https://developer.download.nvidia.com/compute/cuda/repos/ubuntu1804/x86_64  Packages [753 kB]\n",
            "Get:18 http://ppa.launchpad.net/c2d4u.team/c2d4u4.0+/ubuntu bionic/main Sources [1,809 kB]\n",
            "Get:19 http://security.ubuntu.com/ubuntu bionic-security/main amd64 Packages [2,385 kB]\n",
            "Get:20 http://security.ubuntu.com/ubuntu bionic-security/restricted amd64 Packages [626 kB]\n",
            "Get:21 http://security.ubuntu.com/ubuntu bionic-security/universe amd64 Packages [1,434 kB]\n",
            "Get:22 http://archive.ubuntu.com/ubuntu bionic-updates/main amd64 Packages [2,833 kB]\n",
            "Get:23 http://ppa.launchpad.net/c2d4u.team/c2d4u4.0+/ubuntu bionic/main amd64 Packages [926 kB]\n",
            "Get:24 http://archive.ubuntu.com/ubuntu bionic-updates/universe amd64 Packages [2,213 kB]\n",
            "Get:25 http://archive.ubuntu.com/ubuntu bionic-updates/restricted amd64 Packages [664 kB]\n",
            "Fetched 14.0 MB in 3s (4,140 kB/s)\n",
            "Reading package lists... Done\n",
            "Reading package lists... Done\n",
            "Building dependency tree       \n",
            "Reading state information... Done\n",
            "The following additional packages will be installed:\n",
            "  chromium-browser chromium-browser-l10n chromium-codecs-ffmpeg-extra\n",
            "Suggested packages:\n",
            "  webaccounts-chromium-extension unity-chromium-extension\n",
            "The following NEW packages will be installed:\n",
            "  chromium-browser chromium-browser-l10n chromium-chromedriver\n",
            "  chromium-codecs-ffmpeg-extra\n",
            "0 upgraded, 4 newly installed, 0 to remove and 67 not upgraded.\n",
            "Need to get 95.3 MB of archives.\n",
            "After this operation, 323 MB of additional disk space will be used.\n",
            "Get:1 http://archive.ubuntu.com/ubuntu bionic-updates/universe amd64 chromium-codecs-ffmpeg-extra amd64 94.0.4606.81-0ubuntu0.18.04.1 [1,135 kB]\n",
            "Get:2 http://archive.ubuntu.com/ubuntu bionic-updates/universe amd64 chromium-browser amd64 94.0.4606.81-0ubuntu0.18.04.1 [85.0 MB]\n",
            "Get:3 http://archive.ubuntu.com/ubuntu bionic-updates/universe amd64 chromium-browser-l10n all 94.0.4606.81-0ubuntu0.18.04.1 [4,164 kB]\n",
            "Get:4 http://archive.ubuntu.com/ubuntu bionic-updates/universe amd64 chromium-chromedriver amd64 94.0.4606.81-0ubuntu0.18.04.1 [4,963 kB]\n",
            "Fetched 95.3 MB in 4s (24.3 MB/s)\n",
            "Selecting previously unselected package chromium-codecs-ffmpeg-extra.\n",
            "(Reading database ... 155047 files and directories currently installed.)\n",
            "Preparing to unpack .../chromium-codecs-ffmpeg-extra_94.0.4606.81-0ubuntu0.18.04.1_amd64.deb ...\n",
            "Unpacking chromium-codecs-ffmpeg-extra (94.0.4606.81-0ubuntu0.18.04.1) ...\n",
            "Selecting previously unselected package chromium-browser.\n",
            "Preparing to unpack .../chromium-browser_94.0.4606.81-0ubuntu0.18.04.1_amd64.deb ...\n",
            "Unpacking chromium-browser (94.0.4606.81-0ubuntu0.18.04.1) ...\n",
            "Selecting previously unselected package chromium-browser-l10n.\n",
            "Preparing to unpack .../chromium-browser-l10n_94.0.4606.81-0ubuntu0.18.04.1_all.deb ...\n",
            "Unpacking chromium-browser-l10n (94.0.4606.81-0ubuntu0.18.04.1) ...\n",
            "Selecting previously unselected package chromium-chromedriver.\n",
            "Preparing to unpack .../chromium-chromedriver_94.0.4606.81-0ubuntu0.18.04.1_amd64.deb ...\n",
            "Unpacking chromium-chromedriver (94.0.4606.81-0ubuntu0.18.04.1) ...\n",
            "Setting up chromium-codecs-ffmpeg-extra (94.0.4606.81-0ubuntu0.18.04.1) ...\n",
            "Setting up chromium-browser (94.0.4606.81-0ubuntu0.18.04.1) ...\n",
            "update-alternatives: using /usr/bin/chromium-browser to provide /usr/bin/x-www-browser (x-www-browser) in auto mode\n",
            "update-alternatives: using /usr/bin/chromium-browser to provide /usr/bin/gnome-www-browser (gnome-www-browser) in auto mode\n",
            "Setting up chromium-chromedriver (94.0.4606.81-0ubuntu0.18.04.1) ...\n",
            "Setting up chromium-browser-l10n (94.0.4606.81-0ubuntu0.18.04.1) ...\n",
            "Processing triggers for man-db (2.8.3-2ubuntu0.1) ...\n",
            "Processing triggers for hicolor-icon-theme (0.17-2) ...\n",
            "Processing triggers for mime-support (3.60ubuntu1) ...\n",
            "Processing triggers for libc-bin (2.27-3ubuntu1.3) ...\n",
            "/sbin/ldconfig.real: /usr/local/lib/python3.7/dist-packages/ideep4py/lib/libmkldnn.so.0 is not a symbolic link\n",
            "\n",
            "Requirement already satisfied: beautifulsoup4 in /usr/local/lib/python3.7/dist-packages (4.6.3)\n"
          ]
        },
        {
          "output_type": "stream",
          "name": "stderr",
          "text": [
            "/usr/local/lib/python3.7/dist-packages/ipykernel_launcher.py:15: DeprecationWarning: use options instead of chrome_options\n",
            "  from ipykernel import kernelapp as app\n"
          ]
        }
      ]
    },
    {
      "cell_type": "code",
      "metadata": {
        "id": "pTkROFO7PKgn"
      },
      "source": [
        "from selenium.webdriver.support.ui import WebDriverWait, Select\n",
        "from selenium.webdriver.support import expected_conditions as EC\n",
        "from selenium.webdriver.firefox.options import Options\n",
        "from selenium.webdriver.common.by import By\n",
        "from selenium.webdriver.common.action_chains import ActionChains\n",
        "from selenium.webdriver.common.keys import Keys\n",
        "from selenium.common.exceptions import TimeoutException, NoSuchElementException\n",
        "from bs4 import BeautifulSoup \n",
        "import pandas as pd \n",
        "import os\n",
        "import time"
      ],
      "execution_count": 2,
      "outputs": []
    },
    {
      "cell_type": "markdown",
      "metadata": {
        "id": "-JET4ySUPFYh"
      },
      "source": [
        "# Scrapping ebay\n"
      ]
    },
    {
      "cell_type": "code",
      "metadata": {
        "id": "_pLMwaZoPKnD"
      },
      "source": [
        "# https://www.youtube.com/watch?v=9ELd7XWD0PA&t=1067s\n",
        "\n",
        "#user_agent = 'Mozilla/5.0 (Windows NT 10.0; Win64; x64; rv:87.0) Gecko/20100101 Firefox/87.0'\n",
        "#FireFoxDriverPath = os.path.join(os.getcwd(), 'Drivers', 'geckodriver.exe')\n",
        "#FireFoxProfile = webdriver.FirefoxProfile()\n",
        "#FireFoxProfile.set_preference(\"general.useragent.override\", user_agent)\n",
        "url = \"https://www.ebay.com/\"\n",
        "browser = wd\n",
        "browser.implicitly_wait(7)\n",
        "browser.get(url)\n",
        "\n",
        "search_keyword = 'Playstation 5'\n",
        "search_field = browser.find_element_by_id('gh-ac')\n",
        "search_field.clear()\n",
        "search_field.send_keys(search_keyword)\n",
        "search_field.send_keys(Keys.ENTER)\n",
        "\n",
        "total_result = int(browser.find_element_by_class_name('srp-controls__count-heading').find_element_by_class_name('BOLD').text.replace(',', ''))\n",
        "ebay_listings = []\n",
        "\n",
        "current_page = 1\n",
        "to_continue = True"
      ],
      "execution_count": null,
      "outputs": []
    },
    {
      "cell_type": "code",
      "metadata": {
        "id": "YHtNJSGkPKss"
      },
      "source": [
        "while to_continue:\n",
        "    try:\n",
        "        print('Processing page {0}'.format(current_page))\n",
        "\n",
        "        soup = BeautifulSoup(browser.page_source, 'html.parser')\n",
        "        item_list = soup.find_all('li', 's-item--watch-at-corner')\n",
        "        \n",
        "        for listing in item_list:\n",
        "            product_detail = {}\n",
        "\n",
        "            product_detail['product title'] = listing.h3.text\n",
        "            product_detail['product url'] = listing.a['href']\n",
        "            \n",
        "            listing_subtitles = listing.find_all('div', 's-item__subtitle')\n",
        "            if len(listing_subtitles) == 2:\n",
        "                listing_subtitle_1 = listing_subtitles[0].text\n",
        "                listing_subtitle_2 = listing_subtitles[1].text\n",
        "            elif len(listing_subtitles) == 1:\n",
        "                listing_subtitle_1 = listing_subtitles[0].text\n",
        "                listing_subtitle_2 = None\n",
        "            else:\n",
        "                listing_subtitle_1 = None\n",
        "                listing_subtitle_2 = None\n",
        "\n",
        "            product_detail['subtitle1'] = listing_subtitle_1\n",
        "            product_detail['subtitle2'] = listing_subtitle_2\n",
        "\n",
        "\n",
        "            # Star rating and product review count\n",
        "            try:\n",
        "                x_star_rating = listing.find('div', 'x-star-rating')\n",
        "                stars = len(x_star_rating.find_all('svg', 'icon--star-full-small'))\n",
        "                if int(stars) > 4: print(stars) \n",
        "                review_count = int(listing.find('span', 's-item__reviews-count').span.text.replace( ' product ratings', ''))\n",
        "                \n",
        "                product_detail['stars'] = stars\n",
        "                product_detail['product review_count'] = review_count\n",
        "            except Exception as e:\n",
        "                product_detail['stars'] = ''\n",
        "                product_detail['product review_count'] = ''\n",
        "\n",
        "            product_detail['price'] = listing.find('span', 's-item__price').text\n",
        "\n",
        "            try:\n",
        "                product_detail['shipping detail'] = listing.find('span', 's-item__logisticsCost').text\n",
        "            except AttributeError:\n",
        "                product_detail['shipping detail'] = 'Not Available'\n",
        "                \n",
        "            ebay_listings.append(product_detail)\n",
        "\n",
        "\n",
        "        time.sleep(1)\n",
        "        browser.find_element_by_xpath('//a[@class=\"pagination__item\" and text()=\"{0}\"]'.format(current_page+1)).click()\n",
        "        current_page +=1\n",
        "\n",
        "        if current_page > 5:\n",
        "            raise Exception('Stop')\n",
        "\n",
        "    except NoSuchElementException:\n",
        "        print('Last page {0}'.format(current_page))\n",
        "        to_continue = False\n",
        "\n"
      ],
      "execution_count": null,
      "outputs": []
    },
    {
      "cell_type": "code",
      "metadata": {
        "colab": {
          "base_uri": "https://localhost:8080/",
          "height": 561
        },
        "id": "KvU6DbXZSZNe",
        "outputId": "6a9b4ed0-9974-4554-a2ee-f500d3960715"
      },
      "source": [
        "df = pd.DataFrame(ebay_listings)\n",
        "df.head()"
      ],
      "execution_count": null,
      "outputs": [
        {
          "output_type": "execute_result",
          "data": {
            "text/html": [
              "<div>\n",
              "<style scoped>\n",
              "    .dataframe tbody tr th:only-of-type {\n",
              "        vertical-align: middle;\n",
              "    }\n",
              "\n",
              "    .dataframe tbody tr th {\n",
              "        vertical-align: top;\n",
              "    }\n",
              "\n",
              "    .dataframe thead th {\n",
              "        text-align: right;\n",
              "    }\n",
              "</style>\n",
              "<table border=\"1\" class=\"dataframe\">\n",
              "  <thead>\n",
              "    <tr style=\"text-align: right;\">\n",
              "      <th></th>\n",
              "      <th>product title</th>\n",
              "      <th>product url</th>\n",
              "      <th>subtitle1</th>\n",
              "      <th>subtitle2</th>\n",
              "      <th>stars</th>\n",
              "      <th>product review_count</th>\n",
              "      <th>price</th>\n",
              "      <th>shipping detail</th>\n",
              "    </tr>\n",
              "  </thead>\n",
              "  <tbody>\n",
              "    <tr>\n",
              "      <th>0</th>\n",
              "      <td>Sony PlayStation 5 PS5 Console Disc Version *N...</td>\n",
              "      <td>https://www.ebay.com/itm/333896636458?epid=190...</td>\n",
              "      <td>Brand New · Sony PlayStation 5 · Sony PlayStat...</td>\n",
              "      <td>None</td>\n",
              "      <td>0</td>\n",
              "      <td>1976</td>\n",
              "      <td>$1,049.00</td>\n",
              "      <td>Not Available</td>\n",
              "    </tr>\n",
              "    <tr>\n",
              "      <th>1</th>\n",
              "      <td>PS5 Sony PlayStation 5 Console Disc Version</td>\n",
              "      <td>https://www.ebay.com/itm/324483721021?epid=190...</td>\n",
              "      <td>Pre-Owned · Sony PlayStation 5 · Sony PlayStat...</td>\n",
              "      <td>None</td>\n",
              "      <td>0</td>\n",
              "      <td>1976</td>\n",
              "      <td>$859.99</td>\n",
              "      <td>Free shipping</td>\n",
              "    </tr>\n",
              "    <tr>\n",
              "      <th>2</th>\n",
              "      <td>Sony PlayStation 5 Console Disc Version (PS5) ...</td>\n",
              "      <td>https://www.ebay.com/itm/144223680923?epid=190...</td>\n",
              "      <td>Brand New · Sony PlayStation 5 · Sony PlayStat...</td>\n",
              "      <td>None</td>\n",
              "      <td>0</td>\n",
              "      <td>1976</td>\n",
              "      <td>$949.99</td>\n",
              "      <td>Free shipping</td>\n",
              "    </tr>\n",
              "    <tr>\n",
              "      <th>3</th>\n",
              "      <td>Sony PlayStation 5 PS5 Console Disc Version Bl...</td>\n",
              "      <td>https://www.ebay.com/itm/193955663603?epid=190...</td>\n",
              "      <td>Brand New · Sony PlayStation 5 · Sony PlayStat...</td>\n",
              "      <td>None</td>\n",
              "      <td>0</td>\n",
              "      <td>1976</td>\n",
              "      <td>$899.99</td>\n",
              "      <td>Free shipping</td>\n",
              "    </tr>\n",
              "    <tr>\n",
              "      <th>4</th>\n",
              "      <td>New ListingSony PlayStation 5 PS5 DISC Edition...</td>\n",
              "      <td>https://www.ebay.com/itm/203647656449?hash=ite...</td>\n",
              "      <td>Brand New · Sony PlayStation 5</td>\n",
              "      <td>None</td>\n",
              "      <td></td>\n",
              "      <td></td>\n",
              "      <td>$760.00</td>\n",
              "      <td>+$23.77 shipping</td>\n",
              "    </tr>\n",
              "  </tbody>\n",
              "</table>\n",
              "</div>"
            ],
            "text/plain": [
              "                                       product title  ...   shipping detail\n",
              "0  Sony PlayStation 5 PS5 Console Disc Version *N...  ...     Not Available\n",
              "1        PS5 Sony PlayStation 5 Console Disc Version  ...     Free shipping\n",
              "2  Sony PlayStation 5 Console Disc Version (PS5) ...  ...     Free shipping\n",
              "3  Sony PlayStation 5 PS5 Console Disc Version Bl...  ...     Free shipping\n",
              "4  New ListingSony PlayStation 5 PS5 DISC Edition...  ...  +$23.77 shipping\n",
              "\n",
              "[5 rows x 8 columns]"
            ]
          },
          "metadata": {},
          "execution_count": 18
        }
      ]
    },
    {
      "cell_type": "code",
      "metadata": {
        "id": "taFahtVhStIm"
      },
      "source": [
        "df['amount'] = df.price.apply(lambda x: int(\"\".join(filter(str.isdigit, x))))"
      ],
      "execution_count": null,
      "outputs": []
    },
    {
      "cell_type": "code",
      "metadata": {
        "colab": {
          "base_uri": "https://localhost:8080/",
          "height": 1000
        },
        "id": "_IV86jD9XZVp",
        "outputId": "46b9e5dc-8bba-40a0-e53b-acd2780630ef"
      },
      "source": [
        "df.sort_values(by='amount')"
      ],
      "execution_count": null,
      "outputs": [
        {
          "output_type": "execute_result",
          "data": {
            "text/html": [
              "<div>\n",
              "<style scoped>\n",
              "    .dataframe tbody tr th:only-of-type {\n",
              "        vertical-align: middle;\n",
              "    }\n",
              "\n",
              "    .dataframe tbody tr th {\n",
              "        vertical-align: top;\n",
              "    }\n",
              "\n",
              "    .dataframe thead th {\n",
              "        text-align: right;\n",
              "    }\n",
              "</style>\n",
              "<table border=\"1\" class=\"dataframe\">\n",
              "  <thead>\n",
              "    <tr style=\"text-align: right;\">\n",
              "      <th></th>\n",
              "      <th>product title</th>\n",
              "      <th>product url</th>\n",
              "      <th>subtitle1</th>\n",
              "      <th>subtitle2</th>\n",
              "      <th>stars</th>\n",
              "      <th>product review_count</th>\n",
              "      <th>price</th>\n",
              "      <th>shipping detail</th>\n",
              "      <th>amount</th>\n",
              "    </tr>\n",
              "  </thead>\n",
              "  <tbody>\n",
              "    <tr>\n",
              "      <th>7</th>\n",
              "      <td>Turtle Beach Elite Atlas Pro Performance Heads...</td>\n",
              "      <td>https://www.ebay.com/itm/324391510282?hash=ite...</td>\n",
              "      <td>None</td>\n",
              "      <td>None</td>\n",
              "      <td></td>\n",
              "      <td></td>\n",
              "      <td>$59.95</td>\n",
              "      <td>Free shipping</td>\n",
              "      <td>5995</td>\n",
              "    </tr>\n",
              "    <tr>\n",
              "      <th>8</th>\n",
              "      <td>Razer Kraken Gaming Headset For PC, PS4, PS5, ...</td>\n",
              "      <td>https://www.ebay.com/itm/144123396447?hash=ite...</td>\n",
              "      <td>None</td>\n",
              "      <td>None</td>\n",
              "      <td></td>\n",
              "      <td></td>\n",
              "      <td>$59.99</td>\n",
              "      <td>Free shipping</td>\n",
              "      <td>5999</td>\n",
              "    </tr>\n",
              "    <tr>\n",
              "      <th>9</th>\n",
              "      <td>SteelSeries Arctis 5 RGB Wired Gaming Headset ...</td>\n",
              "      <td>https://www.ebay.com/itm/334129396663?hash=ite...</td>\n",
              "      <td>None</td>\n",
              "      <td>None</td>\n",
              "      <td></td>\n",
              "      <td></td>\n",
              "      <td>$89.95</td>\n",
              "      <td>Free shipping</td>\n",
              "      <td>8995</td>\n",
              "    </tr>\n",
              "    <tr>\n",
              "      <th>191</th>\n",
              "      <td>New ListingSony PlayStation 5 PS5 Blu-Ray Edit...</td>\n",
              "      <td>https://www.ebay.com/itm/324827522681?epid=190...</td>\n",
              "      <td>Brand New · Sony PlayStation 5 · Sony PlayStat...</td>\n",
              "      <td>None</td>\n",
              "      <td>0</td>\n",
              "      <td>1976</td>\n",
              "      <td>$102.50</td>\n",
              "      <td>+$77.61 shipping</td>\n",
              "      <td>10250</td>\n",
              "    </tr>\n",
              "    <tr>\n",
              "      <th>113</th>\n",
              "      <td>New Listing🎁Sony PlayStation 5 Console🎁Digital...</td>\n",
              "      <td>https://www.ebay.com/itm/265357244952?epid=250...</td>\n",
              "      <td>Brand New · Sony PlayStation 5 · Sony PlayStat...</td>\n",
              "      <td>None</td>\n",
              "      <td>0</td>\n",
              "      <td>461</td>\n",
              "      <td>$202.50</td>\n",
              "      <td>+$50.00 shipping</td>\n",
              "      <td>20250</td>\n",
              "    </tr>\n",
              "    <tr>\n",
              "      <th>...</th>\n",
              "      <td>...</td>\n",
              "      <td>...</td>\n",
              "      <td>...</td>\n",
              "      <td>...</td>\n",
              "      <td>...</td>\n",
              "      <td>...</td>\n",
              "      <td>...</td>\n",
              "      <td>...</td>\n",
              "      <td>...</td>\n",
              "    </tr>\n",
              "    <tr>\n",
              "      <th>129</th>\n",
              "      <td>New Listingplaystation 5 console</td>\n",
              "      <td>https://www.ebay.com/itm/304180922459?_trkparm...</td>\n",
              "      <td>Brand New · Sony PlayStation 5</td>\n",
              "      <td>None</td>\n",
              "      <td></td>\n",
              "      <td></td>\n",
              "      <td>$1,124.00</td>\n",
              "      <td>+$10.00 shipping</td>\n",
              "      <td>112400</td>\n",
              "    </tr>\n",
              "    <tr>\n",
              "      <th>137</th>\n",
              "      <td>Sony PlayStation 5 Console PS5 [Disc Version] ...</td>\n",
              "      <td>https://www.ebay.com/itm/284478117917?epid=190...</td>\n",
              "      <td>Brand New · Sony PlayStation 5</td>\n",
              "      <td>None</td>\n",
              "      <td>0</td>\n",
              "      <td>1976</td>\n",
              "      <td>$1,151.00</td>\n",
              "      <td>+$30.15 shipping</td>\n",
              "      <td>115100</td>\n",
              "    </tr>\n",
              "    <tr>\n",
              "      <th>64</th>\n",
              "      <td>Sony PlayStation 5 PS5 Console Disc Version BR...</td>\n",
              "      <td>https://www.ebay.com/itm/203581141972?epid=190...</td>\n",
              "      <td>Brand New · Sony PlayStation 5 · Sony PlayStat...</td>\n",
              "      <td>None</td>\n",
              "      <td>0</td>\n",
              "      <td>1976</td>\n",
              "      <td>$1,199.95</td>\n",
              "      <td>Free shipping</td>\n",
              "      <td>119995</td>\n",
              "    </tr>\n",
              "    <tr>\n",
              "      <th>103</th>\n",
              "      <td>PS5 Sony Playstation 5 Console Disc Version 🔥B...</td>\n",
              "      <td>https://www.ebay.com/itm/304128005531?epid=190...</td>\n",
              "      <td>Brand New · Sony PlayStation 5 · Sony PlayStat...</td>\n",
              "      <td>None</td>\n",
              "      <td>0</td>\n",
              "      <td>1976</td>\n",
              "      <td>$1,199.99</td>\n",
              "      <td>Free shipping</td>\n",
              "      <td>119999</td>\n",
              "    </tr>\n",
              "    <tr>\n",
              "      <th>235</th>\n",
              "      <td>Sony Playstation (PS5) Disc/Blu-Ray Edition Co...</td>\n",
              "      <td>https://www.ebay.com/itm/353710456445?epid=190...</td>\n",
              "      <td>Brand New · Sony PlayStation 5 · Sony PlayStat...</td>\n",
              "      <td>None</td>\n",
              "      <td>0</td>\n",
              "      <td>1976</td>\n",
              "      <td>$1,205.00</td>\n",
              "      <td>+$44.16 shipping</td>\n",
              "      <td>120500</td>\n",
              "    </tr>\n",
              "  </tbody>\n",
              "</table>\n",
              "<p>239 rows × 9 columns</p>\n",
              "</div>"
            ],
            "text/plain": [
              "                                         product title  ...  amount\n",
              "7    Turtle Beach Elite Atlas Pro Performance Heads...  ...    5995\n",
              "8    Razer Kraken Gaming Headset For PC, PS4, PS5, ...  ...    5999\n",
              "9    SteelSeries Arctis 5 RGB Wired Gaming Headset ...  ...    8995\n",
              "191  New ListingSony PlayStation 5 PS5 Blu-Ray Edit...  ...   10250\n",
              "113  New Listing🎁Sony PlayStation 5 Console🎁Digital...  ...   20250\n",
              "..                                                 ...  ...     ...\n",
              "129                   New Listingplaystation 5 console  ...  112400\n",
              "137  Sony PlayStation 5 Console PS5 [Disc Version] ...  ...  115100\n",
              "64   Sony PlayStation 5 PS5 Console Disc Version BR...  ...  119995\n",
              "103  PS5 Sony Playstation 5 Console Disc Version 🔥B...  ...  119999\n",
              "235  Sony Playstation (PS5) Disc/Blu-Ray Edition Co...  ...  120500\n",
              "\n",
              "[239 rows x 9 columns]"
            ]
          },
          "metadata": {},
          "execution_count": 20
        }
      ]
    },
    {
      "cell_type": "code",
      "metadata": {
        "id": "bFmtW5UmK8Mz",
        "colab": {
          "base_uri": "https://localhost:8080/"
        },
        "outputId": "1cfcc646-901e-4d4b-c724-4fc563b40bf5"
      },
      "source": [
        "#df.to_excel('playstation 5 listings.xlsx', index=False)\n",
        "print(df.iloc[103])"
      ],
      "execution_count": null,
      "outputs": [
        {
          "output_type": "stream",
          "name": "stdout",
          "text": [
            "product title           PS5 Sony Playstation 5 Console Disc Version 🔥B...\n",
            "product url             https://www.ebay.com/itm/304128005531?epid=190...\n",
            "subtitle1               Brand New · Sony PlayStation 5 · Sony PlayStat...\n",
            "subtitle2                                                            None\n",
            "stars                                                                   0\n",
            "product review_count                                                 1976\n",
            "price                                                           $1,199.99\n",
            "shipping detail                                             Free shipping\n",
            "amount                                                             119999\n",
            "Name: 103, dtype: object\n"
          ]
        }
      ]
    },
    {
      "cell_type": "code",
      "metadata": {
        "id": "ltFgXk3ngPZl"
      },
      "source": [
        ""
      ],
      "execution_count": null,
      "outputs": []
    },
    {
      "cell_type": "code",
      "metadata": {
        "id": "0dVowVyJgPd-"
      },
      "source": [
        ""
      ],
      "execution_count": null,
      "outputs": []
    },
    {
      "cell_type": "code",
      "metadata": {
        "id": "NZzdEgI8gPiZ"
      },
      "source": [
        ""
      ],
      "execution_count": null,
      "outputs": []
    },
    {
      "cell_type": "code",
      "metadata": {
        "id": "Mah6KJFZgPm9"
      },
      "source": [
        "# https://towardsdatascience.com/scraping-multiple-amazon-stores-with-python-5eab811453a8"
      ],
      "execution_count": null,
      "outputs": []
    },
    {
      "cell_type": "markdown",
      "metadata": {
        "id": "MYx4sDuFgRRp"
      },
      "source": [
        "# scrapping Amazon\n",
        "\n"
      ]
    },
    {
      "cell_type": "code",
      "metadata": {
        "id": "QaWdA-EPgPrM"
      },
      "source": [
        "# https://www.youtube.com/watch?v=_AeudsbKYG8\n",
        "\n",
        "def get_url(search_term):\n",
        "  \"\"\"Genetare the Url from search term\"\"\"\n",
        "  template = \"https://www.amazon.com.mx/s?k={}&__mk_es_MX=%C3%85M%C3%85%C5%BD%C3%95%C3%91&ref=nb_sb_noss_1\"\n",
        "  search_term = search_term.replace(' ', '+')\n",
        "  return template.format(search_term)"
      ],
      "execution_count": null,
      "outputs": []
    },
    {
      "cell_type": "code",
      "metadata": {
        "colab": {
          "base_uri": "https://localhost:8080/"
        },
        "id": "rZMWedCp_ubt",
        "outputId": "4eedbdff-9c7e-411f-de64-a7e472a3b55d"
      },
      "source": [
        "url = get_url('jetson nano')\n",
        "print(url)"
      ],
      "execution_count": null,
      "outputs": [
        {
          "output_type": "stream",
          "name": "stdout",
          "text": [
            "https://www.amazon.com.mx/s?k=jetson+nano&__mk_es_MX=%C3%85M%C3%85%C5%BD%C3%95%C3%91&ref=nb_sb_noss_1\n"
          ]
        }
      ]
    },
    {
      "cell_type": "code",
      "metadata": {
        "id": "FBKQeGWgf65F"
      },
      "source": [
        "wd.get(url)"
      ],
      "execution_count": null,
      "outputs": []
    },
    {
      "cell_type": "code",
      "metadata": {
        "id": "Ut4H2jFyAsIv"
      },
      "source": [
        "# Extract the collection\n",
        "soup = BeautifulSoup(wd.page_source, 'html.parser')"
      ],
      "execution_count": null,
      "outputs": []
    },
    {
      "cell_type": "code",
      "metadata": {
        "id": "-IBanDEDAuv6"
      },
      "source": [
        "results = soup.find_all('div', {'data-component-type': 's-search-result'})"
      ],
      "execution_count": null,
      "outputs": []
    },
    {
      "cell_type": "code",
      "metadata": {
        "colab": {
          "base_uri": "https://localhost:8080/"
        },
        "id": "hoSTENSTCjTA",
        "outputId": "4ba22f13-0e75-47f6-b1ae-b0c742620996"
      },
      "source": [
        "len(results)"
      ],
      "execution_count": null,
      "outputs": [
        {
          "output_type": "execute_result",
          "data": {
            "text/plain": [
              "60"
            ]
          },
          "metadata": {},
          "execution_count": 8
        }
      ]
    },
    {
      "cell_type": "code",
      "metadata": {
        "id": "cFoe7XdIF4_q"
      },
      "source": [
        "# prototype the record\n",
        "item = results[0]\n",
        "atag = item.h2.a\n",
        "description = atag.text.strip()\n",
        "url = 'https://www.amazon.com.mx' + atag.get('href')"
      ],
      "execution_count": null,
      "outputs": []
    },
    {
      "cell_type": "code",
      "metadata": {
        "id": "bXUcrozpHDLC"
      },
      "source": [
        "# price\n",
        "price_parent = item.find('span', 'a-price')\n",
        "price = price_parent.find('span', 'a-offscreen').text"
      ],
      "execution_count": null,
      "outputs": []
    },
    {
      "cell_type": "code",
      "metadata": {
        "id": "1VvqQ5ztH51N"
      },
      "source": [
        "# stars\n",
        "rating = item.i.text"
      ],
      "execution_count": null,
      "outputs": []
    },
    {
      "cell_type": "code",
      "metadata": {
        "id": "YbpNF8tMIe6L"
      },
      "source": [
        "# find the reviews\n",
        "review_count = item.find('span', {'class':'a-size-base'}).text"
      ],
      "execution_count": null,
      "outputs": []
    },
    {
      "cell_type": "code",
      "metadata": {
        "id": "dxeoGqEBRl_x"
      },
      "source": [
        "# error handling\n",
        "def extract_record(item):\n",
        "\n",
        "  # description and url\n",
        "  atag = item.h2.a\n",
        "  description = atag.text.strip()\n",
        "  url = 'https://www.amazon.com.mx' + atag.get('href')\n",
        "\n",
        "  try:\n",
        "    # price\n",
        "    price_parent = item.find('span', 'a-price')\n",
        "    price = price_parent.find('span', 'a-offscreen').text\n",
        "  except AttributeError:\n",
        "    return\n",
        "\n",
        "  try:\n",
        "    # reviews and rating\n",
        "    rating = item.i.text\n",
        "    review_count = item.find('span', {'class':'a-size-base'}).text\n",
        "  except AttributeError:\n",
        "    rating = ''\n",
        "    review_count = ''\n",
        "\n",
        "  result = (description, price, rating, review_count, url)\n",
        "\n",
        "  return result\n"
      ],
      "execution_count": null,
      "outputs": []
    },
    {
      "cell_type": "code",
      "metadata": {
        "id": "mRSYDc99RmLy"
      },
      "source": [
        "records = []\n",
        "results = soup.find_all('div', {'data-component-type': 's-search-result'})\n",
        "\n",
        "for item in results:\n",
        "  record = extract_record(item)\n",
        "  if record:\n",
        "    records.append(record)"
      ],
      "execution_count": null,
      "outputs": []
    },
    {
      "cell_type": "code",
      "metadata": {
        "colab": {
          "base_uri": "https://localhost:8080/"
        },
        "id": "H1PBfIHtU9VO",
        "outputId": "740a3e78-ede2-4af3-eafe-a876df501250"
      },
      "source": [
        "print(records[0])"
      ],
      "execution_count": null,
      "outputs": [
        {
          "output_type": "stream",
          "name": "stdout",
          "text": [
            "('NVIDIA Jetson Nano - Kit de desarrollador de 2 GB', '$1,482.99', '4.4 de 5 estrellas', '272', 'https://www.amazon.com.mx/NVIDIA-Jetson-Nano-Kit-desarrollador/dp/B08J157LHH/ref=sr_1_1?__mk_es_MX=%C3%85M%C3%85%C5%BD%C3%95%C3%91&dchild=1&keywords=jetson+nano&qid=1634270630&sr=8-1')\n"
          ]
        }
      ]
    },
    {
      "cell_type": "code",
      "metadata": {
        "id": "qQ6M534XV7wO"
      },
      "source": [
        "# getting the next page\n",
        "def get_urls(search_term):\n",
        "  \"\"\"Genetare the Url from search term\"\"\"\n",
        "  template = \"https://www.amazon.com.mx/s?k={}&__mk_es_MX=%C3%85M%C3%85%C5%BD%C3%95%C3%91&ref=nb_sb_noss_1\"\n",
        "  search_term = search_term.replace(' ', '+')\n",
        "\n",
        "  # add term query to url\n",
        "  url = template.format(search_term)\n",
        "\n",
        "  # add page query placeholder\n",
        "  url += '&page={}'\n",
        "\n",
        "  return template.format(search_term)\n",
        "\n",
        "# error handling\n",
        "def extract_record(item):\n",
        "\n",
        "  # description and url\n",
        "  atag = item.h2.a\n",
        "  description = atag.text.strip()\n",
        "  url = 'https://www.amazon.com.mx' + atag.get('href')\n",
        "\n",
        "  try:\n",
        "    # price\n",
        "    price_parent = item.find('span', 'a-price')\n",
        "    price = price_parent.find('span', 'a-offscreen').text\n",
        "  except AttributeError:\n",
        "    return\n",
        "\n",
        "  try:\n",
        "    # reviews and rating\n",
        "    rating = item.i.text\n",
        "    review_count = item.find('span', {'class':'a-size-base'}).text\n",
        "  except AttributeError:\n",
        "    rating = ''\n",
        "    review_count = ''\n",
        "\n",
        "  result = (description, price, rating, review_count, url)\n",
        "\n",
        "  return result\n",
        "\n",
        "def main(search_term):\n",
        "  \"\"\"run maun program\"\"\"\n",
        "  # set webdrriver if needed\n",
        "\n",
        "  records = []\n",
        "  url = get_urls(search_term)\n",
        "\n",
        "  for page in range(1,6):\n",
        "    wd.get(url.format(page))\n",
        "    soup = BeautifulSoup(wd.page_source, 'html.parser')\n",
        "    results = soup.find_all('div', {'data-component-type': 's-search-result'})\n",
        "\n",
        "    for item in results:\n",
        "      record = extract_record(item)\n",
        "      if record:\n",
        "        records.append(record)\n",
        "  \n",
        "  wd.close()\n",
        "\n",
        "  return pd.DataFrame(records, columns = ['Description', 'Price', 'Rating', 'Reviews', 'Url'])"
      ],
      "execution_count": null,
      "outputs": []
    },
    {
      "cell_type": "code",
      "metadata": {
        "id": "MxGcYzRCciGD"
      },
      "source": [
        "amazon_scrapping_df = main('jetson nano')"
      ],
      "execution_count": null,
      "outputs": []
    },
    {
      "cell_type": "code",
      "metadata": {
        "colab": {
          "base_uri": "https://localhost:8080/",
          "height": 529
        },
        "id": "LLBTE1A3c_9k",
        "outputId": "ebbd5dd3-71a9-45d0-bde2-57ee3023b05f"
      },
      "source": [
        "amazon_scrapping_df.head(10)"
      ],
      "execution_count": null,
      "outputs": [
        {
          "output_type": "execute_result",
          "data": {
            "text/html": [
              "<div>\n",
              "<style scoped>\n",
              "    .dataframe tbody tr th:only-of-type {\n",
              "        vertical-align: middle;\n",
              "    }\n",
              "\n",
              "    .dataframe tbody tr th {\n",
              "        vertical-align: top;\n",
              "    }\n",
              "\n",
              "    .dataframe thead th {\n",
              "        text-align: right;\n",
              "    }\n",
              "</style>\n",
              "<table border=\"1\" class=\"dataframe\">\n",
              "  <thead>\n",
              "    <tr style=\"text-align: right;\">\n",
              "      <th></th>\n",
              "      <th>Description</th>\n",
              "      <th>Price</th>\n",
              "      <th>Rating</th>\n",
              "      <th>Reviews</th>\n",
              "      <th>Url</th>\n",
              "    </tr>\n",
              "  </thead>\n",
              "  <tbody>\n",
              "    <tr>\n",
              "      <th>0</th>\n",
              "      <td>NVIDIA Jetson Nano - Kit de desarrollador de 2 GB</td>\n",
              "      <td>$1,482.99</td>\n",
              "      <td>4.4 de 5 estrellas</td>\n",
              "      <td>272</td>\n",
              "      <td>https://www.amazon.com.mx/NVIDIA-Jetson-Nano-K...</td>\n",
              "    </tr>\n",
              "    <tr>\n",
              "      <th>1</th>\n",
              "      <td>Módulo de cámara para NVIDIA Jetson Nano Devel...</td>\n",
              "      <td>$1,019.00</td>\n",
              "      <td></td>\n",
              "      <td></td>\n",
              "      <td>https://www.amazon.com.mx/Development-pulgadas...</td>\n",
              "    </tr>\n",
              "    <tr>\n",
              "      <th>2</th>\n",
              "      <td>Waveshare Jetson Nano 2GB Developer Kit Packag...</td>\n",
              "      <td>$3,449.99</td>\n",
              "      <td>4.6 de 5 estrellas</td>\n",
              "      <td>13</td>\n",
              "      <td>https://www.amazon.com.mx/Waveshare-Jetson-Nan...</td>\n",
              "    </tr>\n",
              "    <tr>\n",
              "      <th>3</th>\n",
              "      <td>TOP1 Intel AC8265 - NIC de red inalámbrica de ...</td>\n",
              "      <td>$433.32</td>\n",
              "      <td></td>\n",
              "      <td></td>\n",
              "      <td>https://www.amazon.com.mx/TOP1-Intel-AC8265-in...</td>\n",
              "    </tr>\n",
              "    <tr>\n",
              "      <th>4</th>\n",
              "      <td>Yahboom Carcasa de aleación de aluminio para N...</td>\n",
              "      <td>$585.03</td>\n",
              "      <td>4.0 de 5 estrellas</td>\n",
              "      <td>14</td>\n",
              "      <td>https://www.amazon.com.mx/Yahboom-aleaci%C3%B3...</td>\n",
              "    </tr>\n",
              "    <tr>\n",
              "      <th>5</th>\n",
              "      <td>Geekworm N100 - Carcasa de metal para Jetson N...</td>\n",
              "      <td>$499.00</td>\n",
              "      <td>4.3 de 5 estrellas</td>\n",
              "      <td>79</td>\n",
              "      <td>https://www.amazon.com.mx/Geekworm-NVIDIA-Encl...</td>\n",
              "    </tr>\n",
              "    <tr>\n",
              "      <th>6</th>\n",
              "      <td>Bicool Power Supply Adapter for Jetson Nano (A...</td>\n",
              "      <td>$317.46</td>\n",
              "      <td></td>\n",
              "      <td></td>\n",
              "      <td>https://www.amazon.com.mx/Adaptador-alimentaci...</td>\n",
              "    </tr>\n",
              "    <tr>\n",
              "      <th>7</th>\n",
              "      <td>WENDi NVIDIA Jetson Nano Developer Kit, Small ...</td>\n",
              "      <td>$4,343.46</td>\n",
              "      <td></td>\n",
              "      <td></td>\n",
              "      <td>https://www.amazon.com.mx/WENDi-NVIDIA-Develop...</td>\n",
              "    </tr>\n",
              "    <tr>\n",
              "      <th>8</th>\n",
              "      <td>Geekworm UPS T208 18650 de 6 celdas (salida má...</td>\n",
              "      <td>$1,252.93</td>\n",
              "      <td>3.1 de 5 estrellas</td>\n",
              "      <td>3</td>\n",
              "      <td>https://www.amazon.com.mx/Geekworm-tarjeta-exp...</td>\n",
              "    </tr>\n",
              "    <tr>\n",
              "      <th>9</th>\n",
              "      <td>Nvidia Jetson Xavier NX Developer Kit (8126740...</td>\n",
              "      <td>$23,956.00</td>\n",
              "      <td>4.7 de 5 estrellas</td>\n",
              "      <td>120</td>\n",
              "      <td>https://www.amazon.com.mx/nVidia-Jetson-Xavier...</td>\n",
              "    </tr>\n",
              "  </tbody>\n",
              "</table>\n",
              "</div>"
            ],
            "text/plain": [
              "                                         Description  ...                                                Url\n",
              "0  NVIDIA Jetson Nano - Kit de desarrollador de 2 GB  ...  https://www.amazon.com.mx/NVIDIA-Jetson-Nano-K...\n",
              "1  Módulo de cámara para NVIDIA Jetson Nano Devel...  ...  https://www.amazon.com.mx/Development-pulgadas...\n",
              "2  Waveshare Jetson Nano 2GB Developer Kit Packag...  ...  https://www.amazon.com.mx/Waveshare-Jetson-Nan...\n",
              "3  TOP1 Intel AC8265 - NIC de red inalámbrica de ...  ...  https://www.amazon.com.mx/TOP1-Intel-AC8265-in...\n",
              "4  Yahboom Carcasa de aleación de aluminio para N...  ...  https://www.amazon.com.mx/Yahboom-aleaci%C3%B3...\n",
              "5  Geekworm N100 - Carcasa de metal para Jetson N...  ...  https://www.amazon.com.mx/Geekworm-NVIDIA-Encl...\n",
              "6  Bicool Power Supply Adapter for Jetson Nano (A...  ...  https://www.amazon.com.mx/Adaptador-alimentaci...\n",
              "7  WENDi NVIDIA Jetson Nano Developer Kit, Small ...  ...  https://www.amazon.com.mx/WENDi-NVIDIA-Develop...\n",
              "8  Geekworm UPS T208 18650 de 6 celdas (salida má...  ...  https://www.amazon.com.mx/Geekworm-tarjeta-exp...\n",
              "9  Nvidia Jetson Xavier NX Developer Kit (8126740...  ...  https://www.amazon.com.mx/nVidia-Jetson-Xavier...\n",
              "\n",
              "[10 rows x 5 columns]"
            ]
          },
          "metadata": {},
          "execution_count": 8
        }
      ]
    },
    {
      "cell_type": "code",
      "metadata": {
        "id": "V8qjbUWUNO4h"
      },
      "source": [
        ""
      ],
      "execution_count": null,
      "outputs": []
    },
    {
      "cell_type": "markdown",
      "metadata": {
        "id": "QvKFNlsONVSO"
      },
      "source": [
        "# Scrapping mercado libre"
      ]
    },
    {
      "cell_type": "code",
      "metadata": {
        "id": "Q2N4fxRjNO-c"
      },
      "source": [
        "# Search link\n",
        "# https://listado.mercadolibre.com.mx/monitor#D[A:monitor]\n",
        "# Page 2 "
      ],
      "execution_count": null,
      "outputs": []
    },
    {
      "cell_type": "code",
      "metadata": {
        "id": "IAbq2d90NPD0"
      },
      "source": [
        "def get_url(search_term):\n",
        "  link = 'https://listado.mercadolibre.com.mx/{}'.format(search_term.replace(' ','-'))\n",
        "  return link"
      ],
      "execution_count": null,
      "outputs": []
    },
    {
      "cell_type": "code",
      "metadata": {
        "colab": {
          "base_uri": "https://localhost:8080/"
        },
        "id": "BsKk3cM2NPIU",
        "outputId": "cf260ccb-f673-42a7-e896-62228ed3c30e"
      },
      "source": [
        "print(get_url('monitor curvo'))"
      ],
      "execution_count": null,
      "outputs": [
        {
          "output_type": "stream",
          "name": "stdout",
          "text": [
            "https://listado.mercadolibre.com.mx/monitor-curvo\n"
          ]
        }
      ]
    },
    {
      "cell_type": "code",
      "metadata": {
        "id": "Kv1KrIm5NPMZ"
      },
      "source": [
        "url = get_url('monitor curvo')\n",
        "wd.get(url)\n",
        "soup = BeautifulSoup(wd.page_source, 'html.parser')"
      ],
      "execution_count": null,
      "outputs": []
    },
    {
      "cell_type": "code",
      "metadata": {
        "id": "_lOwEubXZ6Nu"
      },
      "source": [
        "results = soup.find_all('li', {'class': 'ui-search-layout__item'})"
      ],
      "execution_count": null,
      "outputs": []
    },
    {
      "cell_type": "code",
      "metadata": {
        "colab": {
          "base_uri": "https://localhost:8080/"
        },
        "id": "6UZ2vFKhaMgm",
        "outputId": "119e2e17-3d5d-42aa-c59a-b17cafaedcec"
      },
      "source": [
        "print(len(results))"
      ],
      "execution_count": null,
      "outputs": [
        {
          "output_type": "stream",
          "name": "stdout",
          "text": [
            "50\n"
          ]
        }
      ]
    },
    {
      "cell_type": "code",
      "metadata": {
        "colab": {
          "base_uri": "https://localhost:8080/"
        },
        "id": "q3Wd8oqgbaTi",
        "outputId": "5e87e77a-f0b2-4b3e-9070-e3c568d80786"
      },
      "source": [
        "print(results[0])"
      ],
      "execution_count": null,
      "outputs": [
        {
          "output_type": "stream",
          "name": "stdout",
          "text": [
            "<li class=\"ui-search-layout__item\"><div class=\"ui-search-result__wrapper\"><div class=\"andes-card andes-card--flat andes-card--default ui-search-result ui-search-result--core andes-card--padding-default\"><div class=\"ui-search-result__image\"><a class=\"ui-search-link\" href=\"https://www.mercadolibre.com.mx/monitor-gamer-curvo-samsung-c32r500-led-32-dark-blue-gray-100v240v/p/MLM17952953?pdp_filters=category:MLM1656#searchVariation=MLM17952953&amp;position=1&amp;search_layout=stack&amp;type=product&amp;tracking_id=b02694ba-73e3-432e-80a7-5292855d8b8b\" title='Monitor gamer curvo Samsung C32R500 led 32 \" dark blue gray 100V/240V'><div class=\"carousel-container arrow-visible\"><div class=\"slick-initialized slick-slider\"><div class=\"slick-list\" role=\"presentation\"><div class=\"slick-track\"><div class=\"slick-slide slick-active\" data-index=\"0\" style=\"outline:none\" tabindex=\"-1\"><img alt='Monitor gamer curvo Samsung C32R500 led 32 \" dark blue gray 100V/240V' class=\"ui-search-result-image__element\" height=\"160\" src=\"https://http2.mlstatic.com/D_NQ_NP_669402-MLA46167260347_052021-V.webp\" width=\"160\"/></div></div></div></div></div></a></div><div class=\"ui-search-result__content-wrapper\"><div class=\"ui-search-item__highlight-label ui-search-item__highlight-label--best_seller\" style=\"background:#FF7733\"><div class=\"ui-search-item__highlight-label__container\"><label class=\"ui-search-styled-label ui-search-item__highlight-label__text\" for=\"\" style=\"color:#FFFFFF\">MÁS VENDIDO</label></div></div><div class=\"ui-search-item__group ui-search-item__group--title\"><a class=\"ui-search-item__group__element ui-search-link\" href=\"https://www.mercadolibre.com.mx/monitor-gamer-curvo-samsung-c32r500-led-32-dark-blue-gray-100v240v/p/MLM17952953?pdp_filters=category:MLM1656#searchVariation=MLM17952953&amp;position=1&amp;search_layout=stack&amp;type=product&amp;tracking_id=b02694ba-73e3-432e-80a7-5292855d8b8b\" title='Monitor gamer curvo Samsung C32R500 led 32 \" dark blue gray 100V/240V'><h2 class=\"ui-search-item__title\">Monitor gamer curvo Samsung C32R500 led 32 \" dark blue gray 100V/240V</h2></a><a class=\"ui-search-official-store-item__link ui-search-link\" href=\"https://tienda.mercadolibre.com.mx/mercado-libre-electronica\"><p class=\"ui-search-official-store-label ui-search-item__group__element ui-search-color--GRAY\">Vendido por Mercado Libre Electronica</p></a></div><div class=\"ui-search-result__content-columns\"><div class=\"ui-search-result__content-column ui-search-result__content-column--left\" tabindex=\"0\"><div class=\"ui-search-item__group ui-search-item__group--price\"><a class=\"ui-search-item__group__element ui-search-link\" href=\"https://www.mercadolibre.com.mx/monitor-gamer-curvo-samsung-c32r500-led-32-dark-blue-gray-100v240v/p/MLM17952953?pdp_filters=category:MLM1656#searchVariation=MLM17952953&amp;position=1&amp;search_layout=stack&amp;type=product&amp;tracking_id=b02694ba-73e3-432e-80a7-5292855d8b8b\" role=\"none presentation\" title='Monitor gamer curvo Samsung C32R500 led 32 \" dark blue gray 100V/240V'><div class=\"ui-search-price ui-search-price--size-medium\"><div class=\"ui-search-price__second-line\"><span class=\"price-tag ui-search-price__part\"><span class=\"price-tag-text-sr-only\">6599 pesos</span><span aria-hidden=\"true\" class=\"price-tag-amount\"><span class=\"price-tag-symbol\">$</span><span class=\"price-tag-fraction\">6,599</span></span></span><span class=\"ui-search-price__second-line__label\"></span></div></div></a><span class=\"ui-search-item__group__element ui-search-installments ui-search-color--BLACK\"><div class=\"ui-search-installments-prefix\"><span>en</span></div>12x <div class=\"ui-search-price ui-search-price--size-x-tiny ui-search-color--BLACK\"><div class=\"ui-search-price__second-line\"><span class=\"price-tag ui-search-price__part\"><span class=\"price-tag-text-sr-only\">650 pesos con 88 centavos </span><span aria-hidden=\"true\" class=\"price-tag-amount\"><span class=\"price-tag-symbol\">$</span><span class=\"price-tag-fraction\">650</span><span class=\"price-tag-decimal-separator\">.</span><span class=\"price-tag-cents\">88</span></span></span></div></div></span></div><div class=\"ui-search-item__group ui-search-item__group--shipping\"><div class=\"ui-search-item__group__element ui-search-item__group__element--shipping\"><p class=\"ui-search-item__shipping ui-search-item__shipping--free\">Envío gratis</p><span class=\"ui-search-item__fulfillment\"><svg aria-label=\"full\" class=\"ui-search-icon ui-search-icon--full\" viewbox=\"0 0 100 32\" xmlns=\"http://www.w3.org/2000/svg\"><use href=\"#full\"></use></svg></span></div></div></div><div class=\"ui-search-result__content-column ui-search-result__content-column--right\"><div class=\"ui-search-item__group ui-search-item__group--reviews\"><div class=\"ui-search-reviews ui-search-item__group__element\"><span class=\"ui-search-reviews__ratings\"><svg class=\"ui-search-icon ui-search-icon--star ui-search-icon--star-full\" fill=\"#3483fa\" height=\"100%\" viewbox=\"0 0 10 10\" width=\"100%\"><use href=\"#start-full\"></use></svg><svg class=\"ui-search-icon ui-search-icon--star ui-search-icon--star-full\" fill=\"#3483fa\" height=\"100%\" viewbox=\"0 0 10 10\" width=\"100%\"><use href=\"#start-full\"></use></svg><svg class=\"ui-search-icon ui-search-icon--star ui-search-icon--star-full\" fill=\"#3483fa\" height=\"100%\" viewbox=\"0 0 10 10\" width=\"100%\"><use href=\"#start-full\"></use></svg><svg class=\"ui-search-icon ui-search-icon--star ui-search-icon--star-full\" fill=\"#3483fa\" height=\"100%\" viewbox=\"0 0 10 10\" width=\"100%\"><use href=\"#start-full\"></use></svg><svg class=\"ui-search-icon ui-search-icon--star ui-search-icon--star-full\" fill=\"#3483fa\" height=\"100%\" viewbox=\"0 0 10 10\" width=\"100%\"><use href=\"#start-full\"></use></svg></span><span class=\"ui-search-reviews__amount\">6</span></div></div></div></div></div><div class=\"ui-search-result__bookmark\"><form action=\"/search/bookmarks/MLM949533383\" class=\"ui-search-bookmark\" method=\"POST\"><button aria-label=\"Agregar a favoritos\" class=\"ui-search-bookmark__btn\" type=\"submit\"><svg class=\"ui-search-icon ui-search-icon--bookmark ui-search-bookmark__icon-bookmark\" viewbox=\"0 0 22 20\" xmlns=\"http://www.w3.org/2000/svg\"><use href=\"#bookmark\"></use></svg><svg class=\"ui-search-icon ui-search-icon--bookmark ui-search-bookmark__icon-bookmark-fill\" viewbox=\"0 0 22 20\" xmlns=\"http://www.w3.org/2000/svg\"><use href=\"#bookmark\"></use></svg></button><input name=\"logginUrl\" type=\"hidden\" value=\"https://www.mercadolibre.com/jms/mlm/lgz/login?platform_id=ML&amp;go=https%3A%2F%2Flistado.mercadolibre.com.mx%2Fmonitor-curvo&amp;loginType=explicit\"/><input name=\"_csrf\" type=\"hidden\" value=\"iZKCDq9x-CB6fqM45y0HcPYy8aeVLGQ2fjcQ\"/><input name=\"method\" type=\"hidden\" value=\"add\"/><input name=\"itemId\" type=\"hidden\" value=\"MLM949533383\"/></form></div></div></div></li>\n"
          ]
        }
      ]
    },
    {
      "cell_type": "code",
      "metadata": {
        "id": "TM_zcOKIcsvc"
      },
      "source": [
        "# prototype the record\n",
        "item = results[0]\n",
        "atag = item.h2.text.strip()\n",
        "#description = atag.text.strip()\n",
        "#url = 'https://listado.mercadolibre.com.mx/' + atag.get('href')"
      ],
      "execution_count": null,
      "outputs": []
    },
    {
      "cell_type": "code",
      "metadata": {
        "colab": {
          "base_uri": "https://localhost:8080/"
        },
        "id": "WfYab4DBcs0n",
        "outputId": "67b8f3c7-d3da-4837-9390-6fb75ae3d79a"
      },
      "source": [
        "print(item.a['href'])"
      ],
      "execution_count": null,
      "outputs": [
        {
          "output_type": "stream",
          "name": "stdout",
          "text": [
            "https://www.mercadolibre.com.mx/monitor-gamer-curvo-samsung-c32r500-led-32-dark-blue-gray-100v240v/p/MLM17952953?pdp_filters=category:MLM1656#searchVariation=MLM17952953&position=1&search_layout=stack&type=product&tracking_id=b02694ba-73e3-432e-80a7-5292855d8b8b\n"
          ]
        }
      ]
    },
    {
      "cell_type": "code",
      "metadata": {
        "colab": {
          "base_uri": "https://localhost:8080/"
        },
        "id": "k3MwgWuhcs4P",
        "outputId": "c1f655c7-9bbb-4bde-bdbc-26a4ebe2d3d5"
      },
      "source": [
        "price_parent = item.find('div', {'class':'ui-search-price__second-line'})\n",
        "price = price_parent.find('span', 'price-tag-amount').text\n",
        "print(price)"
      ],
      "execution_count": null,
      "outputs": [
        {
          "output_type": "stream",
          "name": "stdout",
          "text": [
            "$6,599\n"
          ]
        }
      ]
    },
    {
      "cell_type": "code",
      "metadata": {
        "colab": {
          "base_uri": "https://localhost:8080/"
        },
        "id": "PMojTIoUXNPp",
        "outputId": "bffd1f9b-e4ae-4c00-9fec-18221411142d"
      },
      "source": [
        "stars = item.find_all('svg', {'class':'ui-search-icon ui-search-icon--star ui-search-icon--star-full'})\n",
        "print(len(stars))"
      ],
      "execution_count": null,
      "outputs": [
        {
          "output_type": "stream",
          "name": "stdout",
          "text": [
            "5\n"
          ]
        }
      ]
    },
    {
      "cell_type": "code",
      "metadata": {
        "colab": {
          "base_uri": "https://localhost:8080/"
        },
        "id": "cflwg0oPeTHN",
        "outputId": "aa60bf1e-e38f-4e48-f9f9-35e0648bae75"
      },
      "source": [
        "reviews = item.find('span', {'class':'ui-search-reviews__amount'}).text\n",
        "print(reviews)"
      ],
      "execution_count": null,
      "outputs": [
        {
          "output_type": "stream",
          "name": "stdout",
          "text": [
            "6\n"
          ]
        }
      ]
    },
    {
      "cell_type": "code",
      "metadata": {
        "id": "hHRs-L1zfpc4"
      },
      "source": [
        "# getting the next page\n",
        "def get_urls(search_term):\n",
        "  \"\"\"Genetare the Url from search term\"\"\"\n",
        "  template = \"https://listado.mercadolibre.com.mx/{}\"\n",
        "  search_term = search_term.replace(' ', '-')\n",
        "\n",
        "  # add term query to url\n",
        "  url = template.format(search_term)\n",
        "\n",
        "  # add page query placeholder\n",
        "  url += '_Desde_{}_NoIndex_True'\n",
        "\n",
        "  return template.format(search_term)\n",
        "\n",
        "# error handling\n",
        "def extract_record(item):\n",
        "\n",
        "  # description and url\n",
        "  description = item.h2.text.strip()\n",
        "  url = item.a['href']\n",
        "\n",
        "  try:\n",
        "    # price\n",
        "    price_parent = item.find('div', {'class':'ui-search-price__second-line'})\n",
        "    price = price_parent.find('span', 'price-tag-amount').text\n",
        "  except AttributeError:\n",
        "    return ''\n",
        "\n",
        "  try:\n",
        "    # reviews and rating\n",
        "    stars = len(item.find_all('svg', {'class':'ui-search-icon ui-search-icon--star ui-search-icon--star-full'}))\n",
        "    reviews = item.find('span', {'class':'ui-search-reviews__amount'}).text\n",
        "  except AttributeError:\n",
        "    stars = ''\n",
        "    reviews = ''\n",
        "\n",
        "  result = (description, price, stars, reviews, url)\n",
        "\n",
        "  return result\n",
        "\n",
        "def main(search_term):\n",
        "  \"\"\"run maun program\"\"\"\n",
        "  # set webdrriver if needed\n",
        "\n",
        "  records = []\n",
        "  url = get_urls(search_term)\n",
        "\n",
        "  items_pp = 1\n",
        "  to_continue = True\n",
        "  \n",
        "  while to_continue:\n",
        "\n",
        "    try:\n",
        "      wd.get(url.format(items_pp))\n",
        "      soup = BeautifulSoup(wd.page_source, 'html.parser')\n",
        "      results = soup.find_all('li', {'class': 'ui-search-layout__item'})\n",
        "\n",
        "      for item in results:\n",
        "        record = extract_record(item)\n",
        "      \n",
        "        if record:\n",
        "          records.append(record)\n",
        "      items_pp += 50 \n",
        "    \n",
        "    except NoSuchElementException:\n",
        "      print('Last page {0}'.format(current_page))\n",
        "      to_continue = False\n",
        "\n",
        "    if items_pp >= 151: to_continue = False \n",
        "\n",
        "  wd.close()\n",
        "\n",
        "  return pd.DataFrame(records, columns = ['Description', 'Price', 'Rating', 'Reviews', 'Url'])"
      ],
      "execution_count": 24,
      "outputs": []
    },
    {
      "cell_type": "code",
      "metadata": {
        "id": "8jO9qaBVtzRx"
      },
      "source": [
        "mercado_libre_df = main('beyerdynamic')"
      ],
      "execution_count": 25,
      "outputs": []
    },
    {
      "cell_type": "code",
      "metadata": {
        "id": "wMSEQf9DtzXI",
        "colab": {
          "base_uri": "https://localhost:8080/",
          "height": 359
        },
        "outputId": "839a7687-45f9-4520-f64f-cc74363bad75"
      },
      "source": [
        "mercado_libre_df.head(10)"
      ],
      "execution_count": 26,
      "outputs": [
        {
          "output_type": "execute_result",
          "data": {
            "text/html": [
              "<div>\n",
              "<style scoped>\n",
              "    .dataframe tbody tr th:only-of-type {\n",
              "        vertical-align: middle;\n",
              "    }\n",
              "\n",
              "    .dataframe tbody tr th {\n",
              "        vertical-align: top;\n",
              "    }\n",
              "\n",
              "    .dataframe thead th {\n",
              "        text-align: right;\n",
              "    }\n",
              "</style>\n",
              "<table border=\"1\" class=\"dataframe\">\n",
              "  <thead>\n",
              "    <tr style=\"text-align: right;\">\n",
              "      <th></th>\n",
              "      <th>Description</th>\n",
              "      <th>Price</th>\n",
              "      <th>Rating</th>\n",
              "      <th>Reviews</th>\n",
              "      <th>Url</th>\n",
              "    </tr>\n",
              "  </thead>\n",
              "  <tbody>\n",
              "    <tr>\n",
              "      <th>0</th>\n",
              "      <td>Audífonos Beyerdynamic DT 990 PRO black y grey</td>\n",
              "      <td>$4,040</td>\n",
              "      <td>4</td>\n",
              "      <td>4</td>\n",
              "      <td>https://www.mercadolibre.com.mx/audifonos-beye...</td>\n",
              "    </tr>\n",
              "    <tr>\n",
              "      <th>1</th>\n",
              "      <td>Almohadillas Akg Beyerdynamic Pioneer Universa...</td>\n",
              "      <td>$159</td>\n",
              "      <td></td>\n",
              "      <td></td>\n",
              "      <td>https://articulo.mercadolibre.com.mx/MLM-84341...</td>\n",
              "    </tr>\n",
              "    <tr>\n",
              "      <th>2</th>\n",
              "      <td>Beyerdynamic Audifonos Dt 990 Pro 250 Ohms</td>\n",
              "      <td>$5,299</td>\n",
              "      <td></td>\n",
              "      <td></td>\n",
              "      <td>https://articulo.mercadolibre.com.mx/MLM-78029...</td>\n",
              "    </tr>\n",
              "    <tr>\n",
              "      <th>3</th>\n",
              "      <td>Almohadillas Akg Beyerdynamic Pioneer Terciope...</td>\n",
              "      <td>$199</td>\n",
              "      <td></td>\n",
              "      <td></td>\n",
              "      <td>https://articulo.mercadolibre.com.mx/MLM-90995...</td>\n",
              "    </tr>\n",
              "    <tr>\n",
              "      <th>4</th>\n",
              "      <td>Beyerdynamic Audifonos T1 (3rd Generation)</td>\n",
              "      <td>$29,999</td>\n",
              "      <td></td>\n",
              "      <td></td>\n",
              "      <td>https://articulo.mercadolibre.com.mx/MLM-94366...</td>\n",
              "    </tr>\n",
              "    <tr>\n",
              "      <th>5</th>\n",
              "      <td>Beyerdynamic Dt 990 Edition 600 Ohm Auriculare...</td>\n",
              "      <td>$5,560</td>\n",
              "      <td></td>\n",
              "      <td></td>\n",
              "      <td>https://articulo.mercadolibre.com.mx/MLM-76993...</td>\n",
              "    </tr>\n",
              "    <tr>\n",
              "      <th>6</th>\n",
              "      <td>Beyerdynamic Audifonos Dt 240 Pro 34 Ohms</td>\n",
              "      <td>$2,949</td>\n",
              "      <td></td>\n",
              "      <td></td>\n",
              "      <td>https://articulo.mercadolibre.com.mx/MLM-67097...</td>\n",
              "    </tr>\n",
              "    <tr>\n",
              "      <th>7</th>\n",
              "      <td>Beyerdynamic Dt-990 Pro 250ohms Buen Fin Navid...</td>\n",
              "      <td>$4,500</td>\n",
              "      <td></td>\n",
              "      <td></td>\n",
              "      <td>https://articulo.mercadolibre.com.mx/MLM-83432...</td>\n",
              "    </tr>\n",
              "    <tr>\n",
              "      <th>8</th>\n",
              "      <td>Beyerdynamic Headphones In-ear Beat Byrd Black...</td>\n",
              "      <td>$809</td>\n",
              "      <td></td>\n",
              "      <td></td>\n",
              "      <td>https://articulo.mercadolibre.com.mx/MLM-78967...</td>\n",
              "    </tr>\n",
              "    <tr>\n",
              "      <th>9</th>\n",
              "      <td>Beyerdynamic Aventho Wireless Black Audifonos ...</td>\n",
              "      <td>$10,980</td>\n",
              "      <td></td>\n",
              "      <td></td>\n",
              "      <td>https://articulo.mercadolibre.com.mx/MLM-76969...</td>\n",
              "    </tr>\n",
              "  </tbody>\n",
              "</table>\n",
              "</div>"
            ],
            "text/plain": [
              "                                         Description  ...                                                Url\n",
              "0     Audífonos Beyerdynamic DT 990 PRO black y grey  ...  https://www.mercadolibre.com.mx/audifonos-beye...\n",
              "1  Almohadillas Akg Beyerdynamic Pioneer Universa...  ...  https://articulo.mercadolibre.com.mx/MLM-84341...\n",
              "2         Beyerdynamic Audifonos Dt 990 Pro 250 Ohms  ...  https://articulo.mercadolibre.com.mx/MLM-78029...\n",
              "3  Almohadillas Akg Beyerdynamic Pioneer Terciope...  ...  https://articulo.mercadolibre.com.mx/MLM-90995...\n",
              "4         Beyerdynamic Audifonos T1 (3rd Generation)  ...  https://articulo.mercadolibre.com.mx/MLM-94366...\n",
              "5  Beyerdynamic Dt 990 Edition 600 Ohm Auriculare...  ...  https://articulo.mercadolibre.com.mx/MLM-76993...\n",
              "6          Beyerdynamic Audifonos Dt 240 Pro 34 Ohms  ...  https://articulo.mercadolibre.com.mx/MLM-67097...\n",
              "7  Beyerdynamic Dt-990 Pro 250ohms Buen Fin Navid...  ...  https://articulo.mercadolibre.com.mx/MLM-83432...\n",
              "8  Beyerdynamic Headphones In-ear Beat Byrd Black...  ...  https://articulo.mercadolibre.com.mx/MLM-78967...\n",
              "9  Beyerdynamic Aventho Wireless Black Audifonos ...  ...  https://articulo.mercadolibre.com.mx/MLM-76969...\n",
              "\n",
              "[10 rows x 5 columns]"
            ]
          },
          "metadata": {},
          "execution_count": 26
        }
      ]
    },
    {
      "cell_type": "code",
      "metadata": {
        "id": "8pAKN1Pwtzg5"
      },
      "source": [
        ""
      ],
      "execution_count": null,
      "outputs": []
    },
    {
      "cell_type": "markdown",
      "metadata": {
        "id": "aFTGpmtBD4Nh"
      },
      "source": [
        "# Scrapping wallmart mx"
      ]
    },
    {
      "cell_type": "code",
      "metadata": {
        "id": "h7h4vgnRDzxw"
      },
      "source": [
        "def get_url(search_term):\n",
        "  link = 'https://www.walmart.com.mx/productos?Ntt={}'.format(search_term.replace(' ','-'))\n",
        "  return link"
      ],
      "execution_count": 16,
      "outputs": []
    },
    {
      "cell_type": "code",
      "metadata": {
        "colab": {
          "base_uri": "https://localhost:8080/"
        },
        "id": "PhuSkVe1Dz8w",
        "outputId": "1f307a04-8be2-4c72-df63-91b7233da35b"
      },
      "source": [
        "print(get_url('xiaomi'))"
      ],
      "execution_count": 17,
      "outputs": [
        {
          "output_type": "stream",
          "name": "stdout",
          "text": [
            "https://www.walmart.com.mx/productos?Ntt=xiaomi\n"
          ]
        }
      ]
    },
    {
      "cell_type": "code",
      "metadata": {
        "colab": {
          "base_uri": "https://localhost:8080/"
        },
        "id": "B0elDRvkD0Uc",
        "outputId": "4b18ca95-f60d-46d5-8035-f775e57fcc17"
      },
      "source": [
        "url = get_url('xiaomi')\n",
        "wd.implicitly_wait(7)\n",
        "wd.get('https://www.walmart.com.mx/productos?Ntt=xiaomi')\n",
        "#soup = BeautifulSoup(wd.page_source, 'html.parser')\n",
        "body = wd.find_element_by_tag_name('body').get_attribute('innerHTML')\n",
        "soup = BeautifulSoup(body)"
      ],
      "execution_count": 24,
      "outputs": [
        {
          "output_type": "stream",
          "name": "stderr",
          "text": [
            "/usr/local/lib/python3.7/dist-packages/ipykernel_launcher.py:5: DeprecationWarning: find_element_by_* commands are deprecated. Please use find_element() instead\n",
            "  \"\"\"\n"
          ]
        }
      ]
    },
    {
      "cell_type": "code",
      "metadata": {
        "colab": {
          "base_uri": "https://localhost:8080/"
        },
        "id": "REns4aymD0Z4",
        "outputId": "69be9e72-7c3d-4574-9e90-5cd27b8be330"
      },
      "source": [
        "#results = soup.find_all('div', {'class': 'product_container__3DSm4'})\n",
        "results = soup.find_all('div', {'class':'search-result-gridview-item-wrapper'})\n",
        "print(len(results))"
      ],
      "execution_count": 23,
      "outputs": [
        {
          "output_type": "stream",
          "name": "stdout",
          "text": [
            "0\n"
          ]
        }
      ]
    },
    {
      "cell_type": "code",
      "metadata": {
        "colab": {
          "base_uri": "https://localhost:8080/"
        },
        "id": "9gA4Y8oyD0i-",
        "outputId": "0f436a6d-e087-463e-e926-59e275d033bd"
      },
      "source": [
        "print(soup)"
      ],
      "execution_count": 25,
      "outputs": [
        {
          "output_type": "stream",
          "name": "stdout",
          "text": [
            "<html><body><header> <svg height=\"31px\" version=\"1.1\" viewbox=\"0 0 130 31\" width=\"130px\" xmlns=\"http://www.w3.org/2000/svg\" xmlns:xlink=\"http://www.w3.org/1999/xlink\"> <title>wm-logo-white</title> <g fill=\"none\" fill-rule=\"evenodd\" id=\"Page-1\" stroke=\"none\" stroke-width=\"1\"> <g fill-rule=\"nonzero\" id=\"D2/Verify-Identity-Copy\" transform=\"translate(-24.000000, -22.000000)\"> <g id=\"wm-logo-white\" transform=\"translate(24.000000, 22.000000)\"> <path d=\"M71.6572352,19.5285942 C71.6572352,19.7755743 71.6361032,20.0304788 71.5674242,20.2550061 C71.2887462,21.1834927 70.3298825,21.9693383 69.1319631,21.9693383 C68.1321562,21.9693383 67.338386,21.4014162 67.338386,20.1955724 C67.338386,18.3518069 69.359132,17.8419978 71.6572352,17.8538845 L71.6572352,19.5285942 L71.6572352,19.5285942 Z M75.2642006,16.3165327 C75.2642006,13.2748479 73.9711874,10.6003312 69.6034705,10.6003312 C67.359518,10.6003312 65.5791484,11.2342907 64.6083979,11.7969298 L65.3189609,14.2403154 C66.2065042,13.678997 67.6223471,13.2127727 68.9615865,13.2127727 C71.1778033,13.2061689 71.5410093,14.4727672 71.5410093,15.283707 L71.5410093,15.4765364 C66.7097095,15.4686119 63.6561379,17.1486046 63.6561379,20.5746274 C63.6561379,22.6640523 65.2106595,24.6240437 67.9142326,24.6240437 C69.5770555,24.6240437 70.9678042,23.9570655 71.7998761,22.8899003 L71.8817625,22.8899003 C71.8817625,22.8899003 72.4338356,25.2091355 75.4755204,24.3215922 C75.3157098,23.3574455 75.2642006,22.3272613 75.2642006,21.0883987 L75.2642006,16.3165327 Z M0,6.45978319 C0,6.45978319 3.15659003,19.455953 3.65979539,21.5651891 C4.24752868,24.0270652 5.3080901,24.933099 8.36166171,24.3215922 L10.3335399,16.2650235 C10.832783,14.2627681 11.1682533,12.8363592 11.4891953,10.7997643 L11.5459875,10.7997643 C11.7705148,12.8561704 12.0927775,14.2693718 12.5035305,16.2716273 C12.5035305,16.2716273 13.3052251,19.9287812 13.7172988,21.8491501 C14.1280517,23.7708399 15.2757825,24.9793252 18.267279,24.3215922 L22.9638623,6.45978319 L19.171992,6.45978319 L17.5686027,14.1822024 C17.1367178,16.4301171 16.7457761,18.1867133 16.4446454,20.2431194 L16.3918154,20.2431194 C16.1170996,18.2065245 15.7684219,16.5199281 15.3299333,14.3301263 L13.6605066,6.45846245 L9.7101464,6.45846245 L7.9244938,14.1320139 C7.41864694,16.4631359 6.94449806,18.3452031 6.6433673,20.3316096 L6.59053734,20.3316096 C6.28148208,18.4614291 5.87072916,16.0959677 5.42563675,13.8388077 C5.42563675,13.8388077 4.36507533,8.35109571 3.99262413,6.45978319 L0,6.45978319 M30.1328877,19.5285942 C30.1328877,19.7755743 30.1117557,20.0304788 30.0430767,20.2550061 C29.7643987,21.1834927 28.805535,21.9693383 27.6062949,21.9693383 C26.6078087,21.9693383 25.8140385,21.4014162 25.8140385,20.1955724 C25.8140385,18.3518069 27.8347845,17.8419978 30.1328877,17.8538845 L30.1328877,19.5285942 Z M33.7385323,16.3165327 C33.7385323,13.2748479 32.4468399,10.6003312 28.079123,10.6003312 C25.8338498,10.6003312 24.0548009,11.2342907 23.0840504,11.7969298 L23.7932926,14.2403154 C24.6821567,13.678997 26.0966788,13.2127727 27.4359183,13.2127727 C29.6547765,13.2061689 30.0166618,14.4727672 30.0166618,15.283707 L30.0166618,15.4765364 C25.1840413,15.4686119 22.1317904,17.1486046 22.1317904,20.5746274 C22.1317904,22.6640523 23.686312,24.6240437 26.3872436,24.6240437 C28.0513873,24.6240437 29.442136,23.9570655 30.2755286,22.8899003 L30.357415,22.8899003 C30.357415,22.8899003 30.9094881,25.2091355 33.9498522,24.3215922 C33.7913623,23.3574455 33.7385323,22.3272613 33.7385323,21.0883987 L33.7385323,16.3165327 Z M39.7571854,20.5297219 L39.7571854,6.45978319 L36.1475785,6.45978319 L36.1475785,24.3215922 L39.7571854,24.3215922 L39.7571854,20.5297219 M86.9911307,6.45978319 L86.9911307,19.6368956 C86.9911307,21.4529255 87.3318839,22.7261275 88.0596166,23.5040486 C88.6948968,24.1829136 89.7435715,24.6240437 90.998283,24.6240437 C92.0654482,24.6240437 93.1154436,24.4206484 93.6107245,24.2357435 L93.5644983,21.4014162 C93.1960093,21.4925479 92.7720489,21.5651891 92.1935608,21.5651891 C90.9639436,21.5651891 90.5505491,20.7727397 90.5505491,19.1416148 L90.5505491,14.1016367 L93.6939317,14.1016367 L93.6939317,10.6835384 L90.5505491,10.6835384 L90.5505491,6.45978319 L86.9911307,6.45978319\" fill=\"#FFFFFF\" id=\"Shape\"></path> <path d=\"M77.671926,10.9027827 L77.671926,24.3215922 L81.396438,24.3215922 L81.396438,17.4510561 C81.396438,17.0812464 81.41757,16.7563421 81.475683,16.4604944 C81.7530403,15.020878 82.8479412,14.1016367 84.4209532,14.1016367 C84.8515173,14.1016367 85.1605726,14.1478629 85.4947221,14.1967306 L85.4947221,10.6835384 C85.2147233,10.6267462 85.0232147,10.6003312 84.674537,10.6003312 C83.2851091,10.6003312 81.7028518,11.5024027 81.0398358,13.4346585 L80.9381382,13.4346585 L80.9381382,10.9027827 L77.6732467,10.9027827 L105.831615,9.16996007 M42.2850989,10.9027827 L42.2850989,24.3215922 L45.9145171,24.3215922 L45.9145171,16.4525699 C45.9145171,16.0827602 45.956781,15.6931392 46.0862144,15.3537067 C46.3860244,14.5612574 47.1190401,13.6354123 48.2905445,13.6354123 C49.7552551,13.6354123 50.4407238,14.8782371 50.4407238,16.673135 L50.4407238,24.3215922 L54.0661797,24.3215922 L54.0661797,16.3574759 C54.0661797,16.004836 54.1137266,15.5808756 54.2167451,15.2691788 C54.5152343,14.368428 55.3050422,13.6354123 56.3946601,13.6354123 C57.8791819,13.6354123 58.5910656,14.8571051 58.5910656,16.9689827 L58.5910656,24.3215922 L62.2191631,24.3215922 L62.2191631,16.4182304 C62.2191631,12.2512674 60.1138892,10.6003312 57.7352203,10.6003312 C56.6825834,10.6003312 55.8518323,10.864481 55.1003261,11.3293846 C54.4676874,11.7190056 53.9024068,12.2723994 53.4084467,13.0001321 L53.3556167,13.0001321 C52.7810909,11.553912 51.4312855,10.6003312 49.6733686,10.6003312 C47.4148879,10.6003312 46.4005527,11.7493828 45.7837629,12.726737 L45.730933,12.726737 L45.730933,10.9041035 L42.2850989,10.9041035\" fill=\"#FFFFFF\" id=\"Shape\"></path> <path d=\"M114.600067,9.50278881 L115.309309,1.45018236 C115.309309,0.653770738 114.380823,0 113.213281,0 C112.04838,0 111.121214,0.653770738 111.121214,1.45018236 L111.829136,9.50278881 C111.908381,9.98750368 112.498755,10.3612756 113.214601,10.3612756 C113.929127,10.3612756 114.519501,9.98750368 114.600067,9.50278881 L114.600067,9.50278881 Z M108.832356,11.2408945 L102.24446,6.59846184 C101.560313,6.2009164 100.53277,6.68034827 99.9503195,7.69468348 C99.3652277,8.71033943 99.4682461,9.84354205 100.152394,10.2410875 L107.446891,13.6539028 C107.90387,13.8242794 108.523301,13.4967337 108.882545,12.8746609 L108.879903,12.8786232 C109.239147,12.2539089 109.211411,11.5525912 108.832356,11.2408945 L108.832356,11.2408945 Z M118.980991,13.6539028 L126.276809,10.2410875 C126.963598,9.84354205 127.061334,8.70901868 126.481525,7.69600423 C125.895112,6.67902752 124.866249,6.2009164 124.183422,6.59978258 L117.595526,11.2395737 C117.219112,11.5512705 117.191377,12.2525882 117.549299,12.8773024 L117.546658,12.8733402 C117.905902,13.4967337 118.524012,13.8242794 118.980991,13.6525821 L118.980991,13.6539028 Z M114.600067,21.2772658 L115.309309,29.3298723 C115.309309,30.1276047 114.380823,30.7800547 113.213281,30.7800547 C112.04838,30.7800547 111.121214,30.1276047 111.121214,29.3298723 L111.829136,21.2772658 C111.908381,20.7938717 112.498755,20.4200998 113.214601,20.4200998 C113.929127,20.4200998 114.519501,20.7938717 114.600067,21.2785866 L114.600067,21.2772658 Z M118.980991,17.1301141 L126.276809,20.5376464 C126.963598,20.9365126 127.061334,22.071036 126.481525,23.0866919 C125.895112,24.0983856 124.866249,24.5791383 124.183422,24.1829136 L117.595526,19.5444432 C117.219112,19.2287842 117.191377,18.5274665 117.549299,17.904073 C117.905902,17.2806795 118.524012,16.957096 118.980991,17.1287933 L118.980991,17.1301141 Z M108.832356,19.5444432 L102.24446,24.1829136 C101.560313,24.5791383 100.53277,24.0983856 99.9503195,23.0866919 C99.3652277,22.071036 99.4682461,20.9365126 100.152394,20.5376464 L107.446891,17.1301141 C107.90387,16.957096 108.523301,17.2806795 108.882545,17.9053937 L108.879903,17.9053937 C109.239147,18.5274665 109.211411,19.2287842 108.832356,19.5431225 L108.832356,19.5444432 Z M128.629063,23.6427272 L128.779628,23.6427272 C128.944722,23.6427272 129.088683,23.5925388 129.088683,23.4485771 C129.088683,23.3323512 129.017363,23.2531063 128.802081,23.2531063 C128.716232,23.2531063 128.666044,23.2610308 128.630383,23.2676345 L128.630383,23.6427272 L128.629063,23.6427272 Z M128.629063,24.3202715 L128.407177,24.3202715 L128.407177,23.1170692 C128.528686,23.0959372 128.658119,23.0800882 128.823213,23.0800882 C129.023967,23.0800882 129.124343,23.1170692 129.203588,23.1738614 C129.27623,23.2240498 129.325097,23.3191437 129.325097,23.4274452 C129.325097,23.5780105 129.218117,23.6717837 129.087362,23.7153684 L129.087362,23.7285759 C129.196985,23.7721606 129.253777,23.8672546 129.289437,24.0191407 C129.325097,24.2040456 129.34755,24.2780075 129.375286,24.3202715 L129.145475,24.3202715 C129.109815,24.2780075 129.082079,24.1697061 129.053023,24.0032917 C129.023967,23.8738583 128.944722,23.8157454 128.773024,23.8157454 L128.629063,23.8157454 L128.629063,24.3202715 L128.629063,24.3202715 Z M128.831137,22.7406557 C128.313404,22.7406557 127.91982,23.1672576 127.91982,23.686312 C127.91982,24.2198945 128.313404,24.6372512 128.844345,24.6372512 C129.362078,24.6451757 129.742454,24.2198945 129.742454,23.6929157 C129.742454,23.1672576 129.362078,22.7419765 128.837741,22.7419765 L128.831137,22.7419765 L128.831137,22.7406557 Z M128.844345,22.5399019 C129.491512,22.5399019 130,23.044428 130,23.686312 C130,24.3427242 129.490191,24.8472503 128.837741,24.8472503 C128.18397,24.8472503 127.667557,24.3427242 127.667557,23.6849912 C127.667557,23.044428 128.18397,22.5399019 128.837741,22.5399019 L128.844345,22.5399019 Z\" fill=\"#FFC220\" id=\"Shape\"></path> </g> </g> </g> </svg> </header> <section class=\"container\"> <div class=\"page-title-wrapper\"> <div class=\"page-title\" id=\"topmessage\"> <h1 class=\"Verifica-tu-identida\">Verifica tu identidad</h1> </div> </div> <div class=\"content-wrapper\"> <div class=\"content\"> <p class=\"Mantn-presionado-el\" id=\"message\">Mantén presionado el botón para confirmar que no eres un robot.</p> <div id=\"px-captcha\" role=\"main\"><iframe style=\"display: none; height: 115px; border: 0px; user-select: none; width: 332px !important;\" token=\"68b33529d4c97a98339b081bd851156f4f4782cf05228343fac737e3e4a96ca0af9e5671fd2c9e41302110aa4347c1f6cc03933fea34a295d4d90b4fe095eca9\"></iframe><iframe style=\"display: none; height: 115px; border: 0px; user-select: none; width: 332px !important;\" token=\"68b33529d4c97a98339b081bd851156f4f4782cf05228343fac737e3e4a96ca0af9e5671fd2c9e41302110aa4347c1f6cc03933fea34a295d4d90b4fe095eca9\"></iframe><iframe style=\"display: block; width: 332px !important; height: 115px; border: 0; -moz-user-select: none; -khtml-user-select: none; -webkit-user-select: none; -ms-user-select: none; user-select: none;\" token=\"68b33529d4c97a98339b081bd851156f4f4782cf05228343fac737e3e4a96ca0af9e5671fd2c9e41302110aa4347c1f6cc03933fea34a295d4d90b4fe095eca9\"></iframe><iframe style=\"display: none; height: 115px; border: 0px; user-select: none; width: 332px !important;\" token=\"68b33529d4c97a98339b081bd851156f4f4782cf05228343fac737e3e4a96ca0af9e5671fd2c9e41302110aa4347c1f6cc03933fea34a295d4d90b4fe095eca9\"></iframe><iframe style=\"display: none; height: 115px; border: 0px; user-select: none; width: 332px !important;\" token=\"68b33529d4c97a98339b081bd851156f4f4782cf05228343fac737e3e4a96ca0af9e5671fd2c9e41302110aa4347c1f6cc03933fea34a295d4d90b4fe095eca9\"></iframe><iframe style=\"display: none; height: 115px; border: 0px; user-select: none; width: 332px !important;\" token=\"68b33529d4c97a98339b081bd851156f4f4782cf05228343fac737e3e4a96ca0af9e5671fd2c9e41302110aa4347c1f6cc03933fea34a295d4d90b4fe095eca9\"></iframe><iframe style=\"display: none; height: 115px; border: 0px; user-select: none; width: 332px !important;\" token=\"68b33529d4c97a98339b081bd851156f4f4782cf05228343fac737e3e4a96ca0af9e5671fd2c9e41302110aa4347c1f6cc03933fea34a295d4d90b4fe095eca9\"></iframe><iframe style=\"display: none; height: 115px; border: 0px; user-select: none; width: 332px !important;\" token=\"68b33529d4c97a98339b081bd851156f4f4782cf05228343fac737e3e4a96ca0af9e5671fd2c9e41302110aa4347c1f6cc03933fea34a295d4d90b4fe095eca9\"></iframe><iframe style=\"display: none; height: 115px; border: 0px; user-select: none; width: 332px !important;\" token=\"68b33529d4c97a98339b081bd851156f4f4782cf05228343fac737e3e4a96ca0af9e5671fd2c9e41302110aa4347c1f6cc03933fea34a295d4d90b4fe095eca9\"></iframe><iframe style=\"display: none; height: 115px; border: 0px; user-select: none; width: 332px !important;\" token=\"68b33529d4c97a98339b081bd851156f4f4782cf05228343fac737e3e4a96ca0af9e5671fd2c9e41302110aa4347c1f6cc03933fea34a295d4d90b4fe095eca9\"></iframe><p style=\"color: red; margin-top: 4;\">Inténtalo de nuevo.</p></div> <br/> </div> </div> </section> <script>window._pxAppId='PXAFlYiz9n';window._pxJsClientSrc='/px/'+window._pxAppId+'/init.js';window._pxFirstPartyEnabled=true;window._pxHostUrl='/px/'+window._pxAppId+'/xhr';window._pxreCaptchaTheme='light';window[\"_\"+window._pxAppId]={locale:'es',challenge:{translation:{\"es\":{\"btn\":\"Mantén presionado\",\"failed\":\"Inténtalo de nuevo.\",\"btn_done\":\"Terminado\"}},view:{width:332,height:115,texSize:29,textFont:'Bogle',textTransform:'none'}}};var hc=getUrlParam('g','a');var captchajs=\"/px/\"+window._pxAppId+\"/captcha/captcha.js?a=c&m=0&g=\"+hc</script> <script id=\"blockScript\" src=\"/px/PXAFlYiz9n/captcha/captcha.js?a=c&amp;m=0&amp;g=b\"></script> <script>document.getElementById('blockScript').src=captchajs;</script> <script>_satellite[\"_runScript1\"](function(event, target, Promise) {\n",
            "!function(e,t,n,o,a,i,l){e.fbq||(a=e.fbq=function(){a.callMethod?a.callMethod.apply(a,arguments):a.queue.push(arguments)},e._fbq||(e._fbq=a),(a.push=a).loaded=!0,a.version=\"2.0\",a.queue=[],(i=t.createElement(n)).async=!0,i.src=o,(l=t.getElementsByTagName(n)[0]).parentNode.insertBefore(i,l))}(window,document,\"script\",\"//connect.facebook.net/en_US/fbevents.js\");var thingToWaitFor=\"fbq to be a function\";_satellite.logger.log(\"Waiting for \"+thingToWaitFor,1);var startTime=(new Date).getTime(),now=startTime,intervalId=setInterval(function(){now=(new Date).getTime(),\"function\"==typeof fbq?(fbq(\"init\",\"1694855677400737\"),fbq(\"track\",\"PageView\"+_satellite.getVar(\"3ppEnv\")),_satellite.logger.log(thingToWaitFor+\" bound\",1),clearInterval(intervalId)):5e3<now-startTime&&(clearInterval(intervalId),_satellite.logger.log(\"No \"+thingToWaitFor+\" found, timed out\",1))},250);\n",
            "});</script><script>_satellite[\"_runScript2\"](function(event, target, Promise) {\n",
            "\"French\"==_satellite.getVar(\"pageLanguage\")?criteoAcct=\"21055\":criteoAcct=\"20510\";var script_src=\"//dynamic.criteo.com/js/ld/ld.js?a=\"+criteoAcct;_sdiToolkit.reactor.loadScript(script_src);\n",
            "});</script><script>_satellite[\"_runScript3\"](function(event, target, Promise) {\n",
            "window._comscore=window._comscore||[],window._comscore.push({c1:\"2\",c2:\"7100745\"+_satellite.getVar(\"3ppEnv\"),c8:\"Walmart Canada\",c9:document.referrer}),function(){var e=document.createElement(\"script\"),c=document.getElementsByTagName(\"script\")[0];e.async=!0,e.src=(\"https:\"==document.location.protocol?\"https://sb\":\"http://b\")+\".scorecardresearch.com/beacon.js\",c.parentNode.insertBefore(e,c)}();\n",
            "});</script><script>_satellite[\"_runScript4\"](function(event, target, Promise) {\n",
            "!function(t,e,a,n,o){var r,c,d;t[o]=t[o]||[],r=function(){var e={ti:\"6026829\"+_satellite.getVar(\"3ppEnv\")};e.q=t[o],t[o]=new UET(e),t[o].push(\"pageLoad\")},(c=e.createElement(a)).src=n,c.async=1,c.onload=c.onreadystatechange=function(){var e=this.readyState;e&&\"loaded\"!==e&&\"complete\"!==e||(r(),c.onload=c.onreadystatechange=null)},(d=e.getElementsByTagName(a)[0]).parentNode.insertBefore(c,d)}(window,document,\"script\",\"//bat.bing.com/bat.js\",\"uetq\");\n",
            "});</script><script>\n",
            "!function(e){if(!window.pintrk){window.pintrk=function(){window.pintrk.queue.push(Array.prototype.slice.call(arguments))};var t=window.pintrk;t.queue=[],t.version=\"3.0\";var n=document.createElement(\"script\");n.async=!0,n.src=e;var r=document.getElementsByTagName(\"script\")[0];r.parentNode.insertBefore(n,r)}}(\"https://s.pinimg.com/ct/core.js\"),pintrk(\"load\",\"2612608642336\"+_satellite.getVar(\"3ppEnv\")),pintrk(\"page\");\n",
            "</script><script>_satellite[\"_runScript5\"](function(event, target, Promise) {\n",
            "var axel=Math.random()+\"\",a=1e13*axel,begScript=\"https://d.agkn.com/pixel/9889\"+_satellite.getVar(\"3ppEnv\")+\"/?che=\"+a+\"&mcvid=\"+_satellite.getVar(\"ECID\");void 0!==_satellite.getVar(\"sku\")&&(begScript+=\";u5=\"+_satellite.getVar(\"sku\"));var newFrame=document.createElement(\"img\");newFrame.src=begScript,newFrame.width=newFrame.height=\"1px\",newFrame.style.display=\"none\",document.getElementsByTagName(\"body\")[0].appendChild(newFrame);var secScript=\"https://www.facebook.com/tr?id=2403780589656404\"+_satellite.getVar(\"3ppEnv\")+\"&ev=PageView&cd[order_id]=\"+_satellite.getVar(\"ECID\")+\"&noscript=1\",secFrame=document.createElement(\"img\");secFrame.src=secScript,secFrame.width=secFrame.height=\"1px\",secFrame.style.display=\"none\",document.getElementsByTagName(\"body\")[0].appendChild(secFrame);\n",
            "});</script><img height=\"0\" src=\"https://d.agkn.com/pixel/9889staging/?che=4745173400209.937&amp;mcvid=07335593495726862414271829449730710757\" style=\"display: none;\" width=\"0\"/><img height=\"0\" src=\"https://www.facebook.com/tr?id=2403780589656404staging&amp;ev=PageView&amp;cd[order_id]=07335593495726862414271829449730710757&amp;noscript=1\" style=\"display: none;\" width=\"0\"/><script>\n",
            "!function(e,t,n){if(!e.snaptr){var a=e.snaptr=function(){a.handleRequest?a.handleRequest.apply(a,arguments):a.queue.push(arguments)};a.queue=[];var s=\"script\";r=t.createElement(s),r.async=!0,r.src=n;var c=t.getElementsByTagName(s)[0];c.parentNode.insertBefore(r,c)}}(window,document,\"https://sc-static.net/scevent.min.js\"),snaptr(\"init\",\"097dc97d-8c82-43e1-8345-bd71ce4d6718\"),snaptr(\"track\",\"PAGE_VIEW\");\n",
            "</script><script>_satellite[\"_runScript6\"](function(event, target, Promise) {\n",
            "var final_cmpid,final_utm_campaign,path=window.location.pathname,url=document.URL,cmpid_check=/[?&]CMPID=([^&]+)/i,MATCH=cmpid_check.exec(url);null!=MATCH&&(final_cmpid=MATCH[1]),ga(\"set\",\"dimension24\",final_cmpid),_satellite.setVar(\"CMPID\",final_cmpid);var final_utm_source,utm_campaign_check=/[?&]utm_campaign=([^&]+)/i,match=utm_campaign_check.exec(url);null!=match&&(final_utm_campaign=match[1]);var final_utm_medium,utm_source_check=/[?&]utm_source=([^&]+)/i,matchs=utm_source_check.exec(url);null!=matchs&&(final_utm_source=matchs[1]);var final_utm_term,utm_campaign_medium=/[?&]utm_medium=([^&]+)/i,matchm=utm_campaign_medium.exec(url);null!=matchm&&(final_utm_medium=matchm[1]);var utm_campaign_term=/[?&]utm_term=([^&]+)/i,matcht=utm_campaign_term.exec(url);if(null!=matcht&&(final_utm_term=matcht[1]),_satellite.logger.log(\"location.search.match: \"+location.search.match),null!=MATCH&&(location.search.match(\"CMPID\")||location.search.match(\"cmpid\"))){if(ga(\"set\",\"campaignName\",final_cmpid),location.search.match(\"utm_source\"))ga(\"set\",\"campaignSource\",final_utm_source);else{var updateSource=document.referrer.split(\"?\")[0];ga(\"set\",\"campaignSource\",updateSource)}if(location.search.match(\"utm_medium\"))ga(\"set\",\"campaignMedium\",final_utm_medium);else{var str=final_cmpid,REG=new RegExp(\"([^-_]*-)?([^_]*)([^&]*)\"),updateMedium=str.match(REG)[2];ga(\"set\",\"campaignMedium\",updateMedium)}}\n",
            "});</script><script>_satellite[\"_runScript7\"](function(event, target, Promise) {\n",
            "if(\"object\"==typeof walmartRequireHelpers&&\"function\"==typeof walmartRequireHelpers.whenRequireDone){var localStorageReferrer=localStorage.getItem(\"previousPage\");localStorageReferrer==document.URL||localStorage.setItem(\"previousPage\",document.URL)}\n",
            "});</script><script>\n",
            "window.analyticsFired=\"1\";\n",
            "</script><div id=\"batBeacon101668612517\" style=\"width:0px; height:0px; display:none; visibility:hidden;\"><img alt=\"\" height=\"0\" id=\"batBeacon660691179214\" src=\"https://bat.bing.com/action/0?ti=6026829staging&amp;Ver=2&amp;mid=d60305cc-7977-450f-81df-252ee5267bfd&amp;sid=e6a9dab0322011eca564a3e8e0ee0641&amp;vid=e6aa1b10322011ec98b343f7ef88f834&amp;vids=0&amp;pi=0&amp;lg=en-US&amp;sw=800&amp;sh=600&amp;sc=24&amp;tl=Verifica%20tu%20identidad&amp;p=https%3A%2F%2Fwww.walmart.com.mx%2Fblocked%3Furl%3DL3Byb2R1Y3Rvcw%3D%3D%26uuid%3De7138859-3220-11ec-84d3-774766687574%26vid%3De83ba43e-3220-11ec-b17b-6d6c6c6b4e44%26g%3Db&amp;r=https%3A%2F%2Fwww.walmart.com.mx%2Fblocked%3Furl%3DL3Byb2R1Y3Rvcw%3D%3D%26uuid%3De7138859-3220-11ec-84d3-774766687574%26vid%3De83ba43e-3220-11ec-b17b-6d6c6c6b4e44%26g%3Db&amp;lt=423&amp;evt=pageLoad&amp;msclkid=N&amp;sv=1&amp;rn=808209\" style=\"width:0px; height:0px; display:none; visibility:hidden;\" width=\"0\"/></div><div id=\"criteo-tags-div\" style=\"display: none;\"><iframe frameborder=\"0\" height=\"0\" id=\"criteo-syncframe-onetag\" src='https://gum.criteo.com/syncframe?topUrl=www.walmart.com.mx&amp;origin=onetag#{\"bundle\":{\"origin\":0,\"value\":null},\"cw\":true,\"optout\":{\"origin\":0,\"value\":null},\"origin\":\"onetag\",\"pm\":0,\"sid\":{\"origin\":0,\"value\":null},\"tld\":\"walmart.com.mx\",\"topUrl\":\"www.walmart.com.mx\",\"version\":\"5_8_0\",\"ifa\":{\"origin\":0,\"value\":null},\"lsw\":true}' style=\"border-width:0px; margin:0px; display:none\" title=\"Criteo GUM iframe\" width=\"0\"></iframe></div><iframe src=\"https://bid.g.doubleclick.net/xbbe/pixel?d=KAE\" style=\"display: none;\"></iframe><iframe height=\"1\" id=\"epik_localstore\" src=\"https://www.pinterest.com/ct.html\" style=\"display: none;\" width=\"1\"></iframe></body></html>\n"
          ]
        }
      ]
    },
    {
      "cell_type": "code",
      "metadata": {
        "id": "9FeP8Dcetzmi"
      },
      "source": [
        ""
      ],
      "execution_count": null,
      "outputs": []
    },
    {
      "cell_type": "code",
      "metadata": {
        "id": "kPdtG8JwDUH7"
      },
      "source": [
        "import requests\n",
        "from bs4 import BeautifulSoup as soup\n",
        "header = {'User-Agent': 'Mozilla/5.0 (Windows NT 10.0; WOW64) AppleWebKit/537.36 (KHTML, like Gecko) Chrome/83.0.4103.61 Safari/537.36'}\n",
        "#create a url list to scrape data from all pages\n",
        "url_list = []\n",
        "for i in range(0,4):\n",
        "  url_list.append('https://www.walmart.com.mx/productos?Ntt=xiaomi&page=' + str(i))"
      ],
      "execution_count": 28,
      "outputs": []
    },
    {
      "cell_type": "code",
      "metadata": {
        "colab": {
          "base_uri": "https://localhost:8080/",
          "height": 49
        },
        "id": "2vvIdTl7DVg7",
        "outputId": "a5cdf861-5e37-448e-d124-e4c676b16ea9"
      },
      "source": [
        "#Create empty list to store the data\n",
        "item_names = []\n",
        "price_list = []\n",
        "item_ratings = []\n",
        "item_reviews = []\n",
        "for url in url_list:\n",
        "  result = requests.get(url)\n",
        "  bsobj = soup(result.content,'lxml')\n",
        "  \n",
        "  product_name = bsobj.findAll('div',{'class':'search-result-product-title gridview'})\n",
        "  product_rating = bsobj.findAll('span',{'class':'seo-avg-rating'})\n",
        "  product_reviews = bsobj.findAll('span',{'class':'stars-reviews-count'})\n",
        "  product_price = bsobj.findAll('span',{'class':'price display-inline-block arrange-fit price price-main'})\n",
        "  for names,rating,reviews,price in zip(product_name,product_rating,product_reviews,product_price):\n",
        "    item_names.append(names.a.span.text.strip())\n",
        "    item_ratings.append(rating.text)\n",
        "    item_reviews.append(reviews.text.replace('ratings',''))\n",
        "    price_list.append(price.findAll('span',{'class':'visuallyhidden'})[0].text)\n",
        "\n",
        "# creating a dataframe \n",
        "import pandas as pd\n",
        "df = pd.DataFrame({'Product_Name':item_names, 'Price':price_list, 'Rating':item_ratings,'No_Of_Reviews':item_reviews}, columns=['Product_Name', 'Price', 'Rating', 'No_Of_Reviews'])\n",
        "df.head()"
      ],
      "execution_count": 29,
      "outputs": [
        {
          "output_type": "execute_result",
          "data": {
            "text/html": [
              "<div>\n",
              "<style scoped>\n",
              "    .dataframe tbody tr th:only-of-type {\n",
              "        vertical-align: middle;\n",
              "    }\n",
              "\n",
              "    .dataframe tbody tr th {\n",
              "        vertical-align: top;\n",
              "    }\n",
              "\n",
              "    .dataframe thead th {\n",
              "        text-align: right;\n",
              "    }\n",
              "</style>\n",
              "<table border=\"1\" class=\"dataframe\">\n",
              "  <thead>\n",
              "    <tr style=\"text-align: right;\">\n",
              "      <th></th>\n",
              "      <th>Product_Name</th>\n",
              "      <th>Price</th>\n",
              "      <th>Rating</th>\n",
              "      <th>No_Of_Reviews</th>\n",
              "    </tr>\n",
              "  </thead>\n",
              "  <tbody>\n",
              "  </tbody>\n",
              "</table>\n",
              "</div>"
            ],
            "text/plain": [
              "Empty DataFrame\n",
              "Columns: [Product_Name, Price, Rating, No_Of_Reviews]\n",
              "Index: []"
            ]
          },
          "metadata": {},
          "execution_count": 29
        }
      ]
    },
    {
      "cell_type": "code",
      "metadata": {
        "id": "XrUyJlepDVpV"
      },
      "source": [
        ""
      ],
      "execution_count": null,
      "outputs": []
    },
    {
      "cell_type": "code",
      "metadata": {
        "id": "h1jYDvr9DUWT"
      },
      "source": [
        ""
      ],
      "execution_count": null,
      "outputs": []
    },
    {
      "cell_type": "code",
      "metadata": {
        "id": "YsqaT457tzqJ"
      },
      "source": [
        "'''\n",
        "https://www.amazon.com.mx/Crawler-Control-Electric-Waterproof-Included/dp/B087NXVYF2/ref=pd_day0_2/146-0449573-7191119?pd_rd_w=5jHPH&pf_rd_p=1c8f9346-a87e-48c7-994a-82c93e96af91&pf_rd_r=76AYTQ5FQTV6VCEBHE6A&pd_rd_r=3fdccf3c-3e6a-44ad-b4a6-b96105683dec&pd_rd_wg=HNu3a&pd_rd_i=B087NXVYF2&psc=1\n",
        "https://github.com/NVIDIA-AI-IOT/jetracer#cars\n",
        "https://gsurma.medium.com/jetson-self-driving-toy-car-part-1-4341c139c0f2\n",
        "\n",
        "'''"
      ],
      "execution_count": null,
      "outputs": []
    }
  ]
}