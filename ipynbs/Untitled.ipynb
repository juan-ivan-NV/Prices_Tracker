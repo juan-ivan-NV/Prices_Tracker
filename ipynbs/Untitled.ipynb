{
  "nbformat": 4,
  "nbformat_minor": 0,
  "metadata": {
    "colab": {
      "name": "Untitled (1).ipynb",
      "provenance": [],
      "collapsed_sections": [
        "9k9xMbPBNp9M",
        "-JET4ySUPFYh",
        "MYx4sDuFgRRp",
        "QvKFNlsONVSO",
        "aFTGpmtBD4Nh",
        "7cw51zop4kqC",
        "kkH0JGLpESoT"
      ]
    },
    "kernelspec": {
      "name": "python3",
      "display_name": "Python 3"
    },
    "language_info": {
      "name": "python"
    }
  },
  "cells": [
    {
      "cell_type": "markdown",
      "metadata": {
        "id": "9k9xMbPBNp9M"
      },
      "source": [
        "## Libraries & settings"
      ]
    },
    {
      "cell_type": "code",
      "metadata": {
        "colab": {
          "base_uri": "https://localhost:8080/"
        },
        "id": "lFq6-47NN2wz",
        "outputId": "4336fa4a-6682-4cd1-b70c-0edc104ead09"
      },
      "source": [
        "!pip install selenium\n",
        "!apt-get update \n",
        "!apt install chromium-chromedriver\n",
        "!pip install beautifulsoup4\n",
        "\n",
        "from selenium import webdriver\n",
        "chrome_options = webdriver.ChromeOptions()\n",
        "chrome_options.add_argument('--headless')\n",
        "chrome_options.add_argument('--no-sandbox')\n",
        "chrome_options.add_argument('--disable-dev-shm-usage')\n",
        "#chrome_options.add_argument('useAutomationExtention', False)\n",
        "chrome_options.add_argument('--ifnore-certificate-errors')\n",
        "chrome_options.add_argument('--start-maximized')\n",
        "\n",
        "wd = webdriver.Chrome('chromedriver',chrome_options=chrome_options)"
      ],
      "execution_count": 1,
      "outputs": [
        {
          "output_type": "stream",
          "name": "stdout",
          "text": [
            "Collecting selenium\n",
            "  Downloading selenium-4.0.0-py3-none-any.whl (954 kB)\n",
            "\u001b[K     |████████████████████████████████| 954 kB 1.9 MB/s \n",
            "\u001b[?25hCollecting urllib3[secure]~=1.26\n",
            "  Downloading urllib3-1.26.7-py2.py3-none-any.whl (138 kB)\n",
            "\u001b[K     |████████████████████████████████| 138 kB 62.7 MB/s \n",
            "\u001b[?25hCollecting trio~=0.17\n",
            "  Downloading trio-0.19.0-py3-none-any.whl (356 kB)\n",
            "\u001b[K     |████████████████████████████████| 356 kB 52.0 MB/s \n",
            "\u001b[?25hCollecting trio-websocket~=0.9\n",
            "  Downloading trio_websocket-0.9.2-py3-none-any.whl (16 kB)\n",
            "Collecting sniffio\n",
            "  Downloading sniffio-1.2.0-py3-none-any.whl (10 kB)\n",
            "Requirement already satisfied: sortedcontainers in /usr/local/lib/python3.7/dist-packages (from trio~=0.17->selenium) (2.4.0)\n",
            "Requirement already satisfied: idna in /usr/local/lib/python3.7/dist-packages (from trio~=0.17->selenium) (2.10)\n",
            "Collecting outcome\n",
            "  Downloading outcome-1.1.0-py2.py3-none-any.whl (9.7 kB)\n",
            "Collecting async-generator>=1.9\n",
            "  Downloading async_generator-1.10-py3-none-any.whl (18 kB)\n",
            "Requirement already satisfied: attrs>=19.2.0 in /usr/local/lib/python3.7/dist-packages (from trio~=0.17->selenium) (21.2.0)\n",
            "Collecting wsproto>=0.14\n",
            "  Downloading wsproto-1.0.0-py3-none-any.whl (24 kB)\n",
            "Collecting cryptography>=1.3.4\n",
            "  Downloading cryptography-35.0.0-cp36-abi3-manylinux_2_24_x86_64.whl (3.5 MB)\n",
            "\u001b[K     |████████████████████████████████| 3.5 MB 42.6 MB/s \n",
            "\u001b[?25hCollecting pyOpenSSL>=0.14\n",
            "  Downloading pyOpenSSL-21.0.0-py2.py3-none-any.whl (55 kB)\n",
            "\u001b[K     |████████████████████████████████| 55 kB 3.1 MB/s \n",
            "\u001b[?25hRequirement already satisfied: certifi in /usr/local/lib/python3.7/dist-packages (from urllib3[secure]~=1.26->selenium) (2021.5.30)\n",
            "Requirement already satisfied: cffi>=1.12 in /usr/local/lib/python3.7/dist-packages (from cryptography>=1.3.4->urllib3[secure]~=1.26->selenium) (1.14.6)\n",
            "Requirement already satisfied: pycparser in /usr/local/lib/python3.7/dist-packages (from cffi>=1.12->cryptography>=1.3.4->urllib3[secure]~=1.26->selenium) (2.20)\n",
            "Requirement already satisfied: six>=1.5.2 in /usr/local/lib/python3.7/dist-packages (from pyOpenSSL>=0.14->urllib3[secure]~=1.26->selenium) (1.15.0)\n",
            "Collecting h11<1,>=0.9.0\n",
            "  Downloading h11-0.12.0-py3-none-any.whl (54 kB)\n",
            "\u001b[K     |████████████████████████████████| 54 kB 3.1 MB/s \n",
            "\u001b[?25hInstalling collected packages: sniffio, outcome, h11, cryptography, async-generator, wsproto, urllib3, trio, pyOpenSSL, trio-websocket, selenium\n",
            "  Attempting uninstall: urllib3\n",
            "    Found existing installation: urllib3 1.24.3\n",
            "    Uninstalling urllib3-1.24.3:\n",
            "      Successfully uninstalled urllib3-1.24.3\n",
            "\u001b[31mERROR: pip's dependency resolver does not currently take into account all the packages that are installed. This behaviour is the source of the following dependency conflicts.\n",
            "requests 2.23.0 requires urllib3!=1.25.0,!=1.25.1,<1.26,>=1.21.1, but you have urllib3 1.26.7 which is incompatible.\n",
            "datascience 0.10.6 requires folium==0.2.1, but you have folium 0.8.3 which is incompatible.\u001b[0m\n",
            "Successfully installed async-generator-1.10 cryptography-35.0.0 h11-0.12.0 outcome-1.1.0 pyOpenSSL-21.0.0 selenium-4.0.0 sniffio-1.2.0 trio-0.19.0 trio-websocket-0.9.2 urllib3-1.26.7 wsproto-1.0.0\n",
            "Get:1 http://security.ubuntu.com/ubuntu bionic-security InRelease [88.7 kB]\n",
            "Get:2 https://cloud.r-project.org/bin/linux/ubuntu bionic-cran40/ InRelease [3,626 B]\n",
            "Hit:3 http://archive.ubuntu.com/ubuntu bionic InRelease\n",
            "Hit:4 http://ppa.launchpad.net/c2d4u.team/c2d4u4.0+/ubuntu bionic InRelease\n",
            "Ign:5 https://developer.download.nvidia.com/compute/cuda/repos/ubuntu1804/x86_64  InRelease\n",
            "Ign:6 https://developer.download.nvidia.com/compute/machine-learning/repos/ubuntu1804/x86_64  InRelease\n",
            "Get:7 http://archive.ubuntu.com/ubuntu bionic-updates InRelease [88.7 kB]\n",
            "Get:8 https://developer.download.nvidia.com/compute/cuda/repos/ubuntu1804/x86_64  Release [696 B]\n",
            "Hit:9 https://developer.download.nvidia.com/compute/machine-learning/repos/ubuntu1804/x86_64  Release\n",
            "Get:10 https://developer.download.nvidia.com/compute/cuda/repos/ubuntu1804/x86_64  Release.gpg [836 B]\n",
            "Hit:11 http://ppa.launchpad.net/cran/libgit2/ubuntu bionic InRelease\n",
            "Get:12 https://cloud.r-project.org/bin/linux/ubuntu bionic-cran40/ Packages [73.0 kB]\n",
            "Hit:13 http://ppa.launchpad.net/deadsnakes/ppa/ubuntu bionic InRelease\n",
            "Get:14 http://archive.ubuntu.com/ubuntu bionic-backports InRelease [74.6 kB]\n",
            "Hit:15 http://ppa.launchpad.net/graphics-drivers/ppa/ubuntu bionic InRelease\n",
            "Get:16 http://security.ubuntu.com/ubuntu bionic-security/restricted amd64 Packages [633 kB]\n",
            "Get:17 http://security.ubuntu.com/ubuntu bionic-security/universe amd64 Packages [1,437 kB]\n",
            "Get:18 http://security.ubuntu.com/ubuntu bionic-security/main amd64 Packages [2,400 kB]\n",
            "Get:20 https://developer.download.nvidia.com/compute/cuda/repos/ubuntu1804/x86_64  Packages [808 kB]\n",
            "Get:21 http://archive.ubuntu.com/ubuntu bionic-updates/main amd64 Packages [2,837 kB]\n",
            "Get:22 http://archive.ubuntu.com/ubuntu bionic-updates/universe amd64 Packages [2,216 kB]\n",
            "Fetched 10.7 MB in 3s (3,202 kB/s)\n",
            "Reading package lists... Done\n",
            "Reading package lists... Done\n",
            "Building dependency tree       \n",
            "Reading state information... Done\n",
            "The following additional packages will be installed:\n",
            "  chromium-browser chromium-browser-l10n chromium-codecs-ffmpeg-extra\n",
            "Suggested packages:\n",
            "  webaccounts-chromium-extension unity-chromium-extension\n",
            "The following NEW packages will be installed:\n",
            "  chromium-browser chromium-browser-l10n chromium-chromedriver\n",
            "  chromium-codecs-ffmpeg-extra\n",
            "0 upgraded, 4 newly installed, 0 to remove and 43 not upgraded.\n",
            "Need to get 94.0 MB of archives.\n",
            "After this operation, 324 MB of additional disk space will be used.\n",
            "Get:1 http://archive.ubuntu.com/ubuntu bionic-updates/universe amd64 chromium-codecs-ffmpeg-extra amd64 95.0.4638.69-0ubuntu0.18.04.1 [1,135 kB]\n",
            "Get:2 http://archive.ubuntu.com/ubuntu bionic-updates/universe amd64 chromium-browser amd64 95.0.4638.69-0ubuntu0.18.04.1 [83.6 MB]\n",
            "Get:3 http://archive.ubuntu.com/ubuntu bionic-updates/universe amd64 chromium-browser-l10n all 95.0.4638.69-0ubuntu0.18.04.1 [4,249 kB]\n",
            "Get:4 http://archive.ubuntu.com/ubuntu bionic-updates/universe amd64 chromium-chromedriver amd64 95.0.4638.69-0ubuntu0.18.04.1 [4,986 kB]\n",
            "Fetched 94.0 MB in 5s (20.4 MB/s)\n",
            "Selecting previously unselected package chromium-codecs-ffmpeg-extra.\n",
            "(Reading database ... 155219 files and directories currently installed.)\n",
            "Preparing to unpack .../chromium-codecs-ffmpeg-extra_95.0.4638.69-0ubuntu0.18.04.1_amd64.deb ...\n",
            "Unpacking chromium-codecs-ffmpeg-extra (95.0.4638.69-0ubuntu0.18.04.1) ...\n",
            "Selecting previously unselected package chromium-browser.\n",
            "Preparing to unpack .../chromium-browser_95.0.4638.69-0ubuntu0.18.04.1_amd64.deb ...\n",
            "Unpacking chromium-browser (95.0.4638.69-0ubuntu0.18.04.1) ...\n",
            "Selecting previously unselected package chromium-browser-l10n.\n",
            "Preparing to unpack .../chromium-browser-l10n_95.0.4638.69-0ubuntu0.18.04.1_all.deb ...\n",
            "Unpacking chromium-browser-l10n (95.0.4638.69-0ubuntu0.18.04.1) ...\n",
            "Selecting previously unselected package chromium-chromedriver.\n",
            "Preparing to unpack .../chromium-chromedriver_95.0.4638.69-0ubuntu0.18.04.1_amd64.deb ...\n",
            "Unpacking chromium-chromedriver (95.0.4638.69-0ubuntu0.18.04.1) ...\n",
            "Setting up chromium-codecs-ffmpeg-extra (95.0.4638.69-0ubuntu0.18.04.1) ...\n",
            "Setting up chromium-browser (95.0.4638.69-0ubuntu0.18.04.1) ...\n",
            "update-alternatives: using /usr/bin/chromium-browser to provide /usr/bin/x-www-browser (x-www-browser) in auto mode\n",
            "update-alternatives: using /usr/bin/chromium-browser to provide /usr/bin/gnome-www-browser (gnome-www-browser) in auto mode\n",
            "Setting up chromium-chromedriver (95.0.4638.69-0ubuntu0.18.04.1) ...\n",
            "Setting up chromium-browser-l10n (95.0.4638.69-0ubuntu0.18.04.1) ...\n",
            "Processing triggers for man-db (2.8.3-2ubuntu0.1) ...\n",
            "Processing triggers for hicolor-icon-theme (0.17-2) ...\n",
            "Processing triggers for mime-support (3.60ubuntu1) ...\n",
            "Processing triggers for libc-bin (2.27-3ubuntu1.3) ...\n",
            "/sbin/ldconfig.real: /usr/local/lib/python3.7/dist-packages/ideep4py/lib/libmkldnn.so.0 is not a symbolic link\n",
            "\n",
            "Requirement already satisfied: beautifulsoup4 in /usr/local/lib/python3.7/dist-packages (4.6.3)\n"
          ]
        },
        {
          "output_type": "stream",
          "name": "stderr",
          "text": [
            "/usr/local/lib/python3.7/dist-packages/ipykernel_launcher.py:15: DeprecationWarning: use options instead of chrome_options\n",
            "  from ipykernel import kernelapp as app\n"
          ]
        }
      ]
    },
    {
      "cell_type": "code",
      "metadata": {
        "id": "pTkROFO7PKgn"
      },
      "source": [
        "from selenium.webdriver.support.ui import WebDriverWait, Select\n",
        "from selenium.webdriver.support import expected_conditions as EC\n",
        "from selenium.webdriver.firefox.options import Options\n",
        "from selenium.webdriver.common.by import By\n",
        "from selenium.webdriver.common.action_chains import ActionChains\n",
        "from selenium.webdriver.common.keys import Keys\n",
        "from selenium.common.exceptions import TimeoutException, NoSuchElementException\n",
        "from bs4 import BeautifulSoup \n",
        "import pandas as pd \n",
        "import os\n",
        "import time\n",
        "from lxml import html\n",
        "from time import sleep\n",
        "import re"
      ],
      "execution_count": 2,
      "outputs": []
    },
    {
      "cell_type": "markdown",
      "metadata": {
        "id": "-JET4ySUPFYh"
      },
      "source": [
        "# Scrapping ebay\n"
      ]
    },
    {
      "cell_type": "code",
      "metadata": {
        "id": "_pLMwaZoPKnD"
      },
      "source": [
        "# https://www.youtube.com/watch?v=9ELd7XWD0PA&t=1067s\n",
        "\n",
        "#user_agent = 'Mozilla/5.0 (Windows NT 10.0; Win64; x64; rv:87.0) Gecko/20100101 Firefox/87.0'\n",
        "#FireFoxDriverPath = os.path.join(os.getcwd(), 'Drivers', 'geckodriver.exe')\n",
        "#FireFoxProfile = webdriver.FirefoxProfile()\n",
        "#FireFoxProfile.set_preference(\"general.useragent.override\", user_agent)\n",
        "url = \"https://www.ebay.com/\"\n",
        "browser = wd\n",
        "browser.implicitly_wait(7)\n",
        "browser.get(url)\n",
        "\n",
        "search_keyword = 'Playstation 5'\n",
        "search_field = browser.find_element_by_id('gh-ac')\n",
        "search_field.clear()\n",
        "search_field.send_keys(search_keyword)\n",
        "search_field.send_keys(Keys.ENTER)\n",
        "\n",
        "total_result = int(browser.find_element_by_class_name('srp-controls__count-heading').find_element_by_class_name('BOLD').text.replace(',', ''))\n",
        "ebay_listings = []\n",
        "\n",
        "current_page = 1\n",
        "to_continue = True"
      ],
      "execution_count": null,
      "outputs": []
    },
    {
      "cell_type": "code",
      "metadata": {
        "id": "YHtNJSGkPKss"
      },
      "source": [
        "while to_continue:\n",
        "    try:\n",
        "        print('Processing page {0}'.format(current_page))\n",
        "\n",
        "        soup = BeautifulSoup(browser.page_source, 'html.parser')\n",
        "        item_list = soup.find_all('li', 's-item--watch-at-corner')\n",
        "        \n",
        "        for listing in item_list:\n",
        "            product_detail = {}\n",
        "\n",
        "            product_detail['product title'] = listing.h3.text\n",
        "            product_detail['product url'] = listing.a['href']\n",
        "            \n",
        "            listing_subtitles = listing.find_all('div', 's-item__subtitle')\n",
        "            if len(listing_subtitles) == 2:\n",
        "                listing_subtitle_1 = listing_subtitles[0].text\n",
        "                listing_subtitle_2 = listing_subtitles[1].text\n",
        "            elif len(listing_subtitles) == 1:\n",
        "                listing_subtitle_1 = listing_subtitles[0].text\n",
        "                listing_subtitle_2 = None\n",
        "            else:\n",
        "                listing_subtitle_1 = None\n",
        "                listing_subtitle_2 = None\n",
        "\n",
        "            product_detail['subtitle1'] = listing_subtitle_1\n",
        "            product_detail['subtitle2'] = listing_subtitle_2\n",
        "\n",
        "\n",
        "            # Star rating and product review count\n",
        "            try:\n",
        "                x_star_rating = listing.find('div', 'x-star-rating')\n",
        "                stars = len(x_star_rating.find_all('svg', 'icon--star-full-small'))\n",
        "                if int(stars) > 4: print(stars) \n",
        "                review_count = int(listing.find('span', 's-item__reviews-count').span.text.replace( ' product ratings', ''))\n",
        "                \n",
        "                product_detail['stars'] = stars\n",
        "                product_detail['product review_count'] = review_count\n",
        "            except Exception as e:\n",
        "                product_detail['stars'] = ''\n",
        "                product_detail['product review_count'] = ''\n",
        "\n",
        "            product_detail['price'] = listing.find('span', 's-item__price').text\n",
        "\n",
        "            try:\n",
        "                product_detail['shipping detail'] = listing.find('span', 's-item__logisticsCost').text\n",
        "            except AttributeError:\n",
        "                product_detail['shipping detail'] = 'Not Available'\n",
        "                \n",
        "            ebay_listings.append(product_detail)\n",
        "\n",
        "\n",
        "        time.sleep(1)\n",
        "        browser.find_element_by_xpath('//a[@class=\"pagination__item\" and text()=\"{0}\"]'.format(current_page+1)).click()\n",
        "        current_page +=1\n",
        "\n",
        "        if current_page > 5:\n",
        "            raise Exception('Stop')\n",
        "\n",
        "    except NoSuchElementException:\n",
        "        print('Last page {0}'.format(current_page))\n",
        "        to_continue = False\n",
        "\n"
      ],
      "execution_count": null,
      "outputs": []
    },
    {
      "cell_type": "code",
      "metadata": {
        "colab": {
          "base_uri": "https://localhost:8080/",
          "height": 561
        },
        "id": "KvU6DbXZSZNe",
        "outputId": "6a9b4ed0-9974-4554-a2ee-f500d3960715"
      },
      "source": [
        "df = pd.DataFrame(ebay_listings)\n",
        "df.head()"
      ],
      "execution_count": null,
      "outputs": [
        {
          "output_type": "execute_result",
          "data": {
            "text/html": [
              "<div>\n",
              "<style scoped>\n",
              "    .dataframe tbody tr th:only-of-type {\n",
              "        vertical-align: middle;\n",
              "    }\n",
              "\n",
              "    .dataframe tbody tr th {\n",
              "        vertical-align: top;\n",
              "    }\n",
              "\n",
              "    .dataframe thead th {\n",
              "        text-align: right;\n",
              "    }\n",
              "</style>\n",
              "<table border=\"1\" class=\"dataframe\">\n",
              "  <thead>\n",
              "    <tr style=\"text-align: right;\">\n",
              "      <th></th>\n",
              "      <th>product title</th>\n",
              "      <th>product url</th>\n",
              "      <th>subtitle1</th>\n",
              "      <th>subtitle2</th>\n",
              "      <th>stars</th>\n",
              "      <th>product review_count</th>\n",
              "      <th>price</th>\n",
              "      <th>shipping detail</th>\n",
              "    </tr>\n",
              "  </thead>\n",
              "  <tbody>\n",
              "    <tr>\n",
              "      <th>0</th>\n",
              "      <td>Sony PlayStation 5 PS5 Console Disc Version *N...</td>\n",
              "      <td>https://www.ebay.com/itm/333896636458?epid=190...</td>\n",
              "      <td>Brand New · Sony PlayStation 5 · Sony PlayStat...</td>\n",
              "      <td>None</td>\n",
              "      <td>0</td>\n",
              "      <td>1976</td>\n",
              "      <td>$1,049.00</td>\n",
              "      <td>Not Available</td>\n",
              "    </tr>\n",
              "    <tr>\n",
              "      <th>1</th>\n",
              "      <td>PS5 Sony PlayStation 5 Console Disc Version</td>\n",
              "      <td>https://www.ebay.com/itm/324483721021?epid=190...</td>\n",
              "      <td>Pre-Owned · Sony PlayStation 5 · Sony PlayStat...</td>\n",
              "      <td>None</td>\n",
              "      <td>0</td>\n",
              "      <td>1976</td>\n",
              "      <td>$859.99</td>\n",
              "      <td>Free shipping</td>\n",
              "    </tr>\n",
              "    <tr>\n",
              "      <th>2</th>\n",
              "      <td>Sony PlayStation 5 Console Disc Version (PS5) ...</td>\n",
              "      <td>https://www.ebay.com/itm/144223680923?epid=190...</td>\n",
              "      <td>Brand New · Sony PlayStation 5 · Sony PlayStat...</td>\n",
              "      <td>None</td>\n",
              "      <td>0</td>\n",
              "      <td>1976</td>\n",
              "      <td>$949.99</td>\n",
              "      <td>Free shipping</td>\n",
              "    </tr>\n",
              "    <tr>\n",
              "      <th>3</th>\n",
              "      <td>Sony PlayStation 5 PS5 Console Disc Version Bl...</td>\n",
              "      <td>https://www.ebay.com/itm/193955663603?epid=190...</td>\n",
              "      <td>Brand New · Sony PlayStation 5 · Sony PlayStat...</td>\n",
              "      <td>None</td>\n",
              "      <td>0</td>\n",
              "      <td>1976</td>\n",
              "      <td>$899.99</td>\n",
              "      <td>Free shipping</td>\n",
              "    </tr>\n",
              "    <tr>\n",
              "      <th>4</th>\n",
              "      <td>New ListingSony PlayStation 5 PS5 DISC Edition...</td>\n",
              "      <td>https://www.ebay.com/itm/203647656449?hash=ite...</td>\n",
              "      <td>Brand New · Sony PlayStation 5</td>\n",
              "      <td>None</td>\n",
              "      <td></td>\n",
              "      <td></td>\n",
              "      <td>$760.00</td>\n",
              "      <td>+$23.77 shipping</td>\n",
              "    </tr>\n",
              "  </tbody>\n",
              "</table>\n",
              "</div>"
            ],
            "text/plain": [
              "                                       product title  ...   shipping detail\n",
              "0  Sony PlayStation 5 PS5 Console Disc Version *N...  ...     Not Available\n",
              "1        PS5 Sony PlayStation 5 Console Disc Version  ...     Free shipping\n",
              "2  Sony PlayStation 5 Console Disc Version (PS5) ...  ...     Free shipping\n",
              "3  Sony PlayStation 5 PS5 Console Disc Version Bl...  ...     Free shipping\n",
              "4  New ListingSony PlayStation 5 PS5 DISC Edition...  ...  +$23.77 shipping\n",
              "\n",
              "[5 rows x 8 columns]"
            ]
          },
          "metadata": {},
          "execution_count": 18
        }
      ]
    },
    {
      "cell_type": "code",
      "metadata": {
        "id": "taFahtVhStIm"
      },
      "source": [
        "df['amount'] = df.price.apply(lambda x: int(\"\".join(filter(str.isdigit, x))))"
      ],
      "execution_count": null,
      "outputs": []
    },
    {
      "cell_type": "code",
      "metadata": {
        "colab": {
          "base_uri": "https://localhost:8080/",
          "height": 1000
        },
        "id": "_IV86jD9XZVp",
        "outputId": "46b9e5dc-8bba-40a0-e53b-acd2780630ef"
      },
      "source": [
        "df.sort_values(by='amount')"
      ],
      "execution_count": null,
      "outputs": [
        {
          "output_type": "execute_result",
          "data": {
            "text/html": [
              "<div>\n",
              "<style scoped>\n",
              "    .dataframe tbody tr th:only-of-type {\n",
              "        vertical-align: middle;\n",
              "    }\n",
              "\n",
              "    .dataframe tbody tr th {\n",
              "        vertical-align: top;\n",
              "    }\n",
              "\n",
              "    .dataframe thead th {\n",
              "        text-align: right;\n",
              "    }\n",
              "</style>\n",
              "<table border=\"1\" class=\"dataframe\">\n",
              "  <thead>\n",
              "    <tr style=\"text-align: right;\">\n",
              "      <th></th>\n",
              "      <th>product title</th>\n",
              "      <th>product url</th>\n",
              "      <th>subtitle1</th>\n",
              "      <th>subtitle2</th>\n",
              "      <th>stars</th>\n",
              "      <th>product review_count</th>\n",
              "      <th>price</th>\n",
              "      <th>shipping detail</th>\n",
              "      <th>amount</th>\n",
              "    </tr>\n",
              "  </thead>\n",
              "  <tbody>\n",
              "    <tr>\n",
              "      <th>7</th>\n",
              "      <td>Turtle Beach Elite Atlas Pro Performance Heads...</td>\n",
              "      <td>https://www.ebay.com/itm/324391510282?hash=ite...</td>\n",
              "      <td>None</td>\n",
              "      <td>None</td>\n",
              "      <td></td>\n",
              "      <td></td>\n",
              "      <td>$59.95</td>\n",
              "      <td>Free shipping</td>\n",
              "      <td>5995</td>\n",
              "    </tr>\n",
              "    <tr>\n",
              "      <th>8</th>\n",
              "      <td>Razer Kraken Gaming Headset For PC, PS4, PS5, ...</td>\n",
              "      <td>https://www.ebay.com/itm/144123396447?hash=ite...</td>\n",
              "      <td>None</td>\n",
              "      <td>None</td>\n",
              "      <td></td>\n",
              "      <td></td>\n",
              "      <td>$59.99</td>\n",
              "      <td>Free shipping</td>\n",
              "      <td>5999</td>\n",
              "    </tr>\n",
              "    <tr>\n",
              "      <th>9</th>\n",
              "      <td>SteelSeries Arctis 5 RGB Wired Gaming Headset ...</td>\n",
              "      <td>https://www.ebay.com/itm/334129396663?hash=ite...</td>\n",
              "      <td>None</td>\n",
              "      <td>None</td>\n",
              "      <td></td>\n",
              "      <td></td>\n",
              "      <td>$89.95</td>\n",
              "      <td>Free shipping</td>\n",
              "      <td>8995</td>\n",
              "    </tr>\n",
              "    <tr>\n",
              "      <th>191</th>\n",
              "      <td>New ListingSony PlayStation 5 PS5 Blu-Ray Edit...</td>\n",
              "      <td>https://www.ebay.com/itm/324827522681?epid=190...</td>\n",
              "      <td>Brand New · Sony PlayStation 5 · Sony PlayStat...</td>\n",
              "      <td>None</td>\n",
              "      <td>0</td>\n",
              "      <td>1976</td>\n",
              "      <td>$102.50</td>\n",
              "      <td>+$77.61 shipping</td>\n",
              "      <td>10250</td>\n",
              "    </tr>\n",
              "    <tr>\n",
              "      <th>113</th>\n",
              "      <td>New Listing🎁Sony PlayStation 5 Console🎁Digital...</td>\n",
              "      <td>https://www.ebay.com/itm/265357244952?epid=250...</td>\n",
              "      <td>Brand New · Sony PlayStation 5 · Sony PlayStat...</td>\n",
              "      <td>None</td>\n",
              "      <td>0</td>\n",
              "      <td>461</td>\n",
              "      <td>$202.50</td>\n",
              "      <td>+$50.00 shipping</td>\n",
              "      <td>20250</td>\n",
              "    </tr>\n",
              "    <tr>\n",
              "      <th>...</th>\n",
              "      <td>...</td>\n",
              "      <td>...</td>\n",
              "      <td>...</td>\n",
              "      <td>...</td>\n",
              "      <td>...</td>\n",
              "      <td>...</td>\n",
              "      <td>...</td>\n",
              "      <td>...</td>\n",
              "      <td>...</td>\n",
              "    </tr>\n",
              "    <tr>\n",
              "      <th>129</th>\n",
              "      <td>New Listingplaystation 5 console</td>\n",
              "      <td>https://www.ebay.com/itm/304180922459?_trkparm...</td>\n",
              "      <td>Brand New · Sony PlayStation 5</td>\n",
              "      <td>None</td>\n",
              "      <td></td>\n",
              "      <td></td>\n",
              "      <td>$1,124.00</td>\n",
              "      <td>+$10.00 shipping</td>\n",
              "      <td>112400</td>\n",
              "    </tr>\n",
              "    <tr>\n",
              "      <th>137</th>\n",
              "      <td>Sony PlayStation 5 Console PS5 [Disc Version] ...</td>\n",
              "      <td>https://www.ebay.com/itm/284478117917?epid=190...</td>\n",
              "      <td>Brand New · Sony PlayStation 5</td>\n",
              "      <td>None</td>\n",
              "      <td>0</td>\n",
              "      <td>1976</td>\n",
              "      <td>$1,151.00</td>\n",
              "      <td>+$30.15 shipping</td>\n",
              "      <td>115100</td>\n",
              "    </tr>\n",
              "    <tr>\n",
              "      <th>64</th>\n",
              "      <td>Sony PlayStation 5 PS5 Console Disc Version BR...</td>\n",
              "      <td>https://www.ebay.com/itm/203581141972?epid=190...</td>\n",
              "      <td>Brand New · Sony PlayStation 5 · Sony PlayStat...</td>\n",
              "      <td>None</td>\n",
              "      <td>0</td>\n",
              "      <td>1976</td>\n",
              "      <td>$1,199.95</td>\n",
              "      <td>Free shipping</td>\n",
              "      <td>119995</td>\n",
              "    </tr>\n",
              "    <tr>\n",
              "      <th>103</th>\n",
              "      <td>PS5 Sony Playstation 5 Console Disc Version 🔥B...</td>\n",
              "      <td>https://www.ebay.com/itm/304128005531?epid=190...</td>\n",
              "      <td>Brand New · Sony PlayStation 5 · Sony PlayStat...</td>\n",
              "      <td>None</td>\n",
              "      <td>0</td>\n",
              "      <td>1976</td>\n",
              "      <td>$1,199.99</td>\n",
              "      <td>Free shipping</td>\n",
              "      <td>119999</td>\n",
              "    </tr>\n",
              "    <tr>\n",
              "      <th>235</th>\n",
              "      <td>Sony Playstation (PS5) Disc/Blu-Ray Edition Co...</td>\n",
              "      <td>https://www.ebay.com/itm/353710456445?epid=190...</td>\n",
              "      <td>Brand New · Sony PlayStation 5 · Sony PlayStat...</td>\n",
              "      <td>None</td>\n",
              "      <td>0</td>\n",
              "      <td>1976</td>\n",
              "      <td>$1,205.00</td>\n",
              "      <td>+$44.16 shipping</td>\n",
              "      <td>120500</td>\n",
              "    </tr>\n",
              "  </tbody>\n",
              "</table>\n",
              "<p>239 rows × 9 columns</p>\n",
              "</div>"
            ],
            "text/plain": [
              "                                         product title  ...  amount\n",
              "7    Turtle Beach Elite Atlas Pro Performance Heads...  ...    5995\n",
              "8    Razer Kraken Gaming Headset For PC, PS4, PS5, ...  ...    5999\n",
              "9    SteelSeries Arctis 5 RGB Wired Gaming Headset ...  ...    8995\n",
              "191  New ListingSony PlayStation 5 PS5 Blu-Ray Edit...  ...   10250\n",
              "113  New Listing🎁Sony PlayStation 5 Console🎁Digital...  ...   20250\n",
              "..                                                 ...  ...     ...\n",
              "129                   New Listingplaystation 5 console  ...  112400\n",
              "137  Sony PlayStation 5 Console PS5 [Disc Version] ...  ...  115100\n",
              "64   Sony PlayStation 5 PS5 Console Disc Version BR...  ...  119995\n",
              "103  PS5 Sony Playstation 5 Console Disc Version 🔥B...  ...  119999\n",
              "235  Sony Playstation (PS5) Disc/Blu-Ray Edition Co...  ...  120500\n",
              "\n",
              "[239 rows x 9 columns]"
            ]
          },
          "metadata": {},
          "execution_count": 20
        }
      ]
    },
    {
      "cell_type": "code",
      "metadata": {
        "id": "bFmtW5UmK8Mz",
        "colab": {
          "base_uri": "https://localhost:8080/"
        },
        "outputId": "1cfcc646-901e-4d4b-c724-4fc563b40bf5"
      },
      "source": [
        "#df.to_excel('playstation 5 listings.xlsx', index=False)\n",
        "print(df.iloc[103])"
      ],
      "execution_count": null,
      "outputs": [
        {
          "output_type": "stream",
          "name": "stdout",
          "text": [
            "product title           PS5 Sony Playstation 5 Console Disc Version 🔥B...\n",
            "product url             https://www.ebay.com/itm/304128005531?epid=190...\n",
            "subtitle1               Brand New · Sony PlayStation 5 · Sony PlayStat...\n",
            "subtitle2                                                            None\n",
            "stars                                                                   0\n",
            "product review_count                                                 1976\n",
            "price                                                           $1,199.99\n",
            "shipping detail                                             Free shipping\n",
            "amount                                                             119999\n",
            "Name: 103, dtype: object\n"
          ]
        }
      ]
    },
    {
      "cell_type": "code",
      "metadata": {
        "id": "ltFgXk3ngPZl"
      },
      "source": [
        ""
      ],
      "execution_count": null,
      "outputs": []
    },
    {
      "cell_type": "code",
      "metadata": {
        "id": "0dVowVyJgPd-"
      },
      "source": [
        ""
      ],
      "execution_count": null,
      "outputs": []
    },
    {
      "cell_type": "code",
      "metadata": {
        "id": "NZzdEgI8gPiZ"
      },
      "source": [
        ""
      ],
      "execution_count": null,
      "outputs": []
    },
    {
      "cell_type": "code",
      "metadata": {
        "id": "Mah6KJFZgPm9"
      },
      "source": [
        "# https://towardsdatascience.com/scraping-multiple-amazon-stores-with-python-5eab811453a8"
      ],
      "execution_count": null,
      "outputs": []
    },
    {
      "cell_type": "markdown",
      "metadata": {
        "id": "MYx4sDuFgRRp"
      },
      "source": [
        "# scrapping Amazon\n",
        "\n"
      ]
    },
    {
      "cell_type": "code",
      "metadata": {
        "id": "QaWdA-EPgPrM"
      },
      "source": [
        "# https://www.youtube.com/watch?v=_AeudsbKYG8\n",
        "\n",
        "def get_url(search_term):\n",
        "  \"\"\"Genetare the Url from search term\"\"\"\n",
        "  template = \"https://www.amazon.com.mx/s?k={}&__mk_es_MX=%C3%85M%C3%85%C5%BD%C3%95%C3%91&ref=nb_sb_noss_1\"\n",
        "  search_term = search_term.replace(' ', '+')\n",
        "  return template.format(search_term)"
      ],
      "execution_count": null,
      "outputs": []
    },
    {
      "cell_type": "code",
      "metadata": {
        "colab": {
          "base_uri": "https://localhost:8080/"
        },
        "id": "rZMWedCp_ubt",
        "outputId": "4eedbdff-9c7e-411f-de64-a7e472a3b55d"
      },
      "source": [
        "url = get_url('jetson nano')\n",
        "print(url)"
      ],
      "execution_count": null,
      "outputs": [
        {
          "output_type": "stream",
          "name": "stdout",
          "text": [
            "https://www.amazon.com.mx/s?k=jetson+nano&__mk_es_MX=%C3%85M%C3%85%C5%BD%C3%95%C3%91&ref=nb_sb_noss_1\n"
          ]
        }
      ]
    },
    {
      "cell_type": "code",
      "metadata": {
        "id": "FBKQeGWgf65F"
      },
      "source": [
        "wd.get(url)"
      ],
      "execution_count": null,
      "outputs": []
    },
    {
      "cell_type": "code",
      "metadata": {
        "id": "Ut4H2jFyAsIv"
      },
      "source": [
        "# Extract the collection\n",
        "soup = BeautifulSoup(wd.page_source, 'html.parser')"
      ],
      "execution_count": null,
      "outputs": []
    },
    {
      "cell_type": "code",
      "metadata": {
        "id": "-IBanDEDAuv6"
      },
      "source": [
        "results = soup.find_all('div', {'data-component-type': 's-search-result'})"
      ],
      "execution_count": null,
      "outputs": []
    },
    {
      "cell_type": "code",
      "metadata": {
        "colab": {
          "base_uri": "https://localhost:8080/"
        },
        "id": "hoSTENSTCjTA",
        "outputId": "4ba22f13-0e75-47f6-b1ae-b0c742620996"
      },
      "source": [
        "len(results)"
      ],
      "execution_count": null,
      "outputs": [
        {
          "output_type": "execute_result",
          "data": {
            "text/plain": [
              "60"
            ]
          },
          "metadata": {},
          "execution_count": 8
        }
      ]
    },
    {
      "cell_type": "code",
      "metadata": {
        "id": "cFoe7XdIF4_q"
      },
      "source": [
        "# prototype the record\n",
        "item = results[0]\n",
        "atag = item.h2.a\n",
        "description = atag.text.strip()\n",
        "url = 'https://www.amazon.com.mx' + atag.get('href')"
      ],
      "execution_count": null,
      "outputs": []
    },
    {
      "cell_type": "code",
      "metadata": {
        "id": "bXUcrozpHDLC"
      },
      "source": [
        "# price\n",
        "price_parent = item.find('span', 'a-price')\n",
        "price = price_parent.find('span', 'a-offscreen').text"
      ],
      "execution_count": null,
      "outputs": []
    },
    {
      "cell_type": "code",
      "metadata": {
        "id": "1VvqQ5ztH51N"
      },
      "source": [
        "# stars\n",
        "rating = item.i.text"
      ],
      "execution_count": null,
      "outputs": []
    },
    {
      "cell_type": "code",
      "metadata": {
        "id": "YbpNF8tMIe6L"
      },
      "source": [
        "# find the reviews\n",
        "review_count = item.find('span', {'class':'a-size-base'}).text"
      ],
      "execution_count": null,
      "outputs": []
    },
    {
      "cell_type": "code",
      "metadata": {
        "id": "dxeoGqEBRl_x"
      },
      "source": [
        "# error handling\n",
        "def extract_record(item):\n",
        "\n",
        "  # description and url\n",
        "  atag = item.h2.a\n",
        "  description = atag.text.strip()\n",
        "  url = 'https://www.amazon.com.mx' + atag.get('href')\n",
        "\n",
        "  try:\n",
        "    # price\n",
        "    price_parent = item.find('span', 'a-price')\n",
        "    price = price_parent.find('span', 'a-offscreen').text\n",
        "  except AttributeError:\n",
        "    return\n",
        "\n",
        "  try:\n",
        "    # reviews and rating\n",
        "    rating = item.i.text\n",
        "    review_count = item.find('span', {'class':'a-size-base'}).text\n",
        "  except AttributeError:\n",
        "    rating = ''\n",
        "    review_count = ''\n",
        "\n",
        "  result = (description, price, rating, review_count, url)\n",
        "\n",
        "  return result\n"
      ],
      "execution_count": null,
      "outputs": []
    },
    {
      "cell_type": "code",
      "metadata": {
        "id": "mRSYDc99RmLy"
      },
      "source": [
        "records = []\n",
        "results = soup.find_all('div', {'data-component-type': 's-search-result'})\n",
        "\n",
        "for item in results:\n",
        "  record = extract_record(item)\n",
        "  if record:\n",
        "    records.append(record)"
      ],
      "execution_count": null,
      "outputs": []
    },
    {
      "cell_type": "code",
      "metadata": {
        "colab": {
          "base_uri": "https://localhost:8080/"
        },
        "id": "H1PBfIHtU9VO",
        "outputId": "740a3e78-ede2-4af3-eafe-a876df501250"
      },
      "source": [
        "print(records[0])"
      ],
      "execution_count": null,
      "outputs": [
        {
          "output_type": "stream",
          "name": "stdout",
          "text": [
            "('NVIDIA Jetson Nano - Kit de desarrollador de 2 GB', '$1,482.99', '4.4 de 5 estrellas', '272', 'https://www.amazon.com.mx/NVIDIA-Jetson-Nano-Kit-desarrollador/dp/B08J157LHH/ref=sr_1_1?__mk_es_MX=%C3%85M%C3%85%C5%BD%C3%95%C3%91&dchild=1&keywords=jetson+nano&qid=1634270630&sr=8-1')\n"
          ]
        }
      ]
    },
    {
      "cell_type": "code",
      "metadata": {
        "id": "qQ6M534XV7wO"
      },
      "source": [
        "# getting the next page\n",
        "def get_urls(search_term):\n",
        "  \"\"\"Genetare the Url from search term\"\"\"\n",
        "  template = \"https://www.amazon.com.mx/s?k={}&__mk_es_MX=%C3%85M%C3%85%C5%BD%C3%95%C3%91&ref=nb_sb_noss_1\"\n",
        "  search_term = search_term.replace(' ', '+')\n",
        "\n",
        "  # add term query to url\n",
        "  url = template.format(search_term)\n",
        "\n",
        "  # add page query placeholder\n",
        "  url += '&page={}'\n",
        "\n",
        "  return template.format(search_term)\n",
        "\n",
        "# error handling\n",
        "def extract_record(item):\n",
        "\n",
        "  # description and url\n",
        "  atag = item.h2.a\n",
        "  description = atag.text.strip()\n",
        "  url = 'https://www.amazon.com.mx' + atag.get('href')\n",
        "\n",
        "  try:\n",
        "    # price\n",
        "    price_parent = item.find('span', 'a-price')\n",
        "    price = price_parent.find('span', 'a-offscreen').text\n",
        "  except AttributeError:\n",
        "    return\n",
        "\n",
        "  try:\n",
        "    # reviews and rating\n",
        "    rating = item.i.text\n",
        "    review_count = item.find('span', {'class':'a-size-base'}).text\n",
        "  except AttributeError:\n",
        "    rating = ''\n",
        "    review_count = ''\n",
        "\n",
        "  result = (description, price, rating, review_count, url)\n",
        "\n",
        "  return result\n",
        "\n",
        "def main(search_term):\n",
        "  \"\"\"run maun program\"\"\"\n",
        "  # set webdrriver if needed\n",
        "\n",
        "  records = []\n",
        "  url = get_urls(search_term)\n",
        "\n",
        "  for page in range(1,6):\n",
        "    wd.get(url.format(page))\n",
        "    soup = BeautifulSoup(wd.page_source, 'html.parser')\n",
        "    results = soup.find_all('div', {'data-component-type': 's-search-result'})\n",
        "\n",
        "    for item in results:\n",
        "      record = extract_record(item)\n",
        "      if record:\n",
        "        records.append(record)\n",
        "  \n",
        "  wd.close()\n",
        "\n",
        "  return pd.DataFrame(records, columns = ['Description', 'Price', 'Rating', 'Reviews', 'Url'])"
      ],
      "execution_count": null,
      "outputs": []
    },
    {
      "cell_type": "code",
      "metadata": {
        "id": "MxGcYzRCciGD"
      },
      "source": [
        "amazon_scrapping_df = main('jetson nano')"
      ],
      "execution_count": null,
      "outputs": []
    },
    {
      "cell_type": "code",
      "metadata": {
        "colab": {
          "base_uri": "https://localhost:8080/",
          "height": 529
        },
        "id": "LLBTE1A3c_9k",
        "outputId": "ebbd5dd3-71a9-45d0-bde2-57ee3023b05f"
      },
      "source": [
        "amazon_scrapping_df.head(10)"
      ],
      "execution_count": null,
      "outputs": [
        {
          "output_type": "execute_result",
          "data": {
            "text/html": [
              "<div>\n",
              "<style scoped>\n",
              "    .dataframe tbody tr th:only-of-type {\n",
              "        vertical-align: middle;\n",
              "    }\n",
              "\n",
              "    .dataframe tbody tr th {\n",
              "        vertical-align: top;\n",
              "    }\n",
              "\n",
              "    .dataframe thead th {\n",
              "        text-align: right;\n",
              "    }\n",
              "</style>\n",
              "<table border=\"1\" class=\"dataframe\">\n",
              "  <thead>\n",
              "    <tr style=\"text-align: right;\">\n",
              "      <th></th>\n",
              "      <th>Description</th>\n",
              "      <th>Price</th>\n",
              "      <th>Rating</th>\n",
              "      <th>Reviews</th>\n",
              "      <th>Url</th>\n",
              "    </tr>\n",
              "  </thead>\n",
              "  <tbody>\n",
              "    <tr>\n",
              "      <th>0</th>\n",
              "      <td>NVIDIA Jetson Nano - Kit de desarrollador de 2 GB</td>\n",
              "      <td>$1,482.99</td>\n",
              "      <td>4.4 de 5 estrellas</td>\n",
              "      <td>272</td>\n",
              "      <td>https://www.amazon.com.mx/NVIDIA-Jetson-Nano-K...</td>\n",
              "    </tr>\n",
              "    <tr>\n",
              "      <th>1</th>\n",
              "      <td>Módulo de cámara para NVIDIA Jetson Nano Devel...</td>\n",
              "      <td>$1,019.00</td>\n",
              "      <td></td>\n",
              "      <td></td>\n",
              "      <td>https://www.amazon.com.mx/Development-pulgadas...</td>\n",
              "    </tr>\n",
              "    <tr>\n",
              "      <th>2</th>\n",
              "      <td>Waveshare Jetson Nano 2GB Developer Kit Packag...</td>\n",
              "      <td>$3,449.99</td>\n",
              "      <td>4.6 de 5 estrellas</td>\n",
              "      <td>13</td>\n",
              "      <td>https://www.amazon.com.mx/Waveshare-Jetson-Nan...</td>\n",
              "    </tr>\n",
              "    <tr>\n",
              "      <th>3</th>\n",
              "      <td>TOP1 Intel AC8265 - NIC de red inalámbrica de ...</td>\n",
              "      <td>$433.32</td>\n",
              "      <td></td>\n",
              "      <td></td>\n",
              "      <td>https://www.amazon.com.mx/TOP1-Intel-AC8265-in...</td>\n",
              "    </tr>\n",
              "    <tr>\n",
              "      <th>4</th>\n",
              "      <td>Yahboom Carcasa de aleación de aluminio para N...</td>\n",
              "      <td>$585.03</td>\n",
              "      <td>4.0 de 5 estrellas</td>\n",
              "      <td>14</td>\n",
              "      <td>https://www.amazon.com.mx/Yahboom-aleaci%C3%B3...</td>\n",
              "    </tr>\n",
              "    <tr>\n",
              "      <th>5</th>\n",
              "      <td>Geekworm N100 - Carcasa de metal para Jetson N...</td>\n",
              "      <td>$499.00</td>\n",
              "      <td>4.3 de 5 estrellas</td>\n",
              "      <td>79</td>\n",
              "      <td>https://www.amazon.com.mx/Geekworm-NVIDIA-Encl...</td>\n",
              "    </tr>\n",
              "    <tr>\n",
              "      <th>6</th>\n",
              "      <td>Bicool Power Supply Adapter for Jetson Nano (A...</td>\n",
              "      <td>$317.46</td>\n",
              "      <td></td>\n",
              "      <td></td>\n",
              "      <td>https://www.amazon.com.mx/Adaptador-alimentaci...</td>\n",
              "    </tr>\n",
              "    <tr>\n",
              "      <th>7</th>\n",
              "      <td>WENDi NVIDIA Jetson Nano Developer Kit, Small ...</td>\n",
              "      <td>$4,343.46</td>\n",
              "      <td></td>\n",
              "      <td></td>\n",
              "      <td>https://www.amazon.com.mx/WENDi-NVIDIA-Develop...</td>\n",
              "    </tr>\n",
              "    <tr>\n",
              "      <th>8</th>\n",
              "      <td>Geekworm UPS T208 18650 de 6 celdas (salida má...</td>\n",
              "      <td>$1,252.93</td>\n",
              "      <td>3.1 de 5 estrellas</td>\n",
              "      <td>3</td>\n",
              "      <td>https://www.amazon.com.mx/Geekworm-tarjeta-exp...</td>\n",
              "    </tr>\n",
              "    <tr>\n",
              "      <th>9</th>\n",
              "      <td>Nvidia Jetson Xavier NX Developer Kit (8126740...</td>\n",
              "      <td>$23,956.00</td>\n",
              "      <td>4.7 de 5 estrellas</td>\n",
              "      <td>120</td>\n",
              "      <td>https://www.amazon.com.mx/nVidia-Jetson-Xavier...</td>\n",
              "    </tr>\n",
              "  </tbody>\n",
              "</table>\n",
              "</div>"
            ],
            "text/plain": [
              "                                         Description  ...                                                Url\n",
              "0  NVIDIA Jetson Nano - Kit de desarrollador de 2 GB  ...  https://www.amazon.com.mx/NVIDIA-Jetson-Nano-K...\n",
              "1  Módulo de cámara para NVIDIA Jetson Nano Devel...  ...  https://www.amazon.com.mx/Development-pulgadas...\n",
              "2  Waveshare Jetson Nano 2GB Developer Kit Packag...  ...  https://www.amazon.com.mx/Waveshare-Jetson-Nan...\n",
              "3  TOP1 Intel AC8265 - NIC de red inalámbrica de ...  ...  https://www.amazon.com.mx/TOP1-Intel-AC8265-in...\n",
              "4  Yahboom Carcasa de aleación de aluminio para N...  ...  https://www.amazon.com.mx/Yahboom-aleaci%C3%B3...\n",
              "5  Geekworm N100 - Carcasa de metal para Jetson N...  ...  https://www.amazon.com.mx/Geekworm-NVIDIA-Encl...\n",
              "6  Bicool Power Supply Adapter for Jetson Nano (A...  ...  https://www.amazon.com.mx/Adaptador-alimentaci...\n",
              "7  WENDi NVIDIA Jetson Nano Developer Kit, Small ...  ...  https://www.amazon.com.mx/WENDi-NVIDIA-Develop...\n",
              "8  Geekworm UPS T208 18650 de 6 celdas (salida má...  ...  https://www.amazon.com.mx/Geekworm-tarjeta-exp...\n",
              "9  Nvidia Jetson Xavier NX Developer Kit (8126740...  ...  https://www.amazon.com.mx/nVidia-Jetson-Xavier...\n",
              "\n",
              "[10 rows x 5 columns]"
            ]
          },
          "metadata": {},
          "execution_count": 8
        }
      ]
    },
    {
      "cell_type": "code",
      "metadata": {
        "id": "V8qjbUWUNO4h"
      },
      "source": [
        ""
      ],
      "execution_count": null,
      "outputs": []
    },
    {
      "cell_type": "markdown",
      "metadata": {
        "id": "QvKFNlsONVSO"
      },
      "source": [
        "# Scrapping mercado libre"
      ]
    },
    {
      "cell_type": "code",
      "metadata": {
        "id": "Q2N4fxRjNO-c"
      },
      "source": [
        "# Search link\n",
        "# https://listado.mercadolibre.com.mx/monitor#D[A:monitor]\n",
        "# Page 2 "
      ],
      "execution_count": null,
      "outputs": []
    },
    {
      "cell_type": "code",
      "metadata": {
        "id": "IAbq2d90NPD0"
      },
      "source": [
        "def get_url(search_term):\n",
        "  link = 'https://listado.mercadolibre.com.mx/{}'.format(search_term.replace(' ','-'))\n",
        "  return link"
      ],
      "execution_count": null,
      "outputs": []
    },
    {
      "cell_type": "code",
      "metadata": {
        "colab": {
          "base_uri": "https://localhost:8080/"
        },
        "id": "BsKk3cM2NPIU",
        "outputId": "cf260ccb-f673-42a7-e896-62228ed3c30e"
      },
      "source": [
        "print(get_url('monitor curvo'))"
      ],
      "execution_count": null,
      "outputs": [
        {
          "output_type": "stream",
          "name": "stdout",
          "text": [
            "https://listado.mercadolibre.com.mx/monitor-curvo\n"
          ]
        }
      ]
    },
    {
      "cell_type": "code",
      "metadata": {
        "id": "Kv1KrIm5NPMZ"
      },
      "source": [
        "url = get_url('monitor curvo')\n",
        "wd.get(url)\n",
        "soup = BeautifulSoup(wd.page_source, 'html.parser')"
      ],
      "execution_count": null,
      "outputs": []
    },
    {
      "cell_type": "code",
      "metadata": {
        "id": "_lOwEubXZ6Nu"
      },
      "source": [
        "results = soup.find_all('li', {'class': 'ui-search-layout__item'})"
      ],
      "execution_count": null,
      "outputs": []
    },
    {
      "cell_type": "code",
      "metadata": {
        "colab": {
          "base_uri": "https://localhost:8080/"
        },
        "id": "6UZ2vFKhaMgm",
        "outputId": "119e2e17-3d5d-42aa-c59a-b17cafaedcec"
      },
      "source": [
        "print(len(results))"
      ],
      "execution_count": null,
      "outputs": [
        {
          "output_type": "stream",
          "name": "stdout",
          "text": [
            "50\n"
          ]
        }
      ]
    },
    {
      "cell_type": "code",
      "metadata": {
        "colab": {
          "base_uri": "https://localhost:8080/"
        },
        "id": "q3Wd8oqgbaTi",
        "outputId": "5e87e77a-f0b2-4b3e-9070-e3c568d80786"
      },
      "source": [
        "print(results[0])"
      ],
      "execution_count": null,
      "outputs": [
        {
          "output_type": "stream",
          "name": "stdout",
          "text": [
            "<li class=\"ui-search-layout__item\"><div class=\"ui-search-result__wrapper\"><div class=\"andes-card andes-card--flat andes-card--default ui-search-result ui-search-result--core andes-card--padding-default\"><div class=\"ui-search-result__image\"><a class=\"ui-search-link\" href=\"https://www.mercadolibre.com.mx/monitor-gamer-curvo-samsung-c32r500-led-32-dark-blue-gray-100v240v/p/MLM17952953?pdp_filters=category:MLM1656#searchVariation=MLM17952953&amp;position=1&amp;search_layout=stack&amp;type=product&amp;tracking_id=b02694ba-73e3-432e-80a7-5292855d8b8b\" title='Monitor gamer curvo Samsung C32R500 led 32 \" dark blue gray 100V/240V'><div class=\"carousel-container arrow-visible\"><div class=\"slick-initialized slick-slider\"><div class=\"slick-list\" role=\"presentation\"><div class=\"slick-track\"><div class=\"slick-slide slick-active\" data-index=\"0\" style=\"outline:none\" tabindex=\"-1\"><img alt='Monitor gamer curvo Samsung C32R500 led 32 \" dark blue gray 100V/240V' class=\"ui-search-result-image__element\" height=\"160\" src=\"https://http2.mlstatic.com/D_NQ_NP_669402-MLA46167260347_052021-V.webp\" width=\"160\"/></div></div></div></div></div></a></div><div class=\"ui-search-result__content-wrapper\"><div class=\"ui-search-item__highlight-label ui-search-item__highlight-label--best_seller\" style=\"background:#FF7733\"><div class=\"ui-search-item__highlight-label__container\"><label class=\"ui-search-styled-label ui-search-item__highlight-label__text\" for=\"\" style=\"color:#FFFFFF\">MÁS VENDIDO</label></div></div><div class=\"ui-search-item__group ui-search-item__group--title\"><a class=\"ui-search-item__group__element ui-search-link\" href=\"https://www.mercadolibre.com.mx/monitor-gamer-curvo-samsung-c32r500-led-32-dark-blue-gray-100v240v/p/MLM17952953?pdp_filters=category:MLM1656#searchVariation=MLM17952953&amp;position=1&amp;search_layout=stack&amp;type=product&amp;tracking_id=b02694ba-73e3-432e-80a7-5292855d8b8b\" title='Monitor gamer curvo Samsung C32R500 led 32 \" dark blue gray 100V/240V'><h2 class=\"ui-search-item__title\">Monitor gamer curvo Samsung C32R500 led 32 \" dark blue gray 100V/240V</h2></a><a class=\"ui-search-official-store-item__link ui-search-link\" href=\"https://tienda.mercadolibre.com.mx/mercado-libre-electronica\"><p class=\"ui-search-official-store-label ui-search-item__group__element ui-search-color--GRAY\">Vendido por Mercado Libre Electronica</p></a></div><div class=\"ui-search-result__content-columns\"><div class=\"ui-search-result__content-column ui-search-result__content-column--left\" tabindex=\"0\"><div class=\"ui-search-item__group ui-search-item__group--price\"><a class=\"ui-search-item__group__element ui-search-link\" href=\"https://www.mercadolibre.com.mx/monitor-gamer-curvo-samsung-c32r500-led-32-dark-blue-gray-100v240v/p/MLM17952953?pdp_filters=category:MLM1656#searchVariation=MLM17952953&amp;position=1&amp;search_layout=stack&amp;type=product&amp;tracking_id=b02694ba-73e3-432e-80a7-5292855d8b8b\" role=\"none presentation\" title='Monitor gamer curvo Samsung C32R500 led 32 \" dark blue gray 100V/240V'><div class=\"ui-search-price ui-search-price--size-medium\"><div class=\"ui-search-price__second-line\"><span class=\"price-tag ui-search-price__part\"><span class=\"price-tag-text-sr-only\">6599 pesos</span><span aria-hidden=\"true\" class=\"price-tag-amount\"><span class=\"price-tag-symbol\">$</span><span class=\"price-tag-fraction\">6,599</span></span></span><span class=\"ui-search-price__second-line__label\"></span></div></div></a><span class=\"ui-search-item__group__element ui-search-installments ui-search-color--BLACK\"><div class=\"ui-search-installments-prefix\"><span>en</span></div>12x <div class=\"ui-search-price ui-search-price--size-x-tiny ui-search-color--BLACK\"><div class=\"ui-search-price__second-line\"><span class=\"price-tag ui-search-price__part\"><span class=\"price-tag-text-sr-only\">650 pesos con 88 centavos </span><span aria-hidden=\"true\" class=\"price-tag-amount\"><span class=\"price-tag-symbol\">$</span><span class=\"price-tag-fraction\">650</span><span class=\"price-tag-decimal-separator\">.</span><span class=\"price-tag-cents\">88</span></span></span></div></div></span></div><div class=\"ui-search-item__group ui-search-item__group--shipping\"><div class=\"ui-search-item__group__element ui-search-item__group__element--shipping\"><p class=\"ui-search-item__shipping ui-search-item__shipping--free\">Envío gratis</p><span class=\"ui-search-item__fulfillment\"><svg aria-label=\"full\" class=\"ui-search-icon ui-search-icon--full\" viewbox=\"0 0 100 32\" xmlns=\"http://www.w3.org/2000/svg\"><use href=\"#full\"></use></svg></span></div></div></div><div class=\"ui-search-result__content-column ui-search-result__content-column--right\"><div class=\"ui-search-item__group ui-search-item__group--reviews\"><div class=\"ui-search-reviews ui-search-item__group__element\"><span class=\"ui-search-reviews__ratings\"><svg class=\"ui-search-icon ui-search-icon--star ui-search-icon--star-full\" fill=\"#3483fa\" height=\"100%\" viewbox=\"0 0 10 10\" width=\"100%\"><use href=\"#start-full\"></use></svg><svg class=\"ui-search-icon ui-search-icon--star ui-search-icon--star-full\" fill=\"#3483fa\" height=\"100%\" viewbox=\"0 0 10 10\" width=\"100%\"><use href=\"#start-full\"></use></svg><svg class=\"ui-search-icon ui-search-icon--star ui-search-icon--star-full\" fill=\"#3483fa\" height=\"100%\" viewbox=\"0 0 10 10\" width=\"100%\"><use href=\"#start-full\"></use></svg><svg class=\"ui-search-icon ui-search-icon--star ui-search-icon--star-full\" fill=\"#3483fa\" height=\"100%\" viewbox=\"0 0 10 10\" width=\"100%\"><use href=\"#start-full\"></use></svg><svg class=\"ui-search-icon ui-search-icon--star ui-search-icon--star-full\" fill=\"#3483fa\" height=\"100%\" viewbox=\"0 0 10 10\" width=\"100%\"><use href=\"#start-full\"></use></svg></span><span class=\"ui-search-reviews__amount\">6</span></div></div></div></div></div><div class=\"ui-search-result__bookmark\"><form action=\"/search/bookmarks/MLM949533383\" class=\"ui-search-bookmark\" method=\"POST\"><button aria-label=\"Agregar a favoritos\" class=\"ui-search-bookmark__btn\" type=\"submit\"><svg class=\"ui-search-icon ui-search-icon--bookmark ui-search-bookmark__icon-bookmark\" viewbox=\"0 0 22 20\" xmlns=\"http://www.w3.org/2000/svg\"><use href=\"#bookmark\"></use></svg><svg class=\"ui-search-icon ui-search-icon--bookmark ui-search-bookmark__icon-bookmark-fill\" viewbox=\"0 0 22 20\" xmlns=\"http://www.w3.org/2000/svg\"><use href=\"#bookmark\"></use></svg></button><input name=\"logginUrl\" type=\"hidden\" value=\"https://www.mercadolibre.com/jms/mlm/lgz/login?platform_id=ML&amp;go=https%3A%2F%2Flistado.mercadolibre.com.mx%2Fmonitor-curvo&amp;loginType=explicit\"/><input name=\"_csrf\" type=\"hidden\" value=\"iZKCDq9x-CB6fqM45y0HcPYy8aeVLGQ2fjcQ\"/><input name=\"method\" type=\"hidden\" value=\"add\"/><input name=\"itemId\" type=\"hidden\" value=\"MLM949533383\"/></form></div></div></div></li>\n"
          ]
        }
      ]
    },
    {
      "cell_type": "code",
      "metadata": {
        "id": "TM_zcOKIcsvc"
      },
      "source": [
        "# prototype the record\n",
        "item = results[0]\n",
        "atag = item.h2.text.strip()\n",
        "#description = atag.text.strip()\n",
        "#url = 'https://listado.mercadolibre.com.mx/' + atag.get('href')"
      ],
      "execution_count": null,
      "outputs": []
    },
    {
      "cell_type": "code",
      "metadata": {
        "colab": {
          "base_uri": "https://localhost:8080/"
        },
        "id": "WfYab4DBcs0n",
        "outputId": "67b8f3c7-d3da-4837-9390-6fb75ae3d79a"
      },
      "source": [
        "print(item.a['href'])"
      ],
      "execution_count": null,
      "outputs": [
        {
          "output_type": "stream",
          "name": "stdout",
          "text": [
            "https://www.mercadolibre.com.mx/monitor-gamer-curvo-samsung-c32r500-led-32-dark-blue-gray-100v240v/p/MLM17952953?pdp_filters=category:MLM1656#searchVariation=MLM17952953&position=1&search_layout=stack&type=product&tracking_id=b02694ba-73e3-432e-80a7-5292855d8b8b\n"
          ]
        }
      ]
    },
    {
      "cell_type": "code",
      "metadata": {
        "colab": {
          "base_uri": "https://localhost:8080/"
        },
        "id": "k3MwgWuhcs4P",
        "outputId": "c1f655c7-9bbb-4bde-bdbc-26a4ebe2d3d5"
      },
      "source": [
        "price_parent = item.find('div', {'class':'ui-search-price__second-line'})\n",
        "price = price_parent.find('span', 'price-tag-amount').text\n",
        "print(price)"
      ],
      "execution_count": null,
      "outputs": [
        {
          "output_type": "stream",
          "name": "stdout",
          "text": [
            "$6,599\n"
          ]
        }
      ]
    },
    {
      "cell_type": "code",
      "metadata": {
        "colab": {
          "base_uri": "https://localhost:8080/"
        },
        "id": "PMojTIoUXNPp",
        "outputId": "bffd1f9b-e4ae-4c00-9fec-18221411142d"
      },
      "source": [
        "stars = item.find_all('svg', {'class':'ui-search-icon ui-search-icon--star ui-search-icon--star-full'})\n",
        "print(len(stars))"
      ],
      "execution_count": null,
      "outputs": [
        {
          "output_type": "stream",
          "name": "stdout",
          "text": [
            "5\n"
          ]
        }
      ]
    },
    {
      "cell_type": "code",
      "metadata": {
        "colab": {
          "base_uri": "https://localhost:8080/"
        },
        "id": "cflwg0oPeTHN",
        "outputId": "aa60bf1e-e38f-4e48-f9f9-35e0648bae75"
      },
      "source": [
        "reviews = item.find('span', {'class':'ui-search-reviews__amount'}).text\n",
        "print(reviews)"
      ],
      "execution_count": null,
      "outputs": [
        {
          "output_type": "stream",
          "name": "stdout",
          "text": [
            "6\n"
          ]
        }
      ]
    },
    {
      "cell_type": "code",
      "metadata": {
        "id": "hHRs-L1zfpc4"
      },
      "source": [
        "# getting the next page\n",
        "def get_urls(search_term):\n",
        "  \"\"\"Genetare the Url from search term\"\"\"\n",
        "  template = \"https://listado.mercadolibre.com.mx/{}\"\n",
        "  search_term = search_term.replace(' ', '-')\n",
        "\n",
        "  # add term query to url\n",
        "  url = template.format(search_term)\n",
        "\n",
        "  # add page query placeholder\n",
        "  url += '_Desde_{}_NoIndex_True'\n",
        "\n",
        "  return template.format(search_term)\n",
        "\n",
        "# error handling\n",
        "def extract_record(item):\n",
        "\n",
        "  # description and url\n",
        "  description = item.h2.text.strip()\n",
        "  url = item.a['href']\n",
        "\n",
        "  try:\n",
        "    # price\n",
        "    price_parent = item.find('div', {'class':'ui-search-price__second-line'})\n",
        "    price = price_parent.find('span', 'price-tag-amount').text\n",
        "  except AttributeError:\n",
        "    return ''\n",
        "\n",
        "  try:\n",
        "    # reviews and rating\n",
        "    stars = len(item.find_all('svg', {'class':'ui-search-icon ui-search-icon--star ui-search-icon--star-full'}))\n",
        "    reviews = item.find('span', {'class':'ui-search-reviews__amount'}).text\n",
        "  except AttributeError:\n",
        "    stars = ''\n",
        "    reviews = ''\n",
        "\n",
        "  result = (description, price, stars, reviews, url)\n",
        "\n",
        "  return result\n",
        "\n",
        "def main(search_term):\n",
        "  \"\"\"run maun program\"\"\"\n",
        "  # set webdrriver if needed\n",
        "\n",
        "  records = []\n",
        "  url = get_urls(search_term)\n",
        "\n",
        "  items_pp = 1\n",
        "  to_continue = True\n",
        "  \n",
        "  while to_continue:\n",
        "\n",
        "    try:\n",
        "      wd.get(url.format(items_pp))\n",
        "      soup = BeautifulSoup(wd.page_source, 'html.parser')\n",
        "      results = soup.find_all('li', {'class': 'ui-search-layout__item'})\n",
        "\n",
        "      for item in results:\n",
        "        record = extract_record(item)\n",
        "      \n",
        "        if record:\n",
        "          records.append(record)\n",
        "      items_pp += 50 \n",
        "    \n",
        "    except NoSuchElementException:\n",
        "      print('Last page {0}'.format(current_page))\n",
        "      to_continue = False\n",
        "\n",
        "    if items_pp >= 151: to_continue = False \n",
        "\n",
        "  wd.close()\n",
        "\n",
        "  return pd.DataFrame(records, columns = ['Description', 'Price', 'Rating', 'Reviews', 'Url'])"
      ],
      "execution_count": null,
      "outputs": []
    },
    {
      "cell_type": "code",
      "metadata": {
        "id": "8jO9qaBVtzRx"
      },
      "source": [
        "mercado_libre_df = main('beyerdynamic')"
      ],
      "execution_count": null,
      "outputs": []
    },
    {
      "cell_type": "code",
      "metadata": {
        "id": "wMSEQf9DtzXI",
        "colab": {
          "base_uri": "https://localhost:8080/",
          "height": 359
        },
        "outputId": "839a7687-45f9-4520-f64f-cc74363bad75"
      },
      "source": [
        "mercado_libre_df.head(10)"
      ],
      "execution_count": null,
      "outputs": [
        {
          "output_type": "execute_result",
          "data": {
            "text/html": [
              "<div>\n",
              "<style scoped>\n",
              "    .dataframe tbody tr th:only-of-type {\n",
              "        vertical-align: middle;\n",
              "    }\n",
              "\n",
              "    .dataframe tbody tr th {\n",
              "        vertical-align: top;\n",
              "    }\n",
              "\n",
              "    .dataframe thead th {\n",
              "        text-align: right;\n",
              "    }\n",
              "</style>\n",
              "<table border=\"1\" class=\"dataframe\">\n",
              "  <thead>\n",
              "    <tr style=\"text-align: right;\">\n",
              "      <th></th>\n",
              "      <th>Description</th>\n",
              "      <th>Price</th>\n",
              "      <th>Rating</th>\n",
              "      <th>Reviews</th>\n",
              "      <th>Url</th>\n",
              "    </tr>\n",
              "  </thead>\n",
              "  <tbody>\n",
              "    <tr>\n",
              "      <th>0</th>\n",
              "      <td>Audífonos Beyerdynamic DT 990 PRO black y grey</td>\n",
              "      <td>$4,040</td>\n",
              "      <td>4</td>\n",
              "      <td>4</td>\n",
              "      <td>https://www.mercadolibre.com.mx/audifonos-beye...</td>\n",
              "    </tr>\n",
              "    <tr>\n",
              "      <th>1</th>\n",
              "      <td>Almohadillas Akg Beyerdynamic Pioneer Universa...</td>\n",
              "      <td>$159</td>\n",
              "      <td></td>\n",
              "      <td></td>\n",
              "      <td>https://articulo.mercadolibre.com.mx/MLM-84341...</td>\n",
              "    </tr>\n",
              "    <tr>\n",
              "      <th>2</th>\n",
              "      <td>Beyerdynamic Audifonos Dt 990 Pro 250 Ohms</td>\n",
              "      <td>$5,299</td>\n",
              "      <td></td>\n",
              "      <td></td>\n",
              "      <td>https://articulo.mercadolibre.com.mx/MLM-78029...</td>\n",
              "    </tr>\n",
              "    <tr>\n",
              "      <th>3</th>\n",
              "      <td>Almohadillas Akg Beyerdynamic Pioneer Terciope...</td>\n",
              "      <td>$199</td>\n",
              "      <td></td>\n",
              "      <td></td>\n",
              "      <td>https://articulo.mercadolibre.com.mx/MLM-90995...</td>\n",
              "    </tr>\n",
              "    <tr>\n",
              "      <th>4</th>\n",
              "      <td>Beyerdynamic Audifonos T1 (3rd Generation)</td>\n",
              "      <td>$29,999</td>\n",
              "      <td></td>\n",
              "      <td></td>\n",
              "      <td>https://articulo.mercadolibre.com.mx/MLM-94366...</td>\n",
              "    </tr>\n",
              "    <tr>\n",
              "      <th>5</th>\n",
              "      <td>Beyerdynamic Dt 990 Edition 600 Ohm Auriculare...</td>\n",
              "      <td>$5,560</td>\n",
              "      <td></td>\n",
              "      <td></td>\n",
              "      <td>https://articulo.mercadolibre.com.mx/MLM-76993...</td>\n",
              "    </tr>\n",
              "    <tr>\n",
              "      <th>6</th>\n",
              "      <td>Beyerdynamic Audifonos Dt 240 Pro 34 Ohms</td>\n",
              "      <td>$2,949</td>\n",
              "      <td></td>\n",
              "      <td></td>\n",
              "      <td>https://articulo.mercadolibre.com.mx/MLM-67097...</td>\n",
              "    </tr>\n",
              "    <tr>\n",
              "      <th>7</th>\n",
              "      <td>Beyerdynamic Dt-990 Pro 250ohms Buen Fin Navid...</td>\n",
              "      <td>$4,500</td>\n",
              "      <td></td>\n",
              "      <td></td>\n",
              "      <td>https://articulo.mercadolibre.com.mx/MLM-83432...</td>\n",
              "    </tr>\n",
              "    <tr>\n",
              "      <th>8</th>\n",
              "      <td>Beyerdynamic Headphones In-ear Beat Byrd Black...</td>\n",
              "      <td>$809</td>\n",
              "      <td></td>\n",
              "      <td></td>\n",
              "      <td>https://articulo.mercadolibre.com.mx/MLM-78967...</td>\n",
              "    </tr>\n",
              "    <tr>\n",
              "      <th>9</th>\n",
              "      <td>Beyerdynamic Aventho Wireless Black Audifonos ...</td>\n",
              "      <td>$10,980</td>\n",
              "      <td></td>\n",
              "      <td></td>\n",
              "      <td>https://articulo.mercadolibre.com.mx/MLM-76969...</td>\n",
              "    </tr>\n",
              "  </tbody>\n",
              "</table>\n",
              "</div>"
            ],
            "text/plain": [
              "                                         Description  ...                                                Url\n",
              "0     Audífonos Beyerdynamic DT 990 PRO black y grey  ...  https://www.mercadolibre.com.mx/audifonos-beye...\n",
              "1  Almohadillas Akg Beyerdynamic Pioneer Universa...  ...  https://articulo.mercadolibre.com.mx/MLM-84341...\n",
              "2         Beyerdynamic Audifonos Dt 990 Pro 250 Ohms  ...  https://articulo.mercadolibre.com.mx/MLM-78029...\n",
              "3  Almohadillas Akg Beyerdynamic Pioneer Terciope...  ...  https://articulo.mercadolibre.com.mx/MLM-90995...\n",
              "4         Beyerdynamic Audifonos T1 (3rd Generation)  ...  https://articulo.mercadolibre.com.mx/MLM-94366...\n",
              "5  Beyerdynamic Dt 990 Edition 600 Ohm Auriculare...  ...  https://articulo.mercadolibre.com.mx/MLM-76993...\n",
              "6          Beyerdynamic Audifonos Dt 240 Pro 34 Ohms  ...  https://articulo.mercadolibre.com.mx/MLM-67097...\n",
              "7  Beyerdynamic Dt-990 Pro 250ohms Buen Fin Navid...  ...  https://articulo.mercadolibre.com.mx/MLM-83432...\n",
              "8  Beyerdynamic Headphones In-ear Beat Byrd Black...  ...  https://articulo.mercadolibre.com.mx/MLM-78967...\n",
              "9  Beyerdynamic Aventho Wireless Black Audifonos ...  ...  https://articulo.mercadolibre.com.mx/MLM-76969...\n",
              "\n",
              "[10 rows x 5 columns]"
            ]
          },
          "metadata": {},
          "execution_count": 26
        }
      ]
    },
    {
      "cell_type": "code",
      "metadata": {
        "id": "8pAKN1Pwtzg5"
      },
      "source": [
        ""
      ],
      "execution_count": null,
      "outputs": []
    },
    {
      "cell_type": "markdown",
      "metadata": {
        "id": "aFTGpmtBD4Nh"
      },
      "source": [
        "# Scrapping wallmart mx"
      ]
    },
    {
      "cell_type": "code",
      "metadata": {
        "id": "qxViDhUrW-va"
      },
      "source": [
        "import pandas as pd\n",
        "import requests\n",
        "import json\n",
        "from pandas.io.json import json_normalize\n",
        "import time"
      ],
      "execution_count": null,
      "outputs": []
    },
    {
      "cell_type": "code",
      "metadata": {
        "id": "9FeP8Dcetzmi",
        "colab": {
          "base_uri": "https://localhost:8080/"
        },
        "outputId": "29f7c8b9-f3af-41d7-a73c-2c4025ed8a97"
      },
      "source": [
        "\n",
        "\n",
        "headers = {\n",
        "    'Accept': 'application/json',\n",
        "    'Referer': 'https://www.walmart.com.mx/productos?Ntt=xiaomi&page=0',\n",
        "    'User-Agent': 'Mozilla/5.0 (X11; Linux x86_64) AppleWebKit/537.36 (KHTML, like Gecko) Chrome/94.0.4606.81 Safari/537.36',\n",
        "    'Content-Type': 'application/json',\n",
        "    'Cookie': 'Cookie_1=value; TS014f2e15=01538efd7c027ce77e369e2bc6d77f0399abd465a588ddf5af91f7df97ebd11d0588faf61dd6c5ce95485742c700a31dd976d66ee4; akavpau_vp_walmart_ss=1634878568~id=8dbbff347a90a0bea31a88fa333da0d1'\n",
        "  }\n",
        "\n",
        "prods = pd.DataFrame([])\n",
        "\n",
        "for page in range(1,5):\n",
        "\n",
        "  url = f\"https://www.walmart.com.mx/api/v2/page/search?Ntt=xiaomi&page={page}&size=48\"\n",
        "  r = requests.request(\"GET\", url, headers=headers)\n",
        "  data = json.loads(r.text)\n",
        "  prods = prods.append(json_normalize(data['appendix']['SearchResults']['content']), ignore_index=True)\n",
        "  time.sleep(4)\n",
        "  print(f'Getting page {page} ...')\n"
      ],
      "execution_count": null,
      "outputs": [
        {
          "output_type": "stream",
          "name": "stderr",
          "text": [
            "/usr/local/lib/python3.7/dist-packages/ipykernel_launcher.py:22: FutureWarning: pandas.io.json.json_normalize is deprecated, use pandas.json_normalize instead\n"
          ]
        },
        {
          "output_type": "stream",
          "name": "stdout",
          "text": [
            "Getting page 1 ...\n",
            "Getting page 2 ...\n",
            "Getting page 3 ...\n",
            "Getting page 4 ...\n"
          ]
        }
      ]
    },
    {
      "cell_type": "code",
      "metadata": {
        "colab": {
          "base_uri": "https://localhost:8080/"
        },
        "id": "6JLRkr2nMUPp",
        "outputId": "705e08b6-9d78-4e84-e2cc-9f2c4c7d619d"
      },
      "source": [
        "print(len(prods))"
      ],
      "execution_count": null,
      "outputs": [
        {
          "output_type": "stream",
          "name": "stdout",
          "text": [
            "192\n"
          ]
        }
      ]
    },
    {
      "cell_type": "code",
      "metadata": {
        "colab": {
          "base_uri": "https://localhost:8080/",
          "height": 445
        },
        "id": "7jOSV3UIcPY4",
        "outputId": "14978f5c-3cf9-4277-d79a-d753c10c69fd"
      },
      "source": [
        "prods.head()\n"
      ],
      "execution_count": null,
      "outputs": [
        {
          "output_type": "execute_result",
          "data": {
            "text/html": [
              "<div>\n",
              "<style scoped>\n",
              "    .dataframe tbody tr th:only-of-type {\n",
              "        vertical-align: middle;\n",
              "    }\n",
              "\n",
              "    .dataframe tbody tr th {\n",
              "        vertical-align: top;\n",
              "    }\n",
              "\n",
              "    .dataframe thead th {\n",
              "        text-align: right;\n",
              "    }\n",
              "</style>\n",
              "<table border=\"1\" class=\"dataframe\">\n",
              "  <thead>\n",
              "    <tr style=\"text-align: right;\">\n",
              "      <th></th>\n",
              "      <th>id</th>\n",
              "      <th>productId</th>\n",
              "      <th>skuDisplayName</th>\n",
              "      <th>productSeoUrl</th>\n",
              "      <th>productRatings</th>\n",
              "      <th>weighable</th>\n",
              "      <th>freeShippingItem</th>\n",
              "      <th>skuPrice</th>\n",
              "      <th>bigItem</th>\n",
              "      <th>onDemand</th>\n",
              "      <th>bundle</th>\n",
              "      <th>preOrderable</th>\n",
              "      <th>pickUpEnabled</th>\n",
              "      <th>brandName</th>\n",
              "      <th>score</th>\n",
              "      <th>salesRank</th>\n",
              "      <th>variants</th>\n",
              "      <th>imageUrls.small</th>\n",
              "      <th>imageUrls.large</th>\n",
              "      <th>specialEventName</th>\n",
              "      <th>specialEventImage</th>\n",
              "      <th>unitOfMeasure</th>\n",
              "      <th>onSale</th>\n",
              "    </tr>\n",
              "  </thead>\n",
              "  <tbody>\n",
              "    <tr>\n",
              "      <th>0</th>\n",
              "      <td>00750230095439</td>\n",
              "      <td>00750230095439</td>\n",
              "      <td>Smartphone Redmi Note 9 4G 4Gb 128Gb Negro Xia...</td>\n",
              "      <td>/celulares/smartphones/celulares-desbloqueados...</td>\n",
              "      <td>0.0</td>\n",
              "      <td>False</td>\n",
              "      <td>No Free Shipping</td>\n",
              "      <td>5299.0</td>\n",
              "      <td>False</td>\n",
              "      <td>False</td>\n",
              "      <td>False</td>\n",
              "      <td>False</td>\n",
              "      <td>True</td>\n",
              "      <td>xiaomi</td>\n",
              "      <td>12.307381</td>\n",
              "      <td>0.000000e+00</td>\n",
              "      <td>[]</td>\n",
              "      <td>/gm/3pp/asr/2fb44d2b-7e71-4272-9d84-9aba4f514d...</td>\n",
              "      <td>/gm/3pp/asr/2fb44d2b-7e71-4272-9d84-9aba4f514d...</td>\n",
              "      <td>NaN</td>\n",
              "      <td>NaN</td>\n",
              "      <td>NaN</td>\n",
              "      <td>NaN</td>\n",
              "    </tr>\n",
              "    <tr>\n",
              "      <th>1</th>\n",
              "      <td>00046990294261</td>\n",
              "      <td>00046990294261</td>\n",
              "      <td>Smartphone Xiaomi Redmi 9T 128Gb 4Gb CARBON GR...</td>\n",
              "      <td>/celulares/smartphones/celulares-desbloqueados...</td>\n",
              "      <td>0.0</td>\n",
              "      <td>False</td>\n",
              "      <td>No Free Shipping</td>\n",
              "      <td>4950.0</td>\n",
              "      <td>False</td>\n",
              "      <td>False</td>\n",
              "      <td>False</td>\n",
              "      <td>False</td>\n",
              "      <td>True</td>\n",
              "      <td>xiaomi</td>\n",
              "      <td>12.307381</td>\n",
              "      <td>8.106390e-07</td>\n",
              "      <td>[]</td>\n",
              "      <td>/gm/3pp/asr/bf20f6b8-66a3-4d6b-8dff-5f5e7d207a...</td>\n",
              "      <td>/gm/3pp/asr/bf20f6b8-66a3-4d6b-8dff-5f5e7d207a...</td>\n",
              "      <td>NaN</td>\n",
              "      <td>NaN</td>\n",
              "      <td>NaN</td>\n",
              "      <td>NaN</td>\n",
              "    </tr>\n",
              "    <tr>\n",
              "      <th>2</th>\n",
              "      <td>00693417772677</td>\n",
              "      <td>00693417772677</td>\n",
              "      <td>Xiaomi bocina  Portable Bluetooth Speaker  GRI...</td>\n",
              "      <td>/audio/bocinas-y-bafles/bocinas/xiaomi-bocina-...</td>\n",
              "      <td>0.0</td>\n",
              "      <td>False</td>\n",
              "      <td>No Free Shipping</td>\n",
              "      <td>579.0</td>\n",
              "      <td>False</td>\n",
              "      <td>False</td>\n",
              "      <td>False</td>\n",
              "      <td>False</td>\n",
              "      <td>True</td>\n",
              "      <td>xiaomi</td>\n",
              "      <td>12.307381</td>\n",
              "      <td>4.382517e-07</td>\n",
              "      <td>[]</td>\n",
              "      <td>/gm/3pp/asr/36c1ec19-fa36-4e1b-9f44-aeeaa91fff...</td>\n",
              "      <td>/gm/3pp/asr/36c1ec19-fa36-4e1b-9f44-aeeaa91fff...</td>\n",
              "      <td>Envío en 48 horas</td>\n",
              "      <td>https://i5.walmartimages.com/dfw/fc2bdac6-b013...</td>\n",
              "      <td>NaN</td>\n",
              "      <td>NaN</td>\n",
              "    </tr>\n",
              "    <tr>\n",
              "      <th>3</th>\n",
              "      <td>00019099700077</td>\n",
              "      <td>00019099700077</td>\n",
              "      <td>Mi Truck Builder | Xiaomi | Robot Juguete de b...</td>\n",
              "      <td>/d/f/l/mi-truck-builder-xiaomi-robot-juguete-d...</td>\n",
              "      <td>0.0</td>\n",
              "      <td>False</td>\n",
              "      <td>No Free Shipping</td>\n",
              "      <td>499.0</td>\n",
              "      <td>False</td>\n",
              "      <td>False</td>\n",
              "      <td>False</td>\n",
              "      <td>False</td>\n",
              "      <td>True</td>\n",
              "      <td>xiaomi</td>\n",
              "      <td>12.307381</td>\n",
              "      <td>7.505917e-08</td>\n",
              "      <td>[]</td>\n",
              "      <td>/gm/3pp/asr/33368528-14b9-453c-9c6c-c7183d7e5a...</td>\n",
              "      <td>/gm/3pp/asr/33368528-14b9-453c-9c6c-c7183d7e5a...</td>\n",
              "      <td>NaN</td>\n",
              "      <td>NaN</td>\n",
              "      <td>NaN</td>\n",
              "      <td>NaN</td>\n",
              "    </tr>\n",
              "    <tr>\n",
              "      <th>4</th>\n",
              "      <td>00890612903158</td>\n",
              "      <td>00890612903158</td>\n",
              "      <td>Xiaomi Redmi Note 10s 128 GB 6 GB RAM 64 MP Du...</td>\n",
              "      <td>/celulares/smartphones/celulares-desbloqueados...</td>\n",
              "      <td>0.0</td>\n",
              "      <td>False</td>\n",
              "      <td>No Free Shipping</td>\n",
              "      <td>6198.0</td>\n",
              "      <td>False</td>\n",
              "      <td>False</td>\n",
              "      <td>False</td>\n",
              "      <td>False</td>\n",
              "      <td>True</td>\n",
              "      <td>xiaomi</td>\n",
              "      <td>12.307381</td>\n",
              "      <td>0.000000e+00</td>\n",
              "      <td>[]</td>\n",
              "      <td>/gm/3pp/asr/42be58b2-68ca-4451-b304-6f1c24e90f...</td>\n",
              "      <td>/gm/3pp/asr/42be58b2-68ca-4451-b304-6f1c24e90f...</td>\n",
              "      <td>NaN</td>\n",
              "      <td>NaN</td>\n",
              "      <td>NaN</td>\n",
              "      <td>NaN</td>\n",
              "    </tr>\n",
              "  </tbody>\n",
              "</table>\n",
              "</div>"
            ],
            "text/plain": [
              "               id       productId  ... unitOfMeasure onSale\n",
              "0  00750230095439  00750230095439  ...           NaN    NaN\n",
              "1  00046990294261  00046990294261  ...           NaN    NaN\n",
              "2  00693417772677  00693417772677  ...           NaN    NaN\n",
              "3  00019099700077  00019099700077  ...           NaN    NaN\n",
              "4  00890612903158  00890612903158  ...           NaN    NaN\n",
              "\n",
              "[5 rows x 23 columns]"
            ]
          },
          "metadata": {},
          "execution_count": 5
        }
      ]
    },
    {
      "cell_type": "code",
      "metadata": {
        "id": "2u47KgYQcPfU"
      },
      "source": [
        ""
      ],
      "execution_count": null,
      "outputs": []
    },
    {
      "cell_type": "markdown",
      "metadata": {
        "id": "7cw51zop4kqC"
      },
      "source": [
        "# scrapping sams"
      ]
    },
    {
      "cell_type": "code",
      "metadata": {
        "id": "5s0tKeVTHBFA"
      },
      "source": [
        "import requests\n",
        "\n",
        "\n",
        "'''\n",
        "url = \"https://www.sams.com.mx/sams/search?Ntt=pantalla&No=95&_=1635124678844\"\n",
        "\n",
        "payload={}\n",
        "headers = {\n",
        "  'authority': 'www.sams.com.mx',\n",
        "  'accept': 'application/json, text/javascript, */*; q=0.01',\n",
        "  'user-agent': 'Mozilla/5.0 (X11; Linux x86_64) AppleWebKit/537.36 (KHTML, like Gecko) Chrome/94.0.4606.81 Safari/537.36',\n",
        "  'x-requested-with': 'XMLHttpRequest',\n",
        "  'sec-gpc': '1',\n",
        "  'sec-fetch-site': 'same-origin',\n",
        "  'sec-fetch-mode': 'cors',\n",
        "  'sec-fetch-dest': 'empty','user-agent': 'Mozilla/5.0 (X11; Linux x86_64) AppleWebKit/537.36 (KHTML, like Gecko) Chrome/94.0.4606.81 Safari/537.36'\n",
        "  'referer': 'https://www.sams.com.mx/search/Ntt=pantalla',\n",
        "  'accept-language': 'es-419,es;q=0.9',\n",
        "  'cookie': 'CLOUD=prod-dfw6; AskZipcode=Y; JSESSIONID=E6jpIxdvPnwb08EodlcMUKlo.restapp-267254238-3-1340057250; CL=prod-cdc6; TS01f4281b=0130aff232606065c9a93141954e73707a3607746e877ad7c4ddbc748f73833f6e066238f4ab9d7c1163b9ae2896f0b4ae403d3ce5; TS01e4bdf1=0130aff232606065c9a93141954e73707a3607746e877ad7c4ddbc748f73833f6e066238f4ab9d7c1163b9ae2896f0b4ae403d3ce5; akavpau_vp_sams=1635125317~id=52138295ab1e4d108b7d742a0a4d527b; akavpau_vp_sams=1635125629~id=e468083091fc27e21ab63294e4e659d0'\n",
        "}\n",
        "\n",
        "'''\n",
        "\n",
        "\n",
        "#url = \"https://www.sams.com.mx/sams/search?Ntt=iphone&_=1635024068179\"\n",
        "url = \"https://www.sams.com.mx/sams/search?Ntt=pantalla&No=95\"\n",
        "\n",
        "payload={}\n",
        "headers = {\n",
        "  'authority': 'www.sams.com.mx',\n",
        "  'accept': 'application/json, text/javascript, */*; q=0.01',\n",
        "  'user-agent': 'Mozilla/5.0 (X11; Linux x86_64) AppleWebKit/537.36 (KHTML, like Gecko) Chrome/94.0.4606.81 Safari/537.36',\n",
        "  'x-requested-with': 'XMLHttpRequest',\n",
        "  'sec-gpc': '1',\n",
        "  'sec-fetch-site': 'same-origin',\n",
        "  'sec-fetch-mode': 'cors',\n",
        "  'sec-fetch-dest': 'empty',\n",
        "  'referer': 'https://www.sams.com.mx/search/Ntt=pantalla',\n",
        "  'accept-language': 'es-419,es;q=0.9',\n",
        "  'cookie': 'CLOUD=prod-dfw6; JSESSIONID=h2MCuJH-5QoJQlr1FqYDmMVo.restapp-267254238-3-1340057250; AskZipcode=Y; CL=prod-cdc03; TS01f4281b=0130aff232911a4d804ff0629a31fa7bdfb057a225b7a0751bc1b5870768fd2ecc4571c25bd7e0702a120c39026ec0f9ab40a7f822; TS01e4bdf1=0130aff232911a4d804ff0629a31fa7bdfb057a225b7a0751bc1b5870768fd2ecc4571c25bd7e0702a120c39026ec0f9ab40a7f822; akavpau_vp_sams=1635024668~id=a7e5df36acebdff0445b69a9d1703bf3; akavpau_vp_sams=1635024947~id=c1b3151c319a92779e866250aacb2bce'\n",
        "}\n",
        "\n",
        "response = requests.request(\"GET\", url, headers=headers)\n",
        "soup = BeautifulSoup(response.content, 'lxml')\n"
      ],
      "execution_count": null,
      "outputs": []
    },
    {
      "cell_type": "code",
      "metadata": {
        "colab": {
          "base_uri": "https://localhost:8080/"
        },
        "id": "_JSw3evZHBVd",
        "outputId": "df665553-d546-48f9-a417-5ae3c0ea5d10"
      },
      "source": [
        "print(soup.text)"
      ],
      "execution_count": null,
      "outputs": [
        {
          "output_type": "stream",
          "name": "stdout",
          "text": [
            "{\"leftArea\":[{\"name\":\"GuidedNav\",\"contents\":[{\"name\":\"Navigation Container\",\"navigation\":[{\"displayName\":\"Categoría\",\"dimensionName\":\"product.category\",\"refinements\":[{\"navigationState\":\"/meses-sin-intereses/_/N-8py?Ntt=pantalla\",\"count\":132,\"label\":\"Meses sin Intereses\",\"dimensionName\":null,\"multiselect\":false,\"properties\":{\"category.repositoryId\":\"cat230005\",\"DisplayOrder\":\"0\",\"category.catalogs.repositoryId\":\"catalog20001\",\"category.rootCatalogId\":\"catalog20001\",\"category.imgurl\":\"/images/banner-images/escaparates/escaparate-msi-170418.png\",\"category.siteId\":\"100001\",\"category.mobileThumbnailImage\":\"/images/App/Banners_app/icono-msi-app-1-191016.jpg\",\"SourceId\":\"cat230005\",\"category.ancestorCatalogIds\":\"catalog20001\"}},{\"navigationState\":\"/electronica-y-computacion/_/N-84u?Ntt=pantalla\",\"count\":128,\"label\":\"Electrónica y Computación\",\"dimensionName\":null,\"multiselect\":false,\"properties\":{\"category.repositoryId\":\"cat30186\",\"DisplayOrder\":\"0\",\"category.catalogs.repositoryId\":\"catalog20001\",\"category.rootCatalogId\":\"catalog20001\",\"category.imgurl\":\"/images/banner-images/escaparates/escaparate-eyc-210727.png\",\"category.siteId\":\"100001\",\"category.mobileThumbnailImage\":\"/images/page-landing-images/iconos/electronica/facets-eyc-electronica-computacion-210901.png\",\"SourceId\":\"cat30186\",\"category.ancestorCatalogIds\":\"catalog20001\"}},{\"navigationState\":\"/celulares-y-smartphones/_/N-839?Ntt=pantalla\",\"count\":23,\"label\":\"Celulares y Smartphones\",\"dimensionName\":null,\"multiselect\":false,\"properties\":{\"category.repositoryId\":\"cat30235\",\"DisplayOrder\":\"0\",\"category.catalogs.repositoryId\":\"catalog20001\",\"category.rootCatalogId\":\"catalog20001\",\"category.imgurl\":\"/images/banner-images/escaparates/escaparate-celulares-210727.png\",\"category.siteId\":\"100001\",\"category.mobileThumbnailImage\":\"/images/page-landing-images/iconos/celulares/facets-celulares-210901.png\",\"SourceId\":\"cat30235\",\"category.ancestorCatalogIds\":\"catalog20001\"}},{\"navigationState\":\"/lo-nuevo/_/N-8tj?Ntt=pantalla\",\"count\":19,\"label\":\"Lo Nuevo\",\"dimensionName\":null,\"multiselect\":false,\"properties\":{\"category.repositoryId\":\"cat280030\",\"DisplayOrder\":\"0\",\"category.catalogs.repositoryId\":\"catalog20001\",\"category.rootCatalogId\":\"catalog20001\",\"category.siteId\":\"100001\",\"category.mobileThumbnailImage\":\"/images/page-landing-images/iconos/app/iconos-app-lo-nuevo-225x225-280220-2.png\",\"SourceId\":\"cat280030\",\"category.ancestorCatalogIds\":\"catalog20001\"}},{\"navigationState\":\"/garantia-extendida/_/N-9tm?Ntt=pantalla\",\"count\":5,\"label\":\"Garantía Extendida\",\"dimensionName\":null,\"multiselect\":false,\"properties\":{\"category.repositoryId\":\"cat550008\",\"DisplayOrder\":\"0\",\"category.catalogs.repositoryId\":\"catalog20001\",\"category.rootCatalogId\":\"catalog20001\",\"category.siteId\":\"100001\",\"category.mobileThumbnailImage\":\"/images/product-images/img_medium/980002063m.jpg\",\"SourceId\":\"cat550008\",\"category.ancestorCatalogIds\":\"catalog20001\"}},{\"navigationState\":\"/hogar/_/N-86c?Ntt=pantalla\",\"count\":5,\"label\":\"Hogar\",\"dimensionName\":null,\"multiselect\":false,\"properties\":{\"category.repositoryId\":\"cat30053\",\"DisplayOrder\":\"0\",\"category.catalogs.repositoryId\":\"catalog20001\",\"category.rootCatalogId\":\"catalog20001\",\"category.imgurl\":\"/images/banner-images/escaparate/escaparate-hogar-210720.png\",\"category.siteId\":\"100001\",\"category.mobileThumbnailImage\":\"/images/page-landing-images/iconos/app/iconos-app-hogar-225x225-280220-2.png\",\"SourceId\":\"cat30053\",\"category.ancestorCatalogIds\":\"catalog20001\"}},{\"navigationState\":\"/exclusivo-online/_/N-a7s?Ntt=pantalla\",\"count\":4,\"label\":\"Exclusivo Online\",\"dimensionName\":null,\"multiselect\":false,\"properties\":{\"category.repositoryId\":\"cat1770035\",\"DisplayOrder\":\"0\",\"category.catalogs.repositoryId\":\"catalog20001\",\"category.rootCatalogId\":\"catalog20001\",\"category.siteId\":\"100001\",\"SourceId\":\"cat1770035\",\"category.ancestorCatalogIds\":\"catalog20001\"}},{\"navigationState\":\"/muebles-de-oficina-papeleria-y-libros/_/N-89f?Ntt=pantalla\",\"count\":3,\"label\":\"Muebles de Oficina, Papelería y Libros\",\"dimensionName\":null,\"multiselect\":false,\"properties\":{\"category.repositoryId\":\"cat30246\",\"DisplayOrder\":\"0\",\"category.catalogs.repositoryId\":\"catalog20001\",\"category.rootCatalogId\":\"catalog20001\",\"category.imgurl\":\"/images/banner-images/escaparates/escaparate-papeleria-210727.png\",\"category.siteId\":\"100001\",\"category.mobileThumbnailImage\":\"/images/page-landing-images/iconos/papeleria/facets-papeleria-210826.png\",\"SourceId\":\"cat30246\",\"category.ancestorCatalogIds\":\"catalog20001\"}},{\"navigationState\":\"/member-s-mark/_/N-8ga?Ntt=pantalla\",\"count\":1,\"label\":\"Member's Mark\",\"dimensionName\":null,\"multiselect\":false,\"properties\":{\"category.repositoryId\":\"cat130001\",\"DisplayOrder\":\"0\",\"category.catalogs.repositoryId\":\"catalog20001\",\"category.rootCatalogId\":\"catalog20001\",\"category.imgurl\":\"/images/banner-images/escaparates/escaparate-membersmark-171201.png\",\"category.siteId\":\"100001\",\"category.mobileThumbnailImage\":\"/images/page-landing-images/iconos/app/members-mark-200225.png\",\"SourceId\":\"cat130001\",\"category.ancestorCatalogIds\":\"catalog20001\"}}],\"multiSelect\":false},{\"displayName\":\"Entrega a domicillio\",\"dimensionName\":\"product.HomeDelivery\",\"refinements\":[{\"navigationState\":\"/_/N-1z141z2?Ntt=pantalla\",\"count\":140,\"label\":\"FX\",\"dimensionName\":null,\"multiselect\":false,\"properties\":{}}],\"multiSelect\":false},{\"displayName\":\"Recogida y entrega\",\"dimensionName\":\"product.pickAtStore\",\"refinements\":[{\"navigationState\":\"/_/N-1z141yx?Ntt=pantalla\",\"count\":140,\"label\":\"Pick at Store\",\"dimensionName\":null,\"multiselect\":false,\"properties\":{}}],\"multiSelect\":false},{\"displayName\":\"Price\",\"dimensionName\":\"product.price_range\",\"refinements\":[{\"navigationState\":\"/_/N-j?Ntt=pantalla\",\"count\":38,\"label\":\"Más de 800\",\"dimensionName\":null,\"multiselect\":true,\"properties\":{\"DGraph.Strata\":\"1\"}},{\"navigationState\":\"/_/N-8?Ntt=pantalla\",\"count\":2,\"label\":\"301 - 400\",\"dimensionName\":null,\"multiselect\":true,\"properties\":{}},{\"navigationState\":\"/_/N-g?Ntt=pantalla\",\"count\":1,\"label\":\"701 - 800\",\"dimensionName\":null,\"multiselect\":true,\"properties\":{}},{\"navigationState\":\"/_/N-e?Ntt=pantalla\",\"count\":1,\"label\":\"601 - 700\",\"dimensionName\":null,\"multiselect\":true,\"properties\":{}},{\"navigationState\":\"/_/N-c?Ntt=pantalla\",\"count\":1,\"label\":\"501 - 600\",\"dimensionName\":null,\"multiselect\":true,\"properties\":{}},{\"navigationState\":\"/_/N-a?Ntt=pantalla\",\"count\":1,\"label\":\"401 - 500\",\"dimensionName\":null,\"multiselect\":true,\"properties\":{}}],\"multiSelect\":true},{\"displayName\":\"Planes de pago\",\"dimensionName\":\"product.paymentPlans\",\"refinements\":[{\"navigationState\":\"/_/N-1z13x8l?Ntt=pantalla\",\"count\":130,\"label\":\"6\",\"dimensionName\":null,\"multiselect\":false,\"properties\":{}},{\"navigationState\":\"/_/N-1z13vmg?Ntt=pantalla\",\"count\":130,\"label\":\"9\",\"dimensionName\":null,\"multiselect\":false,\"properties\":{}},{\"navigationState\":\"/_/N-1z13pue?Ntt=pantalla\",\"count\":130,\"label\":\"13\",\"dimensionName\":null,\"multiselect\":false,\"properties\":{}},{\"navigationState\":\"/_/N-1z13x5q?Ntt=pantalla\",\"count\":124,\"label\":\"3\",\"dimensionName\":null,\"multiselect\":false,\"properties\":{}}],\"multiSelect\":false},{\"displayName\":\"Promociones\",\"dimensionName\":\"product.promotions\",\"refinements\":[{\"navigationState\":\"/_/N-1z13vmb?Ntt=pantalla\",\"count\":3,\"label\":\"Exclusivo Online\",\"dimensionName\":null,\"multiselect\":false,\"properties\":{}}],\"multiSelect\":false},{\"displayName\":\"Marca\",\"dimensionName\":\"Brand\",\"refinements\":[{\"navigationState\":\"/_/N-1z141i3?Ntt=pantalla\",\"count\":28,\"label\":\"LG\",\"dimensionName\":null,\"multiselect\":true,\"properties\":{}},{\"navigationState\":\"/_/N-1z141kz?Ntt=pantalla\",\"count\":27,\"label\":\"Samsung\",\"dimensionName\":null,\"multiselect\":true,\"properties\":{}},{\"navigationState\":\"/_/N-1z141f3?Ntt=pantalla\",\"count\":20,\"label\":\"Apple\",\"dimensionName\":null,\"multiselect\":true,\"properties\":{}},{\"navigationState\":\"/_/N-1z13zmh?Ntt=pantalla\",\"count\":17,\"label\":\"Hisense\",\"dimensionName\":null,\"multiselect\":true,\"properties\":{}},{\"navigationState\":\"/_/N-1z13rer?Ntt=pantalla\",\"count\":13,\"label\":\"TCL\",\"dimensionName\":null,\"multiselect\":true,\"properties\":{}},{\"navigationState\":\"/_/N-1z141ks?Ntt=pantalla\",\"count\":11,\"label\":\"Sony\",\"dimensionName\":null,\"multiselect\":true,\"properties\":{}},{\"navigationState\":\"/_/N-1z13zok?Ntt=pantalla\",\"count\":7,\"label\":\"JVC\",\"dimensionName\":null,\"multiselect\":true,\"properties\":{}},{\"navigationState\":\"/_/N-1z13qie?Ntt=pantalla\",\"count\":5,\"label\":\"Pantallas\",\"dimensionName\":null,\"multiselect\":true,\"properties\":{}},{\"navigationState\":\"/_/N-1z140ei?Ntt=pantalla\",\"count\":3,\"label\":\"Macformet\",\"dimensionName\":null,\"multiselect\":true,\"properties\":{}},{\"navigationState\":\"/_/N-1z141u5?Ntt=pantalla\",\"count\":2,\"label\":\"Member's Mark\",\"dimensionName\":null,\"multiselect\":true,\"properties\":{}},{\"navigationState\":\"/_/N-1z13ry8?Ntt=pantalla\",\"count\":2,\"label\":\"Cygnett\",\"dimensionName\":null,\"multiselect\":true,\"properties\":{}},{\"navigationState\":\"/_/N-1z141h8?Ntt=pantalla\",\"count\":1,\"label\":\"Bose\",\"dimensionName\":null,\"multiselect\":true,\"properties\":{}},{\"navigationState\":\"/_/N-1z140dp?Ntt=pantalla\",\"count\":1,\"label\":\"Panasonic\",\"dimensionName\":null,\"multiselect\":true,\"properties\":{}},{\"navigationState\":\"/_/N-1z13v6z?Ntt=pantalla\",\"count\":1,\"label\":\"Infragen\",\"dimensionName\":null,\"multiselect\":true,\"properties\":{}},{\"navigationState\":\"/_/N-1z13msu?Ntt=pantalla\",\"count\":1,\"label\":\"Dixy\",\"dimensionName\":null,\"multiselect\":true,\"properties\":{}},{\"navigationState\":\"/_/N-1z13mqq?Ntt=pantalla\",\"count\":1,\"label\":\"Sansui\",\"dimensionName\":null,\"multiselect\":true,\"properties\":{}}],\"multiSelect\":true},{\"displayName\":\"Capacidad de almacenamiento\",\"dimensionName\":\"Capacidad_De_Almacenamiento\",\"refinements\":[{\"navigationState\":\"/_/N-1z13wps?Ntt=pantalla\",\"count\":4,\"label\":\"64 GB\",\"dimensionName\":null,\"multiselect\":true,\"properties\":{}},{\"navigationState\":\"/_/N-1z13wr1?Ntt=pantalla\",\"count\":3,\"label\":\"128 GB\",\"dimensionName\":null,\"multiselect\":true,\"properties\":{}},{\"navigationState\":\"/_/N-1z13wsz?Ntt=pantalla\",\"count\":2,\"label\":\"8 GB\",\"dimensionName\":null,\"multiselect\":true,\"properties\":{}},{\"navigationState\":\"/_/N-1z13wrb?Ntt=pantalla\",\"count\":2,\"label\":\"32 GB\",\"dimensionName\":null,\"multiselect\":true,\"properties\":{}},{\"navigationState\":\"/_/N-1z13wr4?Ntt=pantalla\",\"count\":2,\"label\":\"256 GB\",\"dimensionName\":null,\"multiselect\":true,\"properties\":{}},{\"navigationState\":\"/_/N-1z13rpc?Ntt=pantalla\",\"count\":1,\"label\":\"512 GB\",\"dimensionName\":null,\"multiselect\":true,\"properties\":{}}],\"multiSelect\":true},{\"displayName\":\"Capacidad memoria RAM\",\"dimensionName\":\"Capacidad_Memoria_RAM\",\"refinements\":[{\"navigationState\":\"/_/N-1z13wso?Ntt=pantalla\",\"count\":3,\"label\":\"4 GB\",\"dimensionName\":null,\"multiselect\":true,\"properties\":{}},{\"navigationState\":\"/_/N-1z13wui?Ntt=pantalla\",\"count\":1,\"label\":\"8 GB\",\"dimensionName\":null,\"multiselect\":true,\"properties\":{}},{\"navigationState\":\"/_/N-1z13wmg?Ntt=pantalla\",\"count\":1,\"label\":\"16 GB\",\"dimensionName\":null,\"multiselect\":true,\"properties\":{}}],\"multiSelect\":true},{\"displayName\":\"Color\",\"dimensionName\":\"Color\",\"refinements\":[{\"navigationState\":\"/_/N-1z13x16?Ntt=pantalla\",\"count\":91,\"label\":\"Negro\",\"dimensionName\":null,\"multiselect\":true,\"properties\":{}},{\"navigationState\":\"/_/N-1z13x0v?Ntt=pantalla\",\"count\":19,\"label\":\"Gris\",\"dimensionName\":null,\"multiselect\":true,\"properties\":{}},{\"navigationState\":\"/_/N-1z13x25?Ntt=pantalla\",\"count\":4,\"label\":\"Rojo\",\"dimensionName\":null,\"multiselect\":true,\"properties\":{}},{\"navigationState\":\"/_/N-1z13x2o?Ntt=pantalla\",\"count\":3,\"label\":\"Blanco\",\"dimensionName\":null,\"multiselect\":true,\"properties\":{}},{\"navigationState\":\"/_/N-1z13x11?Ntt=pantalla\",\"count\":1,\"label\":\"Azul\",\"dimensionName\":null,\"multiselect\":true,\"properties\":{}},{\"navigationState\":\"/_/N-1z13wxa?Ntt=pantalla\",\"count\":1,\"label\":\"Café\",\"dimensionName\":null,\"multiselect\":true,\"properties\":{}},{\"navigationState\":\"/_/N-1z13wrw?Ntt=pantalla\",\"count\":1,\"label\":\"Rosa\",\"dimensionName\":null,\"multiselect\":true,\"properties\":{}},{\"navigationState\":\"/_/N-1z13wp3?Ntt=pantalla\",\"count\":1,\"label\":\"Plata\",\"dimensionName\":null,\"multiselect\":true,\"properties\":{}}],\"multiSelect\":true},{\"displayName\":\"Conectividad de red\",\"dimensionName\":\"Conectividad_de_Red\",\"refinements\":[{\"navigationState\":\"/_/N-1z13wve?Ntt=pantalla\",\"count\":1,\"label\":\"Inalámbrica\",\"dimensionName\":null,\"multiselect\":true,\"properties\":{}}],\"multiSelect\":true},{\"displayName\":\"Resolución\",\"dimensionName\":\"Resoluci_n\",\"refinements\":[{\"navigationState\":\"/_/N-1z13pb7?Ntt=pantalla\",\"count\":51,\"label\":\"UHD 4K\",\"dimensionName\":null,\"multiselect\":true,\"properties\":{}},{\"navigationState\":\"/_/N-1z13wvm?Ntt=pantalla\",\"count\":9,\"label\":\"HD\",\"dimensionName\":null,\"multiselect\":true,\"properties\":{}},{\"navigationState\":\"/_/N-1z13sfd?Ntt=pantalla\",\"count\":9,\"label\":\"HD+\",\"dimensionName\":null,\"multiselect\":true,\"properties\":{}},{\"navigationState\":\"/_/N-1z13rsm?Ntt=pantalla\",\"count\":9,\"label\":\"QLED\",\"dimensionName\":null,\"multiselect\":true,\"properties\":{}},{\"navigationState\":\"/_/N-1z13wnp?Ntt=pantalla\",\"count\":4,\"label\":\"FHD\",\"dimensionName\":null,\"multiselect\":true,\"properties\":{}},{\"navigationState\":\"/_/N-1z13rtt?Ntt=pantalla\",\"count\":4,\"label\":\"OLED\",\"dimensionName\":null,\"multiselect\":true,\"properties\":{}},{\"navigationState\":\"/_/N-1z13rsl?Ntt=pantalla\",\"count\":3,\"label\":\"ULED\",\"dimensionName\":null,\"multiselect\":true,\"properties\":{}},{\"navigationState\":\"/_/N-1z13pck?Ntt=pantalla\",\"count\":3,\"label\":\"FHD+\",\"dimensionName\":null,\"multiselect\":true,\"properties\":{}},{\"navigationState\":\"/_/N-1z13p7o?Ntt=pantalla\",\"count\":3,\"label\":\"NanoCell\",\"dimensionName\":null,\"multiselect\":true,\"properties\":{}},{\"navigationState\":\"/_/N-1z13pnn?Ntt=pantalla\",\"count\":2,\"label\":\"UHD\",\"dimensionName\":null,\"multiselect\":true,\"properties\":{}}],\"multiSelect\":true},{\"displayName\":\"Smart\",\"dimensionName\":\"Smart\",\"refinements\":[{\"navigationState\":\"/_/N-1z13xwo?Ntt=pantalla\",\"count\":28,\"label\":\"Sí\",\"dimensionName\":null,\"multiselect\":true,\"properties\":{}}],\"multiSelect\":true},{\"displayName\":\"Tamaño de Pantalla\",\"dimensionName\":\"Tama_o_de_Pantalla\",\"refinements\":[{\"navigationState\":\"/_/N-1z13wsg?Ntt=pantalla\",\"count\":17,\"label\":\"55\\\"\",\"dimensionName\":null,\"multiselect\":true,\"properties\":{}},{\"navigationState\":\"/_/N-1z13wna?Ntt=pantalla\",\"count\":12,\"label\":\"50\\\"\",\"dimensionName\":null,\"multiselect\":true,\"properties\":{}},{\"navigationState\":\"/_/N-1z13wlh?Ntt=pantalla\",\"count\":11,\"label\":\"65\\\"\",\"dimensionName\":null,\"multiselect\":true,\"properties\":{}},{\"navigationState\":\"/_/N-1z13wvo?Ntt=pantalla\",\"count\":6,\"label\":\"43\\\"\",\"dimensionName\":null,\"multiselect\":true,\"properties\":{}},{\"navigationState\":\"/_/N-1z13wci?Ntt=pantalla\",\"count\":6,\"label\":\"70\\\"\",\"dimensionName\":null,\"multiselect\":true,\"properties\":{}},{\"navigationState\":\"/_/N-1z13pbk?Ntt=pantalla\",\"count\":6,\"label\":\"4.0 - 5.0\\\"\",\"dimensionName\":null,\"multiselect\":true,\"properties\":{}},{\"navigationState\":\"/_/N-1z13wvl?Ntt=pantalla\",\"count\":5,\"label\":\"32\\\"\",\"dimensionName\":null,\"multiselect\":true,\"properties\":{}},{\"navigationState\":\"/_/N-1z13wsf?Ntt=pantalla\",\"count\":4,\"label\":\"75\\\"\",\"dimensionName\":null,\"multiselect\":true,\"properties\":{}},{\"navigationState\":\"/_/N-1z13txl?Ntt=pantalla\",\"count\":3,\"label\":\"82\\\"\",\"dimensionName\":null,\"multiselect\":true,\"properties\":{}},{\"navigationState\":\"/_/N-1z13pct?Ntt=pantalla\",\"count\":3,\"label\":\"5.5 - 6.0\\\"\",\"dimensionName\":null,\"multiselect\":true,\"properties\":{}}],\"multiSelect\":true},{\"displayName\":\"Tipo de audio\",\"dimensionName\":\"Tipo_de_Audio\",\"refinements\":[{\"navigationState\":\"/_/N-1z13szl?Ntt=pantalla\",\"count\":28,\"label\":\"Dolby Digital\",\"dimensionName\":null,\"multiselect\":true,\"properties\":{}},{\"navigationState\":\"/_/N-1z13wjc?Ntt=pantalla\",\"count\":14,\"label\":\"Dolby Digital Plus\",\"dimensionName\":null,\"multiselect\":true,\"properties\":{}},{\"navigationState\":\"/_/N-1z13uzv?Ntt=pantalla\",\"count\":11,\"label\":\"Estéreo\",\"dimensionName\":null,\"multiselect\":true,\"properties\":{}},{\"navigationState\":\"/_/N-1z13t87?Ntt=pantalla\",\"count\":9,\"label\":\"Dolby Atmos\",\"dimensionName\":null,\"multiselect\":true,\"properties\":{}},{\"navigationState\":\"/_/N-1z13pb6?Ntt=pantalla\",\"count\":6,\"label\":\"DTS\",\"dimensionName\":null,\"multiselect\":true,\"properties\":{}},{\"navigationState\":\"/_/N-1z13wjb?Ntt=pantalla\",\"count\":5,\"label\":\"Dolby Audio\",\"dimensionName\":null,\"multiselect\":true,\"properties\":{}},{\"navigationState\":\"/_/N-1z13nq3?Ntt=pantalla\",\"count\":3,\"label\":\"DTS Virtual\",\"dimensionName\":null,\"multiselect\":true,\"properties\":{}},{\"navigationState\":\"/_/N-1z13uuf?Ntt=pantalla\",\"count\":2,\"label\":\"Ultra Surround\",\"dimensionName\":null,\"multiselect\":true,\"properties\":{}},{\"navigationState\":\"/_/N-1z13sh9?Ntt=pantalla\",\"count\":2,\"label\":\"Surround\",\"dimensionName\":null,\"multiselect\":true,\"properties\":{}},{\"navigationState\":\"/_/N-1z13mw6?Ntt=pantalla\",\"count\":2,\"label\":\"AI Sound\",\"dimensionName\":null,\"multiselect\":true,\"properties\":{}}],\"multiSelect\":true},{\"displayName\":\"Tipo de pantalla\",\"dimensionName\":\"Tipo_de_Pantalla\",\"refinements\":[{\"navigationState\":\"/_/N-1z13oye?Ntt=pantalla\",\"count\":51,\"label\":\"Smart TV\",\"dimensionName\":null,\"multiselect\":true,\"properties\":{}},{\"navigationState\":\"/_/N-1z13oli?Ntt=pantalla\",\"count\":13,\"label\":\"Android TV\",\"dimensionName\":null,\"multiselect\":true,\"properties\":{}},{\"navigationState\":\"/_/N-1z13o1c?Ntt=pantalla\",\"count\":10,\"label\":\"Roku TV\",\"dimensionName\":null,\"multiselect\":true,\"properties\":{}},{\"navigationState\":\"/_/N-1z13mp6?Ntt=pantalla\",\"count\":3,\"label\":\"Vidaa TV\",\"dimensionName\":null,\"multiselect\":true,\"properties\":{}},{\"navigationState\":\"/_/N-1z13wz1?Ntt=pantalla\",\"count\":2,\"label\":\"Plana\",\"dimensionName\":null,\"multiselect\":true,\"properties\":{}},{\"navigationState\":\"/_/N-1z13p7p?Ntt=pantalla\",\"count\":1,\"label\":\"Ultra Grande\",\"dimensionName\":null,\"multiselect\":true,\"properties\":{}}],\"multiSelect\":true},{\"sliderMax\":\"1000\",\"sliderMin\":\"0\",\"priceProperty\":\"sku.finalPrice\",\"@type\":\"WMXPriceSlider\",\"name\":\"Price\",\"boundaries\":[{\"name\":\"upperBound\",\"value\":\"64335.450000\",\"@type\":\"DynamicRangeBoundary\"},{\"name\":\"lowerBound\",\"value\":\"305.860000\",\"@type\":\"DynamicRangeBoundary\"}],\"enabled\":true,\"refinements\":null}],\"@type\":\"GuidedNavigation\"}],\"@type\":\"ContentSlot-Secondary\"},{\"name\":\"Adslot sky\",\"contents\":[{\"name\":\"adslot sky\",\"className\":\"dfp-class\",\"id\":\"dfp-bn-3\",\"@type\":\"WMXSecondaryAdPlacement\"}],\"@type\":\"ContentSlot-Secondary\"}],\"mainArea\":[{\"name\":\"Banner\",\"contents\":[{\"trackingTags\":\"\",\"tagId\":\"\",\"@type\":\"WMXBannerContainer\",\"campaignId\":\"\",\"module\":\"slider-banner\",\"menuPosition\":\"\",\"description\":\"\",\"title\":\"\",\"banners\":[{\"mobileAssetUrl\":\"/images/page-landing-images/electronica-y-computo/banners/2021/10/bhm-promos-tec-ahorros-pantallas-211020-608x392.jpg\",\"trackingTags\":\"Ahorros Pantallas\",\"tagId\":\"211021|ahorros-pantallas\",\"@type\":\"WMXBanner\",\"ImageAltTag\":\"Ahorros Pantallas\",\"caption\":\"Ahorros Pantallas\",\"description\":\"\",\"title\":\"\",\"HexadecimalColor\":\"#ffffff\",\"url\":\"/electronica-y-computacion/pantallas-y-audio/pantallas/_/N-8kr\",\"creative\":\"busqueda|banner-principal\",\"subtitle\":\"\",\"name\":\"Ahorros Pantallas\",\"thumbUrl\":\"\",\"campaignName\":\"promociones|tecnologia\",\"assetUrl\":\"/images/page-landing-images/electronica-y-computo/banners/2021/10/bh-promos-tec-ahorros-pantallas-211020-1500x320.jpg\"},{\"mobileAssetUrl\":\"/images/page-landing-images/cops/lg/bhm-cuponera-tec-lg-oled-211012-608x392.jpg\",\"trackingTags\":\"LG Oled\",\"tagId\":\"20211013|mtz lg master proveedor banner search\",\"@type\":\"WMXBanner\",\"ImageAltTag\":\"LG Oled\",\"caption\":\"LG Oled\",\"description\":\"\",\"title\":\"\",\"HexadecimalColor\":\"#ffffff\",\"url\":\"/c/lg/pantallas/cat710001\",\"creative\":\"busqueda |banner-principal\",\"subtitle\":\"\",\"name\":\"LG Oled\",\"thumbUrl\":\"\",\"campaignName\":\"lg|master proveedor\",\"assetUrl\":\"/images/page-landing-images/cops/lg/bh-cuponera-tec-lg-oled-211012-1500x320.jpg\"}],\"creative\":\"\",\"layout\":\"1-2-1\",\"timer\":\"5\",\"transitionEffect\":\"slide-left\",\"name\":\"Categoria Vinos y Licores\",\"campaignName\":\"\"}],\"@type\":\"ContentSlot-Main\"},{\"name\":\"BoxBanner\",\"contents\":[],\"@type\":\"ContentSlot-Main\"},{\"name\":\"Recomendados\",\"contents\":[],\"@type\":\"ContentSlot-Main\"},{\"name\":\"Search Html\",\"contents\":[],\"@type\":\"ContentSlot-Main\"},{\"name\":\"Ad Server\\tModule\",\"ads\":[{\"name\":\"Ad top\",\"targeting\":[{\"name\":\"LoggedIn User\\tAd Targeting\",\"value\":true,\"@type\":\"WMXLoggedInUserAdTargeting\",\"key\":\"reg\"},{\"name\":\"Position Ad Targeting\",\"value\":\"toplb\",\"@type\":\"WMXPositionAdTargeting\",\"key\":\"pos\"},{\"name\":\"Page type Targeting\",\"value\":\"BUSCAR\",\"@type\":\"WMXFreeFormAdTargeting\",\"key\":\"pos\"}],\"id\":\"dfp-bn-1\",\"ad\":\"/149821986/SAMS_CLUB/BUSCAR\",\"@type\":\"WMXAd\"},{\"name\":\"Ad bottom\",\"targeting\":[{\"name\":\"Page type targeting\",\"value\":\"BUSCAR\",\"@type\":\"WMXFreeFormAdTargeting\",\"key\":\"pgtype\"},{\"name\":\"LoggedIn User\\tAd Targeting\",\"value\":true,\"@type\":\"WMXLoggedInUserAdTargeting\",\"key\":\"reg\"},{\"name\":\"Position Ad Targeting\",\"value\":\"bottomlb\",\"@type\":\"WMXPositionAdTargeting\",\"key\":\"pos\"}],\"id\":\"dfp-bn-2\",\"ad\":\"/149821986/SAMS_CLUB/BUSCAR\",\"@type\":\"WMXAd\"},{\"name\":\"Ad sky\",\"targeting\":[{\"name\":\"Page type targeting\",\"value\":\"BUSCAR\",\"@type\":\"WMXFreeFormAdTargeting\",\"key\":\"pgtype\"},{\"name\":\"Position Ad Targeting\",\"value\":\"sky\",\"@type\":\"WMXPositionAdTargeting\",\"key\":\"pos\"},{\"name\":\"LoggedIn User\\tAd Targeting\",\"value\":true,\"@type\":\"WMXLoggedInUserAdTargeting\",\"key\":\"reg\"}],\"id\":\"dfp-bn-3\",\"ad\":\"/149821986/SAMS_CLUB/BUSCAR\",\"@type\":\"WMXAd\"}],\"@type\":\"WMXAdConfigurationModule\",\"module\":\"Ad\\tServer\"},{\"name\":\"Adslot top\",\"contents\":[{\"name\":\"Adslot top\",\"className\":\"dfp-class dfp-reference\",\"id\":\"dfp-bn-1\",\"@type\":\"WMXMainAdPlacement\"}],\"@type\":\"ContentSlot-Main\"},{\"name\":\"ProductsCarousel\",\"contents\":[],\"@type\":\"ContentSlot-Main\"},{\"name\":\"ProductsCarousel\",\"contents\":[],\"@type\":\"ContentSlot-Main\"},{\"name\":\"ProductsCarousel\",\"contents\":[],\"@type\":\"ContentSlot-Main\"},{\"name\":\"ProductsCarousel\",\"contents\":[],\"@type\":\"ContentSlot-Main\"},{\"name\":\"Results List\",\"contents\":[{\"lastRecNum\":127,\"records\":[{\"records\":[{\"records\":null,\"numRecords\":0,\"attributes\":{\"sku.lastPrice\":[\"12888.78\"],\"maxQuantity\":[\"60.0\"],\"HomeDelivery\":[\"FX\"],\"sku.finalPrice\":[\"11149.68\"],\"skuStatusFlag\":[\"A\"],\"sku.repositoryId\":[\"980029842\"],\"sku.weighable\":[\"0\"],\"product.seoURL\":[\"[/pantallas/pantalla-tcl-50-pulgadas-uhd-4k-android-tv-50a445/980029842]\"],\"product.HomeDelivery\":[\"FX\"],\"expressDelivery\":[\"Express Delivery\"],\"record.spec\":[\"sku-980029842..0980029842.catalog20001.es__MX\"],\"priceStrikeOff\":[1],\"PickAtStore\":[\"Pick at Store\"],\"STR0000009999\":[\"SELLABLE\"],\"sku.isBigItem\":[\"0\"],\"skuDisplayName\":[\"Pantalla TCL 50 Pulgadas UHD 4K Android TV 50A445\"]}}],\"numRecords\":1,\"attributes\":{\"sku.availableStores\":[\"0000004727\",\"0000004728\",\"0000004746\",\"0000004790\",\"0000004791\",\"0000004792\",\"0000004801\",\"0000004805\",\"0000004827\",\"0000004832\",\"0000004841\",\"0000004862\",\"0000004877\",\"0000004878\",\"0000004879\",\"0000004901\",\"0000004910\",\"0000004911\",\"0000004913\",\"0000004914\",\"0000004934\",\"0000004935\",\"0000004936\",\"0000004937\",\"0000004938\",\"0000004939\",\"0000004941\",\"0000004944\",\"0000004945\",\"0000004946\",\"0000004947\",\"0000004948\",\"0000004949\",\"0000004950\",\"0000004951\",\"0000004954\",\"0000004955\",\"0000004957\",\"0000004958\",\"0000004960\",\"0000004961\",\"0000004968\",\"0000004969\",\"0000004970\",\"0000004972\",\"0000004973\",\"0000004975\",\"0000004977\",\"0000004978\",\"0000004979\",\"0000004981\",\"0000004982\",\"0000004983\",\"0000004984\",\"0000004985\",\"0000004986\",\"0000004987\",\"0000004988\",\"0000004989\",\"0000004991\",\"0000004992\",\"0000004999\",\"0000006039\",\"0000006204\",\"0000006205\",\"0000006206\",\"0000006207\",\"0000006208\",\"0000006209\",\"0000006210\",\"0000006211\",\"0000006212\",\"0000006213\",\"0000006215\",\"0000006217\",\"0000006218\",\"0000006219\",\"0000006221\",\"0000006222\",\"0000006223\",\"0000006224\",\"0000006225\",\"0000006226\",\"0000006227\",\"0000006229\",\"0000006232\",\"0000006233\",\"0000006234\",\"0000006236\",\"0000006237\",\"0000006240\",\"0000006241\",\"0000006242\",\"0000006243\",\"0000006244\",\"0000006246\",\"0000006247\",\"0000006248\",\"0000006249\",\"0000006251\",\"0000006252\",\"0000006254\",\"0000006258\",\"0000006260\",\"0000006261\",\"0000006263\",\"0000006264\",\"0000006265\",\"0000006274\",\"0000006275\",\"0000006277\",\"0000006279\",\"0000006282\",\"0000006283\",\"0000006285\",\"0000006286\",\"0000006287\",\"0000006288\",\"0000006289\",\"0000006290\",\"0000006293\",\"0000006294\",\"0000006295\",\"0000006296\",\"0000006297\",\"0000006298\",\"0000006300\",\"0000006305\",\"0000006307\",\"0000006308\",\"0000006309\",\"0000006313\",\"0000006314\",\"0000006390\",\"0000006391\",\"0000006392\",\"0000006393\",\"0000006394\",\"0000006395\",\"0000006396\",\"0000006397\",\"0000006398\",\"0000006467\",\"0000006468\",\"0000006469\",\"0000006470\",\"0000006497\",\"0000006513\",\"0000006523\",\"0000006534\",\"0000006557\",\"0000006563\",\"0000006574\",\"0000006576\",\"0000006577\",\"0000006578\",\"0000006583\",\"0000006584\",\"0000006585\",\"0000006586\",\"0000008118\",\"0000008121\",\"0000008122\",\"0000008124\",\"0000008127\",\"0000008240\",\"0000009999\"],\"sku.lastPrice\":[\"12888.78\"],\"product.smallImage.url\":[\"/images/product-images/img_small/980029842s.jpg\"],\"HomeDelivery\":[\"FX\"],\"product.family\":[\"12 Meses sin Intereses\",\"3, 6 ó 9 Meses sin Intereses\",\"Electrónica\",\"Pantallas y Audio\",\"Promociones Bancarias\",\"Promociones Citibanamex\",\"Tecnología y Entretenimiento\"],\"product.displayName\":[\"Pantalla\"],\"expressDeliveryEligible\":[\"false\"],\"sku.finalPrice\":[\"11149.68\"],\"PickupInStock\":[\"true\"],\"sku.repositoryId\":[\"980029842\"],\"sku.weighable\":[\"0\"],\"sku.oosStores\":[\"0000006039\"],\"product.seoURL\":[\"[/pantallas/pantalla-tcl-50-pulgadas-uhd-4k-android-tv-50a445/980029842]\"],\"sku.smallImage.url\":[\"/images/product-images/img_small/980029842s.jpg\"],\"expressDelivery\":[\"Express Delivery\"],\"PickupEligible\":[\"true\"],\"sku.displayName\":[\"Pantalla\"],\"DeliveryInStock\":[\"true\"],\"sku.unit_of_measure\":[\"eaches\"],\"DeliveryEligible\":[\"true\"],\"record.type.raw\":[\"product\",\"sku\"],\"product.department\":[\"Electrónica y Computación\",\"Meses sin Intereses\",\"Sams Club Ofertas\",\"Sociofest\"],\"record.id\":[\"sku-980029842..0980029842.catalog20001.es__MX\"],\"expressDeliveryInStock\":[\"false\"],\"Brand\":[\"TCL\"],\"product.repositoryId\":[\"0980029842\"],\"PickAtStore\":[\"Pick at Store\"],\"PaymentPlan\":[\"13\",\"3\",\"6\",\"9\"],\"product.displayText\":[\"Pantalla TCL 50 Pulgadas UHD 4K Android TV 50A445\"],\"skuDisplayName\":[\"Pantalla TCL 50 Pulgadas UHD 4K Android TV 50A445\"],\"product.fineline\":[\"Pantallas\",\"Tecnologia y Electrónica\"]}},{\"records\":[{\"records\":null,\"numRecords\":0,\"attributes\":{\"sku.lastPrice\":[\"14832.48\"],\"maxQuantity\":[\"60.0\"],\"HomeDelivery\":[\"FX\"],\"sku.finalPrice\":[\"13195.68\"],\"skuStatusFlag\":[\"A\"],\"sku.repositoryId\":[\"980029844\"],\"sku.weighable\":[\"0\"],\"product.seoURL\":[\"[/pantallas/pantalla-tcl-55-pulgadas-uhd-4k-android-tv-55a443/980029844]\"],\"product.HomeDelivery\":[\"FX\"],\"expressDelivery\":[\"Express Delivery\"],\"record.spec\":[\"sku-980029844..0980029844.catalog20001.es__MX\"],\"priceStrikeOff\":[1],\"PickAtStore\":[\"Pick at Store\"],\"STR0000009999\":[\"SELLABLE\"],\"sku.isBigItem\":[\"0\"],\"skuDisplayName\":[\"Pantalla TCL 55 pulgadas UHD 4K Android TV 55A443\"]}}],\"numRecords\":1,\"attributes\":{\"sku.availableStores\":[\"0000004728\",\"0000004746\",\"0000004790\",\"0000004791\",\"0000004792\",\"0000004801\",\"0000004805\",\"0000004827\",\"0000004832\",\"0000004841\",\"0000004862\",\"0000004877\",\"0000004878\",\"0000004879\",\"0000004901\",\"0000004910\",\"0000004911\",\"0000004913\",\"0000004934\",\"0000004935\",\"0000004936\",\"0000004937\",\"0000004938\",\"0000004939\",\"0000004941\",\"0000004944\",\"0000004945\",\"0000004946\",\"0000004947\",\"0000004948\",\"0000004949\",\"0000004950\",\"0000004951\",\"0000004954\",\"0000004955\",\"0000004957\",\"0000004958\",\"0000004960\",\"0000004961\",\"0000004968\",\"0000004969\",\"0000004970\",\"0000004972\",\"0000004973\",\"0000004975\",\"0000004977\",\"0000004978\",\"0000004979\",\"0000004981\",\"0000004982\",\"0000004985\",\"0000004986\",\"0000004987\",\"0000004988\",\"0000004989\",\"0000004991\",\"0000004992\",\"0000004999\",\"0000006039\",\"0000006204\",\"0000006205\",\"0000006206\",\"0000006207\",\"0000006208\",\"0000006209\",\"0000006210\",\"0000006211\",\"0000006212\",\"0000006213\",\"0000006215\",\"0000006217\",\"0000006218\",\"0000006219\",\"0000006221\",\"0000006222\",\"0000006223\",\"0000006224\",\"0000006225\",\"0000006227\",\"0000006229\",\"0000006232\",\"0000006233\",\"0000006234\",\"0000006236\",\"0000006237\",\"0000006240\",\"0000006241\",\"0000006242\",\"0000006243\",\"0000006244\",\"0000006246\",\"0000006247\",\"0000006248\",\"0000006249\",\"0000006252\",\"0000006254\",\"0000006258\",\"0000006260\",\"0000006261\",\"0000006263\",\"0000006264\",\"0000006265\",\"0000006274\",\"0000006275\",\"0000006277\",\"0000006279\",\"0000006282\",\"0000006283\",\"0000006285\",\"0000006286\",\"0000006287\",\"0000006288\",\"0000006289\",\"0000006290\",\"0000006293\",\"0000006294\",\"0000006295\",\"0000006296\",\"0000006297\",\"0000006298\",\"0000006300\",\"0000006305\",\"0000006307\",\"0000006308\",\"0000006309\",\"0000006313\",\"0000006314\",\"0000006390\",\"0000006391\",\"0000006392\",\"0000006393\",\"0000006394\",\"0000006395\",\"0000006396\",\"0000006397\",\"0000006398\",\"0000006467\",\"0000006468\",\"0000006469\",\"0000006470\",\"0000006497\",\"0000006513\",\"0000006523\",\"0000006534\",\"0000006557\",\"0000006563\",\"0000006574\",\"0000006576\",\"0000006577\",\"0000006578\",\"0000006584\",\"0000006585\",\"0000006586\",\"0000008118\",\"0000008121\",\"0000008122\",\"0000008124\",\"0000008127\",\"0000008240\",\"0000009999\"],\"sku.lastPrice\":[\"14832.48\"],\"product.smallImage.url\":[\"/images/product-images/img_small/980029844s.jpg\"],\"HomeDelivery\":[\"FX\"],\"product.family\":[\"12 Meses sin Intereses\",\"3, 6 ó 9 Meses sin Intereses\",\"Electrónica\",\"Pantallas y Audio\",\"Promociones Bancarias\",\"Promociones Citibanamex\",\"Tecnología\",\"Tecnología y Entretenimiento\"],\"product.displayName\":[\"Pantalla\"],\"expressDeliveryEligible\":[\"false\"],\"sku.finalPrice\":[\"13195.68\"],\"PickupInStock\":[\"true\"],\"sku.repositoryId\":[\"980029844\"],\"sku.weighable\":[\"0\"],\"sku.oosStores\":[\"0000006039\"],\"product.seoURL\":[\"[/pantallas/pantalla-tcl-55-pulgadas-uhd-4k-android-tv-55a443/980029844]\"],\"sku.smallImage.url\":[\"/images/product-images/img_small/980029844s.jpg\"],\"expressDelivery\":[\"Express Delivery\"],\"PickupEligible\":[\"true\"],\"sku.displayName\":[\"Pantalla\"],\"DeliveryInStock\":[\"true\"],\"sku.unit_of_measure\":[\"eaches\"],\"DeliveryEligible\":[\"true\"],\"record.type.raw\":[\"product\",\"sku\"],\"product.department\":[\"Categorías_Exclusivas_App\",\"Cuponera Sams\",\"Electrónica y Computación\",\"Meses sin Intereses\",\"Sams Club Ofertas\",\"Sociofest\"],\"record.id\":[\"sku-980029844..0980029844.catalog20001.es__MX\"],\"expressDeliveryInStock\":[\"false\"],\"Brand\":[\"TCL\"],\"product.repositoryId\":[\"0980029844\"],\"PickAtStore\":[\"Pick at Store\"],\"PaymentPlan\":[\"13\",\"3\",\"6\",\"9\"],\"product.displayText\":[\"Pantalla TCL 55 pulgadas UHD 4K Android TV 55A443\"],\"skuDisplayName\":[\"Pantalla TCL 55 pulgadas UHD 4K Android TV 55A443\"],\"product.fineline\":[\"Pantallas\",\"Tecnologia y Electrónica\"]}},{\"records\":[{\"records\":null,\"numRecords\":0,\"attributes\":{\"sku.lastPrice\":[\"3784.07\"],\"maxQuantity\":[\"60.0\"],\"HomeDelivery\":[\"FX\"],\"sku.finalPrice\":[\"3784.07\"],\"skuStatusFlag\":[\"A\"],\"sku.repositoryId\":[\"980032078\"],\"sku.weighable\":[\"0\"],\"product.seoURL\":[\"[/pantallas/pantalla-sansui-24-pulgadas-hd-smart-tv/980032078]\"],\"product.HomeDelivery\":[\"FX\"],\"expressDelivery\":[\"Express Delivery\"],\"record.spec\":[\"sku-980032078..0980032078.catalog20001.es__MX\"],\"priceStrikeOff\":[\"0.000000\"],\"PickAtStore\":[\"Pick at Store\"],\"STR0000009999\":[\"SELLABLE\"],\"sku.isBigItem\":[\"0\"],\"skuDisplayName\":[\"Pantalla Sansui 24 Pulgadas HD Smart TV\"]}}],\"numRecords\":1,\"attributes\":{\"sku.availableStores\":[\"0000004727\",\"0000004728\",\"0000004746\",\"0000004790\",\"0000004791\",\"0000004792\",\"0000004801\",\"0000004805\",\"0000004827\",\"0000004832\",\"0000004841\",\"0000004862\",\"0000004877\",\"0000004878\",\"0000004879\",\"0000004901\",\"0000004910\",\"0000004911\",\"0000004913\",\"0000004914\",\"0000004934\",\"0000004935\",\"0000004936\",\"0000004937\",\"0000004938\",\"0000004939\",\"0000004941\",\"0000004944\",\"0000004945\",\"0000004946\",\"0000004947\",\"0000004948\",\"0000004949\",\"0000004950\",\"0000004951\",\"0000004954\",\"0000004955\",\"0000004957\",\"0000004958\",\"0000004960\",\"0000004961\",\"0000004968\",\"0000004969\",\"0000004970\",\"0000004972\",\"0000004973\",\"0000004975\",\"0000004977\",\"0000004978\",\"0000004979\",\"0000004981\",\"0000004982\",\"0000004983\",\"0000004984\",\"0000004985\",\"0000004986\",\"0000004987\",\"0000004988\",\"0000004989\",\"0000004991\",\"0000004992\",\"0000004999\",\"0000006039\",\"0000006204\",\"0000006205\",\"0000006206\",\"0000006207\",\"0000006208\",\"0000006209\",\"0000006210\",\"0000006211\",\"0000006212\",\"0000006213\",\"0000006215\",\"0000006217\",\"0000006218\",\"0000006219\",\"0000006221\",\"0000006222\",\"0000006223\",\"0000006224\",\"0000006225\",\"0000006226\",\"0000006227\",\"0000006229\",\"0000006232\",\"0000006233\",\"0000006234\",\"0000006236\",\"0000006237\",\"0000006240\",\"0000006241\",\"0000006243\",\"0000006244\",\"0000006246\",\"0000006247\",\"0000006248\",\"0000006249\",\"0000006251\",\"0000006252\",\"0000006254\",\"0000006258\",\"0000006260\",\"0000006261\",\"0000006263\",\"0000006264\",\"0000006265\",\"0000006274\",\"0000006275\",\"0000006277\",\"0000006279\",\"0000006282\",\"0000006283\",\"0000006285\",\"0000006286\",\"0000006287\",\"0000006288\",\"0000006289\",\"0000006290\",\"0000006293\",\"0000006294\",\"0000006295\",\"0000006296\",\"0000006298\",\"0000006300\",\"0000006305\",\"0000006307\",\"0000006308\",\"0000006309\",\"0000006313\",\"0000006390\",\"0000006391\",\"0000006392\",\"0000006393\",\"0000006394\",\"0000006395\",\"0000006396\",\"0000006397\",\"0000006398\",\"0000006467\",\"0000006468\",\"0000006469\",\"0000006470\",\"0000006497\",\"0000006513\",\"0000006523\",\"0000006534\",\"0000006557\",\"0000006563\",\"0000006574\",\"0000006576\",\"0000006577\",\"0000006578\",\"0000006583\",\"0000006584\",\"0000006585\",\"0000006586\",\"0000008118\",\"0000008121\",\"0000008122\",\"0000008124\",\"0000008127\",\"0000008240\",\"0000009999\"],\"sku.lastPrice\":[\"3784.07\"],\"product.smallImage.url\":[\"/images/product-images/img_small/980032078s.jpg\"],\"HomeDelivery\":[\"FX\"],\"product.family\":[\"Electrónica\",\"Pantallas y Audio\",\"Promociones Bancarias\"],\"product.displayName\":[\"Pantalla\"],\"expressDeliveryEligible\":[\"false\"],\"sku.finalPrice\":[\"3784.07\"],\"PickupInStock\":[\"true\"],\"sku.repositoryId\":[\"980032078\"],\"sku.weighable\":[\"0\"],\"sku.oosStores\":[\"0000006039\",\"0000006236\",\"0000006309\"],\"product.seoURL\":[\"[/pantallas/pantalla-sansui-24-pulgadas-hd-smart-tv/980032078]\"],\"sku.smallImage.url\":[\"/images/product-images/img_small/980032078s.jpg\"],\"expressDelivery\":[\"Express Delivery\"],\"PickupEligible\":[\"true\"],\"sku.displayName\":[\"Pantalla\"],\"DeliveryInStock\":[\"true\"],\"sku.unit_of_measure\":[\"eaches\"],\"DeliveryEligible\":[\"true\"],\"record.type.raw\":[\"product\",\"sku\"],\"product.department\":[\"Electrónica y Computación\",\"Meses sin Intereses\",\"Sociofest\"],\"record.id\":[\"sku-980032078..0980032078.catalog20001.es__MX\"],\"expressDeliveryInStock\":[\"false\"],\"Brand\":[\"Sansui\"],\"product.repositoryId\":[\"0980032078\"],\"PickAtStore\":[\"Pick at Store\"],\"PaymentPlan\":[\"13\",\"6\",\"9\"],\"product.displayText\":[\"Pantalla Sansui 24 Pulgadas HD Smart TV\"],\"skuDisplayName\":[\"Pantalla Sansui 24 Pulgadas HD Smart TV\"],\"product.fineline\":[\"Pantallas\",\"Tecnologia y Electrónica\"]}},{\"records\":[{\"records\":null,\"numRecords\":0,\"attributes\":{\"sku.lastPrice\":[\"18003.77\"],\"maxQuantity\":[\"60.0\"],\"HomeDelivery\":[\"FX\"],\"sku.finalPrice\":[\"14934.78\"],\"skuStatusFlag\":[\"A\"],\"sku.repositoryId\":[\"980029446\"],\"sku.weighable\":[\"0\"],\"product.seoURL\":[\"[/pantallas/pantalla-lg-55-pulgadas-smart-tv-uhd-4k-ai-thinq-55up7705psb/980029446]\"],\"product.HomeDelivery\":[\"FX\"],\"expressDelivery\":[\"Express Delivery\"],\"record.spec\":[\"sku-980029446..0980029446.catalog20001.es__MX\"],\"priceStrikeOff\":[1],\"PickAtStore\":[\"Pick at Store\"],\"STR0000009999\":[\"SELLABLE\"],\"sku.isBigItem\":[\"0\"],\"skuDisplayName\":[\"Pantalla LG 55 Pulgadas Smart TV UHD 4K AI ThinQ 55UP7705PSB\"]}}],\"numRecords\":1,\"attributes\":{\"sku.availableStores\":[\"0000004727\",\"0000004728\",\"0000004746\",\"0000004790\",\"0000004791\",\"0000004792\",\"0000004801\",\"0000004805\",\"0000004827\",\"0000004832\",\"0000004841\",\"0000004862\",\"0000004877\",\"0000004878\",\"0000004879\",\"0000004901\",\"0000004910\",\"0000004911\",\"0000004913\",\"0000004914\",\"0000004934\",\"0000004935\",\"0000004936\",\"0000004937\",\"0000004938\",\"0000004939\",\"0000004941\",\"0000004944\",\"0000004945\",\"0000004946\",\"0000004947\",\"0000004948\",\"0000004949\",\"0000004950\",\"0000004951\",\"0000004954\",\"0000004955\",\"0000004957\",\"0000004958\",\"0000004960\",\"0000004961\",\"0000004968\",\"0000004969\",\"0000004970\",\"0000004972\",\"0000004973\",\"0000004975\",\"0000004977\",\"0000004978\",\"0000004979\",\"0000004981\",\"0000004982\",\"0000004983\",\"0000004984\",\"0000004985\",\"0000004986\",\"0000004987\",\"0000004988\",\"0000004989\",\"0000004991\",\"0000004992\",\"0000004999\",\"0000006039\",\"0000006204\",\"0000006205\",\"0000006206\",\"0000006207\",\"0000006208\",\"0000006209\",\"0000006210\",\"0000006211\",\"0000006212\",\"0000006213\",\"0000006215\",\"0000006217\",\"0000006218\",\"0000006219\",\"0000006221\",\"0000006222\",\"0000006223\",\"0000006224\",\"0000006225\",\"0000006226\",\"0000006227\",\"0000006229\",\"0000006232\",\"0000006233\",\"0000006234\",\"0000006236\",\"0000006237\",\"0000006240\",\"0000006241\",\"0000006242\",\"0000006243\",\"0000006244\",\"0000006246\",\"0000006247\",\"0000006248\",\"0000006249\",\"0000006251\",\"0000006252\",\"0000006254\",\"0000006258\",\"0000006260\",\"0000006261\",\"0000006263\",\"0000006264\",\"0000006265\",\"0000006274\",\"0000006275\",\"0000006277\",\"0000006279\",\"0000006282\",\"0000006283\",\"0000006285\",\"0000006286\",\"0000006287\",\"0000006288\",\"0000006289\",\"0000006290\",\"0000006293\",\"0000006294\",\"0000006295\",\"0000006296\",\"0000006297\",\"0000006298\",\"0000006300\",\"0000006305\",\"0000006307\",\"0000006308\",\"0000006309\",\"0000006313\",\"0000006314\",\"0000006390\",\"0000006391\",\"0000006392\",\"0000006393\",\"0000006394\",\"0000006395\",\"0000006396\",\"0000006397\",\"0000006398\",\"0000006467\",\"0000006468\",\"0000006469\",\"0000006470\",\"0000006497\",\"0000006513\",\"0000006523\",\"0000006534\",\"0000006557\",\"0000006563\",\"0000006574\",\"0000006576\",\"0000006577\",\"0000006578\",\"0000006583\",\"0000006584\",\"0000006585\",\"0000006586\",\"0000008118\",\"0000008121\",\"0000008122\",\"0000008124\",\"0000008127\",\"0000008240\",\"0000009999\"],\"sku.lastPrice\":[\"18003.77\"],\"product.smallImage.url\":[\"/images/product-images/img_small/980029446s.jpg\"],\"HomeDelivery\":[\"FX\"],\"product.family\":[\"12 Meses sin Intereses\",\"3, 6 ó 9 Meses sin Intereses\",\"Electrónica\",\"Pantallas\",\"Pantallas y Audio\",\"Promociones Bancarias\",\"Promociones Citibanamex\",\"Tecnología y Entretenimiento\"],\"product.displayName\":[\"Pantalla\"],\"expressDeliveryEligible\":[\"false\"],\"sku.finalPrice\":[\"14934.78\"],\"PickupInStock\":[\"true\"],\"sku.repositoryId\":[\"980029446\"],\"sku.weighable\":[\"0\"],\"sku.oosStores\":[\"0000006039\"],\"product.seoURL\":[\"[/pantallas/pantalla-lg-55-pulgadas-smart-tv-uhd-4k-ai-thinq-55up7705psb/980029446]\"],\"sku.smallImage.url\":[\"/images/product-images/img_small/980029446s.jpg\"],\"expressDelivery\":[\"Express Delivery\"],\"PickupEligible\":[\"true\"],\"sku.displayName\":[\"Pantalla\"],\"DeliveryInStock\":[\"true\"],\"sku.unit_of_measure\":[\"eaches\"],\"DeliveryEligible\":[\"true\"],\"record.type.raw\":[\"product\",\"sku\"],\"product.department\":[\"Electrónica y Computación\",\"LG\",\"Meses sin Intereses\",\"Open-House\",\"Sams Club Ofertas\",\"Sociofest\"],\"record.id\":[\"sku-980029446..0980029446.catalog20001.es__MX\"],\"expressDeliveryInStock\":[\"false\"],\"Brand\":[\"LG\"],\"product.repositoryId\":[\"0980029446\"],\"PickAtStore\":[\"Pick at Store\"],\"PaymentPlan\":[\"13\",\"3\",\"6\",\"9\"],\"product.displayText\":[\"Pantalla LG 55 Pulgadas Smart TV UHD 4K AI ThinQ 55UP7705PSB\"],\"skuDisplayName\":[\"Pantalla LG 55 Pulgadas Smart TV UHD 4K AI ThinQ 55UP7705PSB\"],\"product.fineline\":[\"Pantallas\",\"Tecnologia y Electrónica\"]}},{\"records\":[{\"records\":null,\"numRecords\":0,\"attributes\":{\"sku.lastPrice\":[\"15016.62\"],\"maxQuantity\":[\"60.0\"],\"HomeDelivery\":[\"FX\"],\"sku.finalPrice\":[\"12274.98\"],\"skuStatusFlag\":[\"A\"],\"sku.repositoryId\":[\"980032080\"],\"sku.weighable\":[\"0\"],\"product.seoURL\":[\"[/pantallas/pantalla-hisense-55-pulgadas-uhd-4k-vidaa-tv-a7gv/980032080]\"],\"product.HomeDelivery\":[\"FX\"],\"expressDelivery\":[\"Express Delivery\"],\"record.spec\":[\"sku-980032080..0980032080.catalog20001.es__MX\"],\"priceStrikeOff\":[1],\"PickAtStore\":[\"Pick at Store\"],\"STR0000009999\":[\"SELLABLE\"],\"sku.isBigItem\":[\"0\"],\"skuDisplayName\":[\"Pantalla Hisense 55 Pulgadas UHD 4K Vidaa TV A7GV\"]}}],\"numRecords\":1,\"attributes\":{\"sku.availableStores\":[\"0000004727\",\"0000004728\",\"0000004746\",\"0000004790\",\"0000004791\",\"0000004792\",\"0000004801\",\"0000004805\",\"0000004827\",\"0000004832\",\"0000004841\",\"0000004862\",\"0000004877\",\"0000004878\",\"0000004879\",\"0000004901\",\"0000004910\",\"0000004911\",\"0000004913\",\"0000004914\",\"0000004934\",\"0000004935\",\"0000004936\",\"0000004937\",\"0000004938\",\"0000004939\",\"0000004941\",\"0000004944\",\"0000004945\",\"0000004946\",\"0000004947\",\"0000004948\",\"0000004949\",\"0000004950\",\"0000004951\",\"0000004954\",\"0000004955\",\"0000004957\",\"0000004958\",\"0000004960\",\"0000004961\",\"0000004968\",\"0000004969\",\"0000004970\",\"0000004972\",\"0000004973\",\"0000004975\",\"0000004977\",\"0000004978\",\"0000004979\",\"0000004981\",\"0000004982\",\"0000004983\",\"0000004984\",\"0000004985\",\"0000004986\",\"0000004987\",\"0000004988\",\"0000004989\",\"0000004991\",\"0000004992\",\"0000004999\",\"0000006039\",\"0000006204\",\"0000006205\",\"0000006206\",\"0000006207\",\"0000006208\",\"0000006209\",\"0000006210\",\"0000006211\",\"0000006212\",\"0000006213\",\"0000006215\",\"0000006217\",\"0000006218\",\"0000006219\",\"0000006221\",\"0000006222\",\"0000006223\",\"0000006224\",\"0000006225\",\"0000006226\",\"0000006227\",\"0000006229\",\"0000006232\",\"0000006233\",\"0000006234\",\"0000006236\",\"0000006237\",\"0000006240\",\"0000006241\",\"0000006242\",\"0000006243\",\"0000006244\",\"0000006246\",\"0000006247\",\"0000006248\",\"0000006249\",\"0000006251\",\"0000006252\",\"0000006254\",\"0000006258\",\"0000006260\",\"0000006261\",\"0000006263\",\"0000006264\",\"0000006265\",\"0000006274\",\"0000006275\",\"0000006277\",\"0000006279\",\"0000006282\",\"0000006283\",\"0000006285\",\"0000006286\",\"0000006287\",\"0000006288\",\"0000006289\",\"0000006290\",\"0000006293\",\"0000006294\",\"0000006295\",\"0000006296\",\"0000006297\",\"0000006298\",\"0000006300\",\"0000006305\",\"0000006307\",\"0000006308\",\"0000006309\",\"0000006313\",\"0000006390\",\"0000006391\",\"0000006392\",\"0000006393\",\"0000006394\",\"0000006395\",\"0000006396\",\"0000006397\",\"0000006398\",\"0000006467\",\"0000006468\",\"0000006469\",\"0000006470\",\"0000006497\",\"0000006513\",\"0000006523\",\"0000006534\",\"0000006557\",\"0000006563\",\"0000006574\",\"0000006576\",\"0000006577\",\"0000006578\",\"0000006583\",\"0000006584\",\"0000006585\",\"0000006586\",\"0000008118\",\"0000008121\",\"0000008122\",\"0000008124\",\"0000008127\",\"0000008240\",\"0000009999\"],\"sku.lastPrice\":[\"15016.62\"],\"product.smallImage.url\":[\"/images/product-images/img_small/980032080s.jpg\"],\"HomeDelivery\":[\"FX\"],\"product.family\":[\"Electrónica\",\"Pantallas y Audio\",\"Promociones Bancarias\",\"Tecnología y Entretenimiento\"],\"product.displayName\":[\"Pantalla\"],\"expressDeliveryEligible\":[\"false\"],\"sku.finalPrice\":[\"12274.98\"],\"PickupInStock\":[\"true\"],\"sku.repositoryId\":[\"980032080\"],\"sku.weighable\":[\"0\"],\"sku.oosStores\":[\"0000006039\",\"0000006308\",\"0000006309\"],\"product.seoURL\":[\"[/pantallas/pantalla-hisense-55-pulgadas-uhd-4k-vidaa-tv-a7gv/980032080]\"],\"sku.smallImage.url\":[\"/images/product-images/img_small/980032080s.jpg\"],\"expressDelivery\":[\"Express Delivery\"],\"PickupEligible\":[\"true\"],\"sku.displayName\":[\"Pantalla\"],\"DeliveryInStock\":[\"true\"],\"sku.unit_of_measure\":[\"eaches\"],\"DeliveryEligible\":[\"true\"],\"record.type.raw\":[\"product\",\"sku\"],\"product.department\":[\"Electrónica y Computación\",\"Meses sin Intereses\",\"Sams Club Ofertas\",\"Sociofest\"],\"record.id\":[\"sku-980032080..0980032080.catalog20001.es__MX\"],\"expressDeliveryInStock\":[\"false\"],\"Brand\":[\"Hisense\"],\"product.repositoryId\":[\"0980032080\"],\"PickAtStore\":[\"Pick at Store\"],\"PaymentPlan\":[\"13\",\"6\",\"9\"],\"product.displayText\":[\"Pantalla Hisense 55 Pulgadas UHD 4K Vidaa TV A7GV\"],\"skuDisplayName\":[\"Pantalla Hisense 55 Pulgadas UHD 4K Vidaa TV A7GV\"],\"product.fineline\":[\"Pantallas\",\"Tecnologia y Electrónica\"]}},{\"records\":[{\"records\":null,\"numRecords\":0,\"attributes\":{\"sku.lastPrice\":[\"10433.58\"],\"maxQuantity\":[\"60.0\"],\"HomeDelivery\":[\"FX\"],\"sku.finalPrice\":[\"9922.08\"],\"skuStatusFlag\":[\"A\"],\"sku.repositoryId\":[\"980029843\"],\"sku.weighable\":[\"0\"],\"product.seoURL\":[\"[/pantallas/pantalla-tcl-43-pulgadas-uhd-4k-android-tv-43a445/980029843]\"],\"product.HomeDelivery\":[\"FX\"],\"expressDelivery\":[\"Express Delivery\"],\"record.spec\":[\"sku-980029843..0980029843.catalog20001.es__MX\"],\"priceStrikeOff\":[1],\"PickAtStore\":[\"Pick at Store\"],\"STR0000009999\":[\"SELLABLE\"],\"sku.isBigItem\":[\"0\"],\"skuDisplayName\":[\"Pantalla TCL 43 Pulgadas UHD 4K Android TV 43A445\"]}}],\"numRecords\":1,\"attributes\":{\"sku.availableStores\":[\"0000004727\",\"0000004728\",\"0000004746\",\"0000004790\",\"0000004791\",\"0000004792\",\"0000004801\",\"0000004805\",\"0000004827\",\"0000004832\",\"0000004841\",\"0000004862\",\"0000004877\",\"0000004878\",\"0000004879\",\"0000004901\",\"0000004910\",\"0000004911\",\"0000004913\",\"0000004914\",\"0000004934\",\"0000004935\",\"0000004936\",\"0000004937\",\"0000004938\",\"0000004939\",\"0000004941\",\"0000004944\",\"0000004945\",\"0000004946\",\"0000004947\",\"0000004948\",\"0000004949\",\"0000004950\",\"0000004951\",\"0000004954\",\"0000004955\",\"0000004957\",\"0000004958\",\"0000004960\",\"0000004961\",\"0000004968\",\"0000004969\",\"0000004970\",\"0000004972\",\"0000004973\",\"0000004975\",\"0000004977\",\"0000004978\",\"0000004979\",\"0000004981\",\"0000004982\",\"0000004983\",\"0000004984\",\"0000004985\",\"0000004986\",\"0000004987\",\"0000004988\",\"0000004989\",\"0000004991\",\"0000004992\",\"0000004999\",\"0000006039\",\"0000006204\",\"0000006205\",\"0000006206\",\"0000006207\",\"0000006208\",\"0000006209\",\"0000006210\",\"0000006211\",\"0000006212\",\"0000006213\",\"0000006215\",\"0000006217\",\"0000006218\",\"0000006219\",\"0000006221\",\"0000006222\",\"0000006223\",\"0000006224\",\"0000006225\",\"0000006226\",\"0000006227\",\"0000006229\",\"0000006232\",\"0000006233\",\"0000006234\",\"0000006236\",\"0000006237\",\"0000006240\",\"0000006241\",\"0000006242\",\"0000006243\",\"0000006244\",\"0000006246\",\"0000006247\",\"0000006248\",\"0000006249\",\"0000006251\",\"0000006252\",\"0000006254\",\"0000006258\",\"0000006260\",\"0000006261\",\"0000006263\",\"0000006264\",\"0000006265\",\"0000006274\",\"0000006275\",\"0000006277\",\"0000006279\",\"0000006282\",\"0000006283\",\"0000006285\",\"0000006286\",\"0000006287\",\"0000006288\",\"0000006289\",\"0000006290\",\"0000006293\",\"0000006294\",\"0000006295\",\"0000006296\",\"0000006297\",\"0000006298\",\"0000006300\",\"0000006305\",\"0000006307\",\"0000006308\",\"0000006309\",\"0000006313\",\"0000006314\",\"0000006390\",\"0000006391\",\"0000006392\",\"0000006393\",\"0000006394\",\"0000006395\",\"0000006396\",\"0000006397\",\"0000006398\",\"0000006467\",\"0000006468\",\"0000006469\",\"0000006470\",\"0000006497\",\"0000006513\",\"0000006523\",\"0000006534\",\"0000006557\",\"0000006563\",\"0000006574\",\"0000006576\",\"0000006577\",\"0000006578\",\"0000006583\",\"0000006584\",\"0000006585\",\"0000006586\",\"0000008118\",\"0000008121\",\"0000008122\",\"0000008124\",\"0000008127\",\"0000008240\",\"0000009999\"],\"sku.lastPrice\":[\"10433.58\"],\"product.smallImage.url\":[\"/images/product-images/img_small/980029843s.jpg\"],\"HomeDelivery\":[\"FX\"],\"product.family\":[\"12 Meses sin Intereses\",\"3, 6 ó 9 Meses sin Intereses\",\"Electrónica\",\"Pantallas y Audio\",\"Promociones Bancarias\",\"Promociones Citibanamex\",\"Tecnología y Entretenimiento\"],\"product.displayName\":[\"Pantalla\"],\"expressDeliveryEligible\":[\"false\"],\"sku.finalPrice\":[\"9922.08\"],\"PickupInStock\":[\"true\"],\"sku.repositoryId\":[\"980029843\"],\"sku.weighable\":[\"0\"],\"sku.oosStores\":[\"0000006039\"],\"product.seoURL\":[\"[/pantallas/pantalla-tcl-43-pulgadas-uhd-4k-android-tv-43a445/980029843]\"],\"sku.smallImage.url\":[\"/images/product-images/img_small/980029843s.jpg\"],\"expressDelivery\":[\"Express Delivery\"],\"PickupEligible\":[\"true\"],\"sku.displayName\":[\"Pantalla\"],\"DeliveryInStock\":[\"true\"],\"sku.unit_of_measure\":[\"eaches\"],\"DeliveryEligible\":[\"true\"],\"record.type.raw\":[\"product\",\"sku\"],\"product.department\":[\"Electrónica y Computación\",\"Meses sin Intereses\",\"Sams Club Ofertas\",\"Sociofest\"],\"record.id\":[\"sku-980029843..0980029843.catalog20001.es__MX\"],\"expressDeliveryInStock\":[\"false\"],\"Brand\":[\"TCL\"],\"product.repositoryId\":[\"0980029843\"],\"PickAtStore\":[\"Pick at Store\"],\"PaymentPlan\":[\"13\",\"3\",\"6\",\"9\"],\"product.displayText\":[\"Pantalla TCL 43 Pulgadas UHD 4K Android TV 43A445\"],\"skuDisplayName\":[\"Pantalla TCL 43 Pulgadas UHD 4K Android TV 43A445\"],\"product.fineline\":[\"Pantallas\",\"Tecnologia y Electrónica\"]}},{\"records\":[{\"records\":null,\"numRecords\":0,\"attributes\":{\"sku.lastPrice\":[\"10188.05\"],\"maxQuantity\":[\"60.0\"],\"HomeDelivery\":[\"FX\"],\"sku.finalPrice\":[\"8489.88\"],\"skuStatusFlag\":[\"A\"],\"sku.repositoryId\":[\"980032081\"],\"sku.weighable\":[\"0\"],\"product.seoURL\":[\"[/pantallas/pantalla-hisense-43-pulgadas-uhd-4-k-vidaa-tv-a7gv/980032081]\"],\"product.HomeDelivery\":[\"FX\"],\"expressDelivery\":[\"Express Delivery\"],\"record.spec\":[\"sku-980032081..0980032081.catalog20001.es__MX\"],\"priceStrikeOff\":[1],\"PickAtStore\":[\"Pick at Store\"],\"STR0000009999\":[\"SELLABLE\"],\"sku.isBigItem\":[\"0\"],\"skuDisplayName\":[\"Pantalla Hisense 43 Pulgadas UHD 4 K Vidaa TV A7GV\"]}}],\"numRecords\":1,\"attributes\":{\"sku.availableStores\":[\"0000004728\",\"0000004746\",\"0000004790\",\"0000004791\",\"0000004792\",\"0000004801\",\"0000004805\",\"0000004827\",\"0000004832\",\"0000004841\",\"0000004862\",\"0000004877\",\"0000004878\",\"0000004879\",\"0000004901\",\"0000004910\",\"0000004911\",\"0000004913\",\"0000004914\",\"0000004934\",\"0000004935\",\"0000004936\",\"0000004937\",\"0000004938\",\"0000004939\",\"0000004941\",\"0000004944\",\"0000004945\",\"0000004946\",\"0000004947\",\"0000004948\",\"0000004949\",\"0000004950\",\"0000004951\",\"0000004954\",\"0000004955\",\"0000004957\",\"0000004958\",\"0000004960\",\"0000004961\",\"0000004968\",\"0000004969\",\"0000004970\",\"0000004972\",\"0000004973\",\"0000004975\",\"0000004977\",\"0000004978\",\"0000004979\",\"0000004981\",\"0000004982\",\"0000004984\",\"0000004985\",\"0000004986\",\"0000004988\",\"0000004989\",\"0000004991\",\"0000004992\",\"0000004999\",\"0000006039\",\"0000006204\",\"0000006205\",\"0000006206\",\"0000006207\",\"0000006208\",\"0000006209\",\"0000006210\",\"0000006211\",\"0000006213\",\"0000006215\",\"0000006217\",\"0000006218\",\"0000006219\",\"0000006221\",\"0000006222\",\"0000006223\",\"0000006224\",\"0000006225\",\"0000006226\",\"0000006227\",\"0000006232\",\"0000006233\",\"0000006234\",\"0000006236\",\"0000006237\",\"0000006240\",\"0000006241\",\"0000006242\",\"0000006243\",\"0000006244\",\"0000006246\",\"0000006247\",\"0000006248\",\"0000006249\",\"0000006251\",\"0000006252\",\"0000006254\",\"0000006258\",\"0000006260\",\"0000006261\",\"0000006263\",\"0000006264\",\"0000006265\",\"0000006274\",\"0000006275\",\"0000006277\",\"0000006279\",\"0000006282\",\"0000006283\",\"0000006285\",\"0000006286\",\"0000006287\",\"0000006288\",\"0000006289\",\"0000006290\",\"0000006293\",\"0000006294\",\"0000006295\",\"0000006296\",\"0000006297\",\"0000006298\",\"0000006300\",\"0000006305\",\"0000006307\",\"0000006308\",\"0000006309\",\"0000006313\",\"0000006314\",\"0000006390\",\"0000006391\",\"0000006392\",\"0000006393\",\"0000006394\",\"0000006395\",\"0000006396\",\"0000006397\",\"0000006398\",\"0000006467\",\"0000006468\",\"0000006469\",\"0000006470\",\"0000006497\",\"0000006513\",\"0000006534\",\"0000006557\",\"0000006563\",\"0000006574\",\"0000006576\",\"0000006577\",\"0000006578\",\"0000006583\",\"0000006584\",\"0000006585\",\"0000006586\",\"0000008118\",\"0000008121\",\"0000008122\",\"0000008124\",\"0000008127\",\"0000008240\",\"0000009999\"],\"sku.lastPrice\":[\"10188.05\"],\"product.smallImage.url\":[\"/images/product-images/img_small/980032081s.jpg\"],\"HomeDelivery\":[\"FX\"],\"product.family\":[\"Electrónica\",\"Pantallas y Audio\",\"Promociones Bancarias\",\"Tecnología y Entretenimiento\"],\"product.displayName\":[\"Pantalla\"],\"expressDeliveryEligible\":[\"false\"],\"sku.finalPrice\":[\"8489.88\"],\"PickupInStock\":[\"true\"],\"sku.repositoryId\":[\"980032081\"],\"sku.weighable\":[\"0\"],\"sku.oosStores\":[\"0000006039\",\"0000006309\"],\"product.seoURL\":[\"[/pantallas/pantalla-hisense-43-pulgadas-uhd-4-k-vidaa-tv-a7gv/980032081]\"],\"sku.smallImage.url\":[\"/images/product-images/img_small/980032081s.jpg\"],\"expressDelivery\":[\"Express Delivery\"],\"PickupEligible\":[\"true\"],\"sku.displayName\":[\"Pantalla\"],\"DeliveryInStock\":[\"true\"],\"sku.unit_of_measure\":[\"eaches\"],\"DeliveryEligible\":[\"true\"],\"record.type.raw\":[\"product\",\"sku\"],\"product.department\":[\"Electrónica y Computación\",\"Meses sin Intereses\",\"Sams Club Ofertas\",\"Sociofest\"],\"record.id\":[\"sku-980032081..0980032081.catalog20001.es__MX\"],\"expressDeliveryInStock\":[\"false\"],\"Brand\":[\"Hisense\"],\"product.repositoryId\":[\"0980032081\"],\"PickAtStore\":[\"Pick at Store\"],\"PaymentPlan\":[\"13\",\"6\",\"9\"],\"product.displayText\":[\"Pantalla Hisense 43 Pulgadas UHD 4 K Vidaa TV A7GV\"],\"skuDisplayName\":[\"Pantalla Hisense 43 Pulgadas UHD 4 K Vidaa TV A7GV\"],\"product.fineline\":[\"Pantallas\",\"Tecnologia y Electrónica\"]}},{\"records\":[{\"records\":null,\"numRecords\":0,\"attributes\":{\"sku.lastPrice\":[\"22811.88\"],\"maxQuantity\":[\"60.0\"],\"HomeDelivery\":[\"FX\"],\"sku.finalPrice\":[\"17389.98\"],\"skuStatusFlag\":[\"A\"],\"sku.repositoryId\":[\"980029445\"],\"sku.weighable\":[\"0\"],\"product.seoURL\":[\"[/pantallas/pantalla-lg-65-pulgadas-smart-tv-uhd-4k-ai-thinq-65up7705psb/980029445]\"],\"product.HomeDelivery\":[\"FX\"],\"record.spec\":[\"sku-980029445..0980029445.catalog20001.es__MX\"],\"priceStrikeOff\":[1],\"PickAtStore\":[\"Pick at Store\"],\"STR0000009999\":[\"SELLABLE\"],\"sku.isBigItem\":[\"0\"],\"skuDisplayName\":[\"Pantalla LG 65 Pulgadas Smart TV UHD 4K AI ThinQ 65UP7705PSB\"]}}],\"numRecords\":1,\"attributes\":{\"sku.availableStores\":[\"0000004944\",\"0000004970\",\"0000006210\",\"0000006213\",\"0000006217\",\"0000006218\",\"0000006222\",\"0000006246\",\"0000006251\",\"0000006252\",\"0000006277\",\"0000006279\",\"0000006288\",\"0000006289\",\"0000006300\",\"0000009999\"],\"sku.lastPrice\":[\"22811.88\"],\"product.smallImage.url\":[\"/images/product-images/img_small/980029445s.jpg\"],\"HomeDelivery\":[\"FX\"],\"product.family\":[\"12 Meses sin Intereses\",\"3, 6 ó 9 Meses sin Intereses\",\"Electrónica\",\"Pantallas\",\"Pantallas y Audio\",\"Promociones Bancarias\",\"Promociones Citibanamex\",\"Tecnología y Entretenimiento\"],\"product.displayName\":[\"Pantalla\"],\"expressDeliveryEligible\":[\"false\"],\"sku.finalPrice\":[\"17389.98\"],\"PickupInStock\":[\"true\"],\"sku.repositoryId\":[\"980029445\"],\"sku.weighable\":[\"0\"],\"sku.oosStores\":[\"0000004944\",\"0000004970\",\"0000006246\",\"0000006288\",\"0000006300\"],\"product.seoURL\":[\"[/pantallas/pantalla-lg-65-pulgadas-smart-tv-uhd-4k-ai-thinq-65up7705psb/980029445]\"],\"sku.smallImage.url\":[\"/images/product-images/img_small/980029445s.jpg\"],\"PickupEligible\":[\"true\"],\"sku.displayName\":[\"Pantalla\"],\"DeliveryInStock\":[\"true\"],\"sku.unit_of_measure\":[\"eaches\"],\"DeliveryEligible\":[\"true\"],\"record.type.raw\":[\"product\",\"sku\"],\"product.department\":[\"Electrónica y Computación\",\"LG\",\"Meses sin Intereses\",\"Open-House\",\"Sams Club Ofertas\",\"Sociofest\"],\"record.id\":[\"sku-980029445..0980029445.catalog20001.es__MX\"],\"expressDeliveryInStock\":[\"false\"],\"Brand\":[\"LG\"],\"product.repositoryId\":[\"0980029445\"],\"PickAtStore\":[\"Pick at Store\"],\"PaymentPlan\":[\"13\",\"3\",\"6\",\"9\"],\"product.displayText\":[\"Pantalla LG 65 Pulgadas Smart TV UHD 4K AI ThinQ 65UP7705PSB\"],\"skuDisplayName\":[\"Pantalla LG 65 Pulgadas Smart TV UHD 4K AI ThinQ 65UP7705PSB\"],\"product.fineline\":[\"Pantallas\",\"Tecnologia y Electrónica\"]}},{\"records\":[{\"records\":null,\"numRecords\":0,\"attributes\":{\"sku.lastPrice\":[\"21686.58\"],\"maxQuantity\":[\"60.0\"],\"HomeDelivery\":[\"FX\"],\"sku.finalPrice\":[\"18719.88\"],\"skuStatusFlag\":[\"A\"],\"sku.repositoryId\":[\"980029846\"],\"sku.weighable\":[\"0\"],\"product.seoURL\":[\"[/pantallas/pantalla-lg-55-pulgadas-nanocell-tv-ai-thinq-4k-55nano805sp/980029846]\"],\"product.HomeDelivery\":[\"FX\"],\"expressDelivery\":[\"Express Delivery\"],\"record.spec\":[\"sku-980029846..0980029846.catalog20001.es__MX\"],\"priceStrikeOff\":[1],\"PickAtStore\":[\"Pick at Store\"],\"STR0000009999\":[\"SELLABLE\"],\"sku.isBigItem\":[\"0\"],\"skuDisplayName\":[\"Pantalla LG 55 pulgadas NanoCell TV AI ThinQ 4K 55NANO805SP\"]}}],\"numRecords\":1,\"attributes\":{\"sku.availableStores\":[\"0000004727\",\"0000004792\",\"0000004878\",\"0000004936\",\"0000004941\",\"0000004945\",\"0000004948\",\"0000004954\",\"0000004973\",\"0000004979\",\"0000004981\",\"0000004982\",\"0000006039\",\"0000006207\",\"0000006213\",\"0000006233\",\"0000006244\",\"0000006249\",\"0000006252\",\"0000006263\",\"0000006277\",\"0000006283\",\"0000006307\",\"0000008127\",\"0000009999\"],\"sku.lastPrice\":[\"21686.58\"],\"product.smallImage.url\":[\"/images/product-images/img_small/980029846s.jpg\"],\"HomeDelivery\":[\"FX\"],\"product.family\":[\"Electrónica\",\"Pantallas\",\"Pantallas y Audio\",\"Promociones Bancarias\",\"Tecnología y Entretenimiento\"],\"product.displayName\":[\"Pantalla\"],\"expressDeliveryEligible\":[\"false\"],\"sku.finalPrice\":[\"18719.88\"],\"PickupInStock\":[\"true\"],\"sku.repositoryId\":[\"980029846\"],\"sku.weighable\":[\"0\"],\"sku.oosStores\":[\"0000004936\",\"0000004941\",\"0000004948\",\"0000004954\",\"0000004973\",\"0000006039\",\"0000006207\",\"0000006233\",\"0000006263\",\"0000006283\",\"0000008127\"],\"product.seoURL\":[\"[/pantallas/pantalla-lg-55-pulgadas-nanocell-tv-ai-thinq-4k-55nano805sp/980029846]\"],\"sku.smallImage.url\":[\"/images/product-images/img_small/980029846s.jpg\"],\"expressDelivery\":[\"Express Delivery\"],\"PickupEligible\":[\"true\"],\"sku.displayName\":[\"Pantalla\"],\"DeliveryInStock\":[\"true\"],\"sku.unit_of_measure\":[\"eaches\"],\"DeliveryEligible\":[\"true\"],\"record.type.raw\":[\"product\",\"sku\"],\"product.department\":[\"Electrónica y Computación\",\"LG\",\"Meses sin Intereses\",\"Sams Club Ofertas\",\"Sociofest\"],\"record.id\":[\"sku-980029846..0980029846.catalog20001.es__MX\"],\"expressDeliveryInStock\":[\"false\"],\"Brand\":[\"LG\"],\"product.repositoryId\":[\"0980029846\"],\"PickAtStore\":[\"Pick at Store\"],\"PaymentPlan\":[\"13\",\"3\",\"6\",\"9\"],\"product.displayText\":[\"Pantalla LG 55 pulgadas NanoCell TV AI ThinQ 4K 55NANO805SP\"],\"skuDisplayName\":[\"Pantalla LG 55 pulgadas NanoCell TV AI ThinQ 4K 55NANO805SP\"],\"product.fineline\":[\"Pantallas\",\"Tecnologia y Electrónica\"]}},{\"records\":[{\"records\":null,\"numRecords\":0,\"attributes\":{\"sku.lastPrice\":[\"19947.47\"],\"maxQuantity\":[\"60.0\"],\"HomeDelivery\":[\"FX\"],\"sku.finalPrice\":[\"16162.38\"],\"skuStatusFlag\":[\"A\"],\"sku.repositoryId\":[\"980029363\"],\"sku.weighable\":[\"0\"],\"product.seoURL\":[\"[/pantallas/pantalla-tcl-55-pulgadas-qled-roku-tv-55s647/980029363]\"],\"product.HomeDelivery\":[\"FX\"],\"expressDelivery\":[\"Express Delivery\"],\"record.spec\":[\"sku-980029363..0980029363.catalog20001.es__MX\"],\"priceStrikeOff\":[1],\"PickAtStore\":[\"Pick at Store\"],\"STR0000009999\":[\"SELLABLE\"],\"sku.isBigItem\":[\"0\"],\"skuDisplayName\":[\"Pantalla TCL 55 Pulgadas QLED Roku TV 55S647\"]}}],\"numRecords\":1,\"attributes\":{\"sku.availableStores\":[\"0000004727\",\"0000004746\",\"0000004790\",\"0000004791\",\"0000004792\",\"0000004801\",\"0000004805\",\"0000004827\",\"0000004832\",\"0000004862\",\"0000004877\",\"0000004878\",\"0000004879\",\"0000004911\",\"0000004913\",\"0000004934\",\"0000004935\",\"0000004936\",\"0000004937\",\"0000004938\",\"0000004939\",\"0000004941\",\"0000004945\",\"0000004946\",\"0000004947\",\"0000004948\",\"0000004949\",\"0000004950\",\"0000004951\",\"0000004954\",\"0000004955\",\"0000004957\",\"0000004960\",\"0000004961\",\"0000004969\",\"0000004970\",\"0000004972\",\"0000004973\",\"0000004975\",\"0000004977\",\"0000004978\",\"0000004979\",\"0000004981\",\"0000004982\",\"0000004984\",\"0000004985\",\"0000004987\",\"0000004988\",\"0000004989\",\"0000004991\",\"0000004992\",\"0000004999\",\"0000006205\",\"0000006206\",\"0000006207\",\"0000006208\",\"0000006209\",\"0000006211\",\"0000006212\",\"0000006213\",\"0000006217\",\"0000006219\",\"0000006221\",\"0000006223\",\"0000006225\",\"0000006226\",\"0000006229\",\"0000006232\",\"0000006233\",\"0000006236\",\"0000006237\",\"0000006240\",\"0000006241\",\"0000006242\",\"0000006243\",\"0000006244\",\"0000006246\",\"0000006248\",\"0000006254\",\"0000006261\",\"0000006263\",\"0000006274\",\"0000006275\",\"0000006277\",\"0000006279\",\"0000006282\",\"0000006283\",\"0000006285\",\"0000006286\",\"0000006287\",\"0000006288\",\"0000006289\",\"0000006290\",\"0000006294\",\"0000006295\",\"0000006296\",\"0000006297\",\"0000006307\",\"0000006308\",\"0000006309\",\"0000006314\",\"0000006390\",\"0000006391\",\"0000006392\",\"0000006395\",\"0000006396\",\"0000006397\",\"0000006467\",\"0000006470\",\"0000006513\",\"0000006523\",\"0000006534\",\"0000006563\",\"0000006574\",\"0000006576\",\"0000006577\",\"0000006578\",\"0000006583\",\"0000006584\",\"0000006585\",\"0000006586\",\"0000008121\",\"0000008122\",\"0000008124\",\"0000008240\",\"0000009999\"],\"sku.lastPrice\":[\"19947.47\"],\"product.smallImage.url\":[\"/images/product-images/img_small/980029363s.jpg\"],\"HomeDelivery\":[\"FX\"],\"product.family\":[\"12 Meses sin Intereses\",\"3, 6 ó 9 Meses sin Intereses\",\"Electrónica\",\"Pantallas y Audio\",\"Promociones Bancarias\",\"Promociones Citibanamex\",\"Tecnología y Entretenimiento\"],\"product.displayName\":[\"Pantalla\"],\"expressDeliveryEligible\":[\"false\"],\"sku.finalPrice\":[\"16162.38\"],\"PickupInStock\":[\"true\"],\"sku.repositoryId\":[\"980029363\"],\"sku.weighable\":[\"0\"],\"sku.oosStores\":[\"0000004790\",\"0000004911\",\"0000004947\",\"0000004975\",\"0000004979\",\"0000004982\",\"0000004991\",\"0000006209\",\"0000006217\",\"0000006244\",\"0000006286\",\"0000006314\",\"0000006563\",\"0000006578\"],\"product.seoURL\":[\"[/pantallas/pantalla-tcl-55-pulgadas-qled-roku-tv-55s647/980029363]\"],\"sku.smallImage.url\":[\"/images/product-images/img_small/980029363s.jpg\"],\"expressDelivery\":[\"Express Delivery\"],\"PickupEligible\":[\"true\"],\"sku.displayName\":[\"Pantalla\"],\"DeliveryInStock\":[\"true\"],\"sku.unit_of_measure\":[\"eaches\"],\"DeliveryEligible\":[\"true\"],\"record.type.raw\":[\"product\",\"sku\"],\"product.department\":[\"Electrónica y Computación\",\"Meses sin Intereses\",\"Sams Club Ofertas\",\"Sociofest\"],\"record.id\":[\"sku-980029363..0980029363.catalog20001.es__MX\"],\"expressDeliveryInStock\":[\"false\"],\"Brand\":[\"TCL\"],\"product.repositoryId\":[\"0980029363\"],\"PickAtStore\":[\"Pick at Store\"],\"PaymentPlan\":[\"13\",\"3\",\"6\",\"9\"],\"product.displayText\":[\"Pantalla TCL 55 Pulgadas QLED Roku TV 55S647\"],\"skuDisplayName\":[\"Pantalla TCL 55 Pulgadas QLED Roku TV 55S647\"],\"product.fineline\":[\"Pantallas\",\"Tecnologia y Electrónica\"]}},{\"records\":[{\"records\":null,\"numRecords\":0,\"attributes\":{\"sku.lastPrice\":[\"26290.08\"],\"maxQuantity\":[\"60.0\"],\"HomeDelivery\":[\"FX\"],\"sku.finalPrice\":[\"25062.48\"],\"skuStatusFlag\":[\"A\"],\"sku.repositoryId\":[\"980031672\"],\"sku.weighable\":[\"0\"],\"product.seoURL\":[\"[/pantallas/pantalla-tcl-65-pulgadas-qled-android-tv-65q637/980031672]\"],\"product.HomeDelivery\":[\"FX\"],\"record.spec\":[\"sku-980031672..0980031672.catalog20001.es__MX\"],\"priceStrikeOff\":[1],\"PickAtStore\":[\"Pick at Store\"],\"STR0000009999\":[\"SELLABLE\"],\"sku.isBigItem\":[\"0\"],\"skuDisplayName\":[\"Pantalla TCL 65 Pulgadas QLED Android TV 65Q637\"]}}],\"numRecords\":1,\"attributes\":{\"sku.availableStores\":[\"0000006039\",\"0000009999\"],\"sku.lastPrice\":[\"26290.08\"],\"product.smallImage.url\":[\"/images/product-images/img_small/980031672s.jpg\"],\"HomeDelivery\":[\"FX\"],\"product.family\":[\"Electrónica\",\"Pantallas y Audio\",\"Promociones Bancarias\",\"Tecnología y Entretenimiento\"],\"product.displayName\":[\"Pantalla\"],\"expressDeliveryEligible\":[\"false\"],\"sku.finalPrice\":[\"25062.48\"],\"PickupInStock\":[\"true\"],\"sku.repositoryId\":[\"980031672\"],\"sku.weighable\":[\"0\"],\"product.seoURL\":[\"[/pantallas/pantalla-tcl-65-pulgadas-qled-android-tv-65q637/980031672]\"],\"sku.smallImage.url\":[\"/images/product-images/img_small/980031672s.jpg\"],\"PickupEligible\":[\"true\"],\"sku.displayName\":[\"Pantalla\"],\"DeliveryInStock\":[\"true\"],\"sku.unit_of_measure\":[\"eaches\"],\"DeliveryEligible\":[\"true\"],\"record.type.raw\":[\"product\",\"sku\"],\"product.department\":[\"Electrónica y Computación\",\"Meses sin Intereses\",\"Sams Club Ofertas\",\"Sociofest\"],\"record.id\":[\"sku-980031672..0980031672.catalog20001.es__MX\"],\"expressDeliveryInStock\":[\"false\"],\"Brand\":[\"TCL\"],\"product.repositoryId\":[\"0980031672\"],\"PickAtStore\":[\"Pick at Store\"],\"PaymentPlan\":[\"13\",\"6\",\"9\"],\"product.displayText\":[\"Pantalla TCL 65 Pulgadas QLED Android TV 65Q637\"],\"skuDisplayName\":[\"Pantalla TCL 65 Pulgadas QLED Android TV 65Q637\"],\"product.fineline\":[\"Pantallas\",\"Tecnologia y Electrónica\"]}},{\"records\":[{\"records\":null,\"numRecords\":0,\"attributes\":{\"sku.lastPrice\":[\"5113.98\"],\"maxQuantity\":[\"60.0\"],\"HomeDelivery\":[\"FX\"],\"sku.finalPrice\":[\"5113.98\"],\"skuStatusFlag\":[\"A\"],\"sku.repositoryId\":[\"980026743\"],\"sku.weighable\":[\"0\"],\"product.seoURL\":[\"[/sala/stand-para-tv-member-s-mark-3-en-1-con-soporte/980026743]\"],\"product.HomeDelivery\":[\"FX\"],\"record.spec\":[\"sku-980026743..0980026743.catalog20001.es__MX\"],\"priceStrikeOff\":[\"0.000000\"],\"PickAtStore\":[\"Pick at Store\"],\"STR0000009999\":[\"SELLABLE\"],\"sku.isBigItem\":[\"0\"],\"skuDisplayName\":[\"Stand para TV Member's Mark 3 en 1 con Soporte\"]}}],\"numRecords\":1,\"attributes\":{\"sku.availableStores\":[\"0000004728\",\"0000004746\",\"0000004790\",\"0000004791\",\"0000004792\",\"0000004801\",\"0000004805\",\"0000004827\",\"0000004832\",\"0000004841\",\"0000004877\",\"0000004878\",\"0000004879\",\"0000004901\",\"0000004910\",\"0000004911\",\"0000004913\",\"0000004914\",\"0000004934\",\"0000004935\",\"0000004936\",\"0000004937\",\"0000004938\",\"0000004941\",\"0000004944\",\"0000004946\",\"0000004947\",\"0000004948\",\"0000004949\",\"0000004950\",\"0000004951\",\"0000004954\",\"0000004955\",\"0000004957\",\"0000004958\",\"0000004960\",\"0000004961\",\"0000004968\",\"0000004969\",\"0000004970\",\"0000004972\",\"0000004973\",\"0000004975\",\"0000004977\",\"0000004978\",\"0000004979\",\"0000004981\",\"0000004982\",\"0000004984\",\"0000004985\",\"0000004986\",\"0000004987\",\"0000004988\",\"0000004989\",\"0000004991\",\"0000004992\",\"0000004999\",\"0000006204\",\"0000006205\",\"0000006206\",\"0000006207\",\"0000006208\",\"0000006209\",\"0000006210\",\"0000006211\",\"0000006212\",\"0000006213\",\"0000006217\",\"0000006218\",\"0000006219\",\"0000006221\",\"0000006222\",\"0000006223\",\"0000006224\",\"0000006225\",\"0000006226\",\"0000006227\",\"0000006229\",\"0000006232\",\"0000006233\",\"0000006234\",\"0000006236\",\"0000006237\",\"0000006240\",\"0000006241\",\"0000006242\",\"0000006243\",\"0000006244\",\"0000006246\",\"0000006247\",\"0000006248\",\"0000006249\",\"0000006252\",\"0000006254\",\"0000006258\",\"0000006260\",\"0000006261\",\"0000006264\",\"0000006265\",\"0000006274\",\"0000006275\",\"0000006277\",\"0000006279\",\"0000006282\",\"0000006283\",\"0000006285\",\"0000006286\",\"0000006287\",\"0000006288\",\"0000006289\",\"0000006290\",\"0000006293\",\"0000006294\",\"0000006295\",\"0000006296\",\"0000006297\",\"0000006298\",\"0000006300\",\"0000006305\",\"0000006307\",\"0000006308\",\"0000006309\",\"0000006313\",\"0000006314\",\"0000006390\",\"0000006391\",\"0000006392\",\"0000006393\",\"0000006394\",\"0000006395\",\"0000006396\",\"0000006397\",\"0000006398\",\"0000006467\",\"0000006468\",\"0000006469\",\"0000006470\",\"0000006497\",\"0000006523\",\"0000006534\",\"0000006557\",\"0000006574\",\"0000006576\",\"0000006578\",\"0000006583\",\"0000006584\",\"0000006585\",\"0000006586\",\"0000008118\",\"0000008121\",\"0000008122\",\"0000008124\",\"0000008127\",\"0000008240\",\"0000009999\"],\"sku.lastPrice\":[\"5113.98\"],\"product.smallImage.url\":[\"/images/product-images/img_small/980026743s.jpg\"],\"HomeDelivery\":[\"FX\"],\"product.family\":[\"Sala\"],\"product.displayName\":[\"Stand para TV\"],\"expressDeliveryEligible\":[\"false\"],\"sku.finalPrice\":[\"5113.98\"],\"PickupInStock\":[\"true\"],\"sku.repositoryId\":[\"980026743\"],\"sku.weighable\":[\"0\"],\"sku.oosStores\":[\"0000004941\",\"0000004968\",\"0000006226\",\"0000006282\",\"0000006309\"],\"product.seoURL\":[\"[/sala/stand-para-tv-member-s-mark-3-en-1-con-soporte/980026743]\"],\"sku.smallImage.url\":[\"/images/product-images/img_small/980026743s.jpg\"],\"PickupEligible\":[\"true\"],\"sku.displayName\":[\"Stand para TV\"],\"DeliveryInStock\":[\"true\"],\"sku.unit_of_measure\":[\"eaches\"],\"DeliveryEligible\":[\"true\"],\"record.type.raw\":[\"product\",\"sku\"],\"product.department\":[\"Hogar\",\"Lo Nuevo\"],\"record.id\":[\"sku-980026743..0980026743.catalog20001.es__MX\"],\"expressDeliveryInStock\":[\"false\"],\"Brand\":[\"Member's Mark\"],\"product.repositoryId\":[\"0980026743\"],\"PickAtStore\":[\"Pick at Store\"],\"PaymentPlan\":[\"13\",\"6\",\"9\"],\"product.displayText\":[\"Stand para TV Member's Mark 3 en 1 con Soporte\"],\"skuDisplayName\":[\"Stand para TV Member's Mark 3 en 1 con Soporte\"]}},{\"records\":[{\"records\":null,\"numRecords\":0,\"attributes\":{\"sku.lastPrice\":[\"41941.98\"],\"maxQuantity\":[\"60.0\"],\"HomeDelivery\":[\"FX\"],\"sku.finalPrice\":[\"37440.78\"],\"skuStatusFlag\":[\"A\"],\"sku.repositoryId\":[\"980031952\"],\"sku.weighable\":[\"0\"],\"product.seoURL\":[\"[/pantallas/pantalla-lg-82-pulgadas-uhd-ai-thinq-4k-82up8055psb/980031952]\"],\"product.HomeDelivery\":[\"FX\"],\"record.spec\":[\"sku-980031952..0980031952.catalog20001.es__MX\"],\"priceStrikeOff\":[1],\"PickAtStore\":[\"Pick at Store\"],\"STR0000009999\":[\"SELLABLE\"],\"sku.isBigItem\":[\"1\"],\"skuDisplayName\":[\"Pantalla LG 82 Pulgadas UHD AI ThinQ 4K 82UP8055PSB\"]}}],\"numRecords\":1,\"attributes\":{\"sku.availableStores\":[\"0000004727\",\"0000004728\",\"0000004746\",\"0000004790\",\"0000004791\",\"0000004792\",\"0000004801\",\"0000004805\",\"0000004827\",\"0000004832\",\"0000004862\",\"0000004877\",\"0000004878\",\"0000004879\",\"0000004901\",\"0000004910\",\"0000004911\",\"0000004913\",\"0000004935\",\"0000004936\",\"0000004937\",\"0000004938\",\"0000004939\",\"0000004941\",\"0000004944\",\"0000004945\",\"0000004946\",\"0000004947\",\"0000004948\",\"0000004949\",\"0000004950\",\"0000004951\",\"0000004954\",\"0000004955\",\"0000004957\",\"0000004958\",\"0000004960\",\"0000004961\",\"0000004968\",\"0000004969\",\"0000004970\",\"0000004972\",\"0000004973\",\"0000004975\",\"0000004977\",\"0000004978\",\"0000004979\",\"0000004981\",\"0000004982\",\"0000004983\",\"0000004985\",\"0000004986\",\"0000004987\",\"0000004988\",\"0000004989\",\"0000004991\",\"0000004992\",\"0000004999\",\"0000006039\",\"0000006204\",\"0000006205\",\"0000006206\",\"0000006208\",\"0000006209\",\"0000006210\",\"0000006211\",\"0000006212\",\"0000006213\",\"0000006217\",\"0000006218\",\"0000006219\",\"0000006221\",\"0000006222\",\"0000006223\",\"0000006224\",\"0000006225\",\"0000006226\",\"0000006227\",\"0000006229\",\"0000006232\",\"0000006233\",\"0000006234\",\"0000006236\",\"0000006237\",\"0000006240\",\"0000006241\",\"0000006242\",\"0000006243\",\"0000006244\",\"0000006246\",\"0000006247\",\"0000006248\",\"0000006249\",\"0000006251\",\"0000006252\",\"0000006254\",\"0000006258\",\"0000006260\",\"0000006261\",\"0000006263\",\"0000006264\",\"0000006265\",\"0000006274\",\"0000006275\",\"0000006277\",\"0000006279\",\"0000006282\",\"0000006283\",\"0000006285\",\"0000006286\",\"0000006287\",\"0000006288\",\"0000006289\",\"0000006290\",\"0000006293\",\"0000006294\",\"0000006295\",\"0000006296\",\"0000006297\",\"0000006298\",\"0000006300\",\"0000006305\",\"0000006307\",\"0000006308\",\"0000006309\",\"0000006313\",\"0000006314\",\"0000006390\",\"0000006391\",\"0000006392\",\"0000006393\",\"0000006394\",\"0000006395\",\"0000006396\",\"0000006397\",\"0000006398\",\"0000006467\",\"0000006468\",\"0000006469\",\"0000006470\",\"0000006497\",\"0000006513\",\"0000006523\",\"0000006534\",\"0000006557\",\"0000006563\",\"0000006574\",\"0000006576\",\"0000006577\",\"0000006578\",\"0000006583\",\"0000006584\",\"0000006585\",\"0000006586\",\"0000008118\",\"0000008122\",\"0000008124\",\"0000008127\",\"0000008240\",\"0000009999\"],\"sku.lastPrice\":[\"41941.98\"],\"product.smallImage.url\":[\"/images/product-images/img_small/980031952s.jpg\"],\"HomeDelivery\":[\"FX\"],\"product.family\":[\"Electrónica\",\"Pantallas\",\"Pantallas y Audio\",\"Promociones Bancarias\",\"Tecnología y Entretenimiento\"],\"product.displayName\":[\"Pantalla\"],\"expressDeliveryEligible\":[\"false\"],\"sku.finalPrice\":[\"37440.78\"],\"PickupInStock\":[\"true\"],\"sku.repositoryId\":[\"980031952\"],\"sku.weighable\":[\"0\"],\"sku.oosStores\":[\"0000004879\",\"0000004938\",\"0000004955\",\"0000004958\",\"0000004960\",\"0000004968\",\"0000004973\",\"0000004986\",\"0000004992\",\"0000006039\",\"0000006204\",\"0000006221\",\"0000006224\",\"0000006227\",\"0000006283\",\"0000006295\",\"0000006309\",\"0000006467\",\"0000006534\"],\"product.seoURL\":[\"[/pantallas/pantalla-lg-82-pulgadas-uhd-ai-thinq-4k-82up8055psb/980031952]\"],\"sku.smallImage.url\":[\"/images/product-images/img_small/980031952s.jpg\"],\"PickupEligible\":[\"true\"],\"sku.displayName\":[\"Pantalla\"],\"DeliveryInStock\":[\"true\"],\"sku.unit_of_measure\":[\"eaches\"],\"DeliveryEligible\":[\"true\"],\"record.type.raw\":[\"product\",\"sku\"],\"product.department\":[\"Electrónica y Computación\",\"LG\",\"Meses sin Intereses\",\"Sams Club Ofertas\",\"Sociofest\"],\"record.id\":[\"sku-980031952..0980031952.catalog20001.es__MX\"],\"expressDeliveryInStock\":[\"false\"],\"Brand\":[\"LG\"],\"product.repositoryId\":[\"0980031952\"],\"PickAtStore\":[\"Pick at Store\"],\"PaymentPlan\":[\"13\",\"6\",\"9\"],\"product.displayText\":[\"Pantalla LG 82 Pulgadas UHD AI ThinQ 4K 82UP8055PSB\"],\"skuDisplayName\":[\"Pantalla LG 82 Pulgadas UHD AI ThinQ 4K 82UP8055PSB\"],\"product.fineline\":[\"Pantallas\",\"Tecnologia y Electrónica\"]}},{\"records\":[{\"records\":null,\"numRecords\":0,\"attributes\":{\"sku.lastPrice\":[\"23527.97\"],\"maxQuantity\":[\"60.0\"],\"HomeDelivery\":[\"FX\"],\"sku.finalPrice\":[\"23527.97\"],\"skuStatusFlag\":[\"A\"],\"sku.repositoryId\":[\"000205765\"],\"sku.weighable\":[\"0\"],\"product.seoURL\":[\"[/laptops/macbook-air-apple-core-i5-13-led-128-gb/000205765]\"],\"product.HomeDelivery\":[\"FX\"],\"expressDelivery\":[\"Express Delivery\"],\"record.spec\":[\"sku-000205765..0000205765.catalog20001.es__MX\"],\"priceStrikeOff\":[\"0.000000\"],\"PickAtStore\":[\"Pick at Store\"],\"STR0000009999\":[\"SELLABLE\"],\"sku.isBigItem\":[\"0\"],\"skuDisplayName\":[\"MacBook Air Apple Core i5 13\\\" LED 128 GB\"]}}],\"numRecords\":1,\"attributes\":{\"sku.availableStores\":[\"0000004727\",\"0000004728\",\"0000004790\",\"0000004791\",\"0000004801\",\"0000004832\",\"0000004841\",\"0000004862\",\"0000004878\",\"0000004914\",\"0000004934\",\"0000004936\",\"0000004937\",\"0000004938\",\"0000004939\",\"0000004941\",\"0000004944\",\"0000004948\",\"0000004949\",\"0000004951\",\"0000004955\",\"0000004957\",\"0000004958\",\"0000004960\",\"0000004961\",\"0000004968\",\"0000004972\",\"0000004973\",\"0000004975\",\"0000004979\",\"0000004982\",\"0000004983\",\"0000004987\",\"0000004988\",\"0000004992\",\"0000004999\",\"0000006208\",\"0000006209\",\"0000006210\",\"0000006211\",\"0000006212\",\"0000006215\",\"0000006217\",\"0000006219\",\"0000006222\",\"0000006234\",\"0000006237\",\"0000006241\",\"0000006242\",\"0000006243\",\"0000006244\",\"0000006247\",\"0000006248\",\"0000006249\",\"0000006251\",\"0000006260\",\"0000006261\",\"0000006274\",\"0000006277\",\"0000006283\",\"0000006286\",\"0000006287\",\"0000006288\",\"0000006289\",\"0000006294\",\"0000006295\",\"0000006296\",\"0000006297\",\"0000006300\",\"0000006305\",\"0000006309\",\"0000006313\",\"0000006396\",\"0000006397\",\"0000006469\",\"0000006513\",\"0000006523\",\"0000006557\",\"0000006563\",\"0000006574\",\"0000006576\",\"0000006577\",\"0000006578\",\"0000006583\",\"0000006584\",\"0000006585\",\"0000008121\",\"0000008122\",\"0000008124\",\"0000008240\",\"0000009999\"],\"sku.lastPrice\":[\"23527.97\"],\"product.smallImage.url\":[\"/images/product-images/img_small/000205765s.jpg\"],\"HomeDelivery\":[\"FX\"],\"product.family\":[\"12 Meses sin Intereses\",\"3, 6 ó 9 Meses sin Intereses\",\"Apple\",\"Computo\",\"Cómputo\",\"Electrónica y Computación\",\"Promociones Citibanamex\"],\"product.displayName\":[\"MacBook Air\"],\"expressDeliveryEligible\":[\"false\"],\"sku.finalPrice\":[\"23527.97\"],\"PickupInStock\":[\"true\"],\"sku.repositoryId\":[\"000205765\"],\"sku.weighable\":[\"0\"],\"sku.oosStores\":[\"0000004727\",\"0000004728\",\"0000004790\",\"0000004791\",\"0000004832\",\"0000004841\",\"0000004862\",\"0000004878\",\"0000004914\",\"0000004936\",\"0000004937\",\"0000004939\",\"0000004944\",\"0000004949\",\"0000004951\",\"0000004955\",\"0000004957\",\"0000004958\",\"0000004960\",\"0000004961\",\"0000004968\",\"0000004972\",\"0000004973\",\"0000004979\",\"0000004982\",\"0000004987\",\"0000004988\",\"0000004992\",\"0000004999\",\"0000006208\",\"0000006210\",\"0000006211\",\"0000006215\",\"0000006217\",\"0000006219\",\"0000006234\",\"0000006241\",\"0000006243\",\"0000006244\",\"0000006248\",\"0000006249\",\"0000006251\",\"0000006261\",\"0000006274\",\"0000006277\",\"0000006283\",\"0000006286\",\"0000006288\",\"0000006294\",\"0000006296\",\"0000006297\",\"0000006300\",\"0000006309\",\"0000006313\",\"0000006396\",\"0000006469\",\"0000006523\",\"0000006557\",\"0000006563\",\"0000006574\",\"0000006576\",\"0000006578\",\"0000006584\",\"0000006585\",\"0000008121\",\"0000008122\",\"0000008124\",\"0000008240\"],\"product.seoURL\":[\"[/laptops/macbook-air-apple-core-i5-13-led-128-gb/000205765]\"],\"sku.smallImage.url\":[\"/images/product-images/img_small/000205765s.jpg\"],\"expressDelivery\":[\"Express Delivery\"],\"PickupEligible\":[\"true\"],\"sku.displayName\":[\"MacBook Air\"],\"DeliveryInStock\":[\"true\"],\"sku.unit_of_measure\":[\"eaches\"],\"DeliveryEligible\":[\"true\"],\"record.type.raw\":[\"product\",\"sku\"],\"product.department\":[\"Categorías_Exclusivas_App\",\"Días de Shopping\",\"Electrónica y Computación\",\"Fin Irresistible\",\"Hot Days\",\"Hot Sale\",\"Meses sin Intereses\",\"Promociones Especiales\"],\"record.id\":[\"sku-000205765..0000205765.catalog20001.es__MX\"],\"expressDeliveryInStock\":[\"false\"],\"Brand\":[\"Apple\"],\"product.repositoryId\":[\"0000205765\"],\"PickAtStore\":[\"Pick at Store\"],\"PaymentPlan\":[\"13\",\"3\",\"6\",\"9\"],\"product.displayText\":[\"MacBook Air Apple Core i5 13\\\" LED 128 GB\"],\"skuDisplayName\":[\"MacBook Air Apple Core i5 13\\\" LED 128 GB\"],\"product.fineline\":[\"Cómputo\",\"Laptops\",\"Promociones Cómputo y Celulares\",\"Tablets \"]}},{\"records\":[{\"records\":null,\"numRecords\":0,\"attributes\":{\"sku.lastPrice\":[\"13297.95\"],\"maxQuantity\":[\"85.0\"],\"HomeDelivery\":[\"FX\"],\"sku.finalPrice\":[\"13297.95\"],\"skuStatusFlag\":[\"A\"],\"sku.repositoryId\":[\"980016238\"],\"sku.weighable\":[\"0\"],\"product.seoURL\":[\"[/celulares-y-smartphones/iphone-11-apple-64-gb-negro-at-t/980016238]\"],\"product.HomeDelivery\":[\"FX\"],\"expressDelivery\":[\"Express Delivery\"],\"record.spec\":[\"sku-980016238..0980016238.catalog20001.es__MX\"],\"priceStrikeOff\":[\"0.000000\"],\"PickAtStore\":[\"Pick at Store\"],\"STR0000009999\":[\"SELLABLE\"],\"sku.isBigItem\":[\"0\"],\"skuDisplayName\":[\"iPhone 11 Apple 64 GB Negro AT&T\"],\"sku.preOrderEndDate\":[\"04/10/2019\"]}}],\"numRecords\":1,\"attributes\":{\"sku.availableStores\":[\"0000004801\",\"0000004805\",\"0000004827\",\"0000004832\",\"0000004862\",\"0000004877\",\"0000004878\",\"0000004901\",\"0000004910\",\"0000004913\",\"0000004914\",\"0000004934\",\"0000004935\",\"0000004936\",\"0000004939\",\"0000004941\",\"0000004945\",\"0000004946\",\"0000004954\",\"0000004958\",\"0000004960\",\"0000004968\",\"0000004969\",\"0000004979\",\"0000004989\",\"0000006039\",\"0000006205\",\"0000006211\",\"0000006217\",\"0000006218\",\"0000006219\",\"0000006224\",\"0000006225\",\"0000006226\",\"0000006227\",\"0000006233\",\"0000006242\",\"0000006243\",\"0000006247\",\"0000006254\",\"0000006261\",\"0000006264\",\"0000006265\",\"0000006282\",\"0000006285\",\"0000006287\",\"0000006289\",\"0000006290\",\"0000006294\",\"0000006296\",\"0000006297\",\"0000006390\",\"0000006391\",\"0000006394\",\"0000006397\",\"0000006467\",\"0000006469\",\"0000006557\",\"0000008122\",\"0000008127\",\"0000009999\"],\"sku.lastPrice\":[\"13297.95\"],\"product.smallImage.url\":[\"/images/product-images/img_small/980016238s.jpg\"],\"HomeDelivery\":[\"FX\"],\"product.family\":[\"12 Meses sin Intereses\",\"3, 6 ó 9 Meses sin Intereses\",\"Apple\",\"Celulares\",\"Promociones Bancarias\",\"Promociones Citibanamex\"],\"product.displayName\":[\"iPhone 11\"],\"expressDeliveryEligible\":[\"false\"],\"sku.finalPrice\":[\"13297.95\"],\"PickupInStock\":[\"true\"],\"sku.repositoryId\":[\"980016238\"],\"sku.weighable\":[\"0\"],\"product.seoURL\":[\"[/celulares-y-smartphones/iphone-11-apple-64-gb-negro-at-t/980016238]\"],\"sku.smallImage.url\":[\"/images/product-images/img_small/980016238s.jpg\"],\"expressDelivery\":[\"Express Delivery\"],\"PickupEligible\":[\"true\"],\"sku.displayName\":[\"iPhone 11\"],\"DeliveryInStock\":[\"true\"],\"sku.unit_of_measure\":[\"eaches\"],\"DeliveryEligible\":[\"true\"],\"record.type.raw\":[\"product\",\"sku\"],\"product.department\":[\"Celulares y Smartphones\",\"Electrónica y Computación\",\"Fin Irresistible\",\"Lo Nuevo\",\"Meses sin Intereses\"],\"record.id\":[\"sku-980016238..0980016238.catalog20001.es__MX\"],\"expressDeliveryInStock\":[\"false\"],\"Brand\":[\"Apple\"],\"product.repositoryId\":[\"0980016238\"],\"PickAtStore\":[\"Pick at Store\"],\"PaymentPlan\":[\"13\",\"3\",\"6\",\"9\"],\"product.displayText\":[\"iPhone 11 Apple 64 GB Negro AT&T\"],\"skuDisplayName\":[\"iPhone 11 Apple 64 GB Negro AT&T\"],\"product.fineline\":[\"AT&T\",\"Smartphones\"],\"sku.preOrderEndDate\":[\"04/10/2019\"]}},{\"records\":[{\"records\":null,\"numRecords\":0,\"attributes\":{\"sku.lastPrice\":[\"18924.47\"],\"maxQuantity\":[\"10.0\"],\"HomeDelivery\":[\"FX\"],\"sku.finalPrice\":[\"18924.47\"],\"skuStatusFlag\":[\"A\"],\"sku.repositoryId\":[\"980016242\"],\"sku.weighable\":[\"0\"],\"product.seoURL\":[\"[/celulares-y-smartphones/iphone-11-apple-128-gb-blanco-at-t/980016242]\"],\"product.HomeDelivery\":[\"FX\"],\"expressDelivery\":[\"Express Delivery\"],\"record.spec\":[\"sku-980016242..0980016242.catalog20001.es__MX\"],\"priceStrikeOff\":[\"0.000000\"],\"PickAtStore\":[\"Pick at Store\"],\"STR0000009999\":[\"SELLABLE\"],\"sku.isBigItem\":[\"0\"],\"skuDisplayName\":[\"iPhone 11 Apple 128 GB Blanco AT&T\"],\"sku.preOrderEndDate\":[\"04/10/2019\"]}}],\"numRecords\":1,\"attributes\":{\"sku.availableStores\":[\"0000004727\",\"0000004790\",\"0000004791\",\"0000004801\",\"0000004832\",\"0000004878\",\"0000004939\",\"0000004941\",\"0000004947\",\"0000004948\",\"0000004955\",\"0000004960\",\"0000004970\",\"0000004972\",\"0000004975\",\"0000004982\",\"0000004984\",\"0000004985\",\"0000004987\",\"0000004988\",\"0000004989\",\"0000004992\",\"0000004999\",\"0000006039\",\"0000006207\",\"0000006209\",\"0000006210\",\"0000006219\",\"0000006226\",\"0000006234\",\"0000006237\",\"0000006244\",\"0000006249\",\"0000006251\",\"0000006260\",\"0000006274\",\"0000006277\",\"0000006279\",\"0000006287\",\"0000006289\",\"0000006293\",\"0000006294\",\"0000006296\",\"0000006298\",\"0000006305\",\"0000006398\",\"0000006574\",\"0000006583\",\"0000006584\",\"0000006585\",\"0000009999\"],\"sku.lastPrice\":[\"18924.47\"],\"product.smallImage.url\":[\"/images/product-images/img_small/980016242s.jpg\"],\"HomeDelivery\":[\"FX\"],\"product.family\":[\"12 Meses sin Intereses\",\"3, 6 ó 9 Meses sin Intereses\",\"Apple\",\"Celulares\",\"Celulares y Videojuegos\",\"Promociones Bancarias\",\"Promociones Citibanamex\",\"Smartphones\"],\"product.displayName\":[\"iPhone 11\"],\"expressDeliveryEligible\":[\"false\"],\"sku.finalPrice\":[\"18924.47\"],\"PickupInStock\":[\"true\"],\"sku.repositoryId\":[\"980016242\"],\"sku.weighable\":[\"0\"],\"sku.oosStores\":[\"0000004727\",\"0000004790\",\"0000004791\",\"0000004801\",\"0000004832\",\"0000004878\",\"0000004939\",\"0000004941\",\"0000004947\",\"0000004948\",\"0000004955\",\"0000004960\",\"0000004970\",\"0000004972\",\"0000004975\",\"0000004982\",\"0000004984\",\"0000004985\",\"0000004987\",\"0000004988\",\"0000004989\",\"0000004992\",\"0000004999\",\"0000006039\",\"0000006207\",\"0000006209\",\"0000006210\",\"0000006219\",\"0000006226\",\"0000006234\",\"0000006237\",\"0000006244\",\"0000006249\",\"0000006251\",\"0000006260\",\"0000006274\",\"0000006277\",\"0000006279\",\"0000006287\",\"0000006289\",\"0000006293\",\"0000006294\",\"0000006296\",\"0000006298\",\"0000006305\",\"0000006398\",\"0000006574\",\"0000006583\",\"0000006584\",\"0000006585\"],\"product.seoURL\":[\"[/celulares-y-smartphones/iphone-11-apple-128-gb-blanco-at-t/980016242]\"],\"sku.smallImage.url\":[\"/images/product-images/img_small/980016242s.jpg\"],\"expressDelivery\":[\"Express Delivery\"],\"PickupEligible\":[\"true\"],\"sku.displayName\":[\"iPhone 11\"],\"DeliveryInStock\":[\"true\"],\"sku.unit_of_measure\":[\"eaches\"],\"DeliveryEligible\":[\"true\"],\"record.type.raw\":[\"product\",\"sku\"],\"product.department\":[\"Celulares y Smartphones\",\"Electrónica y Computación\",\"Hot Sale\",\"Meses sin Intereses\"],\"record.id\":[\"sku-980016242..0980016242.catalog20001.es__MX\"],\"expressDeliveryInStock\":[\"false\"],\"Brand\":[\"Apple\"],\"product.repositoryId\":[\"0980016242\"],\"PickAtStore\":[\"Pick at Store\"],\"PaymentPlan\":[\"13\",\"3\",\"6\",\"9\"],\"product.displayText\":[\"iPhone 11 Apple 128 GB Blanco AT&T\"],\"skuDisplayName\":[\"iPhone 11 Apple 128 GB Blanco AT&T\"],\"product.fineline\":[\"AT&T\",\"Smartphones\"],\"sku.preOrderEndDate\":[\"04/10/2019\"]}},{\"records\":[{\"records\":null,\"numRecords\":0,\"attributes\":{\"sku.lastPrice\":[\"11251.97\"],\"maxQuantity\":[\"60.0\"],\"HomeDelivery\":[\"FX\"],\"sku.finalPrice\":[\"11251.97\"],\"skuStatusFlag\":[\"A\"],\"sku.repositoryId\":[\"980019492\"],\"sku.weighable\":[\"0\"],\"product.seoURL\":[\"[/celulares-y-smartphones/iphone-se-apple-64-gb-blanco-at-t/980019492]\"],\"product.HomeDelivery\":[\"FX\"],\"expressDelivery\":[\"Express Delivery\"],\"record.spec\":[\"sku-980019492..0980019492.catalog20001.es__MX\"],\"priceStrikeOff\":[\"0.000000\"],\"PickAtStore\":[\"Pick at Store\"],\"STR0000009999\":[\"SELLABLE\"],\"sku.isBigItem\":[\"0\"],\"skuDisplayName\":[\"iPhone SE Apple 64 GB Blanco AT&T\"]}}],\"numRecords\":1,\"attributes\":{\"sku.availableStores\":[\"0000004877\",\"0000004914\",\"0000004936\",\"0000004946\",\"0000004954\",\"0000004957\",\"0000004958\",\"0000006039\",\"0000006210\",\"0000006247\",\"0000006264\",\"0000006313\",\"0000006557\",\"0000009999\"],\"sku.lastPrice\":[\"11251.97\"],\"product.smallImage.url\":[\"/images/product-images/img_small/980019492s.jpg\"],\"HomeDelivery\":[\"FX\"],\"product.family\":[\"12 Meses sin Intereses\",\"3, 6 ó 9 Meses sin Intereses\",\"Apple\",\"Celulares\",\"Promociones Bancarias\",\"Promociones Citibanamex\",\"Smartphones\"],\"product.displayName\":[\"iPhone SE\"],\"expressDeliveryEligible\":[\"false\"],\"sku.finalPrice\":[\"11251.97\"],\"PickupInStock\":[\"true\"],\"sku.repositoryId\":[\"980019492\"],\"sku.weighable\":[\"0\"],\"sku.oosStores\":[\"0000006039\"],\"product.seoURL\":[\"[/celulares-y-smartphones/iphone-se-apple-64-gb-blanco-at-t/980019492]\"],\"sku.smallImage.url\":[\"/images/product-images/img_small/980019492s.jpg\"],\"expressDelivery\":[\"Express Delivery\"],\"PickupEligible\":[\"true\"],\"sku.displayName\":[\"iPhone SE\"],\"DeliveryInStock\":[\"true\"],\"sku.unit_of_measure\":[\"eaches\"],\"DeliveryEligible\":[\"true\"],\"record.type.raw\":[\"product\",\"sku\"],\"product.department\":[\"Celulares y Smartphones\",\"Electrónica y Computación\",\"Fin Irresistible\",\"Hot Days\",\"Hot Sale\",\"Meses sin Intereses\",\"Muebles de Oficina, Papelería y Libros\",\"Open-House\"],\"record.id\":[\"sku-980019492..0980019492.catalog20001.es__MX\"],\"expressDeliveryInStock\":[\"false\"],\"Brand\":[\"Apple\"],\"product.repositoryId\":[\"0980019492\"],\"PickAtStore\":[\"Pick at Store\"],\"PaymentPlan\":[\"13\",\"3\",\"6\",\"9\"],\"product.displayText\":[\"iPhone SE Apple 64 GB Blanco AT&T\"],\"skuDisplayName\":[\"iPhone SE Apple 64 GB Blanco AT&T\"],\"product.fineline\":[\"AT&T\",\"Smartphones\"]}},{\"records\":[{\"records\":null,\"numRecords\":0,\"attributes\":{\"sku.lastPrice\":[\"11251.97\"],\"maxQuantity\":[\"60.0\"],\"HomeDelivery\":[\"FX\"],\"sku.finalPrice\":[\"11251.97\"],\"skuStatusFlag\":[\"A\"],\"sku.repositoryId\":[\"980019491\"],\"sku.weighable\":[\"0\"],\"product.seoURL\":[\"[/celulares-y-smartphones/iphone-se-apple-64-gb-negro-at-t/980019491]\"],\"product.HomeDelivery\":[\"FX\"],\"expressDelivery\":[\"Express Delivery\"],\"record.spec\":[\"sku-980019491..0980019491.catalog20001.es__MX\"],\"priceStrikeOff\":[\"0.000000\"],\"PickAtStore\":[\"Pick at Store\"],\"STR0000009999\":[\"SELLABLE\"],\"sku.isBigItem\":[\"0\"],\"skuDisplayName\":[\"iPhone SE Apple 64 GB Negro AT&T\"]}}],\"numRecords\":1,\"attributes\":{\"sku.availableStores\":[\"0000004805\",\"0000004914\",\"0000004946\",\"0000004958\",\"0000004961\",\"0000004979\",\"0000006039\",\"0000006247\",\"0000006264\",\"0000006288\",\"0000006313\",\"0000009999\"],\"sku.lastPrice\":[\"11251.97\"],\"product.smallImage.url\":[\"/images/product-images/img_small/980019491s.jpg\"],\"HomeDelivery\":[\"FX\"],\"product.family\":[\"12 Meses sin Intereses\",\"3, 6 ó 9 Meses sin Intereses\",\"Apple\",\"Celulares\",\"Promociones Bancarias\",\"Promociones Citibanamex\",\"Smartphones\"],\"product.displayName\":[\"iPhone SE\"],\"expressDeliveryEligible\":[\"false\"],\"sku.finalPrice\":[\"11251.97\"],\"PickupInStock\":[\"true\"],\"sku.repositoryId\":[\"980019491\"],\"sku.weighable\":[\"0\"],\"sku.oosStores\":[\"0000006039\"],\"product.seoURL\":[\"[/celulares-y-smartphones/iphone-se-apple-64-gb-negro-at-t/980019491]\"],\"sku.smallImage.url\":[\"/images/product-images/img_small/980019491s.jpg\"],\"expressDelivery\":[\"Express Delivery\"],\"PickupEligible\":[\"true\"],\"sku.displayName\":[\"iPhone SE\"],\"DeliveryInStock\":[\"true\"],\"sku.unit_of_measure\":[\"eaches\"],\"DeliveryEligible\":[\"true\"],\"record.type.raw\":[\"product\",\"sku\"],\"product.department\":[\"Celulares y Smartphones\",\"Electrónica y Computación\",\"Fin Irresistible\",\"Hot Days\",\"Hot Sale\",\"Meses sin Intereses\",\"Muebles de Oficina, Papelería y Libros\",\"Open-House\"],\"record.id\":[\"sku-980019491..0980019491.catalog20001.es__MX\"],\"expressDeliveryInStock\":[\"false\"],\"Brand\":[\"Apple\"],\"product.repositoryId\":[\"0980019491\"],\"PickAtStore\":[\"Pick at Store\"],\"PaymentPlan\":[\"13\",\"3\",\"6\",\"9\"],\"product.displayText\":[\"iPhone SE Apple 64 GB Negro AT&T\"],\"skuDisplayName\":[\"iPhone SE Apple 64 GB Negro AT&T\"],\"product.fineline\":[\"AT&T\",\"Smartphones\"]}},{\"records\":[{\"records\":null,\"numRecords\":0,\"attributes\":{\"sku.lastPrice\":[\"11251.97\"],\"maxQuantity\":[\"60.0\"],\"HomeDelivery\":[\"FX\"],\"sku.finalPrice\":[\"11251.97\"],\"skuStatusFlag\":[\"A\"],\"sku.repositoryId\":[\"980019490\"],\"sku.weighable\":[\"0\"],\"product.seoURL\":[\"[/celulares-y-smartphones/iphone-se-apple-64-gb-rojo-at-t/980019490]\"],\"product.HomeDelivery\":[\"FX\"],\"expressDelivery\":[\"Express Delivery\"],\"record.spec\":[\"sku-980019490..0980019490.catalog20001.es__MX\"],\"priceStrikeOff\":[\"0.000000\"],\"PickAtStore\":[\"Pick at Store\"],\"STR0000009999\":[\"SELLABLE\"],\"sku.isBigItem\":[\"0\"],\"skuDisplayName\":[\"iPhone SE Apple 64 GB Rojo AT&T\"]}}],\"numRecords\":1,\"attributes\":{\"sku.availableStores\":[\"0000004914\",\"0000004979\",\"0000004999\",\"0000006039\",\"0000006313\",\"0000009999\"],\"sku.lastPrice\":[\"11251.97\"],\"product.smallImage.url\":[\"/images/product-images/img_small/980019490s.jpg\"],\"HomeDelivery\":[\"FX\"],\"product.family\":[\"12 Meses sin Intereses\",\"3, 6 ó 9 Meses sin Intereses\",\"Apple\",\"Celulares\",\"Promociones Bancarias\",\"Promociones Citibanamex\",\"Smartphones\"],\"product.displayName\":[\"iPhone SE\"],\"expressDeliveryEligible\":[\"false\"],\"sku.finalPrice\":[\"11251.97\"],\"PickupInStock\":[\"true\"],\"sku.repositoryId\":[\"980019490\"],\"sku.weighable\":[\"0\"],\"sku.oosStores\":[\"0000004979\",\"0000006039\"],\"product.seoURL\":[\"[/celulares-y-smartphones/iphone-se-apple-64-gb-rojo-at-t/980019490]\"],\"sku.smallImage.url\":[\"/images/product-images/img_small/980019490s.jpg\"],\"expressDelivery\":[\"Express Delivery\"],\"PickupEligible\":[\"true\"],\"sku.displayName\":[\"iPhone SE\"],\"DeliveryInStock\":[\"true\"],\"sku.unit_of_measure\":[\"eaches\"],\"DeliveryEligible\":[\"true\"],\"record.type.raw\":[\"product\",\"sku\"],\"product.department\":[\"Celulares y Smartphones\",\"Electrónica y Computación\",\"Fin Irresistible\",\"Hot Days\",\"Hot Sale\",\"Meses sin Intereses\",\"Muebles de Oficina, Papelería y Libros\",\"Open-House\"],\"record.id\":[\"sku-980019490..0980019490.catalog20001.es__MX\"],\"expressDeliveryInStock\":[\"false\"],\"Brand\":[\"Apple\"],\"product.repositoryId\":[\"0980019490\"],\"PickAtStore\":[\"Pick at Store\"],\"PaymentPlan\":[\"13\",\"3\",\"6\",\"9\"],\"product.displayText\":[\"iPhone SE Apple 64 GB Rojo AT&T\"],\"skuDisplayName\":[\"iPhone SE Apple 64 GB Rojo AT&T\"],\"product.fineline\":[\"AT&T\",\"Smartphones\"]}},{\"records\":[{\"records\":null,\"numRecords\":0,\"attributes\":{\"sku.lastPrice\":[\"12991.08\"],\"maxQuantity\":[\"60.0\"],\"HomeDelivery\":[\"FX\"],\"sku.finalPrice\":[\"8182.98\"],\"skuStatusFlag\":[\"A\"],\"sku.repositoryId\":[\"980021154\"],\"sku.weighable\":[\"0\"],\"product.seoURL\":[\"[/audio-y-barras-de-sonido/sistema-de-audio-sony-de-alta-potencia-con-tecnologia-bluetooth/980021154]\"],\"product.HomeDelivery\":[\"FX\"],\"expressDelivery\":[\"Express Delivery\"],\"record.spec\":[\"sku-980021154..0980021154.catalog20001.es__MX\"],\"priceStrikeOff\":[1],\"PickAtStore\":[\"Pick at Store\"],\"STR0000009999\":[\"SELLABLE\"],\"sku.isBigItem\":[\"0\"],\"skuDisplayName\":[\"Sistema de Audio Sony de Alta Potencia con Tecnología Bluetooth\"]}}],\"numRecords\":1,\"attributes\":{\"sku.availableStores\":[\"0000004999\",\"0000006039\",\"0000006252\",\"0000006286\",\"0000006293\",\"0000009999\"],\"sku.lastPrice\":[\"12991.08\"],\"product.smallImage.url\":[\"/images/product-images/img_small/980021154s.jpg\"],\"HomeDelivery\":[\"FX\"],\"product.family\":[\"12 Meses sin Intereses\",\"3, 6 ó 9 Meses sin Intereses\",\"Electrónica\",\"Pantallas y Audio\",\"Promociones Bancarias\",\"Promociones Citibanamex\",\"Regalos de Navidad\",\"Tecnología y Entretenimiento\"],\"product.displayName\":[\"Sistema de Audio\"],\"expressDeliveryEligible\":[\"false\"],\"sku.finalPrice\":[\"8182.98\"],\"PickupInStock\":[\"true\"],\"sku.repositoryId\":[\"980021154\"],\"sku.weighable\":[\"0\"],\"sku.oosStores\":[\"0000004999\",\"0000006039\",\"0000006252\",\"0000006286\",\"0000006293\"],\"product.seoURL\":[\"[/audio-y-barras-de-sonido/sistema-de-audio-sony-de-alta-potencia-con-tecnologia-bluetooth/980021154]\"],\"sku.smallImage.url\":[\"/images/product-images/img_small/980021154s.jpg\"],\"expressDelivery\":[\"Express Delivery\"],\"PickupEligible\":[\"true\"],\"sku.displayName\":[\"Sistema de Audio\"],\"DeliveryInStock\":[\"true\"],\"sku.unit_of_measure\":[\"eaches\"],\"DeliveryEligible\":[\"true\"],\"record.type.raw\":[\"product\",\"sku\"],\"product.department\":[\"Electrónica y Computación\",\"Meses sin Intereses\",\"Navidad\",\"Sams Club Ofertas\",\"Sociofest\"],\"record.id\":[\"sku-980021154..0980021154.catalog20001.es__MX\"],\"expressDeliveryInStock\":[\"false\"],\"Brand\":[\"Sony\"],\"product.repositoryId\":[\"0980021154\"],\"PickAtStore\":[\"Pick at Store\"],\"PaymentPlan\":[\"13\",\"3\",\"6\",\"9\"],\"product.displayText\":[\"Sistema de Audio Sony de Alta Potencia con Tecnología Bluetooth\"],\"skuDisplayName\":[\"Sistema de Audio Sony de Alta Potencia con Tecnología Bluetooth\"],\"product.fineline\":[\"Audio y Barras de Sonido\",\"Electrónica\",\"Tecnologia y Electrónica\"]}},{\"records\":[{\"records\":null,\"numRecords\":0,\"attributes\":{\"sku.lastPrice\":[\"12274.98\"],\"maxQuantity\":[\"60.0\"],\"HomeDelivery\":[\"FX\"],\"sku.finalPrice\":[\"12274.98\"],\"skuStatusFlag\":[\"A\"],\"sku.repositoryId\":[\"980019488\"],\"sku.weighable\":[\"0\"],\"product.seoURL\":[\"[/celulares-y-smartphones/iphone-se-apple-128-gb-negro-at-t/980019488]\"],\"product.HomeDelivery\":[\"FX\"],\"expressDelivery\":[\"Express Delivery\"],\"record.spec\":[\"sku-980019488..0980019488.catalog20001.es__MX\"],\"priceStrikeOff\":[\"0.000000\"],\"PickAtStore\":[\"Pick at Store\"],\"STR0000009999\":[\"SELLABLE\"],\"sku.isBigItem\":[\"0\"],\"skuDisplayName\":[\"iPhone SE Apple 128 GB Negro AT&T\"]}}],\"numRecords\":1,\"attributes\":{\"sku.availableStores\":[\"0000004805\",\"0000004979\",\"0000006039\",\"0000006247\",\"0000006313\",\"0000006557\",\"0000009999\"],\"sku.lastPrice\":[\"12274.98\"],\"product.smallImage.url\":[\"/images/product-images/img_small/980019488s.jpg\"],\"HomeDelivery\":[\"FX\"],\"product.family\":[\"12 Meses sin Intereses\",\"3, 6 ó 9 Meses sin Intereses\",\"Apple\",\"Celulares\",\"Promociones Bancarias\",\"Promociones Citibanamex\",\"Smartphones\"],\"product.displayName\":[\"iPhone SE\"],\"expressDeliveryEligible\":[\"false\"],\"sku.finalPrice\":[\"12274.98\"],\"PickupInStock\":[\"true\"],\"sku.repositoryId\":[\"980019488\"],\"sku.weighable\":[\"0\"],\"sku.oosStores\":[\"0000006039\"],\"product.seoURL\":[\"[/celulares-y-smartphones/iphone-se-apple-128-gb-negro-at-t/980019488]\"],\"sku.smallImage.url\":[\"/images/product-images/img_small/980019488s.jpg\"],\"expressDelivery\":[\"Express Delivery\"],\"PickupEligible\":[\"true\"],\"sku.displayName\":[\"iPhone SE\"],\"DeliveryInStock\":[\"true\"],\"sku.unit_of_measure\":[\"eaches\"],\"DeliveryEligible\":[\"true\"],\"record.type.raw\":[\"product\",\"sku\"],\"product.department\":[\"Celulares y Smartphones\",\"Electrónica y Computación\",\"Hot Sale\",\"Meses sin Intereses\"],\"record.id\":[\"sku-980019488..0980019488.catalog20001.es__MX\"],\"expressDeliveryInStock\":[\"false\"],\"Brand\":[\"Apple\"],\"product.repositoryId\":[\"0980019488\"],\"PickAtStore\":[\"Pick at Store\"],\"PaymentPlan\":[\"13\",\"3\",\"6\",\"9\"],\"product.displayText\":[\"iPhone SE Apple 128 GB Negro AT&T\"],\"skuDisplayName\":[\"iPhone SE Apple 128 GB Negro AT&T\"],\"product.fineline\":[\"AT&T\",\"Smartphones\"]}},{\"records\":[{\"records\":null,\"numRecords\":0,\"attributes\":{\"sku.lastPrice\":[\"63066.91\"],\"maxQuantity\":[\"60.0\"],\"HomeDelivery\":[\"FX\"],\"sku.finalPrice\":[\"63066.91\"],\"skuStatusFlag\":[\"A\"],\"sku.repositoryId\":[\"980017744\"],\"sku.weighable\":[\"0\"],\"product.seoURL\":[\"[/laptops/macbook-pro-apple-core-i7-16-gb-512-gb-16/980017744]\"],\"product.HomeDelivery\":[\"FX\"],\"expressDelivery\":[\"Express Delivery\"],\"record.spec\":[\"sku-980017744..0980017744.catalog20001.es__MX\"],\"priceStrikeOff\":[\"0.000000\"],\"PickAtStore\":[\"Pick at Store\"],\"STR0000009999\":[\"SELLABLE\"],\"sku.isBigItem\":[\"0\"],\"skuDisplayName\":[\"MacBook Pro Apple Core i7 16 GB 512 GB 16\\\"\"]}}],\"numRecords\":1,\"attributes\":{\"sku.availableStores\":[\"0000004827\",\"0000004879\",\"0000004910\",\"0000004986\",\"0000006206\",\"0000006233\",\"0000006243\",\"0000006264\",\"0000006285\",\"0000006390\",\"0000006394\",\"0000006395\",\"0000006467\",\"0000006468\",\"0000006469\",\"0000006497\",\"0000006534\",\"0000006557\",\"0000006576\",\"0000006577\",\"0000006578\",\"0000006586\",\"0000008124\",\"0000009999\"],\"sku.lastPrice\":[\"63066.91\"],\"product.smallImage.url\":[\"/images/product-images/img_small/980017744s.jpg\"],\"HomeDelivery\":[\"FX\"],\"product.family\":[\"12 Meses sin Intereses\",\"3, 6 ó 9 Meses sin Intereses\",\"Apple\",\"Cómputo\",\"Promociones Citibanamex\"],\"product.displayName\":[\"MacBook Pro\"],\"expressDeliveryEligible\":[\"false\"],\"sku.finalPrice\":[\"63066.91\"],\"PickupInStock\":[\"true\"],\"sku.repositoryId\":[\"980017744\"],\"sku.weighable\":[\"0\"],\"sku.oosStores\":[\"0000006395\",\"0000006469\"],\"product.seoURL\":[\"[/laptops/macbook-pro-apple-core-i7-16-gb-512-gb-16/980017744]\"],\"sku.smallImage.url\":[\"/images/product-images/img_small/980017744s.jpg\"],\"expressDelivery\":[\"Express Delivery\"],\"PickupEligible\":[\"true\"],\"sku.displayName\":[\"MacBook Pro\"],\"DeliveryInStock\":[\"true\"],\"sku.unit_of_measure\":[\"eaches\"],\"DeliveryEligible\":[\"true\"],\"record.type.raw\":[\"product\",\"sku\"],\"product.department\":[\"Electrónica y Computación\",\"Meses sin Intereses\"],\"record.id\":[\"sku-980017744..0980017744.catalog20001.es__MX\"],\"expressDeliveryInStock\":[\"false\"],\"Brand\":[\"Apple\"],\"product.repositoryId\":[\"0980017744\"],\"PickAtStore\":[\"Pick at Store\"],\"PaymentPlan\":[\"13\",\"3\",\"6\",\"9\"],\"product.displayText\":[\"MacBook Pro Apple Core i7 16 GB 512 GB 16\\\"\"],\"skuDisplayName\":[\"MacBook Pro Apple Core i7 16 GB 512 GB 16\\\"\"],\"product.fineline\":[\"Cómputo\",\"Laptops\"]}},{\"records\":[{\"records\":null,\"numRecords\":0,\"attributes\":{\"sku.lastPrice\":[\"11251.97\"],\"maxQuantity\":[\"60.0\"],\"HomeDelivery\":[\"FX\"],\"sku.finalPrice\":[\"11251.97\"],\"skuStatusFlag\":[\"A\"],\"sku.repositoryId\":[\"980013177\"],\"sku.weighable\":[\"0\"],\"product.seoURL\":[\"[/tablets/ipad-mini-apple-ios-12-64-gb-gris-espacial-7-9/980013177]\"],\"product.HomeDelivery\":[\"FX\"],\"expressDelivery\":[\"Express Delivery\"],\"record.spec\":[\"sku-980013177..0980013177.catalog20001.es__MX\"],\"priceStrikeOff\":[\"0.000000\"],\"PickAtStore\":[\"Pick at Store\"],\"STR0000009999\":[\"SELLABLE\"],\"sku.isBigItem\":[\"0\"],\"skuDisplayName\":[\"iPad Mini Apple iOS 12 64 GB Gris Espacial 7.9\\\"\"]}}],\"numRecords\":1,\"attributes\":{\"sku.availableStores\":[\"0000004827\",\"0000008122\",\"0000009999\"],\"sku.lastPrice\":[\"11251.97\"],\"product.smallImage.url\":[\"/images/product-images/img_small/980013177s.jpg\"],\"HomeDelivery\":[\"FX\"],\"product.family\":[\"12 Meses sin Intereses\",\"3, 6 ó 9 Meses sin Intereses\",\"Apple\",\"Cómputo\",\"Promociones Citibanamex\",\"Regalos para San Valentín\"],\"product.displayName\":[\"iPad Mini\"],\"expressDeliveryEligible\":[\"false\"],\"sku.finalPrice\":[\"11251.97\"],\"PickupInStock\":[\"true\"],\"sku.repositoryId\":[\"980013177\"],\"sku.weighable\":[\"0\"],\"product.seoURL\":[\"[/tablets/ipad-mini-apple-ios-12-64-gb-gris-espacial-7-9/980013177]\"],\"sku.smallImage.url\":[\"/images/product-images/img_small/980013177s.jpg\"],\"expressDelivery\":[\"Express Delivery\"],\"PickupEligible\":[\"true\"],\"sku.displayName\":[\"iPad Mini\"],\"DeliveryInStock\":[\"true\"],\"sku.unit_of_measure\":[\"eaches\"],\"DeliveryEligible\":[\"true\"],\"record.type.raw\":[\"product\",\"sku\"],\"product.department\":[\"Categorías_Exclusivas_App\",\"El mejor fin\",\"Electrónica y Computación\",\"Meses sin Intereses\",\"San Valentín\"],\"record.id\":[\"sku-980013177..0980013177.catalog20001.es__MX\"],\"expressDeliveryInStock\":[\"false\"],\"Brand\":[\"Apple\"],\"product.repositoryId\":[\"0980013177\"],\"PickAtStore\":[\"Pick at Store\"],\"PaymentPlan\":[\"13\",\"3\",\"6\",\"9\"],\"product.displayText\":[\"iPad Mini Apple iOS 12 64 GB Gris Espacial 7.9\\\"\"],\"skuDisplayName\":[\"iPad Mini Apple iOS 12 64 GB Gris Espacial 7.9\\\"\"],\"product.fineline\":[\"Cómputo\",\"Tablets \"]}},{\"records\":[{\"records\":null,\"numRecords\":0,\"attributes\":{\"sku.lastPrice\":[\"6136.98\"],\"maxQuantity\":[\"60.0\"],\"HomeDelivery\":[\"FX\"],\"sku.finalPrice\":[\"5932.38\"],\"skuStatusFlag\":[\"A\"],\"sku.repositoryId\":[\"980024145\"],\"sku.weighable\":[\"0\"],\"product.seoURL\":[\"[/audio-y-barras-de-sonido/barra-de-sonido-lg-dts-virtual-4-1-canales/980024145]\"],\"product.HomeDelivery\":[\"FX\"],\"expressDelivery\":[\"Express Delivery\"],\"record.spec\":[\"sku-980024145..0980024145.catalog20001.es__MX\"],\"priceStrikeOff\":[1],\"PickAtStore\":[\"Pick at Store\"],\"STR0000009999\":[\"SELLABLE\"],\"sku.isBigItem\":[\"0\"],\"skuDisplayName\":[\"Barra de Sonido LG DTS Virtual 4.1 Canales\"]}}],\"numRecords\":1,\"attributes\":{\"sku.availableStores\":[\"0000004727\",\"0000004728\",\"0000004746\",\"0000004790\",\"0000004791\",\"0000004792\",\"0000004801\",\"0000004827\",\"0000004832\",\"0000004841\",\"0000004862\",\"0000004877\",\"0000004878\",\"0000004879\",\"0000004901\",\"0000004910\",\"0000004911\",\"0000004913\",\"0000004937\",\"0000004938\",\"0000004939\",\"0000004944\",\"0000004946\",\"0000004947\",\"0000004948\",\"0000004949\",\"0000004951\",\"0000004954\",\"0000004955\",\"0000004957\",\"0000004958\",\"0000004960\",\"0000004961\",\"0000004968\",\"0000004970\",\"0000004972\",\"0000004973\",\"0000004977\",\"0000004979\",\"0000004981\",\"0000004983\",\"0000004984\",\"0000004985\",\"0000004987\",\"0000004989\",\"0000004991\",\"0000004992\",\"0000004999\",\"0000006039\",\"0000006204\",\"0000006205\",\"0000006206\",\"0000006208\",\"0000006209\",\"0000006211\",\"0000006212\",\"0000006213\",\"0000006215\",\"0000006217\",\"0000006218\",\"0000006219\",\"0000006221\",\"0000006222\",\"0000006226\",\"0000006227\",\"0000006229\",\"0000006232\",\"0000006234\",\"0000006241\",\"0000006242\",\"0000006243\",\"0000006244\",\"0000006246\",\"0000006247\",\"0000006248\",\"0000006252\",\"0000006254\",\"0000006258\",\"0000006260\",\"0000006261\",\"0000006264\",\"0000006265\",\"0000006274\",\"0000006275\",\"0000006277\",\"0000006279\",\"0000006282\",\"0000006283\",\"0000006285\",\"0000006286\",\"0000006287\",\"0000006289\",\"0000006293\",\"0000006294\",\"0000006295\",\"0000006296\",\"0000006298\",\"0000006300\",\"0000006305\",\"0000006307\",\"0000006308\",\"0000006309\",\"0000006313\",\"0000006390\",\"0000006391\",\"0000006394\",\"0000006398\",\"0000006467\",\"0000006468\",\"0000006469\",\"0000006513\",\"0000006574\",\"0000006577\",\"0000006578\",\"0000006583\",\"0000006584\",\"0000006585\",\"0000006586\",\"0000008118\",\"0000008122\",\"0000008124\",\"0000008127\",\"0000008240\",\"0000009999\"],\"sku.lastPrice\":[\"6136.98\"],\"product.smallImage.url\":[\"/images/product-images/img_small/980024145s.jpg\"],\"HomeDelivery\":[\"FX\"],\"product.family\":[\"12 Meses sin Intereses\",\"3, 6 ó 9 Meses sin Intereses\",\"Electrónica\",\"Pantallas\",\"Pantallas y Audio\",\"Promociones Bancarias\",\"Promociones Citibanamex\",\"Tecnología y Entretenimiento\"],\"product.displayName\":[\"Barra de Sonido\"],\"expressDeliveryEligible\":[\"false\"],\"sku.finalPrice\":[\"5932.38\"],\"PickupInStock\":[\"true\"],\"sku.repositoryId\":[\"980024145\"],\"sku.weighable\":[\"0\"],\"sku.oosStores\":[\"0000006039\"],\"product.seoURL\":[\"[/audio-y-barras-de-sonido/barra-de-sonido-lg-dts-virtual-4-1-canales/980024145]\"],\"sku.smallImage.url\":[\"/images/product-images/img_small/980024145s.jpg\"],\"expressDelivery\":[\"Express Delivery\"],\"PickupEligible\":[\"true\"],\"sku.displayName\":[\"Barra de Sonido\"],\"DeliveryInStock\":[\"true\"],\"sku.unit_of_measure\":[\"eaches\"],\"DeliveryEligible\":[\"true\"],\"record.type.raw\":[\"product\",\"sku\"],\"product.department\":[\"Electrónica y Computación\",\"LG\",\"Meses sin Intereses\",\"Sams Club Ofertas\",\"Sociofest\"],\"record.id\":[\"sku-980024145..0980024145.catalog20001.es__MX\"],\"expressDeliveryInStock\":[\"false\"],\"Brand\":[\"LG\"],\"product.repositoryId\":[\"0980024145\"],\"PickAtStore\":[\"Pick at Store\"],\"PaymentPlan\":[\"13\",\"3\",\"6\",\"9\"],\"product.displayText\":[\"Barra de Sonido LG DTS Virtual 4.1 Canales\"],\"skuDisplayName\":[\"Barra de Sonido LG DTS Virtual 4.1 Canales\"],\"product.fineline\":[\"Audio y Barras de Sonido\",\"Electrónica\",\"Tecnologia y Electrónica\"]}},{\"records\":[{\"records\":null,\"numRecords\":0,\"attributes\":{\"sku.lastPrice\":[\"12274.98\"],\"maxQuantity\":[\"60.0\"],\"HomeDelivery\":[\"FX\"],\"sku.finalPrice\":[\"12274.98\"],\"skuStatusFlag\":[\"A\"],\"sku.repositoryId\":[\"980019487\"],\"sku.weighable\":[\"0\"],\"product.seoURL\":[\"[/celulares-y-smartphones/iphone-se-apple-128-gb-rojo-at-t/980019487]\"],\"product.HomeDelivery\":[\"FX\"],\"expressDelivery\":[\"Express Delivery\"],\"record.spec\":[\"sku-980019487..0980019487.catalog20001.es__MX\"],\"priceStrikeOff\":[\"0.000000\"],\"PickAtStore\":[\"Pick at Store\"],\"STR0000009999\":[\"SELLABLE\"],\"sku.isBigItem\":[\"0\"],\"skuDisplayName\":[\"iPhone SE Apple 128 GB Rojo AT&T\"]}}],\"numRecords\":1,\"attributes\":{\"sku.availableStores\":[\"0000006039\",\"0000006313\",\"0000009999\"],\"sku.lastPrice\":[\"12274.98\"],\"product.smallImage.url\":[\"/images/product-images/img_small/980019487s.jpg\"],\"HomeDelivery\":[\"FX\"],\"product.family\":[\"12 Meses sin Intereses\",\"3, 6 ó 9 Meses sin Intereses\",\"Apple\",\"Celulares\",\"Promociones Bancarias\",\"Promociones Citibanamex\",\"Smartphones\"],\"product.displayName\":[\"iPhone SE\"],\"expressDeliveryEligible\":[\"false\"],\"sku.finalPrice\":[\"12274.98\"],\"PickupInStock\":[\"true\"],\"sku.repositoryId\":[\"980019487\"],\"sku.weighable\":[\"0\"],\"sku.oosStores\":[\"0000006039\"],\"product.seoURL\":[\"[/celulares-y-smartphones/iphone-se-apple-128-gb-rojo-at-t/980019487]\"],\"sku.smallImage.url\":[\"/images/product-images/img_small/980019487s.jpg\"],\"expressDelivery\":[\"Express Delivery\"],\"PickupEligible\":[\"true\"],\"sku.displayName\":[\"iPhone SE\"],\"DeliveryInStock\":[\"true\"],\"sku.unit_of_measure\":[\"eaches\"],\"DeliveryEligible\":[\"true\"],\"record.type.raw\":[\"product\",\"sku\"],\"product.department\":[\"Celulares y Smartphones\",\"Electrónica y Computación\",\"Hot Sale\",\"Meses sin Intereses\"],\"record.id\":[\"sku-980019487..0980019487.catalog20001.es__MX\"],\"expressDeliveryInStock\":[\"false\"],\"Brand\":[\"Apple\"],\"product.repositoryId\":[\"0980019487\"],\"PickAtStore\":[\"Pick at Store\"],\"PaymentPlan\":[\"13\",\"3\",\"6\",\"9\"],\"product.displayText\":[\"iPhone SE Apple 128 GB Rojo AT&T\"],\"skuDisplayName\":[\"iPhone SE Apple 128 GB Rojo AT&T\"],\"product.fineline\":[\"AT&T\",\"Smartphones\"]}},{\"records\":[{\"records\":null,\"numRecords\":0,\"attributes\":{\"sku.lastPrice\":[\"6136.98\"],\"maxQuantity\":[\"60.0\"],\"HomeDelivery\":[\"FX\"],\"sku.finalPrice\":[\"5113.98\"],\"skuStatusFlag\":[\"A\"],\"sku.repositoryId\":[\"980018198\"],\"sku.weighable\":[\"0\"],\"product.seoURL\":[\"[/audio-y-barras-de-sonido/barra-de-sonido-sony-2-1-canales-con-subwoofer-inalambrico-ht-s350/980018198]\"],\"product.HomeDelivery\":[\"FX\"],\"expressDelivery\":[\"Express Delivery\"],\"record.spec\":[\"sku-980018198..0980018198.catalog20001.es__MX\"],\"priceStrikeOff\":[1],\"PickAtStore\":[\"Pick at Store\"],\"STR0000009999\":[\"SELLABLE\"],\"sku.isBigItem\":[\"0\"],\"skuDisplayName\":[\"Barra de Sonido Sony 2.1 Canales con Subwoofer Inalámbrico HT-S350\"]}}],\"numRecords\":1,\"attributes\":{\"sku.availableStores\":[\"0000004727\",\"0000004728\",\"0000004790\",\"0000004791\",\"0000004792\",\"0000004801\",\"0000004805\",\"0000004827\",\"0000004832\",\"0000004841\",\"0000004877\",\"0000004878\",\"0000004879\",\"0000004910\",\"0000004911\",\"0000004914\",\"0000004934\",\"0000004935\",\"0000004936\",\"0000004938\",\"0000004939\",\"0000004941\",\"0000004944\",\"0000004946\",\"0000004947\",\"0000004949\",\"0000004950\",\"0000004951\",\"0000004954\",\"0000004955\",\"0000004957\",\"0000004958\",\"0000004960\",\"0000004961\",\"0000004968\",\"0000004969\",\"0000004970\",\"0000004972\",\"0000004973\",\"0000004977\",\"0000004978\",\"0000004979\",\"0000004981\",\"0000004982\",\"0000004983\",\"0000004984\",\"0000004986\",\"0000004987\",\"0000004989\",\"0000004991\",\"0000004992\",\"0000004999\",\"0000006204\",\"0000006205\",\"0000006207\",\"0000006209\",\"0000006210\",\"0000006211\",\"0000006212\",\"0000006213\",\"0000006215\",\"0000006217\",\"0000006218\",\"0000006221\",\"0000006222\",\"0000006223\",\"0000006224\",\"0000006225\",\"0000006227\",\"0000006229\",\"0000006232\",\"0000006233\",\"0000006234\",\"0000006236\",\"0000006240\",\"0000006242\",\"0000006244\",\"0000006246\",\"0000006248\",\"0000006249\",\"0000006251\",\"0000006252\",\"0000006254\",\"0000006258\",\"0000006260\",\"0000006261\",\"0000006263\",\"0000006264\",\"0000006265\",\"0000006274\",\"0000006275\",\"0000006277\",\"0000006279\",\"0000006282\",\"0000006283\",\"0000006286\",\"0000006287\",\"0000006288\",\"0000006289\",\"0000006290\",\"0000006293\",\"0000006294\",\"0000006295\",\"0000006296\",\"0000006297\",\"0000006298\",\"0000006300\",\"0000006305\",\"0000006307\",\"0000006308\",\"0000006309\",\"0000006313\",\"0000006314\",\"0000006390\",\"0000006392\",\"0000006394\",\"0000006395\",\"0000006396\",\"0000006397\",\"0000006467\",\"0000006468\",\"0000006469\",\"0000006470\",\"0000006497\",\"0000006523\",\"0000006534\",\"0000006563\",\"0000006574\",\"0000006576\",\"0000006577\",\"0000006578\",\"0000006583\",\"0000006584\",\"0000006585\",\"0000006586\",\"0000008118\",\"0000008121\",\"0000008122\",\"0000008124\",\"0000008127\",\"0000008240\",\"0000009999\"],\"sku.lastPrice\":[\"6136.98\"],\"product.smallImage.url\":[\"/images/product-images/img_small/980018198s.jpg\"],\"HomeDelivery\":[\"FX\"],\"product.family\":[\"12 Meses sin Intereses\",\"3, 6 ó 9 Meses sin Intereses\",\"Electrónica\",\"Pantallas y Audio\",\"Promociones Bancarias\",\"Promociones Citibanamex\",\"Regalos de Navidad\",\"Tecnología y Entretenimiento\"],\"product.displayName\":[\"Barra de Sonido\"],\"expressDeliveryEligible\":[\"false\"],\"sku.finalPrice\":[\"5113.98\"],\"PickupInStock\":[\"true\"],\"sku.repositoryId\":[\"980018198\"],\"sku.weighable\":[\"0\"],\"product.seoURL\":[\"[/audio-y-barras-de-sonido/barra-de-sonido-sony-2-1-canales-con-subwoofer-inalambrico-ht-s350/980018198]\"],\"sku.smallImage.url\":[\"/images/product-images/img_small/980018198s.jpg\"],\"expressDelivery\":[\"Express Delivery\"],\"PickupEligible\":[\"true\"],\"sku.displayName\":[\"Barra de Sonido\"],\"DeliveryInStock\":[\"true\"],\"sku.unit_of_measure\":[\"eaches\"],\"DeliveryEligible\":[\"true\"],\"record.type.raw\":[\"product\",\"sku\"],\"product.department\":[\"Día del Padre\",\"Electrónica y Computación\",\"Fin Irresistible\",\"Meses sin Intereses\",\"Navidad\",\"Sams Club Ofertas\",\"Sociofest\"],\"record.id\":[\"sku-980018198..0980018198.catalog20001.es__MX\"],\"expressDeliveryInStock\":[\"false\"],\"Brand\":[\"Sony\"],\"product.repositoryId\":[\"0980018198\"],\"PickAtStore\":[\"Pick at Store\"],\"PaymentPlan\":[\"13\",\"3\",\"6\",\"9\"],\"product.displayText\":[\"Barra de Sonido Sony 2.1 Canales con Subwoofer Inalámbrico HT-S350\"],\"skuDisplayName\":[\"Barra de Sonido Sony 2.1 Canales con Subwoofer Inalámbrico HT-S350\"],\"product.fineline\":[\"Audio y Barras de Sonido\",\"Electrónica\",\"Home Theater\",\"Tecnologia y Electrónica\"]}},{\"records\":[{\"records\":null,\"numRecords\":0,\"attributes\":{\"sku.lastPrice\":[\"6136.98\"],\"maxQuantity\":[\"60.0\"],\"HomeDelivery\":[\"FX\"],\"sku.finalPrice\":[\"6136.98\"],\"skuStatusFlag\":[\"A\"],\"sku.repositoryId\":[\"980009920\"],\"sku.weighable\":[\"0\"],\"product.seoURL\":[\"[/smartwatch/watch-apple-serie-3-38-mm/980009920]\"],\"product.HomeDelivery\":[\"FX\"],\"expressDelivery\":[\"Express Delivery\"],\"record.spec\":[\"sku-980009920..0980009920.catalog20001.es__MX\"],\"priceStrikeOff\":[\"0.000000\"],\"PickAtStore\":[\"Pick at Store\"],\"STR0000009999\":[\"SELLABLE\"],\"sku.isBigItem\":[\"0\"],\"skuDisplayName\":[\"Watch Apple Serie 3 38 mm\"]}}],\"numRecords\":1,\"attributes\":{\"sku.availableStores\":[\"0000006236\",\"0000009999\"],\"sku.lastPrice\":[\"6136.98\"],\"product.smallImage.url\":[\"/images/product-images/img_small/980009920s.jpg\"],\"HomeDelivery\":[\"FX\"],\"product.family\":[\"12 Meses sin Intereses\",\"3, 6 ó 9 Meses sin Intereses\",\"Accesorios para Celulares\",\"Apple\",\"Celulares y Accesorios\",\"Cómputo\",\"Promociones Citibanamex\",\"Regalos para San Valentín\",\"Relojes y pulseras inteligentes \"],\"product.displayName\":[\"Watch\"],\"expressDeliveryEligible\":[\"false\"],\"sku.finalPrice\":[\"6136.98\"],\"PickupInStock\":[\"true\"],\"sku.repositoryId\":[\"980009920\"],\"sku.weighable\":[\"0\"],\"product.seoURL\":[\"[/smartwatch/watch-apple-serie-3-38-mm/980009920]\"],\"sku.smallImage.url\":[\"/images/product-images/img_small/980009920s.jpg\"],\"expressDelivery\":[\"Express Delivery\"],\"PickupEligible\":[\"true\"],\"sku.displayName\":[\"Watch\"],\"DeliveryInStock\":[\"true\"],\"sku.unit_of_measure\":[\"eaches\"],\"DeliveryEligible\":[\"true\"],\"record.type.raw\":[\"product\",\"sku\"],\"product.department\":[\"Categorías_Exclusivas_App\",\"Celulares y Smartphones\",\"Día del Padre\",\"Electrónica y Computación\",\"Meses sin Intereses\",\"San Valentín\"],\"record.id\":[\"sku-980009920..0980009920.catalog20001.es__MX\"],\"expressDeliveryInStock\":[\"false\"],\"Brand\":[\"Apple\"],\"product.repositoryId\":[\"0980009920\"],\"PickAtStore\":[\"Pick at Store\"],\"PaymentPlan\":[\"13\",\"3\",\"6\",\"9\"],\"product.displayText\":[\"Watch Apple Serie 3 38 mm\"],\"skuDisplayName\":[\"Watch Apple Serie 3 38 mm\"],\"product.fineline\":[\"Accesorios de Cómputo\",\"Cómputo\",\"Smartwatch\"]}},{\"records\":[{\"records\":null,\"numRecords\":0,\"attributes\":{\"sku.lastPrice\":[\"12274.98\"],\"maxQuantity\":[\"60.0\"],\"HomeDelivery\":[\"FX\"],\"sku.finalPrice\":[\"12274.98\"],\"skuStatusFlag\":[\"A\"],\"sku.repositoryId\":[\"980019489\"],\"sku.weighable\":[\"0\"],\"product.seoURL\":[\"[/celulares-y-smartphones/iphone-se-apple-128-gb-blanco-at-t/980019489]\"],\"product.HomeDelivery\":[\"FX\"],\"expressDelivery\":[\"Express Delivery\"],\"record.spec\":[\"sku-980019489..0980019489.catalog20001.es__MX\"],\"priceStrikeOff\":[\"0.000000\"],\"PickAtStore\":[\"Pick at Store\"],\"STR0000009999\":[\"SELLABLE\"],\"sku.isBigItem\":[\"0\"],\"skuDisplayName\":[\"iPhone SE Apple 128 GB Blanco AT&T\"]}}],\"numRecords\":1,\"attributes\":{\"sku.availableStores\":[\"0000004805\",\"0000004946\",\"0000006222\",\"0000006313\",\"0000009999\"],\"sku.lastPrice\":[\"12274.98\"],\"product.smallImage.url\":[\"/images/product-images/img_small/980019489s.jpg\"],\"HomeDelivery\":[\"FX\"],\"product.family\":[\"12 Meses sin Intereses\",\"3, 6 ó 9 Meses sin Intereses\",\"Apple\",\"Celulares\",\"Promociones Bancarias\",\"Promociones Citibanamex\",\"Smartphones\"],\"product.displayName\":[\"iPhone SE\"],\"expressDeliveryEligible\":[\"false\"],\"sku.finalPrice\":[\"12274.98\"],\"PickupInStock\":[\"true\"],\"sku.repositoryId\":[\"980019489\"],\"sku.weighable\":[\"0\"],\"product.seoURL\":[\"[/celulares-y-smartphones/iphone-se-apple-128-gb-blanco-at-t/980019489]\"],\"sku.smallImage.url\":[\"/images/product-images/img_small/980019489s.jpg\"],\"expressDelivery\":[\"Express Delivery\"],\"PickupEligible\":[\"true\"],\"sku.displayName\":[\"iPhone SE\"],\"DeliveryInStock\":[\"true\"],\"sku.unit_of_measure\":[\"eaches\"],\"DeliveryEligible\":[\"true\"],\"record.type.raw\":[\"product\",\"sku\"],\"product.department\":[\"Celulares y Smartphones\",\"Electrónica y Computación\",\"Hot Sale\",\"Meses sin Intereses\"],\"record.id\":[\"sku-980019489..0980019489.catalog20001.es__MX\"],\"expressDeliveryInStock\":[\"false\"],\"Brand\":[\"Apple\"],\"product.repositoryId\":[\"0980019489\"],\"PickAtStore\":[\"Pick at Store\"],\"PaymentPlan\":[\"13\",\"3\",\"6\",\"9\"],\"product.displayText\":[\"iPhone SE Apple 128 GB Blanco AT&T\"],\"skuDisplayName\":[\"iPhone SE Apple 128 GB Blanco AT&T\"],\"product.fineline\":[\"AT&T\",\"Smartphones\"]}},{\"records\":[{\"records\":null,\"numRecords\":0,\"attributes\":{\"sku.lastPrice\":[\"10945.06\"],\"maxQuantity\":[\"60.0\"],\"HomeDelivery\":[\"FX\"],\"sku.finalPrice\":[\"10945.06\"],\"skuStatusFlag\":[\"A\"],\"sku.repositoryId\":[\"980016457\"],\"sku.weighable\":[\"0\"],\"product.seoURL\":[\"[/smartwatch/apple-watch-serie-5-44-mm-space-gray/980016457]\"],\"product.HomeDelivery\":[\"FX\"],\"expressDelivery\":[\"Express Delivery\"],\"record.spec\":[\"sku-980016457..0980016457.catalog20001.es__MX\"],\"priceStrikeOff\":[\"0.000000\"],\"PickAtStore\":[\"Pick at Store\"],\"STR0000009999\":[\"SELLABLE\"],\"sku.isBigItem\":[\"0\"],\"skuDisplayName\":[\"  Apple Watch Serie 5 44 mm Space Gray\"]}}],\"numRecords\":1,\"attributes\":{\"sku.availableStores\":[\"0000004901\",\"0000006233\",\"0000006236\",\"0000006391\",\"0000006577\",\"0000008122\",\"0000009999\"],\"sku.lastPrice\":[\"10945.06\"],\"product.smallImage.url\":[\"/images/product-images/img_small/980016457s.jpg\"],\"HomeDelivery\":[\"FX\"],\"product.family\":[\"12 Meses sin Intereses\",\"3, 6 ó 9 Meses sin Intereses\",\"Accesorios para Celulares\",\"Apple\",\"Celulares y Accesorios\",\"Cómputo\",\"Electrónica y Computación\",\"Promociones Citibanamex\",\"Regalos para San Valentín\",\"Relojes y pulseras inteligentes \"],\"expressDeliveryEligible\":[\"false\"],\"sku.finalPrice\":[\"10945.06\"],\"PickupInStock\":[\"true\"],\"sku.repositoryId\":[\"980016457\"],\"sku.weighable\":[\"0\"],\"sku.oosStores\":[\"0000004901\",\"0000006233\",\"0000008122\"],\"product.seoURL\":[\"[/smartwatch/apple-watch-serie-5-44-mm-space-gray/980016457]\"],\"sku.smallImage.url\":[\"/images/product-images/img_small/980016457s.jpg\"],\"expressDelivery\":[\"Express Delivery\"],\"PickupEligible\":[\"true\"],\"DeliveryInStock\":[\"true\"],\"sku.unit_of_measure\":[\"eaches\"],\"DeliveryEligible\":[\"true\"],\"record.type.raw\":[\"product\",\"sku\"],\"product.department\":[\"Celulares y Smartphones\",\"Día del Padre\",\"Electrónica y Computación\",\"Hot Sale\",\"Meses sin Intereses\",\"San Valentín\"],\"record.id\":[\"sku-980016457..0980016457.catalog20001.es__MX\"],\"expressDeliveryInStock\":[\"false\"],\"Brand\":[\"Apple\"],\"product.repositoryId\":[\"0980016457\"],\"PickAtStore\":[\"Pick at Store\"],\"PaymentPlan\":[\"13\",\"3\",\"6\",\"9\"],\"product.displayText\":[\"  Apple Watch Serie 5 44 mm Space Gray\"],\"skuDisplayName\":[\"  Apple Watch Serie 5 44 mm Space Gray\"],\"product.fineline\":[\"Accesorios de Cómputo\",\"Cómputo\",\"Smartwatch\"]}},{\"records\":[{\"records\":null,\"numRecords\":0,\"attributes\":{\"sku.lastPrice\":[\"4602.46\"],\"maxQuantity\":[\"60.0\"],\"HomeDelivery\":[\"FX\"],\"sku.finalPrice\":[\"4602.46\"],\"skuStatusFlag\":[\"A\"],\"sku.repositoryId\":[\"980031105\"],\"sku.weighable\":[\"0\"],\"product.seoURL\":[\"[/soportes-y-accesorios-para-pantalla/dispositivo-apple-tv-4k-32-gb/980031105]\"],\"product.HomeDelivery\":[\"FX\"],\"expressDelivery\":[\"Express Delivery\"],\"record.spec\":[\"sku-980031105..0980031105.catalog20001.es__MX\"],\"priceStrikeOff\":[\"0.000000\"],\"PickAtStore\":[\"Pick at Store\"],\"No_Disponible_and_Remind_Me\":[\"true\"],\"STR0000009999\":[\"VISIBLE\"],\"sku.isBigItem\":[\"0\"],\"skuDisplayName\":[\"Dispositivo Apple TV 4K 32 GB\"]}}],\"numRecords\":1,\"attributes\":{\"sku.availableStores\":[\"0000006039\",\"0000009999\"],\"sku.lastPrice\":[\"4602.46\"],\"product.smallImage.url\":[\"/images/product-images/img_small/980031105s.jpg\"],\"HomeDelivery\":[\"FX\"],\"product.family\":[\"Pantallas y Audio\",\"Promociones Bancarias\"],\"product.displayName\":[\"Dispositivo\"],\"expressDeliveryEligible\":[\"false\"],\"sku.finalPrice\":[\"4602.46\"],\"PickupInStock\":[\"false\"],\"sku.repositoryId\":[\"980031105\"],\"sku.weighable\":[\"0\"],\"sku.oosStores\":[\"0000006039\",\"0000009999\"],\"product.seoURL\":[\"[/soportes-y-accesorios-para-pantalla/dispositivo-apple-tv-4k-32-gb/980031105]\"],\"sku.smallImage.url\":[\"/images/product-images/img_small/980031105s.jpg\"],\"expressDelivery\":[\"Express Delivery\"],\"PickupEligible\":[\"true\"],\"sku.displayName\":[\"Dispositivo\"],\"DeliveryInStock\":[\"false\"],\"sku.unit_of_measure\":[\"eaches\"],\"DeliveryEligible\":[\"true\"],\"record.type.raw\":[\"product\",\"sku\"],\"product.department\":[\"Electrónica y Computación\",\"Meses sin Intereses\"],\"record.id\":[\"sku-980031105..0980031105.catalog20001.es__MX\"],\"expressDeliveryInStock\":[\"false\"],\"Brand\":[\"Apple\"],\"product.repositoryId\":[\"0980031105\"],\"PickAtStore\":[\"Pick at Store\"],\"PaymentPlan\":[\"3\"],\"product.displayText\":[\"Dispositivo Apple TV 4K 32 GB\"],\"No_Disponible_and_Remind_Me\":[\"true\"],\"skuDisplayName\":[\"Dispositivo Apple TV 4K 32 GB\"],\"product.fineline\":[\"Soportes y Accesorios para Pantalla\",\"Tecnologia y Electrónica\"]}},{\"records\":[{\"records\":null,\"numRecords\":0,\"attributes\":{\"sku.lastPrice\":[\"15303.04\"],\"maxQuantity\":[\"60.0\"],\"HomeDelivery\":[\"FX\"],\"sku.finalPrice\":[\"15303.04\"],\"skuStatusFlag\":[\"A\"],\"sku.repositoryId\":[\"980012765\"],\"sku.weighable\":[\"0\"],\"product.seoURL\":[\"[/pantallas/pantalla-samsung-65-pulgadas-qled-smart-tv/980012765]\"],\"product.HomeDelivery\":[\"FX\"],\"record.spec\":[\"sku-980012765..0980012765.catalog20001.es__MX\"],\"priceStrikeOff\":[\"0.000000\"],\"PickAtStore\":[\"Pick at Store\"],\"No_Disponible_and_Remind_Me\":[\"true\"],\"STR0000009999\":[\"VISIBLE\"],\"sku.isBigItem\":[\"0\"],\"skuDisplayName\":[\"Pantalla Samsung 65 Pulgadas QLED Smart TV\"]}}],\"numRecords\":1,\"attributes\":{\"sku.availableStores\":[\"0000006290\",\"0000006297\",\"0000006467\",\"0000009999\"],\"sku.lastPrice\":[\"15303.04\"],\"product.smallImage.url\":[\"/images/product-images/img_small/980012765s.jpg\"],\"HomeDelivery\":[\"FX\"],\"product.family\":[\"12 Meses sin Intereses\",\"3, 6 ó 9 Meses sin Intereses\",\"Electronica\",\"Electrónica\",\"Pantallas y Audio\",\"Promociones Citibanamex\"],\"product.displayName\":[\"Pantalla\"],\"expressDeliveryEligible\":[\"false\"],\"sku.finalPrice\":[\"15303.04\"],\"PickupInStock\":[\"false\"],\"sku.repositoryId\":[\"980012765\"],\"sku.weighable\":[\"0\"],\"sku.oosStores\":[\"0000006290\",\"0000006297\",\"0000006467\",\"0000009999\"],\"product.seoURL\":[\"[/pantallas/pantalla-samsung-65-pulgadas-qled-smart-tv/980012765]\"],\"sku.smallImage.url\":[\"/images/product-images/img_small/980012765s.jpg\"],\"PickupEligible\":[\"true\"],\"sku.displayName\":[\"Pantalla\"],\"DeliveryInStock\":[\"false\"],\"sku.unit_of_measure\":[\"eaches\"],\"DeliveryEligible\":[\"true\"],\"record.type.raw\":[\"product\",\"sku\"],\"product.department\":[\"Electrónica y Computación\",\"Fin Irresistible\",\"Meses sin Intereses\"],\"record.id\":[\"sku-980012765..0980012765.catalog20001.es__MX\"],\"expressDeliveryInStock\":[\"false\"],\"Brand\":[\"Samsung\"],\"product.repositoryId\":[\"0980012765\"],\"PickAtStore\":[\"Pick at Store\"],\"PaymentPlan\":[\"3\"],\"product.displayText\":[\"Pantalla Samsung 65 Pulgadas QLED Smart TV\"],\"No_Disponible_and_Remind_Me\":[\"true\"],\"skuDisplayName\":[\"Pantalla Samsung 65 Pulgadas QLED Smart TV\"],\"product.fineline\":[\"Electrónica\",\"Pantallas\"]}},{\"records\":[{\"records\":null,\"numRecords\":0,\"attributes\":{\"sku.lastPrice\":[\"18924.47\"],\"maxQuantity\":[\"25.0\"],\"HomeDelivery\":[\"FX\"],\"sku.finalPrice\":[\"18924.47\"],\"skuStatusFlag\":[\"A\"],\"sku.repositoryId\":[\"980016241\"],\"sku.weighable\":[\"0\"],\"product.seoURL\":[\"[/celulares-y-smartphones/iphone-11-apple-128-gb-negro-at-t/980016241]\"],\"product.HomeDelivery\":[\"FX\"],\"expressDelivery\":[\"Express Delivery\"],\"record.spec\":[\"sku-980016241..0980016241.catalog20001.es__MX\"],\"priceStrikeOff\":[\"0.000000\"],\"PickAtStore\":[\"Pick at Store\"],\"No_Disponible_and_Remind_Me\":[\"true\"],\"STR0000009999\":[\"VISIBLE\"],\"sku.isBigItem\":[\"0\"],\"skuDisplayName\":[\"iPhone 11 Apple 128 GB Negro AT&T\"],\"sku.preOrderEndDate\":[\"04/10/2019\"]}}],\"numRecords\":1,\"attributes\":{\"sku.availableStores\":[\"0000006039\",\"0000009999\"],\"sku.lastPrice\":[\"18924.47\"],\"product.smallImage.url\":[\"/images/product-images/img_small/980016241s.jpg\"],\"HomeDelivery\":[\"FX\"],\"product.family\":[\"12 Meses sin Intereses\",\"3, 6 ó 9 Meses sin Intereses\",\"Apple\",\"Celulares\",\"Celulares y Videojuegos\",\"Promociones Bancarias\",\"Promociones Citibanamex\"],\"product.displayName\":[\"iPhone 11\"],\"expressDeliveryEligible\":[\"false\"],\"sku.finalPrice\":[\"18924.47\"],\"PickupInStock\":[\"false\"],\"sku.repositoryId\":[\"980016241\"],\"sku.weighable\":[\"0\"],\"sku.oosStores\":[\"0000006039\",\"0000009999\"],\"product.seoURL\":[\"[/celulares-y-smartphones/iphone-11-apple-128-gb-negro-at-t/980016241]\"],\"sku.smallImage.url\":[\"/images/product-images/img_small/980016241s.jpg\"],\"expressDelivery\":[\"Express Delivery\"],\"PickupEligible\":[\"true\"],\"sku.displayName\":[\"iPhone 11\"],\"DeliveryInStock\":[\"false\"],\"sku.unit_of_measure\":[\"eaches\"],\"DeliveryEligible\":[\"true\"],\"record.type.raw\":[\"product\",\"sku\"],\"product.department\":[\"Celulares y Smartphones\",\"Electrónica y Computación\",\"Fin Irresistible\",\"Meses sin Intereses\"],\"record.id\":[\"sku-980016241..0980016241.catalog20001.es__MX\"],\"expressDeliveryInStock\":[\"false\"],\"Brand\":[\"Apple\"],\"product.repositoryId\":[\"0980016241\"],\"PickAtStore\":[\"Pick at Store\"],\"PaymentPlan\":[\"13\",\"3\",\"6\",\"9\"],\"product.displayText\":[\"iPhone 11 Apple 128 GB Negro AT&T\"],\"No_Disponible_and_Remind_Me\":[\"true\"],\"skuDisplayName\":[\"iPhone 11 Apple 128 GB Negro AT&T\"],\"product.fineline\":[\"AT&T\",\"Smartphones\"],\"sku.preOrderEndDate\":[\"04/10/2019\"]}}],\"recsPerPage\":32,\"pagingActionTemplate\":{\"navigationState\":\"?No=%7Boffset%7D&Nrpp=%7BrecordsPerPage%7D&Ntt=pantalla\",\"label\":null},\"sortOptions\":[{\"navigationState\":\"?Ns=product.topSelling%7C1&Ntt=pantalla\",\"label\":\"Más buscados\",\"selected\":false},{\"navigationState\":\"?Ns=product.ratings%7C1&Ntt=pantalla\",\"label\":\"Más vendidos\",\"selected\":false},{\"navigationState\":\"?Ns=product.displayText%7C0&Ntt=pantalla\",\"label\":\"Nombre de la A - Z\",\"selected\":false},{\"navigationState\":\"?Ns=product.displayText%7C1&Ntt=pantalla\",\"label\":\"Nombre de la Z - A\",\"selected\":false},{\"navigationState\":\"?Ns=sku.finalPrice%7C0&Ntt=pantalla\",\"label\":\"Precio menor a mayor\",\"selected\":false},{\"navigationState\":\"?Ns=sku.finalPrice%7C1&Ntt=pantalla\",\"label\":\"Precio mayor a menor\",\"selected\":false}],\"totalNumRecs\":140,\"firstRecNum\":96}],\"@type\":\"ContentSlot-Main\"},{\"adjustedSearches\":null,\"originalTerms\":[\"pantalla\"],\"suggestedSearches\":null},{\"rangeFilterCrumbs\":[],\"searchCrumbs\":[{\"removeAction\":{\"navigationState\":\"\",\"label\":null},\"correctedTerms\":null,\"terms\":\"pantalla\"}],\"removeAllAction\":{\"navigationState\":\"\",\"label\":null},\"refinementCrumbs\":[]}],\"@type\":\"WMXTwoColumnPage\",\"name\":\"WMX Two-Column Page\",\"endeca:siteRootPath\":\"/pages\",\"footerArea\":[{\"name\":\"Adslot bottom\",\"contents\":[{\"name\":\"Adslot top\",\"className\":\"dfp-seleccZ dfp-class-search\",\"id\":\"dfp-bn-2\",\"@type\":\"WMXMainAdPlacement\"}],\"@type\":\"ContentSlot-Header\"}],\"headerArea\":[],\"title\":\"\",\"canonicalLink\":{\"navigationState\":\"?Ntt=pantalla\",\"label\":\"\"},\"metaArea\":[]}\n"
          ]
        }
      ]
    },
    {
      "cell_type": "code",
      "metadata": {
        "colab": {
          "base_uri": "https://localhost:8080/"
        },
        "id": "Ip9NBtJH4b3E",
        "outputId": "56fb610c-8f37-412c-9535-30c8cc66a2cc"
      },
      "source": [
        "#['contents']['records']\n",
        "print(json.loads(soup.text)['mainArea'][10]['contents'][0]['records'])"
      ],
      "execution_count": null,
      "outputs": [
        {
          "output_type": "stream",
          "name": "stdout",
          "text": [
            "[{'records': [{'records': None, 'numRecords': 0, 'attributes': {'sku.lastPrice': ['12888.78'], 'maxQuantity': ['60.0'], 'HomeDelivery': ['FX'], 'sku.finalPrice': ['11149.68'], 'skuStatusFlag': ['A'], 'sku.repositoryId': ['980029842'], 'sku.weighable': ['0'], 'product.seoURL': ['[/pantallas/pantalla-tcl-50-pulgadas-uhd-4k-android-tv-50a445/980029842]'], 'product.HomeDelivery': ['FX'], 'expressDelivery': ['Express Delivery'], 'record.spec': ['sku-980029842..0980029842.catalog20001.es__MX'], 'priceStrikeOff': [1], 'PickAtStore': ['Pick at Store'], 'STR0000009999': ['SELLABLE'], 'sku.isBigItem': ['0'], 'skuDisplayName': ['Pantalla TCL 50 Pulgadas UHD 4K Android TV 50A445']}}], 'numRecords': 1, 'attributes': {'sku.availableStores': ['0000004727', '0000004728', '0000004746', '0000004790', '0000004791', '0000004792', '0000004801', '0000004805', '0000004827', '0000004832', '0000004841', '0000004862', '0000004877', '0000004878', '0000004879', '0000004901', '0000004910', '0000004911', '0000004913', '0000004914', '0000004934', '0000004935', '0000004936', '0000004937', '0000004938', '0000004939', '0000004941', '0000004944', '0000004945', '0000004946', '0000004947', '0000004948', '0000004949', '0000004950', '0000004951', '0000004954', '0000004955', '0000004957', '0000004958', '0000004960', '0000004961', '0000004968', '0000004969', '0000004970', '0000004972', '0000004973', '0000004975', '0000004977', '0000004978', '0000004979', '0000004981', '0000004982', '0000004983', '0000004984', '0000004985', '0000004986', '0000004987', '0000004988', '0000004989', '0000004991', '0000004992', '0000004999', '0000006039', '0000006204', '0000006205', '0000006206', '0000006207', '0000006208', '0000006209', '0000006210', '0000006211', '0000006212', '0000006213', '0000006215', '0000006217', '0000006218', '0000006219', '0000006221', '0000006222', '0000006223', '0000006224', '0000006225', '0000006226', '0000006227', '0000006229', '0000006232', '0000006233', '0000006234', '0000006236', '0000006237', '0000006240', '0000006241', '0000006242', '0000006243', '0000006244', '0000006246', '0000006247', '0000006248', '0000006249', '0000006251', '0000006252', '0000006254', '0000006258', '0000006260', '0000006261', '0000006263', '0000006264', '0000006265', '0000006274', '0000006275', '0000006277', '0000006279', '0000006282', '0000006283', '0000006285', '0000006286', '0000006287', '0000006288', '0000006289', '0000006290', '0000006293', '0000006294', '0000006295', '0000006296', '0000006297', '0000006298', '0000006300', '0000006305', '0000006307', '0000006308', '0000006309', '0000006313', '0000006314', '0000006390', '0000006391', '0000006392', '0000006393', '0000006394', '0000006395', '0000006396', '0000006397', '0000006398', '0000006467', '0000006468', '0000006469', '0000006470', '0000006497', '0000006513', '0000006523', '0000006534', '0000006557', '0000006563', '0000006574', '0000006576', '0000006577', '0000006578', '0000006583', '0000006584', '0000006585', '0000006586', '0000008118', '0000008121', '0000008122', '0000008124', '0000008127', '0000008240', '0000009999'], 'sku.lastPrice': ['12888.78'], 'product.smallImage.url': ['/images/product-images/img_small/980029842s.jpg'], 'HomeDelivery': ['FX'], 'product.family': ['12 Meses sin Intereses', '3, 6 ó 9 Meses sin Intereses', 'Electrónica', 'Pantallas y Audio', 'Promociones Bancarias', 'Promociones Citibanamex', 'Tecnología y Entretenimiento'], 'product.displayName': ['Pantalla'], 'expressDeliveryEligible': ['false'], 'sku.finalPrice': ['11149.68'], 'PickupInStock': ['true'], 'sku.repositoryId': ['980029842'], 'sku.weighable': ['0'], 'sku.oosStores': ['0000006039'], 'product.seoURL': ['[/pantallas/pantalla-tcl-50-pulgadas-uhd-4k-android-tv-50a445/980029842]'], 'sku.smallImage.url': ['/images/product-images/img_small/980029842s.jpg'], 'expressDelivery': ['Express Delivery'], 'PickupEligible': ['true'], 'sku.displayName': ['Pantalla'], 'DeliveryInStock': ['true'], 'sku.unit_of_measure': ['eaches'], 'DeliveryEligible': ['true'], 'record.type.raw': ['product', 'sku'], 'product.department': ['Electrónica y Computación', 'Meses sin Intereses', 'Sams Club Ofertas', 'Sociofest'], 'record.id': ['sku-980029842..0980029842.catalog20001.es__MX'], 'expressDeliveryInStock': ['false'], 'Brand': ['TCL'], 'product.repositoryId': ['0980029842'], 'PickAtStore': ['Pick at Store'], 'PaymentPlan': ['13', '3', '6', '9'], 'product.displayText': ['Pantalla TCL 50 Pulgadas UHD 4K Android TV 50A445'], 'skuDisplayName': ['Pantalla TCL 50 Pulgadas UHD 4K Android TV 50A445'], 'product.fineline': ['Pantallas', 'Tecnologia y Electrónica']}}, {'records': [{'records': None, 'numRecords': 0, 'attributes': {'sku.lastPrice': ['14832.48'], 'maxQuantity': ['60.0'], 'HomeDelivery': ['FX'], 'sku.finalPrice': ['13195.68'], 'skuStatusFlag': ['A'], 'sku.repositoryId': ['980029844'], 'sku.weighable': ['0'], 'product.seoURL': ['[/pantallas/pantalla-tcl-55-pulgadas-uhd-4k-android-tv-55a443/980029844]'], 'product.HomeDelivery': ['FX'], 'expressDelivery': ['Express Delivery'], 'record.spec': ['sku-980029844..0980029844.catalog20001.es__MX'], 'priceStrikeOff': [1], 'PickAtStore': ['Pick at Store'], 'STR0000009999': ['SELLABLE'], 'sku.isBigItem': ['0'], 'skuDisplayName': ['Pantalla TCL 55 pulgadas UHD 4K Android TV 55A443']}}], 'numRecords': 1, 'attributes': {'sku.availableStores': ['0000004728', '0000004746', '0000004790', '0000004791', '0000004792', '0000004801', '0000004805', '0000004827', '0000004832', '0000004841', '0000004862', '0000004877', '0000004878', '0000004879', '0000004901', '0000004910', '0000004911', '0000004913', '0000004934', '0000004935', '0000004936', '0000004937', '0000004938', '0000004939', '0000004941', '0000004944', '0000004945', '0000004946', '0000004947', '0000004948', '0000004949', '0000004950', '0000004951', '0000004954', '0000004955', '0000004957', '0000004958', '0000004960', '0000004961', '0000004968', '0000004969', '0000004970', '0000004972', '0000004973', '0000004975', '0000004977', '0000004978', '0000004979', '0000004981', '0000004982', '0000004985', '0000004986', '0000004987', '0000004988', '0000004989', '0000004991', '0000004992', '0000004999', '0000006039', '0000006204', '0000006205', '0000006206', '0000006207', '0000006208', '0000006209', '0000006210', '0000006211', '0000006212', '0000006213', '0000006215', '0000006217', '0000006218', '0000006219', '0000006221', '0000006222', '0000006223', '0000006224', '0000006225', '0000006227', '0000006229', '0000006232', '0000006233', '0000006234', '0000006236', '0000006237', '0000006240', '0000006241', '0000006242', '0000006243', '0000006244', '0000006246', '0000006247', '0000006248', '0000006249', '0000006252', '0000006254', '0000006258', '0000006260', '0000006261', '0000006263', '0000006264', '0000006265', '0000006274', '0000006275', '0000006277', '0000006279', '0000006282', '0000006283', '0000006285', '0000006286', '0000006287', '0000006288', '0000006289', '0000006290', '0000006293', '0000006294', '0000006295', '0000006296', '0000006297', '0000006298', '0000006300', '0000006305', '0000006307', '0000006308', '0000006309', '0000006313', '0000006314', '0000006390', '0000006391', '0000006392', '0000006393', '0000006394', '0000006395', '0000006396', '0000006397', '0000006398', '0000006467', '0000006468', '0000006469', '0000006470', '0000006497', '0000006513', '0000006523', '0000006534', '0000006557', '0000006563', '0000006574', '0000006576', '0000006577', '0000006578', '0000006584', '0000006585', '0000006586', '0000008118', '0000008121', '0000008122', '0000008124', '0000008127', '0000008240', '0000009999'], 'sku.lastPrice': ['14832.48'], 'product.smallImage.url': ['/images/product-images/img_small/980029844s.jpg'], 'HomeDelivery': ['FX'], 'product.family': ['12 Meses sin Intereses', '3, 6 ó 9 Meses sin Intereses', 'Electrónica', 'Pantallas y Audio', 'Promociones Bancarias', 'Promociones Citibanamex', 'Tecnología', 'Tecnología y Entretenimiento'], 'product.displayName': ['Pantalla'], 'expressDeliveryEligible': ['false'], 'sku.finalPrice': ['13195.68'], 'PickupInStock': ['true'], 'sku.repositoryId': ['980029844'], 'sku.weighable': ['0'], 'sku.oosStores': ['0000006039'], 'product.seoURL': ['[/pantallas/pantalla-tcl-55-pulgadas-uhd-4k-android-tv-55a443/980029844]'], 'sku.smallImage.url': ['/images/product-images/img_small/980029844s.jpg'], 'expressDelivery': ['Express Delivery'], 'PickupEligible': ['true'], 'sku.displayName': ['Pantalla'], 'DeliveryInStock': ['true'], 'sku.unit_of_measure': ['eaches'], 'DeliveryEligible': ['true'], 'record.type.raw': ['product', 'sku'], 'product.department': ['Categorías_Exclusivas_App', 'Cuponera Sams', 'Electrónica y Computación', 'Meses sin Intereses', 'Sams Club Ofertas', 'Sociofest'], 'record.id': ['sku-980029844..0980029844.catalog20001.es__MX'], 'expressDeliveryInStock': ['false'], 'Brand': ['TCL'], 'product.repositoryId': ['0980029844'], 'PickAtStore': ['Pick at Store'], 'PaymentPlan': ['13', '3', '6', '9'], 'product.displayText': ['Pantalla TCL 55 pulgadas UHD 4K Android TV 55A443'], 'skuDisplayName': ['Pantalla TCL 55 pulgadas UHD 4K Android TV 55A443'], 'product.fineline': ['Pantallas', 'Tecnologia y Electrónica']}}, {'records': [{'records': None, 'numRecords': 0, 'attributes': {'sku.lastPrice': ['3784.07'], 'maxQuantity': ['60.0'], 'HomeDelivery': ['FX'], 'sku.finalPrice': ['3784.07'], 'skuStatusFlag': ['A'], 'sku.repositoryId': ['980032078'], 'sku.weighable': ['0'], 'product.seoURL': ['[/pantallas/pantalla-sansui-24-pulgadas-hd-smart-tv/980032078]'], 'product.HomeDelivery': ['FX'], 'expressDelivery': ['Express Delivery'], 'record.spec': ['sku-980032078..0980032078.catalog20001.es__MX'], 'priceStrikeOff': ['0.000000'], 'PickAtStore': ['Pick at Store'], 'STR0000009999': ['SELLABLE'], 'sku.isBigItem': ['0'], 'skuDisplayName': ['Pantalla Sansui 24 Pulgadas HD Smart TV']}}], 'numRecords': 1, 'attributes': {'sku.availableStores': ['0000004727', '0000004728', '0000004746', '0000004790', '0000004791', '0000004792', '0000004801', '0000004805', '0000004827', '0000004832', '0000004841', '0000004862', '0000004877', '0000004878', '0000004879', '0000004901', '0000004910', '0000004911', '0000004913', '0000004914', '0000004934', '0000004935', '0000004936', '0000004937', '0000004938', '0000004939', '0000004941', '0000004944', '0000004945', '0000004946', '0000004947', '0000004948', '0000004949', '0000004950', '0000004951', '0000004954', '0000004955', '0000004957', '0000004958', '0000004960', '0000004961', '0000004968', '0000004969', '0000004970', '0000004972', '0000004973', '0000004975', '0000004977', '0000004978', '0000004979', '0000004981', '0000004982', '0000004983', '0000004984', '0000004985', '0000004986', '0000004987', '0000004988', '0000004989', '0000004991', '0000004992', '0000004999', '0000006039', '0000006204', '0000006205', '0000006206', '0000006207', '0000006208', '0000006209', '0000006210', '0000006211', '0000006212', '0000006213', '0000006215', '0000006217', '0000006218', '0000006219', '0000006221', '0000006222', '0000006223', '0000006224', '0000006225', '0000006226', '0000006227', '0000006229', '0000006232', '0000006233', '0000006234', '0000006236', '0000006237', '0000006240', '0000006241', '0000006243', '0000006244', '0000006246', '0000006247', '0000006248', '0000006249', '0000006251', '0000006252', '0000006254', '0000006258', '0000006260', '0000006261', '0000006263', '0000006264', '0000006265', '0000006274', '0000006275', '0000006277', '0000006279', '0000006282', '0000006283', '0000006285', '0000006286', '0000006287', '0000006288', '0000006289', '0000006290', '0000006293', '0000006294', '0000006295', '0000006296', '0000006298', '0000006300', '0000006305', '0000006307', '0000006308', '0000006309', '0000006313', '0000006390', '0000006391', '0000006392', '0000006393', '0000006394', '0000006395', '0000006396', '0000006397', '0000006398', '0000006467', '0000006468', '0000006469', '0000006470', '0000006497', '0000006513', '0000006523', '0000006534', '0000006557', '0000006563', '0000006574', '0000006576', '0000006577', '0000006578', '0000006583', '0000006584', '0000006585', '0000006586', '0000008118', '0000008121', '0000008122', '0000008124', '0000008127', '0000008240', '0000009999'], 'sku.lastPrice': ['3784.07'], 'product.smallImage.url': ['/images/product-images/img_small/980032078s.jpg'], 'HomeDelivery': ['FX'], 'product.family': ['Electrónica', 'Pantallas y Audio', 'Promociones Bancarias'], 'product.displayName': ['Pantalla'], 'expressDeliveryEligible': ['false'], 'sku.finalPrice': ['3784.07'], 'PickupInStock': ['true'], 'sku.repositoryId': ['980032078'], 'sku.weighable': ['0'], 'sku.oosStores': ['0000006039', '0000006236', '0000006309'], 'product.seoURL': ['[/pantallas/pantalla-sansui-24-pulgadas-hd-smart-tv/980032078]'], 'sku.smallImage.url': ['/images/product-images/img_small/980032078s.jpg'], 'expressDelivery': ['Express Delivery'], 'PickupEligible': ['true'], 'sku.displayName': ['Pantalla'], 'DeliveryInStock': ['true'], 'sku.unit_of_measure': ['eaches'], 'DeliveryEligible': ['true'], 'record.type.raw': ['product', 'sku'], 'product.department': ['Electrónica y Computación', 'Meses sin Intereses', 'Sociofest'], 'record.id': ['sku-980032078..0980032078.catalog20001.es__MX'], 'expressDeliveryInStock': ['false'], 'Brand': ['Sansui'], 'product.repositoryId': ['0980032078'], 'PickAtStore': ['Pick at Store'], 'PaymentPlan': ['13', '6', '9'], 'product.displayText': ['Pantalla Sansui 24 Pulgadas HD Smart TV'], 'skuDisplayName': ['Pantalla Sansui 24 Pulgadas HD Smart TV'], 'product.fineline': ['Pantallas', 'Tecnologia y Electrónica']}}, {'records': [{'records': None, 'numRecords': 0, 'attributes': {'sku.lastPrice': ['18003.77'], 'maxQuantity': ['60.0'], 'HomeDelivery': ['FX'], 'sku.finalPrice': ['14934.78'], 'skuStatusFlag': ['A'], 'sku.repositoryId': ['980029446'], 'sku.weighable': ['0'], 'product.seoURL': ['[/pantallas/pantalla-lg-55-pulgadas-smart-tv-uhd-4k-ai-thinq-55up7705psb/980029446]'], 'product.HomeDelivery': ['FX'], 'expressDelivery': ['Express Delivery'], 'record.spec': ['sku-980029446..0980029446.catalog20001.es__MX'], 'priceStrikeOff': [1], 'PickAtStore': ['Pick at Store'], 'STR0000009999': ['SELLABLE'], 'sku.isBigItem': ['0'], 'skuDisplayName': ['Pantalla LG 55 Pulgadas Smart TV UHD 4K AI ThinQ 55UP7705PSB']}}], 'numRecords': 1, 'attributes': {'sku.availableStores': ['0000004727', '0000004728', '0000004746', '0000004790', '0000004791', '0000004792', '0000004801', '0000004805', '0000004827', '0000004832', '0000004841', '0000004862', '0000004877', '0000004878', '0000004879', '0000004901', '0000004910', '0000004911', '0000004913', '0000004914', '0000004934', '0000004935', '0000004936', '0000004937', '0000004938', '0000004939', '0000004941', '0000004944', '0000004945', '0000004946', '0000004947', '0000004948', '0000004949', '0000004950', '0000004951', '0000004954', '0000004955', '0000004957', '0000004958', '0000004960', '0000004961', '0000004968', '0000004969', '0000004970', '0000004972', '0000004973', '0000004975', '0000004977', '0000004978', '0000004979', '0000004981', '0000004982', '0000004983', '0000004984', '0000004985', '0000004986', '0000004987', '0000004988', '0000004989', '0000004991', '0000004992', '0000004999', '0000006039', '0000006204', '0000006205', '0000006206', '0000006207', '0000006208', '0000006209', '0000006210', '0000006211', '0000006212', '0000006213', '0000006215', '0000006217', '0000006218', '0000006219', '0000006221', '0000006222', '0000006223', '0000006224', '0000006225', '0000006226', '0000006227', '0000006229', '0000006232', '0000006233', '0000006234', '0000006236', '0000006237', '0000006240', '0000006241', '0000006242', '0000006243', '0000006244', '0000006246', '0000006247', '0000006248', '0000006249', '0000006251', '0000006252', '0000006254', '0000006258', '0000006260', '0000006261', '0000006263', '0000006264', '0000006265', '0000006274', '0000006275', '0000006277', '0000006279', '0000006282', '0000006283', '0000006285', '0000006286', '0000006287', '0000006288', '0000006289', '0000006290', '0000006293', '0000006294', '0000006295', '0000006296', '0000006297', '0000006298', '0000006300', '0000006305', '0000006307', '0000006308', '0000006309', '0000006313', '0000006314', '0000006390', '0000006391', '0000006392', '0000006393', '0000006394', '0000006395', '0000006396', '0000006397', '0000006398', '0000006467', '0000006468', '0000006469', '0000006470', '0000006497', '0000006513', '0000006523', '0000006534', '0000006557', '0000006563', '0000006574', '0000006576', '0000006577', '0000006578', '0000006583', '0000006584', '0000006585', '0000006586', '0000008118', '0000008121', '0000008122', '0000008124', '0000008127', '0000008240', '0000009999'], 'sku.lastPrice': ['18003.77'], 'product.smallImage.url': ['/images/product-images/img_small/980029446s.jpg'], 'HomeDelivery': ['FX'], 'product.family': ['12 Meses sin Intereses', '3, 6 ó 9 Meses sin Intereses', 'Electrónica', 'Pantallas', 'Pantallas y Audio', 'Promociones Bancarias', 'Promociones Citibanamex', 'Tecnología y Entretenimiento'], 'product.displayName': ['Pantalla'], 'expressDeliveryEligible': ['false'], 'sku.finalPrice': ['14934.78'], 'PickupInStock': ['true'], 'sku.repositoryId': ['980029446'], 'sku.weighable': ['0'], 'sku.oosStores': ['0000006039'], 'product.seoURL': ['[/pantallas/pantalla-lg-55-pulgadas-smart-tv-uhd-4k-ai-thinq-55up7705psb/980029446]'], 'sku.smallImage.url': ['/images/product-images/img_small/980029446s.jpg'], 'expressDelivery': ['Express Delivery'], 'PickupEligible': ['true'], 'sku.displayName': ['Pantalla'], 'DeliveryInStock': ['true'], 'sku.unit_of_measure': ['eaches'], 'DeliveryEligible': ['true'], 'record.type.raw': ['product', 'sku'], 'product.department': ['Electrónica y Computación', 'LG', 'Meses sin Intereses', 'Open-House', 'Sams Club Ofertas', 'Sociofest'], 'record.id': ['sku-980029446..0980029446.catalog20001.es__MX'], 'expressDeliveryInStock': ['false'], 'Brand': ['LG'], 'product.repositoryId': ['0980029446'], 'PickAtStore': ['Pick at Store'], 'PaymentPlan': ['13', '3', '6', '9'], 'product.displayText': ['Pantalla LG 55 Pulgadas Smart TV UHD 4K AI ThinQ 55UP7705PSB'], 'skuDisplayName': ['Pantalla LG 55 Pulgadas Smart TV UHD 4K AI ThinQ 55UP7705PSB'], 'product.fineline': ['Pantallas', 'Tecnologia y Electrónica']}}, {'records': [{'records': None, 'numRecords': 0, 'attributes': {'sku.lastPrice': ['15016.62'], 'maxQuantity': ['60.0'], 'HomeDelivery': ['FX'], 'sku.finalPrice': ['12274.98'], 'skuStatusFlag': ['A'], 'sku.repositoryId': ['980032080'], 'sku.weighable': ['0'], 'product.seoURL': ['[/pantallas/pantalla-hisense-55-pulgadas-uhd-4k-vidaa-tv-a7gv/980032080]'], 'product.HomeDelivery': ['FX'], 'expressDelivery': ['Express Delivery'], 'record.spec': ['sku-980032080..0980032080.catalog20001.es__MX'], 'priceStrikeOff': [1], 'PickAtStore': ['Pick at Store'], 'STR0000009999': ['SELLABLE'], 'sku.isBigItem': ['0'], 'skuDisplayName': ['Pantalla Hisense 55 Pulgadas UHD 4K Vidaa TV A7GV']}}], 'numRecords': 1, 'attributes': {'sku.availableStores': ['0000004727', '0000004728', '0000004746', '0000004790', '0000004791', '0000004792', '0000004801', '0000004805', '0000004827', '0000004832', '0000004841', '0000004862', '0000004877', '0000004878', '0000004879', '0000004901', '0000004910', '0000004911', '0000004913', '0000004914', '0000004934', '0000004935', '0000004936', '0000004937', '0000004938', '0000004939', '0000004941', '0000004944', '0000004945', '0000004946', '0000004947', '0000004948', '0000004949', '0000004950', '0000004951', '0000004954', '0000004955', '0000004957', '0000004958', '0000004960', '0000004961', '0000004968', '0000004969', '0000004970', '0000004972', '0000004973', '0000004975', '0000004977', '0000004978', '0000004979', '0000004981', '0000004982', '0000004983', '0000004984', '0000004985', '0000004986', '0000004987', '0000004988', '0000004989', '0000004991', '0000004992', '0000004999', '0000006039', '0000006204', '0000006205', '0000006206', '0000006207', '0000006208', '0000006209', '0000006210', '0000006211', '0000006212', '0000006213', '0000006215', '0000006217', '0000006218', '0000006219', '0000006221', '0000006222', '0000006223', '0000006224', '0000006225', '0000006226', '0000006227', '0000006229', '0000006232', '0000006233', '0000006234', '0000006236', '0000006237', '0000006240', '0000006241', '0000006242', '0000006243', '0000006244', '0000006246', '0000006247', '0000006248', '0000006249', '0000006251', '0000006252', '0000006254', '0000006258', '0000006260', '0000006261', '0000006263', '0000006264', '0000006265', '0000006274', '0000006275', '0000006277', '0000006279', '0000006282', '0000006283', '0000006285', '0000006286', '0000006287', '0000006288', '0000006289', '0000006290', '0000006293', '0000006294', '0000006295', '0000006296', '0000006297', '0000006298', '0000006300', '0000006305', '0000006307', '0000006308', '0000006309', '0000006313', '0000006390', '0000006391', '0000006392', '0000006393', '0000006394', '0000006395', '0000006396', '0000006397', '0000006398', '0000006467', '0000006468', '0000006469', '0000006470', '0000006497', '0000006513', '0000006523', '0000006534', '0000006557', '0000006563', '0000006574', '0000006576', '0000006577', '0000006578', '0000006583', '0000006584', '0000006585', '0000006586', '0000008118', '0000008121', '0000008122', '0000008124', '0000008127', '0000008240', '0000009999'], 'sku.lastPrice': ['15016.62'], 'product.smallImage.url': ['/images/product-images/img_small/980032080s.jpg'], 'HomeDelivery': ['FX'], 'product.family': ['Electrónica', 'Pantallas y Audio', 'Promociones Bancarias', 'Tecnología y Entretenimiento'], 'product.displayName': ['Pantalla'], 'expressDeliveryEligible': ['false'], 'sku.finalPrice': ['12274.98'], 'PickupInStock': ['true'], 'sku.repositoryId': ['980032080'], 'sku.weighable': ['0'], 'sku.oosStores': ['0000006039', '0000006308', '0000006309'], 'product.seoURL': ['[/pantallas/pantalla-hisense-55-pulgadas-uhd-4k-vidaa-tv-a7gv/980032080]'], 'sku.smallImage.url': ['/images/product-images/img_small/980032080s.jpg'], 'expressDelivery': ['Express Delivery'], 'PickupEligible': ['true'], 'sku.displayName': ['Pantalla'], 'DeliveryInStock': ['true'], 'sku.unit_of_measure': ['eaches'], 'DeliveryEligible': ['true'], 'record.type.raw': ['product', 'sku'], 'product.department': ['Electrónica y Computación', 'Meses sin Intereses', 'Sams Club Ofertas', 'Sociofest'], 'record.id': ['sku-980032080..0980032080.catalog20001.es__MX'], 'expressDeliveryInStock': ['false'], 'Brand': ['Hisense'], 'product.repositoryId': ['0980032080'], 'PickAtStore': ['Pick at Store'], 'PaymentPlan': ['13', '6', '9'], 'product.displayText': ['Pantalla Hisense 55 Pulgadas UHD 4K Vidaa TV A7GV'], 'skuDisplayName': ['Pantalla Hisense 55 Pulgadas UHD 4K Vidaa TV A7GV'], 'product.fineline': ['Pantallas', 'Tecnologia y Electrónica']}}, {'records': [{'records': None, 'numRecords': 0, 'attributes': {'sku.lastPrice': ['10433.58'], 'maxQuantity': ['60.0'], 'HomeDelivery': ['FX'], 'sku.finalPrice': ['9922.08'], 'skuStatusFlag': ['A'], 'sku.repositoryId': ['980029843'], 'sku.weighable': ['0'], 'product.seoURL': ['[/pantallas/pantalla-tcl-43-pulgadas-uhd-4k-android-tv-43a445/980029843]'], 'product.HomeDelivery': ['FX'], 'expressDelivery': ['Express Delivery'], 'record.spec': ['sku-980029843..0980029843.catalog20001.es__MX'], 'priceStrikeOff': [1], 'PickAtStore': ['Pick at Store'], 'STR0000009999': ['SELLABLE'], 'sku.isBigItem': ['0'], 'skuDisplayName': ['Pantalla TCL 43 Pulgadas UHD 4K Android TV 43A445']}}], 'numRecords': 1, 'attributes': {'sku.availableStores': ['0000004727', '0000004728', '0000004746', '0000004790', '0000004791', '0000004792', '0000004801', '0000004805', '0000004827', '0000004832', '0000004841', '0000004862', '0000004877', '0000004878', '0000004879', '0000004901', '0000004910', '0000004911', '0000004913', '0000004914', '0000004934', '0000004935', '0000004936', '0000004937', '0000004938', '0000004939', '0000004941', '0000004944', '0000004945', '0000004946', '0000004947', '0000004948', '0000004949', '0000004950', '0000004951', '0000004954', '0000004955', '0000004957', '0000004958', '0000004960', '0000004961', '0000004968', '0000004969', '0000004970', '0000004972', '0000004973', '0000004975', '0000004977', '0000004978', '0000004979', '0000004981', '0000004982', '0000004983', '0000004984', '0000004985', '0000004986', '0000004987', '0000004988', '0000004989', '0000004991', '0000004992', '0000004999', '0000006039', '0000006204', '0000006205', '0000006206', '0000006207', '0000006208', '0000006209', '0000006210', '0000006211', '0000006212', '0000006213', '0000006215', '0000006217', '0000006218', '0000006219', '0000006221', '0000006222', '0000006223', '0000006224', '0000006225', '0000006226', '0000006227', '0000006229', '0000006232', '0000006233', '0000006234', '0000006236', '0000006237', '0000006240', '0000006241', '0000006242', '0000006243', '0000006244', '0000006246', '0000006247', '0000006248', '0000006249', '0000006251', '0000006252', '0000006254', '0000006258', '0000006260', '0000006261', '0000006263', '0000006264', '0000006265', '0000006274', '0000006275', '0000006277', '0000006279', '0000006282', '0000006283', '0000006285', '0000006286', '0000006287', '0000006288', '0000006289', '0000006290', '0000006293', '0000006294', '0000006295', '0000006296', '0000006297', '0000006298', '0000006300', '0000006305', '0000006307', '0000006308', '0000006309', '0000006313', '0000006314', '0000006390', '0000006391', '0000006392', '0000006393', '0000006394', '0000006395', '0000006396', '0000006397', '0000006398', '0000006467', '0000006468', '0000006469', '0000006470', '0000006497', '0000006513', '0000006523', '0000006534', '0000006557', '0000006563', '0000006574', '0000006576', '0000006577', '0000006578', '0000006583', '0000006584', '0000006585', '0000006586', '0000008118', '0000008121', '0000008122', '0000008124', '0000008127', '0000008240', '0000009999'], 'sku.lastPrice': ['10433.58'], 'product.smallImage.url': ['/images/product-images/img_small/980029843s.jpg'], 'HomeDelivery': ['FX'], 'product.family': ['12 Meses sin Intereses', '3, 6 ó 9 Meses sin Intereses', 'Electrónica', 'Pantallas y Audio', 'Promociones Bancarias', 'Promociones Citibanamex', 'Tecnología y Entretenimiento'], 'product.displayName': ['Pantalla'], 'expressDeliveryEligible': ['false'], 'sku.finalPrice': ['9922.08'], 'PickupInStock': ['true'], 'sku.repositoryId': ['980029843'], 'sku.weighable': ['0'], 'sku.oosStores': ['0000006039'], 'product.seoURL': ['[/pantallas/pantalla-tcl-43-pulgadas-uhd-4k-android-tv-43a445/980029843]'], 'sku.smallImage.url': ['/images/product-images/img_small/980029843s.jpg'], 'expressDelivery': ['Express Delivery'], 'PickupEligible': ['true'], 'sku.displayName': ['Pantalla'], 'DeliveryInStock': ['true'], 'sku.unit_of_measure': ['eaches'], 'DeliveryEligible': ['true'], 'record.type.raw': ['product', 'sku'], 'product.department': ['Electrónica y Computación', 'Meses sin Intereses', 'Sams Club Ofertas', 'Sociofest'], 'record.id': ['sku-980029843..0980029843.catalog20001.es__MX'], 'expressDeliveryInStock': ['false'], 'Brand': ['TCL'], 'product.repositoryId': ['0980029843'], 'PickAtStore': ['Pick at Store'], 'PaymentPlan': ['13', '3', '6', '9'], 'product.displayText': ['Pantalla TCL 43 Pulgadas UHD 4K Android TV 43A445'], 'skuDisplayName': ['Pantalla TCL 43 Pulgadas UHD 4K Android TV 43A445'], 'product.fineline': ['Pantallas', 'Tecnologia y Electrónica']}}, {'records': [{'records': None, 'numRecords': 0, 'attributes': {'sku.lastPrice': ['10188.05'], 'maxQuantity': ['60.0'], 'HomeDelivery': ['FX'], 'sku.finalPrice': ['8489.88'], 'skuStatusFlag': ['A'], 'sku.repositoryId': ['980032081'], 'sku.weighable': ['0'], 'product.seoURL': ['[/pantallas/pantalla-hisense-43-pulgadas-uhd-4-k-vidaa-tv-a7gv/980032081]'], 'product.HomeDelivery': ['FX'], 'expressDelivery': ['Express Delivery'], 'record.spec': ['sku-980032081..0980032081.catalog20001.es__MX'], 'priceStrikeOff': [1], 'PickAtStore': ['Pick at Store'], 'STR0000009999': ['SELLABLE'], 'sku.isBigItem': ['0'], 'skuDisplayName': ['Pantalla Hisense 43 Pulgadas UHD 4 K Vidaa TV A7GV']}}], 'numRecords': 1, 'attributes': {'sku.availableStores': ['0000004728', '0000004746', '0000004790', '0000004791', '0000004792', '0000004801', '0000004805', '0000004827', '0000004832', '0000004841', '0000004862', '0000004877', '0000004878', '0000004879', '0000004901', '0000004910', '0000004911', '0000004913', '0000004914', '0000004934', '0000004935', '0000004936', '0000004937', '0000004938', '0000004939', '0000004941', '0000004944', '0000004945', '0000004946', '0000004947', '0000004948', '0000004949', '0000004950', '0000004951', '0000004954', '0000004955', '0000004957', '0000004958', '0000004960', '0000004961', '0000004968', '0000004969', '0000004970', '0000004972', '0000004973', '0000004975', '0000004977', '0000004978', '0000004979', '0000004981', '0000004982', '0000004984', '0000004985', '0000004986', '0000004988', '0000004989', '0000004991', '0000004992', '0000004999', '0000006039', '0000006204', '0000006205', '0000006206', '0000006207', '0000006208', '0000006209', '0000006210', '0000006211', '0000006213', '0000006215', '0000006217', '0000006218', '0000006219', '0000006221', '0000006222', '0000006223', '0000006224', '0000006225', '0000006226', '0000006227', '0000006232', '0000006233', '0000006234', '0000006236', '0000006237', '0000006240', '0000006241', '0000006242', '0000006243', '0000006244', '0000006246', '0000006247', '0000006248', '0000006249', '0000006251', '0000006252', '0000006254', '0000006258', '0000006260', '0000006261', '0000006263', '0000006264', '0000006265', '0000006274', '0000006275', '0000006277', '0000006279', '0000006282', '0000006283', '0000006285', '0000006286', '0000006287', '0000006288', '0000006289', '0000006290', '0000006293', '0000006294', '0000006295', '0000006296', '0000006297', '0000006298', '0000006300', '0000006305', '0000006307', '0000006308', '0000006309', '0000006313', '0000006314', '0000006390', '0000006391', '0000006392', '0000006393', '0000006394', '0000006395', '0000006396', '0000006397', '0000006398', '0000006467', '0000006468', '0000006469', '0000006470', '0000006497', '0000006513', '0000006534', '0000006557', '0000006563', '0000006574', '0000006576', '0000006577', '0000006578', '0000006583', '0000006584', '0000006585', '0000006586', '0000008118', '0000008121', '0000008122', '0000008124', '0000008127', '0000008240', '0000009999'], 'sku.lastPrice': ['10188.05'], 'product.smallImage.url': ['/images/product-images/img_small/980032081s.jpg'], 'HomeDelivery': ['FX'], 'product.family': ['Electrónica', 'Pantallas y Audio', 'Promociones Bancarias', 'Tecnología y Entretenimiento'], 'product.displayName': ['Pantalla'], 'expressDeliveryEligible': ['false'], 'sku.finalPrice': ['8489.88'], 'PickupInStock': ['true'], 'sku.repositoryId': ['980032081'], 'sku.weighable': ['0'], 'sku.oosStores': ['0000006039', '0000006309'], 'product.seoURL': ['[/pantallas/pantalla-hisense-43-pulgadas-uhd-4-k-vidaa-tv-a7gv/980032081]'], 'sku.smallImage.url': ['/images/product-images/img_small/980032081s.jpg'], 'expressDelivery': ['Express Delivery'], 'PickupEligible': ['true'], 'sku.displayName': ['Pantalla'], 'DeliveryInStock': ['true'], 'sku.unit_of_measure': ['eaches'], 'DeliveryEligible': ['true'], 'record.type.raw': ['product', 'sku'], 'product.department': ['Electrónica y Computación', 'Meses sin Intereses', 'Sams Club Ofertas', 'Sociofest'], 'record.id': ['sku-980032081..0980032081.catalog20001.es__MX'], 'expressDeliveryInStock': ['false'], 'Brand': ['Hisense'], 'product.repositoryId': ['0980032081'], 'PickAtStore': ['Pick at Store'], 'PaymentPlan': ['13', '6', '9'], 'product.displayText': ['Pantalla Hisense 43 Pulgadas UHD 4 K Vidaa TV A7GV'], 'skuDisplayName': ['Pantalla Hisense 43 Pulgadas UHD 4 K Vidaa TV A7GV'], 'product.fineline': ['Pantallas', 'Tecnologia y Electrónica']}}, {'records': [{'records': None, 'numRecords': 0, 'attributes': {'sku.lastPrice': ['22811.88'], 'maxQuantity': ['60.0'], 'HomeDelivery': ['FX'], 'sku.finalPrice': ['17389.98'], 'skuStatusFlag': ['A'], 'sku.repositoryId': ['980029445'], 'sku.weighable': ['0'], 'product.seoURL': ['[/pantallas/pantalla-lg-65-pulgadas-smart-tv-uhd-4k-ai-thinq-65up7705psb/980029445]'], 'product.HomeDelivery': ['FX'], 'record.spec': ['sku-980029445..0980029445.catalog20001.es__MX'], 'priceStrikeOff': [1], 'PickAtStore': ['Pick at Store'], 'STR0000009999': ['SELLABLE'], 'sku.isBigItem': ['0'], 'skuDisplayName': ['Pantalla LG 65 Pulgadas Smart TV UHD 4K AI ThinQ 65UP7705PSB']}}], 'numRecords': 1, 'attributes': {'sku.availableStores': ['0000004944', '0000004970', '0000006210', '0000006213', '0000006217', '0000006218', '0000006222', '0000006246', '0000006251', '0000006252', '0000006277', '0000006279', '0000006288', '0000006289', '0000006300', '0000009999'], 'sku.lastPrice': ['22811.88'], 'product.smallImage.url': ['/images/product-images/img_small/980029445s.jpg'], 'HomeDelivery': ['FX'], 'product.family': ['12 Meses sin Intereses', '3, 6 ó 9 Meses sin Intereses', 'Electrónica', 'Pantallas', 'Pantallas y Audio', 'Promociones Bancarias', 'Promociones Citibanamex', 'Tecnología y Entretenimiento'], 'product.displayName': ['Pantalla'], 'expressDeliveryEligible': ['false'], 'sku.finalPrice': ['17389.98'], 'PickupInStock': ['true'], 'sku.repositoryId': ['980029445'], 'sku.weighable': ['0'], 'sku.oosStores': ['0000004944', '0000004970', '0000006246', '0000006288', '0000006300'], 'product.seoURL': ['[/pantallas/pantalla-lg-65-pulgadas-smart-tv-uhd-4k-ai-thinq-65up7705psb/980029445]'], 'sku.smallImage.url': ['/images/product-images/img_small/980029445s.jpg'], 'PickupEligible': ['true'], 'sku.displayName': ['Pantalla'], 'DeliveryInStock': ['true'], 'sku.unit_of_measure': ['eaches'], 'DeliveryEligible': ['true'], 'record.type.raw': ['product', 'sku'], 'product.department': ['Electrónica y Computación', 'LG', 'Meses sin Intereses', 'Open-House', 'Sams Club Ofertas', 'Sociofest'], 'record.id': ['sku-980029445..0980029445.catalog20001.es__MX'], 'expressDeliveryInStock': ['false'], 'Brand': ['LG'], 'product.repositoryId': ['0980029445'], 'PickAtStore': ['Pick at Store'], 'PaymentPlan': ['13', '3', '6', '9'], 'product.displayText': ['Pantalla LG 65 Pulgadas Smart TV UHD 4K AI ThinQ 65UP7705PSB'], 'skuDisplayName': ['Pantalla LG 65 Pulgadas Smart TV UHD 4K AI ThinQ 65UP7705PSB'], 'product.fineline': ['Pantallas', 'Tecnologia y Electrónica']}}, {'records': [{'records': None, 'numRecords': 0, 'attributes': {'sku.lastPrice': ['21686.58'], 'maxQuantity': ['60.0'], 'HomeDelivery': ['FX'], 'sku.finalPrice': ['18719.88'], 'skuStatusFlag': ['A'], 'sku.repositoryId': ['980029846'], 'sku.weighable': ['0'], 'product.seoURL': ['[/pantallas/pantalla-lg-55-pulgadas-nanocell-tv-ai-thinq-4k-55nano805sp/980029846]'], 'product.HomeDelivery': ['FX'], 'expressDelivery': ['Express Delivery'], 'record.spec': ['sku-980029846..0980029846.catalog20001.es__MX'], 'priceStrikeOff': [1], 'PickAtStore': ['Pick at Store'], 'STR0000009999': ['SELLABLE'], 'sku.isBigItem': ['0'], 'skuDisplayName': ['Pantalla LG 55 pulgadas NanoCell TV AI ThinQ 4K 55NANO805SP']}}], 'numRecords': 1, 'attributes': {'sku.availableStores': ['0000004727', '0000004792', '0000004878', '0000004936', '0000004941', '0000004945', '0000004948', '0000004954', '0000004973', '0000004979', '0000004981', '0000004982', '0000006039', '0000006207', '0000006213', '0000006233', '0000006244', '0000006249', '0000006252', '0000006263', '0000006277', '0000006283', '0000006307', '0000008127', '0000009999'], 'sku.lastPrice': ['21686.58'], 'product.smallImage.url': ['/images/product-images/img_small/980029846s.jpg'], 'HomeDelivery': ['FX'], 'product.family': ['Electrónica', 'Pantallas', 'Pantallas y Audio', 'Promociones Bancarias', 'Tecnología y Entretenimiento'], 'product.displayName': ['Pantalla'], 'expressDeliveryEligible': ['false'], 'sku.finalPrice': ['18719.88'], 'PickupInStock': ['true'], 'sku.repositoryId': ['980029846'], 'sku.weighable': ['0'], 'sku.oosStores': ['0000004936', '0000004941', '0000004948', '0000004954', '0000004973', '0000006039', '0000006207', '0000006233', '0000006263', '0000006283', '0000008127'], 'product.seoURL': ['[/pantallas/pantalla-lg-55-pulgadas-nanocell-tv-ai-thinq-4k-55nano805sp/980029846]'], 'sku.smallImage.url': ['/images/product-images/img_small/980029846s.jpg'], 'expressDelivery': ['Express Delivery'], 'PickupEligible': ['true'], 'sku.displayName': ['Pantalla'], 'DeliveryInStock': ['true'], 'sku.unit_of_measure': ['eaches'], 'DeliveryEligible': ['true'], 'record.type.raw': ['product', 'sku'], 'product.department': ['Electrónica y Computación', 'LG', 'Meses sin Intereses', 'Sams Club Ofertas', 'Sociofest'], 'record.id': ['sku-980029846..0980029846.catalog20001.es__MX'], 'expressDeliveryInStock': ['false'], 'Brand': ['LG'], 'product.repositoryId': ['0980029846'], 'PickAtStore': ['Pick at Store'], 'PaymentPlan': ['13', '3', '6', '9'], 'product.displayText': ['Pantalla LG 55 pulgadas NanoCell TV AI ThinQ 4K 55NANO805SP'], 'skuDisplayName': ['Pantalla LG 55 pulgadas NanoCell TV AI ThinQ 4K 55NANO805SP'], 'product.fineline': ['Pantallas', 'Tecnologia y Electrónica']}}, {'records': [{'records': None, 'numRecords': 0, 'attributes': {'sku.lastPrice': ['19947.47'], 'maxQuantity': ['60.0'], 'HomeDelivery': ['FX'], 'sku.finalPrice': ['16162.38'], 'skuStatusFlag': ['A'], 'sku.repositoryId': ['980029363'], 'sku.weighable': ['0'], 'product.seoURL': ['[/pantallas/pantalla-tcl-55-pulgadas-qled-roku-tv-55s647/980029363]'], 'product.HomeDelivery': ['FX'], 'expressDelivery': ['Express Delivery'], 'record.spec': ['sku-980029363..0980029363.catalog20001.es__MX'], 'priceStrikeOff': [1], 'PickAtStore': ['Pick at Store'], 'STR0000009999': ['SELLABLE'], 'sku.isBigItem': ['0'], 'skuDisplayName': ['Pantalla TCL 55 Pulgadas QLED Roku TV 55S647']}}], 'numRecords': 1, 'attributes': {'sku.availableStores': ['0000004727', '0000004746', '0000004790', '0000004791', '0000004792', '0000004801', '0000004805', '0000004827', '0000004832', '0000004862', '0000004877', '0000004878', '0000004879', '0000004911', '0000004913', '0000004934', '0000004935', '0000004936', '0000004937', '0000004938', '0000004939', '0000004941', '0000004945', '0000004946', '0000004947', '0000004948', '0000004949', '0000004950', '0000004951', '0000004954', '0000004955', '0000004957', '0000004960', '0000004961', '0000004969', '0000004970', '0000004972', '0000004973', '0000004975', '0000004977', '0000004978', '0000004979', '0000004981', '0000004982', '0000004984', '0000004985', '0000004987', '0000004988', '0000004989', '0000004991', '0000004992', '0000004999', '0000006205', '0000006206', '0000006207', '0000006208', '0000006209', '0000006211', '0000006212', '0000006213', '0000006217', '0000006219', '0000006221', '0000006223', '0000006225', '0000006226', '0000006229', '0000006232', '0000006233', '0000006236', '0000006237', '0000006240', '0000006241', '0000006242', '0000006243', '0000006244', '0000006246', '0000006248', '0000006254', '0000006261', '0000006263', '0000006274', '0000006275', '0000006277', '0000006279', '0000006282', '0000006283', '0000006285', '0000006286', '0000006287', '0000006288', '0000006289', '0000006290', '0000006294', '0000006295', '0000006296', '0000006297', '0000006307', '0000006308', '0000006309', '0000006314', '0000006390', '0000006391', '0000006392', '0000006395', '0000006396', '0000006397', '0000006467', '0000006470', '0000006513', '0000006523', '0000006534', '0000006563', '0000006574', '0000006576', '0000006577', '0000006578', '0000006583', '0000006584', '0000006585', '0000006586', '0000008121', '0000008122', '0000008124', '0000008240', '0000009999'], 'sku.lastPrice': ['19947.47'], 'product.smallImage.url': ['/images/product-images/img_small/980029363s.jpg'], 'HomeDelivery': ['FX'], 'product.family': ['12 Meses sin Intereses', '3, 6 ó 9 Meses sin Intereses', 'Electrónica', 'Pantallas y Audio', 'Promociones Bancarias', 'Promociones Citibanamex', 'Tecnología y Entretenimiento'], 'product.displayName': ['Pantalla'], 'expressDeliveryEligible': ['false'], 'sku.finalPrice': ['16162.38'], 'PickupInStock': ['true'], 'sku.repositoryId': ['980029363'], 'sku.weighable': ['0'], 'sku.oosStores': ['0000004790', '0000004911', '0000004947', '0000004975', '0000004979', '0000004982', '0000004991', '0000006209', '0000006217', '0000006244', '0000006286', '0000006314', '0000006563', '0000006578'], 'product.seoURL': ['[/pantallas/pantalla-tcl-55-pulgadas-qled-roku-tv-55s647/980029363]'], 'sku.smallImage.url': ['/images/product-images/img_small/980029363s.jpg'], 'expressDelivery': ['Express Delivery'], 'PickupEligible': ['true'], 'sku.displayName': ['Pantalla'], 'DeliveryInStock': ['true'], 'sku.unit_of_measure': ['eaches'], 'DeliveryEligible': ['true'], 'record.type.raw': ['product', 'sku'], 'product.department': ['Electrónica y Computación', 'Meses sin Intereses', 'Sams Club Ofertas', 'Sociofest'], 'record.id': ['sku-980029363..0980029363.catalog20001.es__MX'], 'expressDeliveryInStock': ['false'], 'Brand': ['TCL'], 'product.repositoryId': ['0980029363'], 'PickAtStore': ['Pick at Store'], 'PaymentPlan': ['13', '3', '6', '9'], 'product.displayText': ['Pantalla TCL 55 Pulgadas QLED Roku TV 55S647'], 'skuDisplayName': ['Pantalla TCL 55 Pulgadas QLED Roku TV 55S647'], 'product.fineline': ['Pantallas', 'Tecnologia y Electrónica']}}, {'records': [{'records': None, 'numRecords': 0, 'attributes': {'sku.lastPrice': ['26290.08'], 'maxQuantity': ['60.0'], 'HomeDelivery': ['FX'], 'sku.finalPrice': ['25062.48'], 'skuStatusFlag': ['A'], 'sku.repositoryId': ['980031672'], 'sku.weighable': ['0'], 'product.seoURL': ['[/pantallas/pantalla-tcl-65-pulgadas-qled-android-tv-65q637/980031672]'], 'product.HomeDelivery': ['FX'], 'record.spec': ['sku-980031672..0980031672.catalog20001.es__MX'], 'priceStrikeOff': [1], 'PickAtStore': ['Pick at Store'], 'STR0000009999': ['SELLABLE'], 'sku.isBigItem': ['0'], 'skuDisplayName': ['Pantalla TCL 65 Pulgadas QLED Android TV 65Q637']}}], 'numRecords': 1, 'attributes': {'sku.availableStores': ['0000006039', '0000009999'], 'sku.lastPrice': ['26290.08'], 'product.smallImage.url': ['/images/product-images/img_small/980031672s.jpg'], 'HomeDelivery': ['FX'], 'product.family': ['Electrónica', 'Pantallas y Audio', 'Promociones Bancarias', 'Tecnología y Entretenimiento'], 'product.displayName': ['Pantalla'], 'expressDeliveryEligible': ['false'], 'sku.finalPrice': ['25062.48'], 'PickupInStock': ['true'], 'sku.repositoryId': ['980031672'], 'sku.weighable': ['0'], 'product.seoURL': ['[/pantallas/pantalla-tcl-65-pulgadas-qled-android-tv-65q637/980031672]'], 'sku.smallImage.url': ['/images/product-images/img_small/980031672s.jpg'], 'PickupEligible': ['true'], 'sku.displayName': ['Pantalla'], 'DeliveryInStock': ['true'], 'sku.unit_of_measure': ['eaches'], 'DeliveryEligible': ['true'], 'record.type.raw': ['product', 'sku'], 'product.department': ['Electrónica y Computación', 'Meses sin Intereses', 'Sams Club Ofertas', 'Sociofest'], 'record.id': ['sku-980031672..0980031672.catalog20001.es__MX'], 'expressDeliveryInStock': ['false'], 'Brand': ['TCL'], 'product.repositoryId': ['0980031672'], 'PickAtStore': ['Pick at Store'], 'PaymentPlan': ['13', '6', '9'], 'product.displayText': ['Pantalla TCL 65 Pulgadas QLED Android TV 65Q637'], 'skuDisplayName': ['Pantalla TCL 65 Pulgadas QLED Android TV 65Q637'], 'product.fineline': ['Pantallas', 'Tecnologia y Electrónica']}}, {'records': [{'records': None, 'numRecords': 0, 'attributes': {'sku.lastPrice': ['5113.98'], 'maxQuantity': ['60.0'], 'HomeDelivery': ['FX'], 'sku.finalPrice': ['5113.98'], 'skuStatusFlag': ['A'], 'sku.repositoryId': ['980026743'], 'sku.weighable': ['0'], 'product.seoURL': ['[/sala/stand-para-tv-member-s-mark-3-en-1-con-soporte/980026743]'], 'product.HomeDelivery': ['FX'], 'record.spec': ['sku-980026743..0980026743.catalog20001.es__MX'], 'priceStrikeOff': ['0.000000'], 'PickAtStore': ['Pick at Store'], 'STR0000009999': ['SELLABLE'], 'sku.isBigItem': ['0'], 'skuDisplayName': [\"Stand para TV Member's Mark 3 en 1 con Soporte\"]}}], 'numRecords': 1, 'attributes': {'sku.availableStores': ['0000004728', '0000004746', '0000004790', '0000004791', '0000004792', '0000004801', '0000004805', '0000004827', '0000004832', '0000004841', '0000004877', '0000004878', '0000004879', '0000004901', '0000004910', '0000004911', '0000004913', '0000004914', '0000004934', '0000004935', '0000004936', '0000004937', '0000004938', '0000004941', '0000004944', '0000004946', '0000004947', '0000004948', '0000004949', '0000004950', '0000004951', '0000004954', '0000004955', '0000004957', '0000004958', '0000004960', '0000004961', '0000004968', '0000004969', '0000004970', '0000004972', '0000004973', '0000004975', '0000004977', '0000004978', '0000004979', '0000004981', '0000004982', '0000004984', '0000004985', '0000004986', '0000004987', '0000004988', '0000004989', '0000004991', '0000004992', '0000004999', '0000006204', '0000006205', '0000006206', '0000006207', '0000006208', '0000006209', '0000006210', '0000006211', '0000006212', '0000006213', '0000006217', '0000006218', '0000006219', '0000006221', '0000006222', '0000006223', '0000006224', '0000006225', '0000006226', '0000006227', '0000006229', '0000006232', '0000006233', '0000006234', '0000006236', '0000006237', '0000006240', '0000006241', '0000006242', '0000006243', '0000006244', '0000006246', '0000006247', '0000006248', '0000006249', '0000006252', '0000006254', '0000006258', '0000006260', '0000006261', '0000006264', '0000006265', '0000006274', '0000006275', '0000006277', '0000006279', '0000006282', '0000006283', '0000006285', '0000006286', '0000006287', '0000006288', '0000006289', '0000006290', '0000006293', '0000006294', '0000006295', '0000006296', '0000006297', '0000006298', '0000006300', '0000006305', '0000006307', '0000006308', '0000006309', '0000006313', '0000006314', '0000006390', '0000006391', '0000006392', '0000006393', '0000006394', '0000006395', '0000006396', '0000006397', '0000006398', '0000006467', '0000006468', '0000006469', '0000006470', '0000006497', '0000006523', '0000006534', '0000006557', '0000006574', '0000006576', '0000006578', '0000006583', '0000006584', '0000006585', '0000006586', '0000008118', '0000008121', '0000008122', '0000008124', '0000008127', '0000008240', '0000009999'], 'sku.lastPrice': ['5113.98'], 'product.smallImage.url': ['/images/product-images/img_small/980026743s.jpg'], 'HomeDelivery': ['FX'], 'product.family': ['Sala'], 'product.displayName': ['Stand para TV'], 'expressDeliveryEligible': ['false'], 'sku.finalPrice': ['5113.98'], 'PickupInStock': ['true'], 'sku.repositoryId': ['980026743'], 'sku.weighable': ['0'], 'sku.oosStores': ['0000004941', '0000004968', '0000006226', '0000006282', '0000006309'], 'product.seoURL': ['[/sala/stand-para-tv-member-s-mark-3-en-1-con-soporte/980026743]'], 'sku.smallImage.url': ['/images/product-images/img_small/980026743s.jpg'], 'PickupEligible': ['true'], 'sku.displayName': ['Stand para TV'], 'DeliveryInStock': ['true'], 'sku.unit_of_measure': ['eaches'], 'DeliveryEligible': ['true'], 'record.type.raw': ['product', 'sku'], 'product.department': ['Hogar', 'Lo Nuevo'], 'record.id': ['sku-980026743..0980026743.catalog20001.es__MX'], 'expressDeliveryInStock': ['false'], 'Brand': [\"Member's Mark\"], 'product.repositoryId': ['0980026743'], 'PickAtStore': ['Pick at Store'], 'PaymentPlan': ['13', '6', '9'], 'product.displayText': [\"Stand para TV Member's Mark 3 en 1 con Soporte\"], 'skuDisplayName': [\"Stand para TV Member's Mark 3 en 1 con Soporte\"]}}, {'records': [{'records': None, 'numRecords': 0, 'attributes': {'sku.lastPrice': ['41941.98'], 'maxQuantity': ['60.0'], 'HomeDelivery': ['FX'], 'sku.finalPrice': ['37440.78'], 'skuStatusFlag': ['A'], 'sku.repositoryId': ['980031952'], 'sku.weighable': ['0'], 'product.seoURL': ['[/pantallas/pantalla-lg-82-pulgadas-uhd-ai-thinq-4k-82up8055psb/980031952]'], 'product.HomeDelivery': ['FX'], 'record.spec': ['sku-980031952..0980031952.catalog20001.es__MX'], 'priceStrikeOff': [1], 'PickAtStore': ['Pick at Store'], 'STR0000009999': ['SELLABLE'], 'sku.isBigItem': ['1'], 'skuDisplayName': ['Pantalla LG 82 Pulgadas UHD AI ThinQ 4K 82UP8055PSB']}}], 'numRecords': 1, 'attributes': {'sku.availableStores': ['0000004727', '0000004728', '0000004746', '0000004790', '0000004791', '0000004792', '0000004801', '0000004805', '0000004827', '0000004832', '0000004862', '0000004877', '0000004878', '0000004879', '0000004901', '0000004910', '0000004911', '0000004913', '0000004935', '0000004936', '0000004937', '0000004938', '0000004939', '0000004941', '0000004944', '0000004945', '0000004946', '0000004947', '0000004948', '0000004949', '0000004950', '0000004951', '0000004954', '0000004955', '0000004957', '0000004958', '0000004960', '0000004961', '0000004968', '0000004969', '0000004970', '0000004972', '0000004973', '0000004975', '0000004977', '0000004978', '0000004979', '0000004981', '0000004982', '0000004983', '0000004985', '0000004986', '0000004987', '0000004988', '0000004989', '0000004991', '0000004992', '0000004999', '0000006039', '0000006204', '0000006205', '0000006206', '0000006208', '0000006209', '0000006210', '0000006211', '0000006212', '0000006213', '0000006217', '0000006218', '0000006219', '0000006221', '0000006222', '0000006223', '0000006224', '0000006225', '0000006226', '0000006227', '0000006229', '0000006232', '0000006233', '0000006234', '0000006236', '0000006237', '0000006240', '0000006241', '0000006242', '0000006243', '0000006244', '0000006246', '0000006247', '0000006248', '0000006249', '0000006251', '0000006252', '0000006254', '0000006258', '0000006260', '0000006261', '0000006263', '0000006264', '0000006265', '0000006274', '0000006275', '0000006277', '0000006279', '0000006282', '0000006283', '0000006285', '0000006286', '0000006287', '0000006288', '0000006289', '0000006290', '0000006293', '0000006294', '0000006295', '0000006296', '0000006297', '0000006298', '0000006300', '0000006305', '0000006307', '0000006308', '0000006309', '0000006313', '0000006314', '0000006390', '0000006391', '0000006392', '0000006393', '0000006394', '0000006395', '0000006396', '0000006397', '0000006398', '0000006467', '0000006468', '0000006469', '0000006470', '0000006497', '0000006513', '0000006523', '0000006534', '0000006557', '0000006563', '0000006574', '0000006576', '0000006577', '0000006578', '0000006583', '0000006584', '0000006585', '0000006586', '0000008118', '0000008122', '0000008124', '0000008127', '0000008240', '0000009999'], 'sku.lastPrice': ['41941.98'], 'product.smallImage.url': ['/images/product-images/img_small/980031952s.jpg'], 'HomeDelivery': ['FX'], 'product.family': ['Electrónica', 'Pantallas', 'Pantallas y Audio', 'Promociones Bancarias', 'Tecnología y Entretenimiento'], 'product.displayName': ['Pantalla'], 'expressDeliveryEligible': ['false'], 'sku.finalPrice': ['37440.78'], 'PickupInStock': ['true'], 'sku.repositoryId': ['980031952'], 'sku.weighable': ['0'], 'sku.oosStores': ['0000004879', '0000004938', '0000004955', '0000004958', '0000004960', '0000004968', '0000004973', '0000004986', '0000004992', '0000006039', '0000006204', '0000006221', '0000006224', '0000006227', '0000006283', '0000006295', '0000006309', '0000006467', '0000006534'], 'product.seoURL': ['[/pantallas/pantalla-lg-82-pulgadas-uhd-ai-thinq-4k-82up8055psb/980031952]'], 'sku.smallImage.url': ['/images/product-images/img_small/980031952s.jpg'], 'PickupEligible': ['true'], 'sku.displayName': ['Pantalla'], 'DeliveryInStock': ['true'], 'sku.unit_of_measure': ['eaches'], 'DeliveryEligible': ['true'], 'record.type.raw': ['product', 'sku'], 'product.department': ['Electrónica y Computación', 'LG', 'Meses sin Intereses', 'Sams Club Ofertas', 'Sociofest'], 'record.id': ['sku-980031952..0980031952.catalog20001.es__MX'], 'expressDeliveryInStock': ['false'], 'Brand': ['LG'], 'product.repositoryId': ['0980031952'], 'PickAtStore': ['Pick at Store'], 'PaymentPlan': ['13', '6', '9'], 'product.displayText': ['Pantalla LG 82 Pulgadas UHD AI ThinQ 4K 82UP8055PSB'], 'skuDisplayName': ['Pantalla LG 82 Pulgadas UHD AI ThinQ 4K 82UP8055PSB'], 'product.fineline': ['Pantallas', 'Tecnologia y Electrónica']}}, {'records': [{'records': None, 'numRecords': 0, 'attributes': {'sku.lastPrice': ['23527.97'], 'maxQuantity': ['60.0'], 'HomeDelivery': ['FX'], 'sku.finalPrice': ['23527.97'], 'skuStatusFlag': ['A'], 'sku.repositoryId': ['000205765'], 'sku.weighable': ['0'], 'product.seoURL': ['[/laptops/macbook-air-apple-core-i5-13-led-128-gb/000205765]'], 'product.HomeDelivery': ['FX'], 'expressDelivery': ['Express Delivery'], 'record.spec': ['sku-000205765..0000205765.catalog20001.es__MX'], 'priceStrikeOff': ['0.000000'], 'PickAtStore': ['Pick at Store'], 'STR0000009999': ['SELLABLE'], 'sku.isBigItem': ['0'], 'skuDisplayName': ['MacBook Air Apple Core i5 13\" LED 128 GB']}}], 'numRecords': 1, 'attributes': {'sku.availableStores': ['0000004727', '0000004728', '0000004790', '0000004791', '0000004801', '0000004832', '0000004841', '0000004862', '0000004878', '0000004914', '0000004934', '0000004936', '0000004937', '0000004938', '0000004939', '0000004941', '0000004944', '0000004948', '0000004949', '0000004951', '0000004955', '0000004957', '0000004958', '0000004960', '0000004961', '0000004968', '0000004972', '0000004973', '0000004975', '0000004979', '0000004982', '0000004983', '0000004987', '0000004988', '0000004992', '0000004999', '0000006208', '0000006209', '0000006210', '0000006211', '0000006212', '0000006215', '0000006217', '0000006219', '0000006222', '0000006234', '0000006237', '0000006241', '0000006242', '0000006243', '0000006244', '0000006247', '0000006248', '0000006249', '0000006251', '0000006260', '0000006261', '0000006274', '0000006277', '0000006283', '0000006286', '0000006287', '0000006288', '0000006289', '0000006294', '0000006295', '0000006296', '0000006297', '0000006300', '0000006305', '0000006309', '0000006313', '0000006396', '0000006397', '0000006469', '0000006513', '0000006523', '0000006557', '0000006563', '0000006574', '0000006576', '0000006577', '0000006578', '0000006583', '0000006584', '0000006585', '0000008121', '0000008122', '0000008124', '0000008240', '0000009999'], 'sku.lastPrice': ['23527.97'], 'product.smallImage.url': ['/images/product-images/img_small/000205765s.jpg'], 'HomeDelivery': ['FX'], 'product.family': ['12 Meses sin Intereses', '3, 6 ó 9 Meses sin Intereses', 'Apple', 'Computo', 'Cómputo', 'Electrónica y Computación', 'Promociones Citibanamex'], 'product.displayName': ['MacBook Air'], 'expressDeliveryEligible': ['false'], 'sku.finalPrice': ['23527.97'], 'PickupInStock': ['true'], 'sku.repositoryId': ['000205765'], 'sku.weighable': ['0'], 'sku.oosStores': ['0000004727', '0000004728', '0000004790', '0000004791', '0000004832', '0000004841', '0000004862', '0000004878', '0000004914', '0000004936', '0000004937', '0000004939', '0000004944', '0000004949', '0000004951', '0000004955', '0000004957', '0000004958', '0000004960', '0000004961', '0000004968', '0000004972', '0000004973', '0000004979', '0000004982', '0000004987', '0000004988', '0000004992', '0000004999', '0000006208', '0000006210', '0000006211', '0000006215', '0000006217', '0000006219', '0000006234', '0000006241', '0000006243', '0000006244', '0000006248', '0000006249', '0000006251', '0000006261', '0000006274', '0000006277', '0000006283', '0000006286', '0000006288', '0000006294', '0000006296', '0000006297', '0000006300', '0000006309', '0000006313', '0000006396', '0000006469', '0000006523', '0000006557', '0000006563', '0000006574', '0000006576', '0000006578', '0000006584', '0000006585', '0000008121', '0000008122', '0000008124', '0000008240'], 'product.seoURL': ['[/laptops/macbook-air-apple-core-i5-13-led-128-gb/000205765]'], 'sku.smallImage.url': ['/images/product-images/img_small/000205765s.jpg'], 'expressDelivery': ['Express Delivery'], 'PickupEligible': ['true'], 'sku.displayName': ['MacBook Air'], 'DeliveryInStock': ['true'], 'sku.unit_of_measure': ['eaches'], 'DeliveryEligible': ['true'], 'record.type.raw': ['product', 'sku'], 'product.department': ['Categorías_Exclusivas_App', 'Días de Shopping', 'Electrónica y Computación', 'Fin Irresistible', 'Hot Days', 'Hot Sale', 'Meses sin Intereses', 'Promociones Especiales'], 'record.id': ['sku-000205765..0000205765.catalog20001.es__MX'], 'expressDeliveryInStock': ['false'], 'Brand': ['Apple'], 'product.repositoryId': ['0000205765'], 'PickAtStore': ['Pick at Store'], 'PaymentPlan': ['13', '3', '6', '9'], 'product.displayText': ['MacBook Air Apple Core i5 13\" LED 128 GB'], 'skuDisplayName': ['MacBook Air Apple Core i5 13\" LED 128 GB'], 'product.fineline': ['Cómputo', 'Laptops', 'Promociones Cómputo y Celulares', 'Tablets ']}}, {'records': [{'records': None, 'numRecords': 0, 'attributes': {'sku.lastPrice': ['13297.95'], 'maxQuantity': ['85.0'], 'HomeDelivery': ['FX'], 'sku.finalPrice': ['13297.95'], 'skuStatusFlag': ['A'], 'sku.repositoryId': ['980016238'], 'sku.weighable': ['0'], 'product.seoURL': ['[/celulares-y-smartphones/iphone-11-apple-64-gb-negro-at-t/980016238]'], 'product.HomeDelivery': ['FX'], 'expressDelivery': ['Express Delivery'], 'record.spec': ['sku-980016238..0980016238.catalog20001.es__MX'], 'priceStrikeOff': ['0.000000'], 'PickAtStore': ['Pick at Store'], 'STR0000009999': ['SELLABLE'], 'sku.isBigItem': ['0'], 'skuDisplayName': ['iPhone 11 Apple 64 GB Negro AT&T'], 'sku.preOrderEndDate': ['04/10/2019']}}], 'numRecords': 1, 'attributes': {'sku.availableStores': ['0000004801', '0000004805', '0000004827', '0000004832', '0000004862', '0000004877', '0000004878', '0000004901', '0000004910', '0000004913', '0000004914', '0000004934', '0000004935', '0000004936', '0000004939', '0000004941', '0000004945', '0000004946', '0000004954', '0000004958', '0000004960', '0000004968', '0000004969', '0000004979', '0000004989', '0000006039', '0000006205', '0000006211', '0000006217', '0000006218', '0000006219', '0000006224', '0000006225', '0000006226', '0000006227', '0000006233', '0000006242', '0000006243', '0000006247', '0000006254', '0000006261', '0000006264', '0000006265', '0000006282', '0000006285', '0000006287', '0000006289', '0000006290', '0000006294', '0000006296', '0000006297', '0000006390', '0000006391', '0000006394', '0000006397', '0000006467', '0000006469', '0000006557', '0000008122', '0000008127', '0000009999'], 'sku.lastPrice': ['13297.95'], 'product.smallImage.url': ['/images/product-images/img_small/980016238s.jpg'], 'HomeDelivery': ['FX'], 'product.family': ['12 Meses sin Intereses', '3, 6 ó 9 Meses sin Intereses', 'Apple', 'Celulares', 'Promociones Bancarias', 'Promociones Citibanamex'], 'product.displayName': ['iPhone 11'], 'expressDeliveryEligible': ['false'], 'sku.finalPrice': ['13297.95'], 'PickupInStock': ['true'], 'sku.repositoryId': ['980016238'], 'sku.weighable': ['0'], 'product.seoURL': ['[/celulares-y-smartphones/iphone-11-apple-64-gb-negro-at-t/980016238]'], 'sku.smallImage.url': ['/images/product-images/img_small/980016238s.jpg'], 'expressDelivery': ['Express Delivery'], 'PickupEligible': ['true'], 'sku.displayName': ['iPhone 11'], 'DeliveryInStock': ['true'], 'sku.unit_of_measure': ['eaches'], 'DeliveryEligible': ['true'], 'record.type.raw': ['product', 'sku'], 'product.department': ['Celulares y Smartphones', 'Electrónica y Computación', 'Fin Irresistible', 'Lo Nuevo', 'Meses sin Intereses'], 'record.id': ['sku-980016238..0980016238.catalog20001.es__MX'], 'expressDeliveryInStock': ['false'], 'Brand': ['Apple'], 'product.repositoryId': ['0980016238'], 'PickAtStore': ['Pick at Store'], 'PaymentPlan': ['13', '3', '6', '9'], 'product.displayText': ['iPhone 11 Apple 64 GB Negro AT&T'], 'skuDisplayName': ['iPhone 11 Apple 64 GB Negro AT&T'], 'product.fineline': ['AT&T', 'Smartphones'], 'sku.preOrderEndDate': ['04/10/2019']}}, {'records': [{'records': None, 'numRecords': 0, 'attributes': {'sku.lastPrice': ['18924.47'], 'maxQuantity': ['10.0'], 'HomeDelivery': ['FX'], 'sku.finalPrice': ['18924.47'], 'skuStatusFlag': ['A'], 'sku.repositoryId': ['980016242'], 'sku.weighable': ['0'], 'product.seoURL': ['[/celulares-y-smartphones/iphone-11-apple-128-gb-blanco-at-t/980016242]'], 'product.HomeDelivery': ['FX'], 'expressDelivery': ['Express Delivery'], 'record.spec': ['sku-980016242..0980016242.catalog20001.es__MX'], 'priceStrikeOff': ['0.000000'], 'PickAtStore': ['Pick at Store'], 'STR0000009999': ['SELLABLE'], 'sku.isBigItem': ['0'], 'skuDisplayName': ['iPhone 11 Apple 128 GB Blanco AT&T'], 'sku.preOrderEndDate': ['04/10/2019']}}], 'numRecords': 1, 'attributes': {'sku.availableStores': ['0000004727', '0000004790', '0000004791', '0000004801', '0000004832', '0000004878', '0000004939', '0000004941', '0000004947', '0000004948', '0000004955', '0000004960', '0000004970', '0000004972', '0000004975', '0000004982', '0000004984', '0000004985', '0000004987', '0000004988', '0000004989', '0000004992', '0000004999', '0000006039', '0000006207', '0000006209', '0000006210', '0000006219', '0000006226', '0000006234', '0000006237', '0000006244', '0000006249', '0000006251', '0000006260', '0000006274', '0000006277', '0000006279', '0000006287', '0000006289', '0000006293', '0000006294', '0000006296', '0000006298', '0000006305', '0000006398', '0000006574', '0000006583', '0000006584', '0000006585', '0000009999'], 'sku.lastPrice': ['18924.47'], 'product.smallImage.url': ['/images/product-images/img_small/980016242s.jpg'], 'HomeDelivery': ['FX'], 'product.family': ['12 Meses sin Intereses', '3, 6 ó 9 Meses sin Intereses', 'Apple', 'Celulares', 'Celulares y Videojuegos', 'Promociones Bancarias', 'Promociones Citibanamex', 'Smartphones'], 'product.displayName': ['iPhone 11'], 'expressDeliveryEligible': ['false'], 'sku.finalPrice': ['18924.47'], 'PickupInStock': ['true'], 'sku.repositoryId': ['980016242'], 'sku.weighable': ['0'], 'sku.oosStores': ['0000004727', '0000004790', '0000004791', '0000004801', '0000004832', '0000004878', '0000004939', '0000004941', '0000004947', '0000004948', '0000004955', '0000004960', '0000004970', '0000004972', '0000004975', '0000004982', '0000004984', '0000004985', '0000004987', '0000004988', '0000004989', '0000004992', '0000004999', '0000006039', '0000006207', '0000006209', '0000006210', '0000006219', '0000006226', '0000006234', '0000006237', '0000006244', '0000006249', '0000006251', '0000006260', '0000006274', '0000006277', '0000006279', '0000006287', '0000006289', '0000006293', '0000006294', '0000006296', '0000006298', '0000006305', '0000006398', '0000006574', '0000006583', '0000006584', '0000006585'], 'product.seoURL': ['[/celulares-y-smartphones/iphone-11-apple-128-gb-blanco-at-t/980016242]'], 'sku.smallImage.url': ['/images/product-images/img_small/980016242s.jpg'], 'expressDelivery': ['Express Delivery'], 'PickupEligible': ['true'], 'sku.displayName': ['iPhone 11'], 'DeliveryInStock': ['true'], 'sku.unit_of_measure': ['eaches'], 'DeliveryEligible': ['true'], 'record.type.raw': ['product', 'sku'], 'product.department': ['Celulares y Smartphones', 'Electrónica y Computación', 'Hot Sale', 'Meses sin Intereses'], 'record.id': ['sku-980016242..0980016242.catalog20001.es__MX'], 'expressDeliveryInStock': ['false'], 'Brand': ['Apple'], 'product.repositoryId': ['0980016242'], 'PickAtStore': ['Pick at Store'], 'PaymentPlan': ['13', '3', '6', '9'], 'product.displayText': ['iPhone 11 Apple 128 GB Blanco AT&T'], 'skuDisplayName': ['iPhone 11 Apple 128 GB Blanco AT&T'], 'product.fineline': ['AT&T', 'Smartphones'], 'sku.preOrderEndDate': ['04/10/2019']}}, {'records': [{'records': None, 'numRecords': 0, 'attributes': {'sku.lastPrice': ['11251.97'], 'maxQuantity': ['60.0'], 'HomeDelivery': ['FX'], 'sku.finalPrice': ['11251.97'], 'skuStatusFlag': ['A'], 'sku.repositoryId': ['980019492'], 'sku.weighable': ['0'], 'product.seoURL': ['[/celulares-y-smartphones/iphone-se-apple-64-gb-blanco-at-t/980019492]'], 'product.HomeDelivery': ['FX'], 'expressDelivery': ['Express Delivery'], 'record.spec': ['sku-980019492..0980019492.catalog20001.es__MX'], 'priceStrikeOff': ['0.000000'], 'PickAtStore': ['Pick at Store'], 'STR0000009999': ['SELLABLE'], 'sku.isBigItem': ['0'], 'skuDisplayName': ['iPhone SE Apple 64 GB Blanco AT&T']}}], 'numRecords': 1, 'attributes': {'sku.availableStores': ['0000004877', '0000004914', '0000004936', '0000004946', '0000004954', '0000004957', '0000004958', '0000006039', '0000006210', '0000006247', '0000006264', '0000006313', '0000006557', '0000009999'], 'sku.lastPrice': ['11251.97'], 'product.smallImage.url': ['/images/product-images/img_small/980019492s.jpg'], 'HomeDelivery': ['FX'], 'product.family': ['12 Meses sin Intereses', '3, 6 ó 9 Meses sin Intereses', 'Apple', 'Celulares', 'Promociones Bancarias', 'Promociones Citibanamex', 'Smartphones'], 'product.displayName': ['iPhone SE'], 'expressDeliveryEligible': ['false'], 'sku.finalPrice': ['11251.97'], 'PickupInStock': ['true'], 'sku.repositoryId': ['980019492'], 'sku.weighable': ['0'], 'sku.oosStores': ['0000006039'], 'product.seoURL': ['[/celulares-y-smartphones/iphone-se-apple-64-gb-blanco-at-t/980019492]'], 'sku.smallImage.url': ['/images/product-images/img_small/980019492s.jpg'], 'expressDelivery': ['Express Delivery'], 'PickupEligible': ['true'], 'sku.displayName': ['iPhone SE'], 'DeliveryInStock': ['true'], 'sku.unit_of_measure': ['eaches'], 'DeliveryEligible': ['true'], 'record.type.raw': ['product', 'sku'], 'product.department': ['Celulares y Smartphones', 'Electrónica y Computación', 'Fin Irresistible', 'Hot Days', 'Hot Sale', 'Meses sin Intereses', 'Muebles de Oficina, Papelería y Libros', 'Open-House'], 'record.id': ['sku-980019492..0980019492.catalog20001.es__MX'], 'expressDeliveryInStock': ['false'], 'Brand': ['Apple'], 'product.repositoryId': ['0980019492'], 'PickAtStore': ['Pick at Store'], 'PaymentPlan': ['13', '3', '6', '9'], 'product.displayText': ['iPhone SE Apple 64 GB Blanco AT&T'], 'skuDisplayName': ['iPhone SE Apple 64 GB Blanco AT&T'], 'product.fineline': ['AT&T', 'Smartphones']}}, {'records': [{'records': None, 'numRecords': 0, 'attributes': {'sku.lastPrice': ['11251.97'], 'maxQuantity': ['60.0'], 'HomeDelivery': ['FX'], 'sku.finalPrice': ['11251.97'], 'skuStatusFlag': ['A'], 'sku.repositoryId': ['980019491'], 'sku.weighable': ['0'], 'product.seoURL': ['[/celulares-y-smartphones/iphone-se-apple-64-gb-negro-at-t/980019491]'], 'product.HomeDelivery': ['FX'], 'expressDelivery': ['Express Delivery'], 'record.spec': ['sku-980019491..0980019491.catalog20001.es__MX'], 'priceStrikeOff': ['0.000000'], 'PickAtStore': ['Pick at Store'], 'STR0000009999': ['SELLABLE'], 'sku.isBigItem': ['0'], 'skuDisplayName': ['iPhone SE Apple 64 GB Negro AT&T']}}], 'numRecords': 1, 'attributes': {'sku.availableStores': ['0000004805', '0000004914', '0000004946', '0000004958', '0000004961', '0000004979', '0000006039', '0000006247', '0000006264', '0000006288', '0000006313', '0000009999'], 'sku.lastPrice': ['11251.97'], 'product.smallImage.url': ['/images/product-images/img_small/980019491s.jpg'], 'HomeDelivery': ['FX'], 'product.family': ['12 Meses sin Intereses', '3, 6 ó 9 Meses sin Intereses', 'Apple', 'Celulares', 'Promociones Bancarias', 'Promociones Citibanamex', 'Smartphones'], 'product.displayName': ['iPhone SE'], 'expressDeliveryEligible': ['false'], 'sku.finalPrice': ['11251.97'], 'PickupInStock': ['true'], 'sku.repositoryId': ['980019491'], 'sku.weighable': ['0'], 'sku.oosStores': ['0000006039'], 'product.seoURL': ['[/celulares-y-smartphones/iphone-se-apple-64-gb-negro-at-t/980019491]'], 'sku.smallImage.url': ['/images/product-images/img_small/980019491s.jpg'], 'expressDelivery': ['Express Delivery'], 'PickupEligible': ['true'], 'sku.displayName': ['iPhone SE'], 'DeliveryInStock': ['true'], 'sku.unit_of_measure': ['eaches'], 'DeliveryEligible': ['true'], 'record.type.raw': ['product', 'sku'], 'product.department': ['Celulares y Smartphones', 'Electrónica y Computación', 'Fin Irresistible', 'Hot Days', 'Hot Sale', 'Meses sin Intereses', 'Muebles de Oficina, Papelería y Libros', 'Open-House'], 'record.id': ['sku-980019491..0980019491.catalog20001.es__MX'], 'expressDeliveryInStock': ['false'], 'Brand': ['Apple'], 'product.repositoryId': ['0980019491'], 'PickAtStore': ['Pick at Store'], 'PaymentPlan': ['13', '3', '6', '9'], 'product.displayText': ['iPhone SE Apple 64 GB Negro AT&T'], 'skuDisplayName': ['iPhone SE Apple 64 GB Negro AT&T'], 'product.fineline': ['AT&T', 'Smartphones']}}, {'records': [{'records': None, 'numRecords': 0, 'attributes': {'sku.lastPrice': ['11251.97'], 'maxQuantity': ['60.0'], 'HomeDelivery': ['FX'], 'sku.finalPrice': ['11251.97'], 'skuStatusFlag': ['A'], 'sku.repositoryId': ['980019490'], 'sku.weighable': ['0'], 'product.seoURL': ['[/celulares-y-smartphones/iphone-se-apple-64-gb-rojo-at-t/980019490]'], 'product.HomeDelivery': ['FX'], 'expressDelivery': ['Express Delivery'], 'record.spec': ['sku-980019490..0980019490.catalog20001.es__MX'], 'priceStrikeOff': ['0.000000'], 'PickAtStore': ['Pick at Store'], 'STR0000009999': ['SELLABLE'], 'sku.isBigItem': ['0'], 'skuDisplayName': ['iPhone SE Apple 64 GB Rojo AT&T']}}], 'numRecords': 1, 'attributes': {'sku.availableStores': ['0000004914', '0000004979', '0000004999', '0000006039', '0000006313', '0000009999'], 'sku.lastPrice': ['11251.97'], 'product.smallImage.url': ['/images/product-images/img_small/980019490s.jpg'], 'HomeDelivery': ['FX'], 'product.family': ['12 Meses sin Intereses', '3, 6 ó 9 Meses sin Intereses', 'Apple', 'Celulares', 'Promociones Bancarias', 'Promociones Citibanamex', 'Smartphones'], 'product.displayName': ['iPhone SE'], 'expressDeliveryEligible': ['false'], 'sku.finalPrice': ['11251.97'], 'PickupInStock': ['true'], 'sku.repositoryId': ['980019490'], 'sku.weighable': ['0'], 'sku.oosStores': ['0000004979', '0000006039'], 'product.seoURL': ['[/celulares-y-smartphones/iphone-se-apple-64-gb-rojo-at-t/980019490]'], 'sku.smallImage.url': ['/images/product-images/img_small/980019490s.jpg'], 'expressDelivery': ['Express Delivery'], 'PickupEligible': ['true'], 'sku.displayName': ['iPhone SE'], 'DeliveryInStock': ['true'], 'sku.unit_of_measure': ['eaches'], 'DeliveryEligible': ['true'], 'record.type.raw': ['product', 'sku'], 'product.department': ['Celulares y Smartphones', 'Electrónica y Computación', 'Fin Irresistible', 'Hot Days', 'Hot Sale', 'Meses sin Intereses', 'Muebles de Oficina, Papelería y Libros', 'Open-House'], 'record.id': ['sku-980019490..0980019490.catalog20001.es__MX'], 'expressDeliveryInStock': ['false'], 'Brand': ['Apple'], 'product.repositoryId': ['0980019490'], 'PickAtStore': ['Pick at Store'], 'PaymentPlan': ['13', '3', '6', '9'], 'product.displayText': ['iPhone SE Apple 64 GB Rojo AT&T'], 'skuDisplayName': ['iPhone SE Apple 64 GB Rojo AT&T'], 'product.fineline': ['AT&T', 'Smartphones']}}, {'records': [{'records': None, 'numRecords': 0, 'attributes': {'sku.lastPrice': ['12991.08'], 'maxQuantity': ['60.0'], 'HomeDelivery': ['FX'], 'sku.finalPrice': ['8182.98'], 'skuStatusFlag': ['A'], 'sku.repositoryId': ['980021154'], 'sku.weighable': ['0'], 'product.seoURL': ['[/audio-y-barras-de-sonido/sistema-de-audio-sony-de-alta-potencia-con-tecnologia-bluetooth/980021154]'], 'product.HomeDelivery': ['FX'], 'expressDelivery': ['Express Delivery'], 'record.spec': ['sku-980021154..0980021154.catalog20001.es__MX'], 'priceStrikeOff': [1], 'PickAtStore': ['Pick at Store'], 'STR0000009999': ['SELLABLE'], 'sku.isBigItem': ['0'], 'skuDisplayName': ['Sistema de Audio Sony de Alta Potencia con Tecnología Bluetooth']}}], 'numRecords': 1, 'attributes': {'sku.availableStores': ['0000004999', '0000006039', '0000006252', '0000006286', '0000006293', '0000009999'], 'sku.lastPrice': ['12991.08'], 'product.smallImage.url': ['/images/product-images/img_small/980021154s.jpg'], 'HomeDelivery': ['FX'], 'product.family': ['12 Meses sin Intereses', '3, 6 ó 9 Meses sin Intereses', 'Electrónica', 'Pantallas y Audio', 'Promociones Bancarias', 'Promociones Citibanamex', 'Regalos de Navidad', 'Tecnología y Entretenimiento'], 'product.displayName': ['Sistema de Audio'], 'expressDeliveryEligible': ['false'], 'sku.finalPrice': ['8182.98'], 'PickupInStock': ['true'], 'sku.repositoryId': ['980021154'], 'sku.weighable': ['0'], 'sku.oosStores': ['0000004999', '0000006039', '0000006252', '0000006286', '0000006293'], 'product.seoURL': ['[/audio-y-barras-de-sonido/sistema-de-audio-sony-de-alta-potencia-con-tecnologia-bluetooth/980021154]'], 'sku.smallImage.url': ['/images/product-images/img_small/980021154s.jpg'], 'expressDelivery': ['Express Delivery'], 'PickupEligible': ['true'], 'sku.displayName': ['Sistema de Audio'], 'DeliveryInStock': ['true'], 'sku.unit_of_measure': ['eaches'], 'DeliveryEligible': ['true'], 'record.type.raw': ['product', 'sku'], 'product.department': ['Electrónica y Computación', 'Meses sin Intereses', 'Navidad', 'Sams Club Ofertas', 'Sociofest'], 'record.id': ['sku-980021154..0980021154.catalog20001.es__MX'], 'expressDeliveryInStock': ['false'], 'Brand': ['Sony'], 'product.repositoryId': ['0980021154'], 'PickAtStore': ['Pick at Store'], 'PaymentPlan': ['13', '3', '6', '9'], 'product.displayText': ['Sistema de Audio Sony de Alta Potencia con Tecnología Bluetooth'], 'skuDisplayName': ['Sistema de Audio Sony de Alta Potencia con Tecnología Bluetooth'], 'product.fineline': ['Audio y Barras de Sonido', 'Electrónica', 'Tecnologia y Electrónica']}}, {'records': [{'records': None, 'numRecords': 0, 'attributes': {'sku.lastPrice': ['12274.98'], 'maxQuantity': ['60.0'], 'HomeDelivery': ['FX'], 'sku.finalPrice': ['12274.98'], 'skuStatusFlag': ['A'], 'sku.repositoryId': ['980019488'], 'sku.weighable': ['0'], 'product.seoURL': ['[/celulares-y-smartphones/iphone-se-apple-128-gb-negro-at-t/980019488]'], 'product.HomeDelivery': ['FX'], 'expressDelivery': ['Express Delivery'], 'record.spec': ['sku-980019488..0980019488.catalog20001.es__MX'], 'priceStrikeOff': ['0.000000'], 'PickAtStore': ['Pick at Store'], 'STR0000009999': ['SELLABLE'], 'sku.isBigItem': ['0'], 'skuDisplayName': ['iPhone SE Apple 128 GB Negro AT&T']}}], 'numRecords': 1, 'attributes': {'sku.availableStores': ['0000004805', '0000004979', '0000006039', '0000006247', '0000006313', '0000006557', '0000009999'], 'sku.lastPrice': ['12274.98'], 'product.smallImage.url': ['/images/product-images/img_small/980019488s.jpg'], 'HomeDelivery': ['FX'], 'product.family': ['12 Meses sin Intereses', '3, 6 ó 9 Meses sin Intereses', 'Apple', 'Celulares', 'Promociones Bancarias', 'Promociones Citibanamex', 'Smartphones'], 'product.displayName': ['iPhone SE'], 'expressDeliveryEligible': ['false'], 'sku.finalPrice': ['12274.98'], 'PickupInStock': ['true'], 'sku.repositoryId': ['980019488'], 'sku.weighable': ['0'], 'sku.oosStores': ['0000006039'], 'product.seoURL': ['[/celulares-y-smartphones/iphone-se-apple-128-gb-negro-at-t/980019488]'], 'sku.smallImage.url': ['/images/product-images/img_small/980019488s.jpg'], 'expressDelivery': ['Express Delivery'], 'PickupEligible': ['true'], 'sku.displayName': ['iPhone SE'], 'DeliveryInStock': ['true'], 'sku.unit_of_measure': ['eaches'], 'DeliveryEligible': ['true'], 'record.type.raw': ['product', 'sku'], 'product.department': ['Celulares y Smartphones', 'Electrónica y Computación', 'Hot Sale', 'Meses sin Intereses'], 'record.id': ['sku-980019488..0980019488.catalog20001.es__MX'], 'expressDeliveryInStock': ['false'], 'Brand': ['Apple'], 'product.repositoryId': ['0980019488'], 'PickAtStore': ['Pick at Store'], 'PaymentPlan': ['13', '3', '6', '9'], 'product.displayText': ['iPhone SE Apple 128 GB Negro AT&T'], 'skuDisplayName': ['iPhone SE Apple 128 GB Negro AT&T'], 'product.fineline': ['AT&T', 'Smartphones']}}, {'records': [{'records': None, 'numRecords': 0, 'attributes': {'sku.lastPrice': ['63066.91'], 'maxQuantity': ['60.0'], 'HomeDelivery': ['FX'], 'sku.finalPrice': ['63066.91'], 'skuStatusFlag': ['A'], 'sku.repositoryId': ['980017744'], 'sku.weighable': ['0'], 'product.seoURL': ['[/laptops/macbook-pro-apple-core-i7-16-gb-512-gb-16/980017744]'], 'product.HomeDelivery': ['FX'], 'expressDelivery': ['Express Delivery'], 'record.spec': ['sku-980017744..0980017744.catalog20001.es__MX'], 'priceStrikeOff': ['0.000000'], 'PickAtStore': ['Pick at Store'], 'STR0000009999': ['SELLABLE'], 'sku.isBigItem': ['0'], 'skuDisplayName': ['MacBook Pro Apple Core i7 16 GB 512 GB 16\"']}}], 'numRecords': 1, 'attributes': {'sku.availableStores': ['0000004827', '0000004879', '0000004910', '0000004986', '0000006206', '0000006233', '0000006243', '0000006264', '0000006285', '0000006390', '0000006394', '0000006395', '0000006467', '0000006468', '0000006469', '0000006497', '0000006534', '0000006557', '0000006576', '0000006577', '0000006578', '0000006586', '0000008124', '0000009999'], 'sku.lastPrice': ['63066.91'], 'product.smallImage.url': ['/images/product-images/img_small/980017744s.jpg'], 'HomeDelivery': ['FX'], 'product.family': ['12 Meses sin Intereses', '3, 6 ó 9 Meses sin Intereses', 'Apple', 'Cómputo', 'Promociones Citibanamex'], 'product.displayName': ['MacBook Pro'], 'expressDeliveryEligible': ['false'], 'sku.finalPrice': ['63066.91'], 'PickupInStock': ['true'], 'sku.repositoryId': ['980017744'], 'sku.weighable': ['0'], 'sku.oosStores': ['0000006395', '0000006469'], 'product.seoURL': ['[/laptops/macbook-pro-apple-core-i7-16-gb-512-gb-16/980017744]'], 'sku.smallImage.url': ['/images/product-images/img_small/980017744s.jpg'], 'expressDelivery': ['Express Delivery'], 'PickupEligible': ['true'], 'sku.displayName': ['MacBook Pro'], 'DeliveryInStock': ['true'], 'sku.unit_of_measure': ['eaches'], 'DeliveryEligible': ['true'], 'record.type.raw': ['product', 'sku'], 'product.department': ['Electrónica y Computación', 'Meses sin Intereses'], 'record.id': ['sku-980017744..0980017744.catalog20001.es__MX'], 'expressDeliveryInStock': ['false'], 'Brand': ['Apple'], 'product.repositoryId': ['0980017744'], 'PickAtStore': ['Pick at Store'], 'PaymentPlan': ['13', '3', '6', '9'], 'product.displayText': ['MacBook Pro Apple Core i7 16 GB 512 GB 16\"'], 'skuDisplayName': ['MacBook Pro Apple Core i7 16 GB 512 GB 16\"'], 'product.fineline': ['Cómputo', 'Laptops']}}, {'records': [{'records': None, 'numRecords': 0, 'attributes': {'sku.lastPrice': ['11251.97'], 'maxQuantity': ['60.0'], 'HomeDelivery': ['FX'], 'sku.finalPrice': ['11251.97'], 'skuStatusFlag': ['A'], 'sku.repositoryId': ['980013177'], 'sku.weighable': ['0'], 'product.seoURL': ['[/tablets/ipad-mini-apple-ios-12-64-gb-gris-espacial-7-9/980013177]'], 'product.HomeDelivery': ['FX'], 'expressDelivery': ['Express Delivery'], 'record.spec': ['sku-980013177..0980013177.catalog20001.es__MX'], 'priceStrikeOff': ['0.000000'], 'PickAtStore': ['Pick at Store'], 'STR0000009999': ['SELLABLE'], 'sku.isBigItem': ['0'], 'skuDisplayName': ['iPad Mini Apple iOS 12 64\\xa0GB Gris Espacial 7.9\"']}}], 'numRecords': 1, 'attributes': {'sku.availableStores': ['0000004827', '0000008122', '0000009999'], 'sku.lastPrice': ['11251.97'], 'product.smallImage.url': ['/images/product-images/img_small/980013177s.jpg'], 'HomeDelivery': ['FX'], 'product.family': ['12 Meses sin Intereses', '3, 6 ó 9 Meses sin Intereses', 'Apple', 'Cómputo', 'Promociones Citibanamex', 'Regalos para San Valentín'], 'product.displayName': ['iPad Mini'], 'expressDeliveryEligible': ['false'], 'sku.finalPrice': ['11251.97'], 'PickupInStock': ['true'], 'sku.repositoryId': ['980013177'], 'sku.weighable': ['0'], 'product.seoURL': ['[/tablets/ipad-mini-apple-ios-12-64-gb-gris-espacial-7-9/980013177]'], 'sku.smallImage.url': ['/images/product-images/img_small/980013177s.jpg'], 'expressDelivery': ['Express Delivery'], 'PickupEligible': ['true'], 'sku.displayName': ['iPad Mini'], 'DeliveryInStock': ['true'], 'sku.unit_of_measure': ['eaches'], 'DeliveryEligible': ['true'], 'record.type.raw': ['product', 'sku'], 'product.department': ['Categorías_Exclusivas_App', 'El mejor fin', 'Electrónica y Computación', 'Meses sin Intereses', 'San Valentín'], 'record.id': ['sku-980013177..0980013177.catalog20001.es__MX'], 'expressDeliveryInStock': ['false'], 'Brand': ['Apple'], 'product.repositoryId': ['0980013177'], 'PickAtStore': ['Pick at Store'], 'PaymentPlan': ['13', '3', '6', '9'], 'product.displayText': ['iPad Mini Apple iOS 12 64\\xa0GB Gris Espacial 7.9\"'], 'skuDisplayName': ['iPad Mini Apple iOS 12 64\\xa0GB Gris Espacial 7.9\"'], 'product.fineline': ['Cómputo', 'Tablets ']}}, {'records': [{'records': None, 'numRecords': 0, 'attributes': {'sku.lastPrice': ['6136.98'], 'maxQuantity': ['60.0'], 'HomeDelivery': ['FX'], 'sku.finalPrice': ['5932.38'], 'skuStatusFlag': ['A'], 'sku.repositoryId': ['980024145'], 'sku.weighable': ['0'], 'product.seoURL': ['[/audio-y-barras-de-sonido/barra-de-sonido-lg-dts-virtual-4-1-canales/980024145]'], 'product.HomeDelivery': ['FX'], 'expressDelivery': ['Express Delivery'], 'record.spec': ['sku-980024145..0980024145.catalog20001.es__MX'], 'priceStrikeOff': [1], 'PickAtStore': ['Pick at Store'], 'STR0000009999': ['SELLABLE'], 'sku.isBigItem': ['0'], 'skuDisplayName': ['Barra de Sonido LG DTS Virtual 4.1 Canales']}}], 'numRecords': 1, 'attributes': {'sku.availableStores': ['0000004727', '0000004728', '0000004746', '0000004790', '0000004791', '0000004792', '0000004801', '0000004827', '0000004832', '0000004841', '0000004862', '0000004877', '0000004878', '0000004879', '0000004901', '0000004910', '0000004911', '0000004913', '0000004937', '0000004938', '0000004939', '0000004944', '0000004946', '0000004947', '0000004948', '0000004949', '0000004951', '0000004954', '0000004955', '0000004957', '0000004958', '0000004960', '0000004961', '0000004968', '0000004970', '0000004972', '0000004973', '0000004977', '0000004979', '0000004981', '0000004983', '0000004984', '0000004985', '0000004987', '0000004989', '0000004991', '0000004992', '0000004999', '0000006039', '0000006204', '0000006205', '0000006206', '0000006208', '0000006209', '0000006211', '0000006212', '0000006213', '0000006215', '0000006217', '0000006218', '0000006219', '0000006221', '0000006222', '0000006226', '0000006227', '0000006229', '0000006232', '0000006234', '0000006241', '0000006242', '0000006243', '0000006244', '0000006246', '0000006247', '0000006248', '0000006252', '0000006254', '0000006258', '0000006260', '0000006261', '0000006264', '0000006265', '0000006274', '0000006275', '0000006277', '0000006279', '0000006282', '0000006283', '0000006285', '0000006286', '0000006287', '0000006289', '0000006293', '0000006294', '0000006295', '0000006296', '0000006298', '0000006300', '0000006305', '0000006307', '0000006308', '0000006309', '0000006313', '0000006390', '0000006391', '0000006394', '0000006398', '0000006467', '0000006468', '0000006469', '0000006513', '0000006574', '0000006577', '0000006578', '0000006583', '0000006584', '0000006585', '0000006586', '0000008118', '0000008122', '0000008124', '0000008127', '0000008240', '0000009999'], 'sku.lastPrice': ['6136.98'], 'product.smallImage.url': ['/images/product-images/img_small/980024145s.jpg'], 'HomeDelivery': ['FX'], 'product.family': ['12 Meses sin Intereses', '3, 6 ó 9 Meses sin Intereses', 'Electrónica', 'Pantallas', 'Pantallas y Audio', 'Promociones Bancarias', 'Promociones Citibanamex', 'Tecnología y Entretenimiento'], 'product.displayName': ['Barra de Sonido'], 'expressDeliveryEligible': ['false'], 'sku.finalPrice': ['5932.38'], 'PickupInStock': ['true'], 'sku.repositoryId': ['980024145'], 'sku.weighable': ['0'], 'sku.oosStores': ['0000006039'], 'product.seoURL': ['[/audio-y-barras-de-sonido/barra-de-sonido-lg-dts-virtual-4-1-canales/980024145]'], 'sku.smallImage.url': ['/images/product-images/img_small/980024145s.jpg'], 'expressDelivery': ['Express Delivery'], 'PickupEligible': ['true'], 'sku.displayName': ['Barra de Sonido'], 'DeliveryInStock': ['true'], 'sku.unit_of_measure': ['eaches'], 'DeliveryEligible': ['true'], 'record.type.raw': ['product', 'sku'], 'product.department': ['Electrónica y Computación', 'LG', 'Meses sin Intereses', 'Sams Club Ofertas', 'Sociofest'], 'record.id': ['sku-980024145..0980024145.catalog20001.es__MX'], 'expressDeliveryInStock': ['false'], 'Brand': ['LG'], 'product.repositoryId': ['0980024145'], 'PickAtStore': ['Pick at Store'], 'PaymentPlan': ['13', '3', '6', '9'], 'product.displayText': ['Barra de Sonido LG DTS Virtual 4.1 Canales'], 'skuDisplayName': ['Barra de Sonido LG DTS Virtual 4.1 Canales'], 'product.fineline': ['Audio y Barras de Sonido', 'Electrónica', 'Tecnologia y Electrónica']}}, {'records': [{'records': None, 'numRecords': 0, 'attributes': {'sku.lastPrice': ['12274.98'], 'maxQuantity': ['60.0'], 'HomeDelivery': ['FX'], 'sku.finalPrice': ['12274.98'], 'skuStatusFlag': ['A'], 'sku.repositoryId': ['980019487'], 'sku.weighable': ['0'], 'product.seoURL': ['[/celulares-y-smartphones/iphone-se-apple-128-gb-rojo-at-t/980019487]'], 'product.HomeDelivery': ['FX'], 'expressDelivery': ['Express Delivery'], 'record.spec': ['sku-980019487..0980019487.catalog20001.es__MX'], 'priceStrikeOff': ['0.000000'], 'PickAtStore': ['Pick at Store'], 'STR0000009999': ['SELLABLE'], 'sku.isBigItem': ['0'], 'skuDisplayName': ['iPhone SE Apple 128 GB Rojo AT&T']}}], 'numRecords': 1, 'attributes': {'sku.availableStores': ['0000006039', '0000006313', '0000009999'], 'sku.lastPrice': ['12274.98'], 'product.smallImage.url': ['/images/product-images/img_small/980019487s.jpg'], 'HomeDelivery': ['FX'], 'product.family': ['12 Meses sin Intereses', '3, 6 ó 9 Meses sin Intereses', 'Apple', 'Celulares', 'Promociones Bancarias', 'Promociones Citibanamex', 'Smartphones'], 'product.displayName': ['iPhone SE'], 'expressDeliveryEligible': ['false'], 'sku.finalPrice': ['12274.98'], 'PickupInStock': ['true'], 'sku.repositoryId': ['980019487'], 'sku.weighable': ['0'], 'sku.oosStores': ['0000006039'], 'product.seoURL': ['[/celulares-y-smartphones/iphone-se-apple-128-gb-rojo-at-t/980019487]'], 'sku.smallImage.url': ['/images/product-images/img_small/980019487s.jpg'], 'expressDelivery': ['Express Delivery'], 'PickupEligible': ['true'], 'sku.displayName': ['iPhone SE'], 'DeliveryInStock': ['true'], 'sku.unit_of_measure': ['eaches'], 'DeliveryEligible': ['true'], 'record.type.raw': ['product', 'sku'], 'product.department': ['Celulares y Smartphones', 'Electrónica y Computación', 'Hot Sale', 'Meses sin Intereses'], 'record.id': ['sku-980019487..0980019487.catalog20001.es__MX'], 'expressDeliveryInStock': ['false'], 'Brand': ['Apple'], 'product.repositoryId': ['0980019487'], 'PickAtStore': ['Pick at Store'], 'PaymentPlan': ['13', '3', '6', '9'], 'product.displayText': ['iPhone SE Apple 128 GB Rojo AT&T'], 'skuDisplayName': ['iPhone SE Apple 128 GB Rojo AT&T'], 'product.fineline': ['AT&T', 'Smartphones']}}, {'records': [{'records': None, 'numRecords': 0, 'attributes': {'sku.lastPrice': ['6136.98'], 'maxQuantity': ['60.0'], 'HomeDelivery': ['FX'], 'sku.finalPrice': ['5113.98'], 'skuStatusFlag': ['A'], 'sku.repositoryId': ['980018198'], 'sku.weighable': ['0'], 'product.seoURL': ['[/audio-y-barras-de-sonido/barra-de-sonido-sony-2-1-canales-con-subwoofer-inalambrico-ht-s350/980018198]'], 'product.HomeDelivery': ['FX'], 'expressDelivery': ['Express Delivery'], 'record.spec': ['sku-980018198..0980018198.catalog20001.es__MX'], 'priceStrikeOff': [1], 'PickAtStore': ['Pick at Store'], 'STR0000009999': ['SELLABLE'], 'sku.isBigItem': ['0'], 'skuDisplayName': ['Barra de Sonido Sony 2.1 Canales con Subwoofer Inalámbrico HT-S350']}}], 'numRecords': 1, 'attributes': {'sku.availableStores': ['0000004727', '0000004728', '0000004790', '0000004791', '0000004792', '0000004801', '0000004805', '0000004827', '0000004832', '0000004841', '0000004877', '0000004878', '0000004879', '0000004910', '0000004911', '0000004914', '0000004934', '0000004935', '0000004936', '0000004938', '0000004939', '0000004941', '0000004944', '0000004946', '0000004947', '0000004949', '0000004950', '0000004951', '0000004954', '0000004955', '0000004957', '0000004958', '0000004960', '0000004961', '0000004968', '0000004969', '0000004970', '0000004972', '0000004973', '0000004977', '0000004978', '0000004979', '0000004981', '0000004982', '0000004983', '0000004984', '0000004986', '0000004987', '0000004989', '0000004991', '0000004992', '0000004999', '0000006204', '0000006205', '0000006207', '0000006209', '0000006210', '0000006211', '0000006212', '0000006213', '0000006215', '0000006217', '0000006218', '0000006221', '0000006222', '0000006223', '0000006224', '0000006225', '0000006227', '0000006229', '0000006232', '0000006233', '0000006234', '0000006236', '0000006240', '0000006242', '0000006244', '0000006246', '0000006248', '0000006249', '0000006251', '0000006252', '0000006254', '0000006258', '0000006260', '0000006261', '0000006263', '0000006264', '0000006265', '0000006274', '0000006275', '0000006277', '0000006279', '0000006282', '0000006283', '0000006286', '0000006287', '0000006288', '0000006289', '0000006290', '0000006293', '0000006294', '0000006295', '0000006296', '0000006297', '0000006298', '0000006300', '0000006305', '0000006307', '0000006308', '0000006309', '0000006313', '0000006314', '0000006390', '0000006392', '0000006394', '0000006395', '0000006396', '0000006397', '0000006467', '0000006468', '0000006469', '0000006470', '0000006497', '0000006523', '0000006534', '0000006563', '0000006574', '0000006576', '0000006577', '0000006578', '0000006583', '0000006584', '0000006585', '0000006586', '0000008118', '0000008121', '0000008122', '0000008124', '0000008127', '0000008240', '0000009999'], 'sku.lastPrice': ['6136.98'], 'product.smallImage.url': ['/images/product-images/img_small/980018198s.jpg'], 'HomeDelivery': ['FX'], 'product.family': ['12 Meses sin Intereses', '3, 6 ó 9 Meses sin Intereses', 'Electrónica', 'Pantallas y Audio', 'Promociones Bancarias', 'Promociones Citibanamex', 'Regalos de Navidad', 'Tecnología y Entretenimiento'], 'product.displayName': ['Barra de Sonido'], 'expressDeliveryEligible': ['false'], 'sku.finalPrice': ['5113.98'], 'PickupInStock': ['true'], 'sku.repositoryId': ['980018198'], 'sku.weighable': ['0'], 'product.seoURL': ['[/audio-y-barras-de-sonido/barra-de-sonido-sony-2-1-canales-con-subwoofer-inalambrico-ht-s350/980018198]'], 'sku.smallImage.url': ['/images/product-images/img_small/980018198s.jpg'], 'expressDelivery': ['Express Delivery'], 'PickupEligible': ['true'], 'sku.displayName': ['Barra de Sonido'], 'DeliveryInStock': ['true'], 'sku.unit_of_measure': ['eaches'], 'DeliveryEligible': ['true'], 'record.type.raw': ['product', 'sku'], 'product.department': ['Día del Padre', 'Electrónica y Computación', 'Fin Irresistible', 'Meses sin Intereses', 'Navidad', 'Sams Club Ofertas', 'Sociofest'], 'record.id': ['sku-980018198..0980018198.catalog20001.es__MX'], 'expressDeliveryInStock': ['false'], 'Brand': ['Sony'], 'product.repositoryId': ['0980018198'], 'PickAtStore': ['Pick at Store'], 'PaymentPlan': ['13', '3', '6', '9'], 'product.displayText': ['Barra de Sonido Sony 2.1 Canales con Subwoofer Inalámbrico HT-S350'], 'skuDisplayName': ['Barra de Sonido Sony 2.1 Canales con Subwoofer Inalámbrico HT-S350'], 'product.fineline': ['Audio y Barras de Sonido', 'Electrónica', 'Home Theater', 'Tecnologia y Electrónica']}}, {'records': [{'records': None, 'numRecords': 0, 'attributes': {'sku.lastPrice': ['6136.98'], 'maxQuantity': ['60.0'], 'HomeDelivery': ['FX'], 'sku.finalPrice': ['6136.98'], 'skuStatusFlag': ['A'], 'sku.repositoryId': ['980009920'], 'sku.weighable': ['0'], 'product.seoURL': ['[/smartwatch/watch-apple-serie-3-38-mm/980009920]'], 'product.HomeDelivery': ['FX'], 'expressDelivery': ['Express Delivery'], 'record.spec': ['sku-980009920..0980009920.catalog20001.es__MX'], 'priceStrikeOff': ['0.000000'], 'PickAtStore': ['Pick at Store'], 'STR0000009999': ['SELLABLE'], 'sku.isBigItem': ['0'], 'skuDisplayName': ['Watch Apple Serie 3 38 mm']}}], 'numRecords': 1, 'attributes': {'sku.availableStores': ['0000006236', '0000009999'], 'sku.lastPrice': ['6136.98'], 'product.smallImage.url': ['/images/product-images/img_small/980009920s.jpg'], 'HomeDelivery': ['FX'], 'product.family': ['12 Meses sin Intereses', '3, 6 ó 9 Meses sin Intereses', 'Accesorios para Celulares', 'Apple', 'Celulares y Accesorios', 'Cómputo', 'Promociones Citibanamex', 'Regalos para San Valentín', 'Relojes y pulseras inteligentes '], 'product.displayName': ['Watch'], 'expressDeliveryEligible': ['false'], 'sku.finalPrice': ['6136.98'], 'PickupInStock': ['true'], 'sku.repositoryId': ['980009920'], 'sku.weighable': ['0'], 'product.seoURL': ['[/smartwatch/watch-apple-serie-3-38-mm/980009920]'], 'sku.smallImage.url': ['/images/product-images/img_small/980009920s.jpg'], 'expressDelivery': ['Express Delivery'], 'PickupEligible': ['true'], 'sku.displayName': ['Watch'], 'DeliveryInStock': ['true'], 'sku.unit_of_measure': ['eaches'], 'DeliveryEligible': ['true'], 'record.type.raw': ['product', 'sku'], 'product.department': ['Categorías_Exclusivas_App', 'Celulares y Smartphones', 'Día del Padre', 'Electrónica y Computación', 'Meses sin Intereses', 'San Valentín'], 'record.id': ['sku-980009920..0980009920.catalog20001.es__MX'], 'expressDeliveryInStock': ['false'], 'Brand': ['Apple'], 'product.repositoryId': ['0980009920'], 'PickAtStore': ['Pick at Store'], 'PaymentPlan': ['13', '3', '6', '9'], 'product.displayText': ['Watch Apple Serie 3 38 mm'], 'skuDisplayName': ['Watch Apple Serie 3 38 mm'], 'product.fineline': ['Accesorios de Cómputo', 'Cómputo', 'Smartwatch']}}, {'records': [{'records': None, 'numRecords': 0, 'attributes': {'sku.lastPrice': ['12274.98'], 'maxQuantity': ['60.0'], 'HomeDelivery': ['FX'], 'sku.finalPrice': ['12274.98'], 'skuStatusFlag': ['A'], 'sku.repositoryId': ['980019489'], 'sku.weighable': ['0'], 'product.seoURL': ['[/celulares-y-smartphones/iphone-se-apple-128-gb-blanco-at-t/980019489]'], 'product.HomeDelivery': ['FX'], 'expressDelivery': ['Express Delivery'], 'record.spec': ['sku-980019489..0980019489.catalog20001.es__MX'], 'priceStrikeOff': ['0.000000'], 'PickAtStore': ['Pick at Store'], 'STR0000009999': ['SELLABLE'], 'sku.isBigItem': ['0'], 'skuDisplayName': ['iPhone SE Apple 128 GB Blanco AT&T']}}], 'numRecords': 1, 'attributes': {'sku.availableStores': ['0000004805', '0000004946', '0000006222', '0000006313', '0000009999'], 'sku.lastPrice': ['12274.98'], 'product.smallImage.url': ['/images/product-images/img_small/980019489s.jpg'], 'HomeDelivery': ['FX'], 'product.family': ['12 Meses sin Intereses', '3, 6 ó 9 Meses sin Intereses', 'Apple', 'Celulares', 'Promociones Bancarias', 'Promociones Citibanamex', 'Smartphones'], 'product.displayName': ['iPhone SE'], 'expressDeliveryEligible': ['false'], 'sku.finalPrice': ['12274.98'], 'PickupInStock': ['true'], 'sku.repositoryId': ['980019489'], 'sku.weighable': ['0'], 'product.seoURL': ['[/celulares-y-smartphones/iphone-se-apple-128-gb-blanco-at-t/980019489]'], 'sku.smallImage.url': ['/images/product-images/img_small/980019489s.jpg'], 'expressDelivery': ['Express Delivery'], 'PickupEligible': ['true'], 'sku.displayName': ['iPhone SE'], 'DeliveryInStock': ['true'], 'sku.unit_of_measure': ['eaches'], 'DeliveryEligible': ['true'], 'record.type.raw': ['product', 'sku'], 'product.department': ['Celulares y Smartphones', 'Electrónica y Computación', 'Hot Sale', 'Meses sin Intereses'], 'record.id': ['sku-980019489..0980019489.catalog20001.es__MX'], 'expressDeliveryInStock': ['false'], 'Brand': ['Apple'], 'product.repositoryId': ['0980019489'], 'PickAtStore': ['Pick at Store'], 'PaymentPlan': ['13', '3', '6', '9'], 'product.displayText': ['iPhone SE Apple 128 GB Blanco AT&T'], 'skuDisplayName': ['iPhone SE Apple 128 GB Blanco AT&T'], 'product.fineline': ['AT&T', 'Smartphones']}}, {'records': [{'records': None, 'numRecords': 0, 'attributes': {'sku.lastPrice': ['10945.06'], 'maxQuantity': ['60.0'], 'HomeDelivery': ['FX'], 'sku.finalPrice': ['10945.06'], 'skuStatusFlag': ['A'], 'sku.repositoryId': ['980016457'], 'sku.weighable': ['0'], 'product.seoURL': ['[/smartwatch/apple-watch-serie-5-44-mm-space-gray/980016457]'], 'product.HomeDelivery': ['FX'], 'expressDelivery': ['Express Delivery'], 'record.spec': ['sku-980016457..0980016457.catalog20001.es__MX'], 'priceStrikeOff': ['0.000000'], 'PickAtStore': ['Pick at Store'], 'STR0000009999': ['SELLABLE'], 'sku.isBigItem': ['0'], 'skuDisplayName': ['  Apple Watch Serie 5 44 mm Space Gray']}}], 'numRecords': 1, 'attributes': {'sku.availableStores': ['0000004901', '0000006233', '0000006236', '0000006391', '0000006577', '0000008122', '0000009999'], 'sku.lastPrice': ['10945.06'], 'product.smallImage.url': ['/images/product-images/img_small/980016457s.jpg'], 'HomeDelivery': ['FX'], 'product.family': ['12 Meses sin Intereses', '3, 6 ó 9 Meses sin Intereses', 'Accesorios para Celulares', 'Apple', 'Celulares y Accesorios', 'Cómputo', 'Electrónica y Computación', 'Promociones Citibanamex', 'Regalos para San Valentín', 'Relojes y pulseras inteligentes '], 'expressDeliveryEligible': ['false'], 'sku.finalPrice': ['10945.06'], 'PickupInStock': ['true'], 'sku.repositoryId': ['980016457'], 'sku.weighable': ['0'], 'sku.oosStores': ['0000004901', '0000006233', '0000008122'], 'product.seoURL': ['[/smartwatch/apple-watch-serie-5-44-mm-space-gray/980016457]'], 'sku.smallImage.url': ['/images/product-images/img_small/980016457s.jpg'], 'expressDelivery': ['Express Delivery'], 'PickupEligible': ['true'], 'DeliveryInStock': ['true'], 'sku.unit_of_measure': ['eaches'], 'DeliveryEligible': ['true'], 'record.type.raw': ['product', 'sku'], 'product.department': ['Celulares y Smartphones', 'Día del Padre', 'Electrónica y Computación', 'Hot Sale', 'Meses sin Intereses', 'San Valentín'], 'record.id': ['sku-980016457..0980016457.catalog20001.es__MX'], 'expressDeliveryInStock': ['false'], 'Brand': ['Apple'], 'product.repositoryId': ['0980016457'], 'PickAtStore': ['Pick at Store'], 'PaymentPlan': ['13', '3', '6', '9'], 'product.displayText': ['  Apple Watch Serie 5 44 mm Space Gray'], 'skuDisplayName': ['  Apple Watch Serie 5 44 mm Space Gray'], 'product.fineline': ['Accesorios de Cómputo', 'Cómputo', 'Smartwatch']}}, {'records': [{'records': None, 'numRecords': 0, 'attributes': {'sku.lastPrice': ['4602.46'], 'maxQuantity': ['60.0'], 'HomeDelivery': ['FX'], 'sku.finalPrice': ['4602.46'], 'skuStatusFlag': ['A'], 'sku.repositoryId': ['980031105'], 'sku.weighable': ['0'], 'product.seoURL': ['[/soportes-y-accesorios-para-pantalla/dispositivo-apple-tv-4k-32-gb/980031105]'], 'product.HomeDelivery': ['FX'], 'expressDelivery': ['Express Delivery'], 'record.spec': ['sku-980031105..0980031105.catalog20001.es__MX'], 'priceStrikeOff': ['0.000000'], 'PickAtStore': ['Pick at Store'], 'No_Disponible_and_Remind_Me': ['true'], 'STR0000009999': ['VISIBLE'], 'sku.isBigItem': ['0'], 'skuDisplayName': ['Dispositivo Apple TV 4K 32 GB']}}], 'numRecords': 1, 'attributes': {'sku.availableStores': ['0000006039', '0000009999'], 'sku.lastPrice': ['4602.46'], 'product.smallImage.url': ['/images/product-images/img_small/980031105s.jpg'], 'HomeDelivery': ['FX'], 'product.family': ['Pantallas y Audio', 'Promociones Bancarias'], 'product.displayName': ['Dispositivo'], 'expressDeliveryEligible': ['false'], 'sku.finalPrice': ['4602.46'], 'PickupInStock': ['false'], 'sku.repositoryId': ['980031105'], 'sku.weighable': ['0'], 'sku.oosStores': ['0000006039', '0000009999'], 'product.seoURL': ['[/soportes-y-accesorios-para-pantalla/dispositivo-apple-tv-4k-32-gb/980031105]'], 'sku.smallImage.url': ['/images/product-images/img_small/980031105s.jpg'], 'expressDelivery': ['Express Delivery'], 'PickupEligible': ['true'], 'sku.displayName': ['Dispositivo'], 'DeliveryInStock': ['false'], 'sku.unit_of_measure': ['eaches'], 'DeliveryEligible': ['true'], 'record.type.raw': ['product', 'sku'], 'product.department': ['Electrónica y Computación', 'Meses sin Intereses'], 'record.id': ['sku-980031105..0980031105.catalog20001.es__MX'], 'expressDeliveryInStock': ['false'], 'Brand': ['Apple'], 'product.repositoryId': ['0980031105'], 'PickAtStore': ['Pick at Store'], 'PaymentPlan': ['3'], 'product.displayText': ['Dispositivo Apple TV 4K 32 GB'], 'No_Disponible_and_Remind_Me': ['true'], 'skuDisplayName': ['Dispositivo Apple TV 4K 32 GB'], 'product.fineline': ['Soportes y Accesorios para Pantalla', 'Tecnologia y Electrónica']}}, {'records': [{'records': None, 'numRecords': 0, 'attributes': {'sku.lastPrice': ['15303.04'], 'maxQuantity': ['60.0'], 'HomeDelivery': ['FX'], 'sku.finalPrice': ['15303.04'], 'skuStatusFlag': ['A'], 'sku.repositoryId': ['980012765'], 'sku.weighable': ['0'], 'product.seoURL': ['[/pantallas/pantalla-samsung-65-pulgadas-qled-smart-tv/980012765]'], 'product.HomeDelivery': ['FX'], 'record.spec': ['sku-980012765..0980012765.catalog20001.es__MX'], 'priceStrikeOff': ['0.000000'], 'PickAtStore': ['Pick at Store'], 'No_Disponible_and_Remind_Me': ['true'], 'STR0000009999': ['VISIBLE'], 'sku.isBigItem': ['0'], 'skuDisplayName': ['Pantalla Samsung 65 Pulgadas QLED Smart TV']}}], 'numRecords': 1, 'attributes': {'sku.availableStores': ['0000006290', '0000006297', '0000006467', '0000009999'], 'sku.lastPrice': ['15303.04'], 'product.smallImage.url': ['/images/product-images/img_small/980012765s.jpg'], 'HomeDelivery': ['FX'], 'product.family': ['12 Meses sin Intereses', '3, 6 ó 9 Meses sin Intereses', 'Electronica', 'Electrónica', 'Pantallas y Audio', 'Promociones Citibanamex'], 'product.displayName': ['Pantalla'], 'expressDeliveryEligible': ['false'], 'sku.finalPrice': ['15303.04'], 'PickupInStock': ['false'], 'sku.repositoryId': ['980012765'], 'sku.weighable': ['0'], 'sku.oosStores': ['0000006290', '0000006297', '0000006467', '0000009999'], 'product.seoURL': ['[/pantallas/pantalla-samsung-65-pulgadas-qled-smart-tv/980012765]'], 'sku.smallImage.url': ['/images/product-images/img_small/980012765s.jpg'], 'PickupEligible': ['true'], 'sku.displayName': ['Pantalla'], 'DeliveryInStock': ['false'], 'sku.unit_of_measure': ['eaches'], 'DeliveryEligible': ['true'], 'record.type.raw': ['product', 'sku'], 'product.department': ['Electrónica y Computación', 'Fin Irresistible', 'Meses sin Intereses'], 'record.id': ['sku-980012765..0980012765.catalog20001.es__MX'], 'expressDeliveryInStock': ['false'], 'Brand': ['Samsung'], 'product.repositoryId': ['0980012765'], 'PickAtStore': ['Pick at Store'], 'PaymentPlan': ['3'], 'product.displayText': ['Pantalla Samsung 65 Pulgadas QLED Smart TV'], 'No_Disponible_and_Remind_Me': ['true'], 'skuDisplayName': ['Pantalla Samsung 65 Pulgadas QLED Smart TV'], 'product.fineline': ['Electrónica', 'Pantallas']}}, {'records': [{'records': None, 'numRecords': 0, 'attributes': {'sku.lastPrice': ['18924.47'], 'maxQuantity': ['25.0'], 'HomeDelivery': ['FX'], 'sku.finalPrice': ['18924.47'], 'skuStatusFlag': ['A'], 'sku.repositoryId': ['980016241'], 'sku.weighable': ['0'], 'product.seoURL': ['[/celulares-y-smartphones/iphone-11-apple-128-gb-negro-at-t/980016241]'], 'product.HomeDelivery': ['FX'], 'expressDelivery': ['Express Delivery'], 'record.spec': ['sku-980016241..0980016241.catalog20001.es__MX'], 'priceStrikeOff': ['0.000000'], 'PickAtStore': ['Pick at Store'], 'No_Disponible_and_Remind_Me': ['true'], 'STR0000009999': ['VISIBLE'], 'sku.isBigItem': ['0'], 'skuDisplayName': ['iPhone 11 Apple 128 GB Negro AT&T'], 'sku.preOrderEndDate': ['04/10/2019']}}], 'numRecords': 1, 'attributes': {'sku.availableStores': ['0000006039', '0000009999'], 'sku.lastPrice': ['18924.47'], 'product.smallImage.url': ['/images/product-images/img_small/980016241s.jpg'], 'HomeDelivery': ['FX'], 'product.family': ['12 Meses sin Intereses', '3, 6 ó 9 Meses sin Intereses', 'Apple', 'Celulares', 'Celulares y Videojuegos', 'Promociones Bancarias', 'Promociones Citibanamex'], 'product.displayName': ['iPhone 11'], 'expressDeliveryEligible': ['false'], 'sku.finalPrice': ['18924.47'], 'PickupInStock': ['false'], 'sku.repositoryId': ['980016241'], 'sku.weighable': ['0'], 'sku.oosStores': ['0000006039', '0000009999'], 'product.seoURL': ['[/celulares-y-smartphones/iphone-11-apple-128-gb-negro-at-t/980016241]'], 'sku.smallImage.url': ['/images/product-images/img_small/980016241s.jpg'], 'expressDelivery': ['Express Delivery'], 'PickupEligible': ['true'], 'sku.displayName': ['iPhone 11'], 'DeliveryInStock': ['false'], 'sku.unit_of_measure': ['eaches'], 'DeliveryEligible': ['true'], 'record.type.raw': ['product', 'sku'], 'product.department': ['Celulares y Smartphones', 'Electrónica y Computación', 'Fin Irresistible', 'Meses sin Intereses'], 'record.id': ['sku-980016241..0980016241.catalog20001.es__MX'], 'expressDeliveryInStock': ['false'], 'Brand': ['Apple'], 'product.repositoryId': ['0980016241'], 'PickAtStore': ['Pick at Store'], 'PaymentPlan': ['13', '3', '6', '9'], 'product.displayText': ['iPhone 11 Apple 128 GB Negro AT&T'], 'No_Disponible_and_Remind_Me': ['true'], 'skuDisplayName': ['iPhone 11 Apple 128 GB Negro AT&T'], 'product.fineline': ['AT&T', 'Smartphones'], 'sku.preOrderEndDate': ['04/10/2019']}}]\n"
          ]
        }
      ]
    },
    {
      "cell_type": "code",
      "metadata": {
        "colab": {
          "base_uri": "https://localhost:8080/"
        },
        "id": "S_83advo4cCz",
        "outputId": "4b0d0841-011a-4339-c79d-5ff54ab18893"
      },
      "source": [
        "df = json_normalize(json.loads(soup.text)['mainArea'][10]['contents'][0]['records'])"
      ],
      "execution_count": null,
      "outputs": [
        {
          "output_type": "stream",
          "name": "stderr",
          "text": [
            "/usr/local/lib/python3.7/dist-packages/ipykernel_launcher.py:1: FutureWarning: pandas.io.json.json_normalize is deprecated, use pandas.json_normalize instead\n",
            "  \"\"\"Entry point for launching an IPython kernel.\n"
          ]
        }
      ]
    },
    {
      "cell_type": "code",
      "metadata": {
        "colab": {
          "base_uri": "https://localhost:8080/",
          "height": 479
        },
        "id": "nz8CHTxE4cNe",
        "outputId": "043b9a97-b76e-434e-8a9d-1a11e5cf26e8"
      },
      "source": [
        "df.head()"
      ],
      "execution_count": null,
      "outputs": [
        {
          "output_type": "execute_result",
          "data": {
            "text/html": [
              "<div>\n",
              "<style scoped>\n",
              "    .dataframe tbody tr th:only-of-type {\n",
              "        vertical-align: middle;\n",
              "    }\n",
              "\n",
              "    .dataframe tbody tr th {\n",
              "        vertical-align: top;\n",
              "    }\n",
              "\n",
              "    .dataframe thead th {\n",
              "        text-align: right;\n",
              "    }\n",
              "</style>\n",
              "<table border=\"1\" class=\"dataframe\">\n",
              "  <thead>\n",
              "    <tr style=\"text-align: right;\">\n",
              "      <th></th>\n",
              "      <th>records</th>\n",
              "      <th>numRecords</th>\n",
              "      <th>attributes.sku.availableStores</th>\n",
              "      <th>attributes.sku.lastPrice</th>\n",
              "      <th>attributes.product.smallImage.url</th>\n",
              "      <th>attributes.HomeDelivery</th>\n",
              "      <th>attributes.product.family</th>\n",
              "      <th>attributes.product.displayName</th>\n",
              "      <th>attributes.expressDeliveryEligible</th>\n",
              "      <th>attributes.sku.finalPrice</th>\n",
              "      <th>attributes.PickupInStock</th>\n",
              "      <th>attributes.sku.repositoryId</th>\n",
              "      <th>attributes.sku.weighable</th>\n",
              "      <th>attributes.sku.oosStores</th>\n",
              "      <th>attributes.product.seoURL</th>\n",
              "      <th>attributes.sku.smallImage.url</th>\n",
              "      <th>attributes.expressDelivery</th>\n",
              "      <th>attributes.PickupEligible</th>\n",
              "      <th>attributes.sku.displayName</th>\n",
              "      <th>attributes.DeliveryInStock</th>\n",
              "      <th>attributes.sku.unit_of_measure</th>\n",
              "      <th>attributes.DeliveryEligible</th>\n",
              "      <th>attributes.record.type.raw</th>\n",
              "      <th>attributes.product.department</th>\n",
              "      <th>attributes.record.id</th>\n",
              "      <th>attributes.expressDeliveryInStock</th>\n",
              "      <th>attributes.Brand</th>\n",
              "      <th>attributes.product.repositoryId</th>\n",
              "      <th>attributes.PickAtStore</th>\n",
              "      <th>attributes.PaymentPlan</th>\n",
              "      <th>attributes.product.displayText</th>\n",
              "      <th>attributes.skuDisplayName</th>\n",
              "      <th>attributes.product.fineline</th>\n",
              "      <th>attributes.sku.preOrderEndDate</th>\n",
              "      <th>attributes.No_Disponible_and_Remind_Me</th>\n",
              "    </tr>\n",
              "  </thead>\n",
              "  <tbody>\n",
              "    <tr>\n",
              "      <th>0</th>\n",
              "      <td>[{'records': None, 'numRecords': 0, 'attribute...</td>\n",
              "      <td>1</td>\n",
              "      <td>[0000004727, 0000004728, 0000004746, 000000479...</td>\n",
              "      <td>[12888.78]</td>\n",
              "      <td>[/images/product-images/img_small/980029842s.jpg]</td>\n",
              "      <td>[FX]</td>\n",
              "      <td>[12 Meses sin Intereses, 3, 6 ó 9 Meses sin In...</td>\n",
              "      <td>[Pantalla]</td>\n",
              "      <td>[false]</td>\n",
              "      <td>[11149.68]</td>\n",
              "      <td>[true]</td>\n",
              "      <td>[980029842]</td>\n",
              "      <td>[0]</td>\n",
              "      <td>[0000006039]</td>\n",
              "      <td>[[/pantallas/pantalla-tcl-50-pulgadas-uhd-4k-a...</td>\n",
              "      <td>[/images/product-images/img_small/980029842s.jpg]</td>\n",
              "      <td>[Express Delivery]</td>\n",
              "      <td>[true]</td>\n",
              "      <td>[Pantalla]</td>\n",
              "      <td>[true]</td>\n",
              "      <td>[eaches]</td>\n",
              "      <td>[true]</td>\n",
              "      <td>[product, sku]</td>\n",
              "      <td>[Electrónica y Computación, Meses sin Interese...</td>\n",
              "      <td>[sku-980029842..0980029842.catalog20001.es__MX]</td>\n",
              "      <td>[false]</td>\n",
              "      <td>[TCL]</td>\n",
              "      <td>[0980029842]</td>\n",
              "      <td>[Pick at Store]</td>\n",
              "      <td>[13, 3, 6, 9]</td>\n",
              "      <td>[Pantalla TCL 50 Pulgadas UHD 4K Android TV 50...</td>\n",
              "      <td>[Pantalla TCL 50 Pulgadas UHD 4K Android TV 50...</td>\n",
              "      <td>[Pantallas, Tecnologia y Electrónica]</td>\n",
              "      <td>NaN</td>\n",
              "      <td>NaN</td>\n",
              "    </tr>\n",
              "    <tr>\n",
              "      <th>1</th>\n",
              "      <td>[{'records': None, 'numRecords': 0, 'attribute...</td>\n",
              "      <td>1</td>\n",
              "      <td>[0000004728, 0000004746, 0000004790, 000000479...</td>\n",
              "      <td>[14832.48]</td>\n",
              "      <td>[/images/product-images/img_small/980029844s.jpg]</td>\n",
              "      <td>[FX]</td>\n",
              "      <td>[12 Meses sin Intereses, 3, 6 ó 9 Meses sin In...</td>\n",
              "      <td>[Pantalla]</td>\n",
              "      <td>[false]</td>\n",
              "      <td>[13195.68]</td>\n",
              "      <td>[true]</td>\n",
              "      <td>[980029844]</td>\n",
              "      <td>[0]</td>\n",
              "      <td>[0000006039]</td>\n",
              "      <td>[[/pantallas/pantalla-tcl-55-pulgadas-uhd-4k-a...</td>\n",
              "      <td>[/images/product-images/img_small/980029844s.jpg]</td>\n",
              "      <td>[Express Delivery]</td>\n",
              "      <td>[true]</td>\n",
              "      <td>[Pantalla]</td>\n",
              "      <td>[true]</td>\n",
              "      <td>[eaches]</td>\n",
              "      <td>[true]</td>\n",
              "      <td>[product, sku]</td>\n",
              "      <td>[Categorías_Exclusivas_App, Cuponera Sams, Ele...</td>\n",
              "      <td>[sku-980029844..0980029844.catalog20001.es__MX]</td>\n",
              "      <td>[false]</td>\n",
              "      <td>[TCL]</td>\n",
              "      <td>[0980029844]</td>\n",
              "      <td>[Pick at Store]</td>\n",
              "      <td>[13, 3, 6, 9]</td>\n",
              "      <td>[Pantalla TCL 55 pulgadas UHD 4K Android TV 55...</td>\n",
              "      <td>[Pantalla TCL 55 pulgadas UHD 4K Android TV 55...</td>\n",
              "      <td>[Pantallas, Tecnologia y Electrónica]</td>\n",
              "      <td>NaN</td>\n",
              "      <td>NaN</td>\n",
              "    </tr>\n",
              "    <tr>\n",
              "      <th>2</th>\n",
              "      <td>[{'records': None, 'numRecords': 0, 'attribute...</td>\n",
              "      <td>1</td>\n",
              "      <td>[0000004727, 0000004728, 0000004746, 000000479...</td>\n",
              "      <td>[3784.07]</td>\n",
              "      <td>[/images/product-images/img_small/980032078s.jpg]</td>\n",
              "      <td>[FX]</td>\n",
              "      <td>[Electrónica, Pantallas y Audio, Promociones B...</td>\n",
              "      <td>[Pantalla]</td>\n",
              "      <td>[false]</td>\n",
              "      <td>[3784.07]</td>\n",
              "      <td>[true]</td>\n",
              "      <td>[980032078]</td>\n",
              "      <td>[0]</td>\n",
              "      <td>[0000006039, 0000006236, 0000006309]</td>\n",
              "      <td>[[/pantallas/pantalla-sansui-24-pulgadas-hd-sm...</td>\n",
              "      <td>[/images/product-images/img_small/980032078s.jpg]</td>\n",
              "      <td>[Express Delivery]</td>\n",
              "      <td>[true]</td>\n",
              "      <td>[Pantalla]</td>\n",
              "      <td>[true]</td>\n",
              "      <td>[eaches]</td>\n",
              "      <td>[true]</td>\n",
              "      <td>[product, sku]</td>\n",
              "      <td>[Electrónica y Computación, Meses sin Interese...</td>\n",
              "      <td>[sku-980032078..0980032078.catalog20001.es__MX]</td>\n",
              "      <td>[false]</td>\n",
              "      <td>[Sansui]</td>\n",
              "      <td>[0980032078]</td>\n",
              "      <td>[Pick at Store]</td>\n",
              "      <td>[13, 6, 9]</td>\n",
              "      <td>[Pantalla Sansui 24 Pulgadas HD Smart TV]</td>\n",
              "      <td>[Pantalla Sansui 24 Pulgadas HD Smart TV]</td>\n",
              "      <td>[Pantallas, Tecnologia y Electrónica]</td>\n",
              "      <td>NaN</td>\n",
              "      <td>NaN</td>\n",
              "    </tr>\n",
              "    <tr>\n",
              "      <th>3</th>\n",
              "      <td>[{'records': None, 'numRecords': 0, 'attribute...</td>\n",
              "      <td>1</td>\n",
              "      <td>[0000004727, 0000004728, 0000004746, 000000479...</td>\n",
              "      <td>[18003.77]</td>\n",
              "      <td>[/images/product-images/img_small/980029446s.jpg]</td>\n",
              "      <td>[FX]</td>\n",
              "      <td>[12 Meses sin Intereses, 3, 6 ó 9 Meses sin In...</td>\n",
              "      <td>[Pantalla]</td>\n",
              "      <td>[false]</td>\n",
              "      <td>[14934.78]</td>\n",
              "      <td>[true]</td>\n",
              "      <td>[980029446]</td>\n",
              "      <td>[0]</td>\n",
              "      <td>[0000006039]</td>\n",
              "      <td>[[/pantallas/pantalla-lg-55-pulgadas-smart-tv-...</td>\n",
              "      <td>[/images/product-images/img_small/980029446s.jpg]</td>\n",
              "      <td>[Express Delivery]</td>\n",
              "      <td>[true]</td>\n",
              "      <td>[Pantalla]</td>\n",
              "      <td>[true]</td>\n",
              "      <td>[eaches]</td>\n",
              "      <td>[true]</td>\n",
              "      <td>[product, sku]</td>\n",
              "      <td>[Electrónica y Computación, LG, Meses sin Inte...</td>\n",
              "      <td>[sku-980029446..0980029446.catalog20001.es__MX]</td>\n",
              "      <td>[false]</td>\n",
              "      <td>[LG]</td>\n",
              "      <td>[0980029446]</td>\n",
              "      <td>[Pick at Store]</td>\n",
              "      <td>[13, 3, 6, 9]</td>\n",
              "      <td>[Pantalla LG 55 Pulgadas Smart TV UHD 4K AI Th...</td>\n",
              "      <td>[Pantalla LG 55 Pulgadas Smart TV UHD 4K AI Th...</td>\n",
              "      <td>[Pantallas, Tecnologia y Electrónica]</td>\n",
              "      <td>NaN</td>\n",
              "      <td>NaN</td>\n",
              "    </tr>\n",
              "    <tr>\n",
              "      <th>4</th>\n",
              "      <td>[{'records': None, 'numRecords': 0, 'attribute...</td>\n",
              "      <td>1</td>\n",
              "      <td>[0000004727, 0000004728, 0000004746, 000000479...</td>\n",
              "      <td>[15016.62]</td>\n",
              "      <td>[/images/product-images/img_small/980032080s.jpg]</td>\n",
              "      <td>[FX]</td>\n",
              "      <td>[Electrónica, Pantallas y Audio, Promociones B...</td>\n",
              "      <td>[Pantalla]</td>\n",
              "      <td>[false]</td>\n",
              "      <td>[12274.98]</td>\n",
              "      <td>[true]</td>\n",
              "      <td>[980032080]</td>\n",
              "      <td>[0]</td>\n",
              "      <td>[0000006039, 0000006308, 0000006309]</td>\n",
              "      <td>[[/pantallas/pantalla-hisense-55-pulgadas-uhd-...</td>\n",
              "      <td>[/images/product-images/img_small/980032080s.jpg]</td>\n",
              "      <td>[Express Delivery]</td>\n",
              "      <td>[true]</td>\n",
              "      <td>[Pantalla]</td>\n",
              "      <td>[true]</td>\n",
              "      <td>[eaches]</td>\n",
              "      <td>[true]</td>\n",
              "      <td>[product, sku]</td>\n",
              "      <td>[Electrónica y Computación, Meses sin Interese...</td>\n",
              "      <td>[sku-980032080..0980032080.catalog20001.es__MX]</td>\n",
              "      <td>[false]</td>\n",
              "      <td>[Hisense]</td>\n",
              "      <td>[0980032080]</td>\n",
              "      <td>[Pick at Store]</td>\n",
              "      <td>[13, 6, 9]</td>\n",
              "      <td>[Pantalla Hisense 55 Pulgadas UHD 4K Vidaa TV ...</td>\n",
              "      <td>[Pantalla Hisense 55 Pulgadas UHD 4K Vidaa TV ...</td>\n",
              "      <td>[Pantallas, Tecnologia y Electrónica]</td>\n",
              "      <td>NaN</td>\n",
              "      <td>NaN</td>\n",
              "    </tr>\n",
              "  </tbody>\n",
              "</table>\n",
              "</div>"
            ],
            "text/plain": [
              "                                             records  ...  attributes.No_Disponible_and_Remind_Me\n",
              "0  [{'records': None, 'numRecords': 0, 'attribute...  ...                                     NaN\n",
              "1  [{'records': None, 'numRecords': 0, 'attribute...  ...                                     NaN\n",
              "2  [{'records': None, 'numRecords': 0, 'attribute...  ...                                     NaN\n",
              "3  [{'records': None, 'numRecords': 0, 'attribute...  ...                                     NaN\n",
              "4  [{'records': None, 'numRecords': 0, 'attribute...  ...                                     NaN\n",
              "\n",
              "[5 rows x 35 columns]"
            ]
          },
          "metadata": {},
          "execution_count": 23
        }
      ]
    },
    {
      "cell_type": "code",
      "metadata": {
        "colab": {
          "base_uri": "https://localhost:8080/"
        },
        "id": "zF8k1bp84cXf",
        "outputId": "ba6542aa-701b-481c-e1a1-693a746d513f"
      },
      "source": [
        "df.shape"
      ],
      "execution_count": null,
      "outputs": [
        {
          "output_type": "execute_result",
          "data": {
            "text/plain": [
              "(32, 35)"
            ]
          },
          "metadata": {},
          "execution_count": 24
        }
      ]
    },
    {
      "cell_type": "code",
      "metadata": {
        "id": "MA7uJjsY4cg4"
      },
      "source": [
        ""
      ],
      "execution_count": null,
      "outputs": []
    },
    {
      "cell_type": "markdown",
      "metadata": {
        "id": "kkH0JGLpESoT"
      },
      "source": [
        "# scraping Ali express"
      ]
    },
    {
      "cell_type": "code",
      "metadata": {
        "id": "TsKkp8MBE-ow"
      },
      "source": [
        "header = {'user-agent': 'Mozilla/5.0 (X11; Linux x86_64) AppleWebKit/537.36 (KHTML, like Gecko) Chrome/94.0.4606.81 Safari/537.36'}"
      ],
      "execution_count": null,
      "outputs": []
    },
    {
      "cell_type": "code",
      "metadata": {
        "id": "POoeZ1To1jWT"
      },
      "source": [
        "html = requests.get('https://es.aliexpress.com/premium/iphone.html?trafficChannel=ppc&d=y&CatId=0&SearchText=iphone&ltype=premium&SortType=default&page=2', headers = header)"
      ],
      "execution_count": null,
      "outputs": []
    },
    {
      "cell_type": "code",
      "metadata": {
        "colab": {
          "base_uri": "https://localhost:8080/"
        },
        "id": "jQ9I4SJm1jfv",
        "outputId": "388f7b59-1233-4f21-8430-228b255767cd"
      },
      "source": [
        "html.status_code"
      ],
      "execution_count": null,
      "outputs": [
        {
          "output_type": "execute_result",
          "data": {
            "text/plain": [
              "200"
            ]
          },
          "metadata": {},
          "execution_count": 6
        }
      ]
    },
    {
      "cell_type": "code",
      "metadata": {
        "colab": {
          "base_uri": "https://localhost:8080/"
        },
        "id": "ZSLP8VJe1joB",
        "outputId": "6e35f4b0-dc94-417f-9a01-c8f936147423"
      },
      "source": [
        "cookies = html.cookies\n",
        "print(cookies)"
      ],
      "execution_count": null,
      "outputs": [
        {
          "output_type": "stream",
          "name": "stdout",
          "text": [
            "<RequestsCookieJar[<Cookie aep_usuc_f=site=esp&c_tp=EUR&region=US&b_locale=es_ES for .aliexpress.com/>, <Cookie intl_common_forever=DUFJBqsVrzgru0QpRIP1FNF2HQKIKNXWOBiBRks/ofa1BGcsBYmb5Q== for .aliexpress.com/>, <Cookie intl_locale=es_ES for .aliexpress.com/>, <Cookie xman_us_f=x_locale=es_ES&x_l=0&x_c_chg=1&x_as_i=%7B%22aeuCID%22%3A%22%22%2C%22cookieCacheEffectTime%22%3A1635223034045%2C%22isCookieCache%22%3A%22Y%22%2C%22ms%22%3A%220%22%7D&acs_rt=b53f16fad41b4ca5a90869abce10461a for .aliexpress.com/>, <Cookie JSESSIONID=BDE98D12547A6EAFA5E651237C411175 for es.aliexpress.com/>]>\n"
          ]
        }
      ]
    },
    {
      "cell_type": "code",
      "metadata": {
        "id": "fRGxtqHv1jwg"
      },
      "source": [
        "html = requests.get('https://es.aliexpress.com/premium/iphone.html?trafficChannel=ppc&d=y&CatId=0&SearchText=iphone&ltype=premium&SortType=default&page=2', headers = header, cookies = cookies)"
      ],
      "execution_count": null,
      "outputs": []
    },
    {
      "cell_type": "code",
      "metadata": {
        "id": "92JziVzn1j4s"
      },
      "source": [
        "# this does not retrive the whole info\n",
        "bsobj = soup(html.content)"
      ],
      "execution_count": null,
      "outputs": []
    },
    {
      "cell_type": "code",
      "metadata": {
        "id": "81dlUbiD1kIw"
      },
      "source": [
        "asession = AsyncHTMLSession()\n",
        "\n",
        "r = asession.get('https://es.aliexpress.com/premium/iphone.html?trafficChannel=ppc&d=y&CatId=0&SearchText=iphone&ltype=premium&SortType=default&page=2')"
      ],
      "execution_count": null,
      "outputs": []
    },
    {
      "cell_type": "code",
      "metadata": {
        "colab": {
          "base_uri": "https://localhost:8080/",
          "height": 163
        },
        "id": "r9HYBrWv_mzl",
        "outputId": "7da73dca-280e-45dd-ce95-060f9ad3b1e5"
      },
      "source": [
        "r.html.arender()"
      ],
      "execution_count": null,
      "outputs": [
        {
          "output_type": "error",
          "ename": "AttributeError",
          "evalue": "ignored",
          "traceback": [
            "\u001b[0;31m---------------------------------------------------------------------------\u001b[0m",
            "\u001b[0;31mAttributeError\u001b[0m                            Traceback (most recent call last)",
            "\u001b[0;32m<ipython-input-15-d8f681bd27f5>\u001b[0m in \u001b[0;36m<module>\u001b[0;34m()\u001b[0m\n\u001b[0;32m----> 1\u001b[0;31m \u001b[0mr\u001b[0m\u001b[0;34m.\u001b[0m\u001b[0mhtml\u001b[0m\u001b[0;34m.\u001b[0m\u001b[0marender\u001b[0m\u001b[0;34m(\u001b[0m\u001b[0;34m)\u001b[0m\u001b[0;34m\u001b[0m\u001b[0;34m\u001b[0m\u001b[0m\n\u001b[0m",
            "\u001b[0;31mAttributeError\u001b[0m: '_asyncio.Future' object has no attribute 'html'"
          ]
        }
      ]
    },
    {
      "cell_type": "code",
      "metadata": {
        "id": "EYn6u6yD_m5K"
      },
      "source": [
        "header = {'user-agent': 'Mozilla/5.0 (X11; Linux x86_64) AppleWebKit/537.36 (KHTML, like Gecko) Chrome/94.0.4606.81 Safari/537.36'}\n",
        "cookies = '<RequestsCookieJar[<Cookie aep_usuc_f=site=esp&c_tp=EUR&region=US&b_locale=es_ES for .aliexpress.com/>, <Cookie intl_common_forever=DUFJBqsVrzgru0QpRIP1FNF2HQKIKNXWOBiBRks/ofa1BGcsBYmb5Q== for .aliexpress.com/>, <Cookie intl_locale=es_ES for .aliexpress.com/>, <Cookie xman_us_f=x_locale=es_ES&x_l=0&x_c_chg=1&x_as_i=%7B%22aeuCID%22%3A%22%22%2C%22cookieCacheEffectTime%22%3A1635223034045%2C%22isCookieCache%22%3A%22Y%22%2C%22ms%22%3A%220%22%7D&acs_rt=b53f16fad41b4ca5a90869abce10461a for .aliexpress.com/>, <Cookie JSESSIONID=BDE98D12547A6EAFA5E651237C411175 for es.aliexpress.com/>]>'"
      ],
      "execution_count": null,
      "outputs": []
    },
    {
      "cell_type": "code",
      "metadata": {
        "id": "UCmbUGUZ_m_I"
      },
      "source": [
        "wd.get('https://es.aliexpress.com/premium/iphone.html?trafficChannel=ppc&d=y&CatId=0&SearchText=iphone&ltype=premium&SortType=default&page=1')\n",
        "sleep(1)"
      ],
      "execution_count": null,
      "outputs": []
    },
    {
      "cell_type": "code",
      "metadata": {
        "id": "DQ_iugLcAtQQ"
      },
      "source": [
        ""
      ],
      "execution_count": null,
      "outputs": []
    },
    {
      "cell_type": "code",
      "metadata": {
        "id": "0YRUn4xY468B"
      },
      "source": [
        "header = {'user-agent': 'Mozilla/5.0 (X11; Linux x86_64) AppleWebKit/537.36 (KHTML, like Gecko) Chrome/94.0.4606.81 Safari/537.36'}\n",
        "cookies = '<RequestsCookieJar[<Cookie aep_usuc_f=site=esp&c_tp=EUR&region=US&b_locale=es_ES for .aliexpress.com/>, <Cookie intl_common_forever=DUFJBqsVrzgru0QpRIP1FNF2HQKIKNXWOBiBRks/ofa1BGcsBYmb5Q== for .aliexpress.com/>, <Cookie intl_locale=es_ES for .aliexpress.com/>, <Cookie xman_us_f=x_locale=es_ES&x_l=0&x_c_chg=1&x_as_i=%7B%22aeuCID%22%3A%22%22%2C%22cookieCacheEffectTime%22%3A1635223034045%2C%22isCookieCache%22%3A%22Y%22%2C%22ms%22%3A%220%22%7D&acs_rt=b53f16fad41b4ca5a90869abce10461a for .aliexpress.com/>, <Cookie JSESSIONID=BDE98D12547A6EAFA5E651237C411175 for es.aliexpress.com/>]>'\n",
        "myUrl = 'https://es.aliexpress.com/wholesale?catId=0&initiative_id=SB_20211030184223&SearchText=iphone+11'"
      ],
      "execution_count": null,
      "outputs": []
    },
    {
      "cell_type": "code",
      "metadata": {
        "colab": {
          "base_uri": "https://localhost:8080/"
        },
        "id": "BuD9gdPhYgzW",
        "outputId": "eddd9e14-b6ab-4f51-cb31-351e99416353"
      },
      "source": [
        "#Ali express data frame\n",
        "df_aliexpress = pd.DataFrame(columns = ['description', 'price', 'link', 'sold', 'store','shipping'])\n",
        "\n",
        "\n",
        "for page_nb in range(1, 3):\n",
        "\n",
        "    wd.get(myUrl + '&ltype=wholesale&SortType=default&page={}'.format(page_nb))\n",
        "\n",
        "    # scroll down page slowly to wait for hidden products to show\n",
        "    start_time = time.time()\n",
        "    wd.execute_script(\"window.scrollTo(0, document.body.scrollHeight);\")\n",
        "    time.sleep(3)\n",
        "    seconds = 5\n",
        "\n",
        "    while True:\n",
        "        current_time = time.time()\n",
        "        elapsed_time = current_time - start_time\n",
        "\n",
        "        wd.find_element_by_tag_name('body').send_keys(Keys.PAGE_DOWN)\n",
        "        time.sleep(2)\n",
        "\n",
        "        if elapsed_time > seconds:\n",
        "            break\n",
        "\n",
        "    # get html content\n",
        "    tree = html.fromstring(wd.page_source)\n",
        "    \n",
        "    title = tree.xpath('//div[@class=\"JIIxO\"]//h1[@class=\"_18_85\"]/text()')\n",
        "    price = re.findall('[^€]+€', ''.join(tree.xpath('//div[@class=\"JIIxO\"]//div[@class=\"mGXnE _37W_B\"]//span/text()')))\n",
        "    link = [('https://es.aliexpress.com' + i) for i in tree.xpath('//div[@class=\"JIIxO\"]//a[@class=\"_2f4Ho _3t7zg\"]/@href')]\n",
        "    sold = tree.xpath('//div[@class=\"JIIxO\"]//span[@class=\"_1kNf9\"]/text()')\n",
        "    store = [('https:' + i) for i in tree.xpath('//div[@class=\"JIIxO\"]//a[@role=\"store\"]/@href')]\n",
        "    shipping = tree.xpath('//div[@class=\"JIIxO\"]//span[@class=\"_2jcMA\"]/text()')\n",
        "\n",
        "    products = list(zip(title, price, link, sold, store, shipping))\n",
        "\n",
        "    df_aliexpress = df_aliexpress.append(products, ignore_index = True)\n",
        "\n",
        "    #print(len(tree.xpath('//div[@class=\"JIIxO\"]//h1[@class=\"_18_85\"]')))"
      ],
      "execution_count": null,
      "outputs": [
        {
          "output_type": "stream",
          "name": "stderr",
          "text": [
            "/usr/local/lib/python3.7/dist-packages/ipykernel_launcher.py:19: DeprecationWarning: find_element_by_* commands are deprecated. Please use find_element() instead\n"
          ]
        }
      ]
    },
    {
      "cell_type": "code",
      "metadata": {
        "colab": {
          "base_uri": "https://localhost:8080/",
          "height": 1000
        },
        "id": "-rYuWy1Wk74m",
        "outputId": "7bf6e5ba-1aa0-4024-8ba7-4eb511094540"
      },
      "source": [
        "df_aliexpress"
      ],
      "execution_count": null,
      "outputs": [
        {
          "output_type": "execute_result",
          "data": {
            "text/html": [
              "<div>\n",
              "<style scoped>\n",
              "    .dataframe tbody tr th:only-of-type {\n",
              "        vertical-align: middle;\n",
              "    }\n",
              "\n",
              "    .dataframe tbody tr th {\n",
              "        vertical-align: top;\n",
              "    }\n",
              "\n",
              "    .dataframe thead th {\n",
              "        text-align: right;\n",
              "    }\n",
              "</style>\n",
              "<table border=\"1\" class=\"dataframe\">\n",
              "  <thead>\n",
              "    <tr style=\"text-align: right;\">\n",
              "      <th></th>\n",
              "      <th>0</th>\n",
              "      <th>1</th>\n",
              "      <th>2</th>\n",
              "      <th>3</th>\n",
              "      <th>4</th>\n",
              "      <th>5</th>\n",
              "      <th>description</th>\n",
              "      <th>link</th>\n",
              "      <th>price</th>\n",
              "      <th>shipping</th>\n",
              "      <th>sold</th>\n",
              "      <th>store</th>\n",
              "    </tr>\n",
              "  </thead>\n",
              "  <tbody>\n",
              "    <tr>\n",
              "      <th>0</th>\n",
              "      <td>Apple-teléfono móvil iPhone 11 Original, smart...</td>\n",
              "      <td>428.53€</td>\n",
              "      <td>https://es.aliexpress.com/item/100500332370564...</td>\n",
              "      <td>74 vendido(s)</td>\n",
              "      <td>https://es.aliexpress.com/store/5324008</td>\n",
              "      <td>Envío gratis</td>\n",
              "      <td>NaN</td>\n",
              "      <td>NaN</td>\n",
              "      <td>NaN</td>\n",
              "      <td>NaN</td>\n",
              "      <td>NaN</td>\n",
              "      <td>NaN</td>\n",
              "    </tr>\n",
              "    <tr>\n",
              "      <th>1</th>\n",
              "      <td>Apple-teléfono inteligente iPhone 11 Original ...</td>\n",
              "      <td>448.87€</td>\n",
              "      <td>https://es.aliexpress.com/item/100500151912939...</td>\n",
              "      <td>43 vendido(s)</td>\n",
              "      <td>https://es.aliexpress.com/store/1110648</td>\n",
              "      <td>+ envío: € 92,28</td>\n",
              "      <td>NaN</td>\n",
              "      <td>NaN</td>\n",
              "      <td>NaN</td>\n",
              "      <td>NaN</td>\n",
              "      <td>NaN</td>\n",
              "      <td>NaN</td>\n",
              "    </tr>\n",
              "    <tr>\n",
              "      <th>2</th>\n",
              "      <td>Apple-teléfono inteligente iPhone 11 Pro, Orig...</td>\n",
              "      <td>575.82€</td>\n",
              "      <td>https://es.aliexpress.com/item/100500245355153...</td>\n",
              "      <td>75 vendido(s)</td>\n",
              "      <td>https://es.aliexpress.com/store/5324008</td>\n",
              "      <td>Envío gratis</td>\n",
              "      <td>NaN</td>\n",
              "      <td>NaN</td>\n",
              "      <td>NaN</td>\n",
              "      <td>NaN</td>\n",
              "      <td>NaN</td>\n",
              "      <td>NaN</td>\n",
              "    </tr>\n",
              "    <tr>\n",
              "      <th>3</th>\n",
              "      <td>Apple-Smartphone iPhone 11 pro desbloqueado, t...</td>\n",
              "      <td>575.44€</td>\n",
              "      <td>https://es.aliexpress.com/item/100500266456325...</td>\n",
              "      <td>87 vendido(s)</td>\n",
              "      <td>https://es.aliexpress.com/store/911615234</td>\n",
              "      <td>+ envío: € 13,84</td>\n",
              "      <td>NaN</td>\n",
              "      <td>NaN</td>\n",
              "      <td>NaN</td>\n",
              "      <td>NaN</td>\n",
              "      <td>NaN</td>\n",
              "      <td>NaN</td>\n",
              "    </tr>\n",
              "    <tr>\n",
              "      <th>4</th>\n",
              "      <td>Apple-teléfono inteligente iPhone 11 desbloque...</td>\n",
              "      <td>437.47€</td>\n",
              "      <td>https://es.aliexpress.com/item/100500340290627...</td>\n",
              "      <td>18 vendido(s)</td>\n",
              "      <td>https://es.aliexpress.com/store/1110648</td>\n",
              "      <td>+ envío: € 92,28</td>\n",
              "      <td>NaN</td>\n",
              "      <td>NaN</td>\n",
              "      <td>NaN</td>\n",
              "      <td>NaN</td>\n",
              "      <td>NaN</td>\n",
              "      <td>NaN</td>\n",
              "    </tr>\n",
              "    <tr>\n",
              "      <th>5</th>\n",
              "      <td>Apple-teléfono inteligente iPhone 11 pro max, ...</td>\n",
              "      <td>666.15€</td>\n",
              "      <td>https://es.aliexpress.com/item/100500305711728...</td>\n",
              "      <td>53 vendido(s)</td>\n",
              "      <td>https://es.aliexpress.com/store/911615234</td>\n",
              "      <td>+ envío: € 13,84</td>\n",
              "      <td>NaN</td>\n",
              "      <td>NaN</td>\n",
              "      <td>NaN</td>\n",
              "      <td>NaN</td>\n",
              "      <td>NaN</td>\n",
              "      <td>NaN</td>\n",
              "    </tr>\n",
              "    <tr>\n",
              "      <th>6</th>\n",
              "      <td>Apple-teléfono inteligente iPhone 11 4G LTE, O...</td>\n",
              "      <td>417.31€</td>\n",
              "      <td>https://es.aliexpress.com/item/100500294000979...</td>\n",
              "      <td>25 vendido(s)</td>\n",
              "      <td>https://es.aliexpress.com/store/709663</td>\n",
              "      <td>+ envío: € 46,14</td>\n",
              "      <td>NaN</td>\n",
              "      <td>NaN</td>\n",
              "      <td>NaN</td>\n",
              "      <td>NaN</td>\n",
              "      <td>NaN</td>\n",
              "      <td>NaN</td>\n",
              "    </tr>\n",
              "    <tr>\n",
              "      <th>7</th>\n",
              "      <td>Apple-teléfono inteligente iPhone 11, Original...</td>\n",
              "      <td>459.72€</td>\n",
              "      <td>https://es.aliexpress.com/item/100500261641230...</td>\n",
              "      <td>69 vendido(s)</td>\n",
              "      <td>https://es.aliexpress.com/store/911615234</td>\n",
              "      <td>+ envío: € 13,84</td>\n",
              "      <td>NaN</td>\n",
              "      <td>NaN</td>\n",
              "      <td>NaN</td>\n",
              "      <td>NaN</td>\n",
              "      <td>NaN</td>\n",
              "      <td>NaN</td>\n",
              "    </tr>\n",
              "    <tr>\n",
              "      <th>8</th>\n",
              "      <td>Apple-teléfono inteligente iPhone 11 Pro Max, ...</td>\n",
              "      <td>666.11€</td>\n",
              "      <td>https://es.aliexpress.com/item/100500319950705...</td>\n",
              "      <td>52 vendido(s)</td>\n",
              "      <td>https://es.aliexpress.com/store/911614417</td>\n",
              "      <td>Envío gratis</td>\n",
              "      <td>NaN</td>\n",
              "      <td>NaN</td>\n",
              "      <td>NaN</td>\n",
              "      <td>NaN</td>\n",
              "      <td>NaN</td>\n",
              "      <td>NaN</td>\n",
              "    </tr>\n",
              "    <tr>\n",
              "      <th>9</th>\n",
              "      <td>Apple-teléfono inteligente iPhone 11 desbloque...</td>\n",
              "      <td>482.18€</td>\n",
              "      <td>https://es.aliexpress.com/item/100500263723176...</td>\n",
              "      <td>46 vendido(s)</td>\n",
              "      <td>https://es.aliexpress.com/store/1053035</td>\n",
              "      <td>Envío gratis</td>\n",
              "      <td>NaN</td>\n",
              "      <td>NaN</td>\n",
              "      <td>NaN</td>\n",
              "      <td>NaN</td>\n",
              "      <td>NaN</td>\n",
              "      <td>NaN</td>\n",
              "    </tr>\n",
              "    <tr>\n",
              "      <th>10</th>\n",
              "      <td>Protector de cristal templado para iPhone, pro...</td>\n",
              "      <td>0.01€</td>\n",
              "      <td>https://es.aliexpress.com/item/100500188777321...</td>\n",
              "      <td>28590 vendido(s)</td>\n",
              "      <td>https://es.aliexpress.com/store/4983057</td>\n",
              "      <td>Envío gratis</td>\n",
              "      <td>NaN</td>\n",
              "      <td>NaN</td>\n",
              "      <td>NaN</td>\n",
              "      <td>NaN</td>\n",
              "      <td>NaN</td>\n",
              "      <td>NaN</td>\n",
              "    </tr>\n",
              "    <tr>\n",
              "      <th>11</th>\n",
              "      <td>Protectores de pantalla de privacidad para IPh...</td>\n",
              "      <td>1.39€</td>\n",
              "      <td>https://es.aliexpress.com/item/100500231816893...</td>\n",
              "      <td>27803 vendido(s)</td>\n",
              "      <td>https://es.aliexpress.com/store/5793913</td>\n",
              "      <td>Envío gratis</td>\n",
              "      <td>NaN</td>\n",
              "      <td>NaN</td>\n",
              "      <td>NaN</td>\n",
              "      <td>NaN</td>\n",
              "      <td>NaN</td>\n",
              "      <td>NaN</td>\n",
              "    </tr>\n",
              "    <tr>\n",
              "      <th>12</th>\n",
              "      <td>Cargador Usb tipo C de 20W, adaptador de carga...</td>\n",
              "      <td>3.13€</td>\n",
              "      <td>https://es.aliexpress.com/item/100500219859381...</td>\n",
              "      <td>10868 vendido(s)</td>\n",
              "      <td>https://es.aliexpress.com/store/3658053</td>\n",
              "      <td>Envío gratis</td>\n",
              "      <td>NaN</td>\n",
              "      <td>NaN</td>\n",
              "      <td>NaN</td>\n",
              "      <td>NaN</td>\n",
              "      <td>NaN</td>\n",
              "      <td>NaN</td>\n",
              "    </tr>\n",
              "    <tr>\n",
              "      <th>0</th>\n",
              "      <td>Cargador USB tipo C PD de 20W, adaptador de la...</td>\n",
              "      <td>3.24€</td>\n",
              "      <td>https://es.aliexpress.com/item/100500251840833...</td>\n",
              "      <td>4268 vendido(s)</td>\n",
              "      <td>https://es.aliexpress.com/store/3658053</td>\n",
              "      <td>Envío gratis</td>\n",
              "      <td>NaN</td>\n",
              "      <td>NaN</td>\n",
              "      <td>NaN</td>\n",
              "      <td>NaN</td>\n",
              "      <td>NaN</td>\n",
              "      <td>NaN</td>\n",
              "    </tr>\n",
              "    <tr>\n",
              "      <th>1</th>\n",
              "      <td>4PCS funda de protección completa de vidrio pa...</td>\n",
              "      <td>0.01€</td>\n",
              "      <td>https://es.aliexpress.com/item/100500325180211...</td>\n",
              "      <td>10442 vendido(s)</td>\n",
              "      <td>https://es.aliexpress.com/store/5382275</td>\n",
              "      <td>Envío gratis</td>\n",
              "      <td>NaN</td>\n",
              "      <td>NaN</td>\n",
              "      <td>NaN</td>\n",
              "      <td>NaN</td>\n",
              "      <td>NaN</td>\n",
              "      <td>NaN</td>\n",
              "    </tr>\n",
              "    <tr>\n",
              "      <th>2</th>\n",
              "      <td>Película de hidrogel de cobertura completa par...</td>\n",
              "      <td>1.22€</td>\n",
              "      <td>https://es.aliexpress.com/item/100500170541557...</td>\n",
              "      <td>31474 vendido(s)</td>\n",
              "      <td>https://es.aliexpress.com/store/2882257</td>\n",
              "      <td>Envío gratis</td>\n",
              "      <td>NaN</td>\n",
              "      <td>NaN</td>\n",
              "      <td>NaN</td>\n",
              "      <td>NaN</td>\n",
              "      <td>NaN</td>\n",
              "      <td>NaN</td>\n",
              "    </tr>\n",
              "    <tr>\n",
              "      <th>3</th>\n",
              "      <td>Funda transparente ultrafina para iPhone, carc...</td>\n",
              "      <td>0.01€</td>\n",
              "      <td>https://es.aliexpress.com/item/100500300462809...</td>\n",
              "      <td>17243 vendido(s)</td>\n",
              "      <td>https://es.aliexpress.com/store/5382275</td>\n",
              "      <td>Envío gratis</td>\n",
              "      <td>NaN</td>\n",
              "      <td>NaN</td>\n",
              "      <td>NaN</td>\n",
              "      <td>NaN</td>\n",
              "      <td>NaN</td>\n",
              "      <td>NaN</td>\n",
              "    </tr>\n",
              "    <tr>\n",
              "      <th>4</th>\n",
              "      <td>Funda de silicona transparente para iPhone, ca...</td>\n",
              "      <td>0.01€</td>\n",
              "      <td>https://es.aliexpress.com/item/100500206968666...</td>\n",
              "      <td>21301 vendido(s)</td>\n",
              "      <td>https://es.aliexpress.com/store/706855</td>\n",
              "      <td>Envío gratis</td>\n",
              "      <td>NaN</td>\n",
              "      <td>NaN</td>\n",
              "      <td>NaN</td>\n",
              "      <td>NaN</td>\n",
              "      <td>NaN</td>\n",
              "      <td>NaN</td>\n",
              "    </tr>\n",
              "    <tr>\n",
              "      <th>5</th>\n",
              "      <td>Original Apple PD 20W USB tipo C cargador adap...</td>\n",
              "      <td>0.01€</td>\n",
              "      <td>https://es.aliexpress.com/item/100500258770996...</td>\n",
              "      <td>7144 vendido(s)</td>\n",
              "      <td>https://es.aliexpress.com/store/911885395</td>\n",
              "      <td>+ envío: € 0,20</td>\n",
              "      <td>NaN</td>\n",
              "      <td>NaN</td>\n",
              "      <td>NaN</td>\n",
              "      <td>NaN</td>\n",
              "      <td>NaN</td>\n",
              "      <td>NaN</td>\n",
              "    </tr>\n",
              "    <tr>\n",
              "      <th>6</th>\n",
              "      <td>PZOZ Cable Usb para cable de iphone 11 12 13 p...</td>\n",
              "      <td>0.01€</td>\n",
              "      <td>https://es.aliexpress.com/item/32632635156.htm...</td>\n",
              "      <td>66486 vendido(s)</td>\n",
              "      <td>https://es.aliexpress.com/store/627935</td>\n",
              "      <td>Envío gratis</td>\n",
              "      <td>NaN</td>\n",
              "      <td>NaN</td>\n",
              "      <td>NaN</td>\n",
              "      <td>NaN</td>\n",
              "      <td>NaN</td>\n",
              "      <td>NaN</td>\n",
              "    </tr>\n",
              "    <tr>\n",
              "      <th>7</th>\n",
              "      <td>Cable cargador USB de carga rápida 3A para iPh...</td>\n",
              "      <td>0.01€</td>\n",
              "      <td>https://es.aliexpress.com/item/100500205473336...</td>\n",
              "      <td>26669 vendido(s)</td>\n",
              "      <td>https://es.aliexpress.com/store/2336295</td>\n",
              "      <td>Envío gratis</td>\n",
              "      <td>NaN</td>\n",
              "      <td>NaN</td>\n",
              "      <td>NaN</td>\n",
              "      <td>NaN</td>\n",
              "      <td>NaN</td>\n",
              "      <td>NaN</td>\n",
              "    </tr>\n",
              "    <tr>\n",
              "      <th>8</th>\n",
              "      <td>Funda de silicona transparente a prueba de gol...</td>\n",
              "      <td>0.78€</td>\n",
              "      <td>https://es.aliexpress.com/item/100500168178281...</td>\n",
              "      <td>33285 vendido(s)</td>\n",
              "      <td>https://es.aliexpress.com/store/4389046</td>\n",
              "      <td>Envío gratis</td>\n",
              "      <td>NaN</td>\n",
              "      <td>NaN</td>\n",
              "      <td>NaN</td>\n",
              "      <td>NaN</td>\n",
              "      <td>NaN</td>\n",
              "      <td>NaN</td>\n",
              "    </tr>\n",
              "    <tr>\n",
              "      <th>9</th>\n",
              "      <td>Funda de silicona Original oficial para iPhone...</td>\n",
              "      <td>3.16€</td>\n",
              "      <td>https://es.aliexpress.com/item/100500341197722...</td>\n",
              "      <td>1386 vendido(s)</td>\n",
              "      <td>https://es.aliexpress.com/store/5044342</td>\n",
              "      <td>Envío gratis</td>\n",
              "      <td>NaN</td>\n",
              "      <td>NaN</td>\n",
              "      <td>NaN</td>\n",
              "      <td>NaN</td>\n",
              "      <td>NaN</td>\n",
              "      <td>NaN</td>\n",
              "    </tr>\n",
              "    <tr>\n",
              "      <th>10</th>\n",
              "      <td>Funda de silicona Original oficial para iPhone...</td>\n",
              "      <td>0.01€</td>\n",
              "      <td>https://es.aliexpress.com/item/100500326822905...</td>\n",
              "      <td>743 vendido(s)</td>\n",
              "      <td>https://es.aliexpress.com/store/911389034</td>\n",
              "      <td>Envío gratis</td>\n",
              "      <td>NaN</td>\n",
              "      <td>NaN</td>\n",
              "      <td>NaN</td>\n",
              "      <td>NaN</td>\n",
              "      <td>NaN</td>\n",
              "      <td>NaN</td>\n",
              "    </tr>\n",
              "    <tr>\n",
              "      <th>11</th>\n",
              "      <td>Funda líquida Original con logotipo oficial pa...</td>\n",
              "      <td>0.01€</td>\n",
              "      <td>https://es.aliexpress.com/item/100500282756185...</td>\n",
              "      <td>27257 vendido(s)</td>\n",
              "      <td>https://es.aliexpress.com/store/910352130</td>\n",
              "      <td>Envío gratis</td>\n",
              "      <td>NaN</td>\n",
              "      <td>NaN</td>\n",
              "      <td>NaN</td>\n",
              "      <td>NaN</td>\n",
              "      <td>NaN</td>\n",
              "      <td>NaN</td>\n",
              "    </tr>\n",
              "    <tr>\n",
              "      <th>12</th>\n",
              "      <td>Protector de pantalla de vidrio templado para ...</td>\n",
              "      <td>0.01€</td>\n",
              "      <td>https://es.aliexpress.com/item/100500225683884...</td>\n",
              "      <td>10502 vendido(s)</td>\n",
              "      <td>https://es.aliexpress.com/store/911645017</td>\n",
              "      <td>Envío gratis</td>\n",
              "      <td>NaN</td>\n",
              "      <td>NaN</td>\n",
              "      <td>NaN</td>\n",
              "      <td>NaN</td>\n",
              "      <td>NaN</td>\n",
              "      <td>NaN</td>\n",
              "    </tr>\n",
              "  </tbody>\n",
              "</table>\n",
              "</div>"
            ],
            "text/plain": [
              "                                                    0        1  ... sold store\n",
              "0   Apple-teléfono móvil iPhone 11 Original, smart...  428.53€  ...  NaN   NaN\n",
              "1   Apple-teléfono inteligente iPhone 11 Original ...  448.87€  ...  NaN   NaN\n",
              "2   Apple-teléfono inteligente iPhone 11 Pro, Orig...  575.82€  ...  NaN   NaN\n",
              "3   Apple-Smartphone iPhone 11 pro desbloqueado, t...  575.44€  ...  NaN   NaN\n",
              "4   Apple-teléfono inteligente iPhone 11 desbloque...  437.47€  ...  NaN   NaN\n",
              "5   Apple-teléfono inteligente iPhone 11 pro max, ...  666.15€  ...  NaN   NaN\n",
              "6   Apple-teléfono inteligente iPhone 11 4G LTE, O...  417.31€  ...  NaN   NaN\n",
              "7   Apple-teléfono inteligente iPhone 11, Original...  459.72€  ...  NaN   NaN\n",
              "8   Apple-teléfono inteligente iPhone 11 Pro Max, ...  666.11€  ...  NaN   NaN\n",
              "9   Apple-teléfono inteligente iPhone 11 desbloque...  482.18€  ...  NaN   NaN\n",
              "10  Protector de cristal templado para iPhone, pro...    0.01€  ...  NaN   NaN\n",
              "11  Protectores de pantalla de privacidad para IPh...    1.39€  ...  NaN   NaN\n",
              "12  Cargador Usb tipo C de 20W, adaptador de carga...    3.13€  ...  NaN   NaN\n",
              "0   Cargador USB tipo C PD de 20W, adaptador de la...    3.24€  ...  NaN   NaN\n",
              "1   4PCS funda de protección completa de vidrio pa...    0.01€  ...  NaN   NaN\n",
              "2   Película de hidrogel de cobertura completa par...    1.22€  ...  NaN   NaN\n",
              "3   Funda transparente ultrafina para iPhone, carc...    0.01€  ...  NaN   NaN\n",
              "4   Funda de silicona transparente para iPhone, ca...    0.01€  ...  NaN   NaN\n",
              "5   Original Apple PD 20W USB tipo C cargador adap...    0.01€  ...  NaN   NaN\n",
              "6   PZOZ Cable Usb para cable de iphone 11 12 13 p...    0.01€  ...  NaN   NaN\n",
              "7   Cable cargador USB de carga rápida 3A para iPh...    0.01€  ...  NaN   NaN\n",
              "8   Funda de silicona transparente a prueba de gol...    0.78€  ...  NaN   NaN\n",
              "9   Funda de silicona Original oficial para iPhone...    3.16€  ...  NaN   NaN\n",
              "10  Funda de silicona Original oficial para iPhone...    0.01€  ...  NaN   NaN\n",
              "11  Funda líquida Original con logotipo oficial pa...    0.01€  ...  NaN   NaN\n",
              "12  Protector de pantalla de vidrio templado para ...    0.01€  ...  NaN   NaN\n",
              "\n",
              "[26 rows x 12 columns]"
            ]
          },
          "metadata": {},
          "execution_count": 37
        }
      ]
    },
    {
      "cell_type": "code",
      "metadata": {
        "id": "T0l_DJpkk8DU"
      },
      "source": [
        ""
      ],
      "execution_count": null,
      "outputs": []
    },
    {
      "cell_type": "code",
      "metadata": {
        "id": "l-XMKL_gk9VA"
      },
      "source": [
        ""
      ],
      "execution_count": null,
      "outputs": []
    },
    {
      "cell_type": "code",
      "metadata": {
        "id": "ofdw21AJk9fa"
      },
      "source": [
        ""
      ],
      "execution_count": null,
      "outputs": []
    },
    {
      "cell_type": "code",
      "metadata": {
        "colab": {
          "base_uri": "https://localhost:8080/"
        },
        "id": "aYMUSm55Yg4c",
        "outputId": "29fbeb4d-859c-4600-bf17-c5322991a8c2"
      },
      "source": [
        "#print((''.join(tree.xpath('//div[@class=\"JIIxO\"]//div[@class=\"mGXnE _37W_B\"]//span/text()'))).split('€'))\n",
        "print(re.findall('[^€]+€', ''.join(tree.xpath('//div[@class=\"JIIxO\"]//div[@class=\"mGXnE _37W_B\"]//span/text()'))))"
      ],
      "execution_count": null,
      "outputs": [
        {
          "output_type": "stream",
          "name": "stdout",
          "text": [
            "['428.53€', '448.87€', '575.44€', '437.47€', '666.15€', '459.72€', '482.18€', '592.65€', '553.72€', '575.54€', '1.39€', '1.22€', '7.53€']\n"
          ]
        }
      ]
    },
    {
      "cell_type": "code",
      "metadata": {
        "id": "fsEejcuHYg9N",
        "colab": {
          "base_uri": "https://localhost:8080/"
        },
        "outputId": "3c0705c5-bd2b-449c-cda7-7a857e4e5236"
      },
      "source": [
        "print(tree.xpath('//div[@class=\"JIIxO\"]//span[@class=\"_1kNf9\"]/text()'))"
      ],
      "execution_count": null,
      "outputs": [
        {
          "output_type": "stream",
          "name": "stdout",
          "text": [
            "['74 vendido(s)', '43 vendido(s)', '87 vendido(s)', '18 vendido(s)', '53 vendido(s)', '69 vendido(s)', '46 vendido(s)', '30 vendido(s)', '1 vendido(s)', '13 vendido(s)', '27803 vendido(s)', '31474 vendido(s)', '48 vendido(s)', '8357 vendido(s)']\n"
          ]
        }
      ]
    },
    {
      "cell_type": "code",
      "metadata": {
        "id": "JDMfwLNoYhCI",
        "colab": {
          "base_uri": "https://localhost:8080/"
        },
        "outputId": "8b744dec-3302-4abd-e30c-53eaa82a45e6"
      },
      "source": [
        "print(tree.xpath('//div[@class=\"JIIxO\"]//span[@class=\"_2jcMA\"]/text()'))"
      ],
      "execution_count": null,
      "outputs": [
        {
          "output_type": "stream",
          "name": "stdout",
          "text": [
            "['Envío gratis', 'Envío gratis', '+ envío: € 92,28', '+ envío: € 13,84', '+ envío: € 13,84', 'Envío gratis', '+ envío: € 92,28', '+ envío: € 13,84', '+ envío: € 46,14', '+ envío: € 46,14', 'Envío gratis', 'Envío gratis', 'Envío gratis', 'Envío gratis']\n"
          ]
        }
      ]
    },
    {
      "cell_type": "code",
      "metadata": {
        "id": "H6i9My4VYNsm"
      },
      "source": [
        ""
      ],
      "execution_count": null,
      "outputs": []
    },
    {
      "cell_type": "code",
      "metadata": {
        "id": "X_fioyOIYOgN"
      },
      "source": [
        ""
      ],
      "execution_count": null,
      "outputs": []
    },
    {
      "cell_type": "code",
      "metadata": {
        "id": "HaHAWBfyYOnj"
      },
      "source": [
        ""
      ],
      "execution_count": null,
      "outputs": []
    },
    {
      "cell_type": "code",
      "metadata": {
        "id": "YsqaT457tzqJ"
      },
      "source": [
        "'''\n",
        "https://www.amazon.com.mx/Crawler-Control-Electric-Waterproof-Included/dp/B087NXVYF2/ref=pd_day0_2/146-0449573-7191119?pd_rd_w=5jHPH&pf_rd_p=1c8f9346-a87e-48c7-994a-82c93e96af91&pf_rd_r=76AYTQ5FQTV6VCEBHE6A&pd_rd_r=3fdccf3c-3e6a-44ad-b4a6-b96105683dec&pd_rd_wg=HNu3a&pd_rd_i=B087NXVYF2&psc=1\n",
        "https://github.com/NVIDIA-AI-IOT/jetracer#cars\n",
        "https://gsurma.medium.com/jetson-self-driving-toy-car-part-1-4341c139c0f2\n",
        "https://es.aliexpress.com/w/wholesale-jetson-nano-donkey-car.html\n",
        "https://www.amazon.com/-/es/Yahboom-codificaci%C3%B3n-autom%C3%A1tico-seguimiento-reconocimiento/dp/B07ZYJYGZ5/ref=sr_1_29?__mk_es_US=%C3%85M%C3%85%C5%BD%C3%95%C3%91&crid=16RZNYMCX3SK&dchild=1&keywords=donkey+car&qid=1635478468&sprefix=donkey+ca%2Caps%2C294&sr=8-29\n",
        "https://www.amazon.com.mx/s?k=JetRacer+AI+Kit&ref=nb_sb_noss\n",
        "\n",
        "'''"
      ],
      "execution_count": null,
      "outputs": []
    },
    {
      "cell_type": "markdown",
      "metadata": {
        "id": "wKhpSpyOwkSG"
      },
      "source": [
        "# scrapping copel"
      ]
    },
    {
      "cell_type": "code",
      "metadata": {
        "id": "A4RBq_TVwjVa"
      },
      "source": [
        "#url = 'https://www.coppel.com/SearchDisplay?categoryId=&storeId=10151&catalogId=10051&langId=-5&sType=SimpleSearch&resultCatEntryType=2&showResultsPage=true&searchSource=Q&pageView=&pageGroup=Search&beginIndex=0&pageSize=12&searchTerm=iphone+13&authToken=-1002%252CJdh5JVzqovGDGuZIS9A0yAc11LCiDPi1CWNOoTX%252B9xo%253D'\n",
        "#url = 'https://www.coppel.com/SearchDisplay?sType=SimpleSearch&ddkey=ProductListingView_6_-3011_1208&fromPage=catalogEntryList&searchTerm=iphone+13&urlRequestType=Base&catalogId=10051&resultType=products&disableProductCompare=false&showResultsPage=true&beginIndex=12&resultCatEntryType=2&langId=-5&enableSKUListView=false&pageSize=12&ajaxStoreImageDir=%2Fwcsstore%2FCoppelStoreFrontAssetStore%2F&storeId=10151'\n",
        "#url = 'https://www.coppel.com/SearchDisplay?sType=SimpleSearch&ddkey=ProductListingView_6_-3011_1208&fromPage=catalogEntryList&searchTerm=iphone+13&urlRequestType=Base&catalogId=10051&resultType=products&disableProductCompare=false&showResultsPage=true&beginIndex=24&resultCatEntryType=2&langId=-5&enableSKUListView=false&pageSize=12&ajaxStoreImageDir=%2Fwcsstore%2FCoppelStoreFrontAssetStore%2F&storeId=10151'"
      ],
      "execution_count": null,
      "outputs": []
    },
    {
      "cell_type": "code",
      "metadata": {
        "id": "xf4l_QBzwtBq"
      },
      "source": [
        "# Example page 1 index 01\n",
        "url = 'https://www.coppel.com/SearchDisplay?sType=SimpleSearch&ddkey=ProductListingView_6_-3011_1208&fromPage=catalogEntryList&searchTerm=iphone+13&urlRequestType=Base&catalogId=10051&resultType=products&disableProductCompare=false&showResultsPage=true&beginIndex=01&resultCatEntryType=2&langId=-5&enableSKUListView=false&pageSize=1&ajaxStoreImageDir=%2Fwcsstore%2FCoppelStoreFrontAssetStore%2F&storeId=10151'"
      ],
      "execution_count": null,
      "outputs": []
    },
    {
      "cell_type": "code",
      "metadata": {
        "id": "-ffUnzf4ws-o"
      },
      "source": [
        "def get_url(search_term):\n",
        "  \"\"\"Genetare the Url from search term\"\"\"\n",
        "  template = \"https://www.coppel.com/SearchDisplay?sType=SimpleSearch&ddkey=ProductListingView_6_-3011_1208&fromPage=catalogEntryList&searchTerm=i{}&urlRequestType=Base&catalogId=10051&resultType=products&disableProductCompare=false&showResultsPage=true&beginIndex=01&resultCatEntryType=2&langId=-5&enableSKUListView=false&pageSize=1&ajaxStoreImageDir=%2Fwcsstore%2FCoppelStoreFrontAssetStore%2F&storeId=10151\"\n",
        "  search_term = search_term.replace(' ', '+')\n",
        "  return template.format(search_term)"
      ],
      "execution_count": 9,
      "outputs": []
    },
    {
      "cell_type": "code",
      "metadata": {
        "colab": {
          "base_uri": "https://localhost:8080/"
        },
        "id": "JWuh7XbEws8W",
        "outputId": "894002ce-8762-4378-c675-7cf404b0f4e3"
      },
      "source": [
        "url = get_url('iphone 13')\n",
        "print(url)"
      ],
      "execution_count": 10,
      "outputs": [
        {
          "output_type": "stream",
          "name": "stdout",
          "text": [
            "https://www.coppel.com/SearchDisplay?sType=SimpleSearch&ddkey=ProductListingView_6_-3011_1208&fromPage=catalogEntryList&searchTerm=iiphone+13&urlRequestType=Base&catalogId=10051&resultType=products&disableProductCompare=false&showResultsPage=true&beginIndex=01&resultCatEntryType=2&langId=-5&enableSKUListView=false&pageSize=1&ajaxStoreImageDir=%2Fwcsstore%2FCoppelStoreFrontAssetStore%2F&storeId=10151\n"
          ]
        }
      ]
    },
    {
      "cell_type": "code",
      "metadata": {
        "id": "Vn1yAFMjws4w"
      },
      "source": [
        "wd.get(url)\n",
        "# Extract the collection\n",
        "soup = BeautifulSoup(wd.page_source, 'html.parser')"
      ],
      "execution_count": 11,
      "outputs": []
    },
    {
      "cell_type": "code",
      "metadata": {
        "colab": {
          "base_uri": "https://localhost:8080/"
        },
        "id": "hXG_O0ajFf0x",
        "outputId": "b1c2afe4-feff-404b-caca-875a48f65b3e"
      },
      "source": [
        "results = soup.find_all('div', {'class': 'product'})\n",
        "print(len(results))"
      ],
      "execution_count": 12,
      "outputs": [
        {
          "output_type": "stream",
          "name": "stdout",
          "text": [
            "13\n"
          ]
        }
      ]
    },
    {
      "cell_type": "code",
      "metadata": {
        "colab": {
          "base_uri": "https://localhost:8080/"
        },
        "id": "iVed7MkeFf6L",
        "outputId": "726fe11a-b732-44eb-eb74-4c867c86d607"
      },
      "source": [
        "# title\n",
        "item = results[2]\n",
        "atag = item.find('div', {'class':'product_name'}).find('a').text  \n",
        "print(atag)"
      ],
      "execution_count": 25,
      "outputs": [
        {
          "output_type": "stream",
          "name": "stdout",
          "text": [
            "\n",
            "Telcel Apple 13 mini 128 GB (PRODUCT)RED\n",
            "\n"
          ]
        }
      ]
    },
    {
      "cell_type": "code",
      "metadata": {
        "colab": {
          "base_uri": "https://localhost:8080/"
        },
        "id": "K8yGdUVmFgEW",
        "outputId": "ad1fef2a-c7cb-424b-db8b-d40d8559847c"
      },
      "source": [
        "# price\n",
        "price = item.find('span',{'class':'unique_price'})\n",
        "print(price.text)"
      ],
      "execution_count": null,
      "outputs": [
        {
          "output_type": "stream",
          "name": "stdout",
          "text": [
            "\n",
            "\t\t\t\t$19,049\n",
            "\t\t\t\n"
          ]
        }
      ]
    },
    {
      "cell_type": "code",
      "metadata": {
        "colab": {
          "base_uri": "https://localhost:8080/"
        },
        "id": "95bNeti_OhEu",
        "outputId": "83e9a445-790b-43cd-b47e-452dee91009a"
      },
      "source": [
        "# link\n",
        "link = item.find('div', {'class':'product_name'}).find('a').get('href')\n",
        "print(link)"
      ],
      "execution_count": null,
      "outputs": [
        {
          "output_type": "stream",
          "name": "stdout",
          "text": [
            "https://www.coppel.com/telcel-apple-iphone-13-mini-128-gb-pink-pm-2518783\n"
          ]
        }
      ]
    },
    {
      "cell_type": "code",
      "metadata": {
        "id": "WqLnr96xOhMG"
      },
      "source": [
        "# script completed for coppel\n",
        "\n",
        "def get_url(search, number):\n",
        "  \"\"\"Genetare the Url from search term\"\"\"\n",
        "  \n",
        "  number = str(number)\n",
        "  if str(number) == '0': number = '01' \n",
        "  search = search.replace(' ', '+')\n",
        "  template = f\"https://www.coppel.com/SearchDisplay?sType=SimpleSearch&ddkey=ProductListingView_6_-3011_1208&fromPage=catalogEntryList&searchTerm=i{search}&urlRequestType=Base&catalogId=10051&resultType=products&disableProductCompare=false&showResultsPage=true&beginIndex={number}&resultCatEntryType=2&langId=-5&enableSKUListView=false&pageSize=1&ajaxStoreImageDir=%2Fwcsstore%2FCoppelStoreFrontAssetStore%2F&storeId=10151\"\n",
        "  print(template)\n",
        "  return template\n",
        "\n",
        "  \n",
        "def extract_record(item):\n",
        "  \"\"\"scrapping each item\"\"\"\n",
        "\n",
        "  # description and url\n",
        "  print(item)\n",
        "  description = item.find('div', {'class':'product_name'}).find('a').text  \n",
        "  url = item.find('div', {'class':'product_name'}).find('a').get('href')\n",
        "\n",
        "  try:\n",
        "    # price\n",
        "    price_parent = item.find('span', 'a-price')\n",
        "    price = price_parent.find('span', 'a-offscreen').text\n",
        "  except AttributeError:\n",
        "    return 'Not found'\n",
        "\n",
        "  result = (description, price, url)\n",
        "\n",
        "  return result\n",
        "\n",
        "\n",
        "def main(search):\n",
        "  \"\"\"run main program\"\"\"\n",
        "  # set webdrriver if needed\n",
        "\n",
        "  number = 0\n",
        "  keep_going = True\n",
        "  records = []\n",
        "  #url = get_urls(search_term)\n",
        "\n",
        "  while keep_going:\n",
        "\n",
        "    if number == 48: keep_going = False\n",
        "    wd.get(get_url(search, number))\n",
        "    soup = BeautifulSoup(wd.page_source, 'html.parser')\n",
        "    results = soup.find_all('div', {'class': 'product'})\n",
        "    print(len(results))\n",
        "\n",
        "    for item in results:\n",
        "      record = extract_record(item)\n",
        "    if record:\n",
        "      records.append(record)\n",
        "\n",
        "    number += 12\n",
        "\n",
        "  wd.close()\n",
        "    \n",
        "  return pd.DataFrame(records, columns = ['Description', 'Price', 'Url'])"
      ],
      "execution_count": 22,
      "outputs": []
    },
    {
      "cell_type": "code",
      "metadata": {
        "id": "pb-piD5JOhS9",
        "colab": {
          "base_uri": "https://localhost:8080/",
          "height": 360
        },
        "outputId": "7b49601f-801b-4ce8-f45e-1b9b8c414290"
      },
      "source": [
        "df_coppel = main('iphone 13')"
      ],
      "execution_count": 23,
      "outputs": [
        {
          "output_type": "stream",
          "name": "stdout",
          "text": [
            "https://www.coppel.com/SearchDisplay?sType=SimpleSearch&ddkey=ProductListingView_6_-3011_1208&fromPage=catalogEntryList&searchTerm=iiphone+13&urlRequestType=Base&catalogId=10051&resultType=products&disableProductCompare=false&showResultsPage=true&beginIndex=01&resultCatEntryType=2&langId=-5&enableSKUListView=false&pageSize=1&ajaxStoreImageDir=%2Fwcsstore%2FCoppelStoreFrontAssetStore%2F&storeId=10151\n",
            "13\n"
          ]
        },
        {
          "output_type": "error",
          "ename": "KeyError",
          "evalue": "ignored",
          "traceback": [
            "\u001b[0;31m---------------------------------------------------------------------------\u001b[0m",
            "\u001b[0;31mKeyError\u001b[0m                                  Traceback (most recent call last)",
            "\u001b[0;32m<ipython-input-23-e773eeb81a1b>\u001b[0m in \u001b[0;36m<module>\u001b[0;34m()\u001b[0m\n\u001b[0;32m----> 1\u001b[0;31m \u001b[0mdf_coppel\u001b[0m \u001b[0;34m=\u001b[0m \u001b[0mmain\u001b[0m\u001b[0;34m(\u001b[0m\u001b[0;34m'iphone 13'\u001b[0m\u001b[0;34m)\u001b[0m\u001b[0;34m\u001b[0m\u001b[0;34m\u001b[0m\u001b[0m\n\u001b[0m",
            "\u001b[0;32m<ipython-input-22-bd522a54889e>\u001b[0m in \u001b[0;36mmain\u001b[0;34m(search)\u001b[0m\n\u001b[1;32m     50\u001b[0m \u001b[0;34m\u001b[0m\u001b[0m\n\u001b[1;32m     51\u001b[0m     \u001b[0;32mfor\u001b[0m \u001b[0mitem\u001b[0m \u001b[0;32min\u001b[0m \u001b[0mresults\u001b[0m\u001b[0;34m:\u001b[0m\u001b[0;34m\u001b[0m\u001b[0;34m\u001b[0m\u001b[0m\n\u001b[0;32m---> 52\u001b[0;31m       \u001b[0mrecord\u001b[0m \u001b[0;34m=\u001b[0m \u001b[0mextract_record\u001b[0m\u001b[0;34m(\u001b[0m\u001b[0mitem\u001b[0m\u001b[0;34m[\u001b[0m\u001b[0;36m0\u001b[0m\u001b[0;34m]\u001b[0m\u001b[0;34m)\u001b[0m\u001b[0;34m\u001b[0m\u001b[0;34m\u001b[0m\u001b[0m\n\u001b[0m\u001b[1;32m     53\u001b[0m     \u001b[0;32mif\u001b[0m \u001b[0mrecord\u001b[0m\u001b[0;34m:\u001b[0m\u001b[0;34m\u001b[0m\u001b[0;34m\u001b[0m\u001b[0m\n\u001b[1;32m     54\u001b[0m       \u001b[0mrecords\u001b[0m\u001b[0;34m.\u001b[0m\u001b[0mappend\u001b[0m\u001b[0;34m(\u001b[0m\u001b[0mrecord\u001b[0m\u001b[0;34m)\u001b[0m\u001b[0;34m\u001b[0m\u001b[0;34m\u001b[0m\u001b[0m\n",
            "\u001b[0;32m/usr/local/lib/python3.7/dist-packages/bs4/element.py\u001b[0m in \u001b[0;36m__getitem__\u001b[0;34m(self, key)\u001b[0m\n\u001b[1;32m   1069\u001b[0m         \"\"\"tag[key] returns the value of the 'key' attribute for the tag,\n\u001b[1;32m   1070\u001b[0m         and throws an exception if it's not there.\"\"\"\n\u001b[0;32m-> 1071\u001b[0;31m         \u001b[0;32mreturn\u001b[0m \u001b[0mself\u001b[0m\u001b[0;34m.\u001b[0m\u001b[0mattrs\u001b[0m\u001b[0;34m[\u001b[0m\u001b[0mkey\u001b[0m\u001b[0;34m]\u001b[0m\u001b[0;34m\u001b[0m\u001b[0;34m\u001b[0m\u001b[0m\n\u001b[0m\u001b[1;32m   1072\u001b[0m \u001b[0;34m\u001b[0m\u001b[0m\n\u001b[1;32m   1073\u001b[0m     \u001b[0;32mdef\u001b[0m \u001b[0m__iter__\u001b[0m\u001b[0;34m(\u001b[0m\u001b[0mself\u001b[0m\u001b[0;34m)\u001b[0m\u001b[0;34m:\u001b[0m\u001b[0;34m\u001b[0m\u001b[0;34m\u001b[0m\u001b[0m\n",
            "\u001b[0;31mKeyError\u001b[0m: 0"
          ]
        }
      ]
    },
    {
      "cell_type": "code",
      "metadata": {
        "id": "SoS-8llscvNP"
      },
      "source": [
        "df_coppel.head()"
      ],
      "execution_count": null,
      "outputs": []
    },
    {
      "cell_type": "code",
      "metadata": {
        "id": "XPzZARa6OhZu"
      },
      "source": [
        "# getting the next page\n",
        "def get_urls(search_term):\n",
        "  \"\"\"Genetare the Url from search term\"\"\"\n",
        "  template = \"https://www.amazon.com.mx/s?k={}&__mk_es_MX=%C3%85M%C3%85%C5%BD%C3%95%C3%91&ref=nb_sb_noss_1\"\n",
        "  search_term = search_term.replace(' ', '+')\n",
        "\n",
        "  # add term query to url\n",
        "  url = template.format(search_term)\n",
        "\n",
        "  # add page query placeholder\n",
        "  url += '&page={}'\n",
        "\n",
        "  return template.format(search_term)\n",
        "\n",
        "# error handling\n",
        "def extract_record(item):\n",
        "\n",
        "  # description and url\n",
        "  atag = item.h2.a\n",
        "  description = atag.text.strip()\n",
        "  url = 'https://www.amazon.com.mx' + atag.get('href')\n",
        "\n",
        "  try:\n",
        "    # price\n",
        "    price_parent = item.find('span', 'a-price')\n",
        "    price = price_parent.find('span', 'a-offscreen').text\n",
        "  except AttributeError:\n",
        "    return 'Not found'\n",
        "\n",
        "  try:\n",
        "    # reviews and rating\n",
        "    rating = item.i.text\n",
        "    review_count = item.find('span', {'class':'a-size-base'}).text\n",
        "  except AttributeError:\n",
        "    rating = ''\n",
        "    review_count = ''\n",
        "\n",
        "  result = (description, price, rating, review_count, url)\n",
        "\n",
        "  return result\n",
        "\n",
        "def main(search_term):\n",
        "  \"\"\"run maun program\"\"\"\n",
        "  # set webdrriver if needed\n",
        "\n",
        "  records = []\n",
        "  url = get_urls(search_term)\n",
        "\n",
        "  for page in range(1,6):\n",
        "    wd.get(url.format(page))\n",
        "    soup = BeautifulSoup(wd.page_source, 'html.parser')\n",
        "    results = soup.find_all('div', {'data-component-type': 's-search-result'})\n",
        "\n",
        "    for item in results:\n",
        "      record = extract_record(item)\n",
        "      if record:\n",
        "        records.append(record)\n",
        "  \n",
        "  wd.close()\n",
        "\n",
        "  return pd.DataFrame(records, columns = ['Description', 'Price', 'Rating', 'Reviews', 'Url'])"
      ],
      "execution_count": null,
      "outputs": []
    },
    {
      "cell_type": "code",
      "metadata": {
        "id": "IVnQMS51cSMT"
      },
      "source": [
        ""
      ],
      "execution_count": null,
      "outputs": []
    },
    {
      "cell_type": "code",
      "metadata": {
        "id": "IJKMpbizcSb5"
      },
      "source": [
        ""
      ],
      "execution_count": null,
      "outputs": []
    },
    {
      "cell_type": "markdown",
      "metadata": {
        "id": "30joqDzQwnsb"
      },
      "source": [
        "# scrapping elektra"
      ]
    },
    {
      "cell_type": "code",
      "metadata": {
        "id": "bo5ernmwwsjg"
      },
      "source": [
        ""
      ],
      "execution_count": null,
      "outputs": []
    },
    {
      "cell_type": "code",
      "metadata": {
        "id": "xk48nz7Lwsgv"
      },
      "source": [
        ""
      ],
      "execution_count": null,
      "outputs": []
    },
    {
      "cell_type": "code",
      "metadata": {
        "id": "4pbBkmI1wsdv"
      },
      "source": [
        ""
      ],
      "execution_count": null,
      "outputs": []
    },
    {
      "cell_type": "code",
      "metadata": {
        "id": "DcfjYRQqwsWP"
      },
      "source": [
        ""
      ],
      "execution_count": null,
      "outputs": []
    }
  ]
}