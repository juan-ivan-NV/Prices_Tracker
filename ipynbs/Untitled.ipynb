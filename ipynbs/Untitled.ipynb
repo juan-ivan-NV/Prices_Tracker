{
  "nbformat": 4,
  "nbformat_minor": 0,
  "metadata": {
    "colab": {
      "name": "Untitled.ipynb",
      "provenance": []
    },
    "kernelspec": {
      "name": "python3",
      "display_name": "Python 3"
    },
    "language_info": {
      "name": "python"
    }
  },
  "cells": [
    {
      "cell_type": "code",
      "metadata": {
        "id": "fjhN1TYaNbvj"
      },
      "source": [
        "import pandas as pd\n",
        "import requests\n",
        "from bs4 import BeautifulSoup"
      ],
      "execution_count": 1,
      "outputs": []
    },
    {
      "cell_type": "code",
      "metadata": {
        "id": "NZIUhBwGN2O8"
      },
      "source": [
        "def get_price(url):\n",
        "  r = requests.get(url)\n",
        "  soup = BeautifulSoup(r.text, 'html.parser')\n",
        "  price = soup.find('span',{'itemprop': 'price'})['content']\n",
        "  return price\n"
      ],
      "execution_count": 4,
      "outputs": []
    },
    {
      "cell_type": "code",
      "metadata": {
        "colab": {
          "base_uri": "https://localhost:8080/"
        },
        "id": "irMeGSDWN2k7",
        "outputId": "2afaf3a5-13a7-4dd2-ebb1-dd4c8823e45a"
      },
      "source": [
        "print(get_price('https://www.ebay.com/itm/393514670181?_trkparms=amclksrc%3DITM%26aid%3D1110010%26algo%3DHOMESPLICE.DISCCARDS%26ao%3D1%26asc%3D20200818141627%26meid%3D35d3db7929d24681ae460bcffcef9ec3%26pid%3D101110%26rk%3D1%26rkt%3D1%26sd%3D234145481103%26itm%3D393514670181%26pmt%3D1%26noa%3D0%26pg%3D2563228%26algv%3Ddefault%26brand%3DPUMA&_trksid=p2563228.c101110.m1982&amdata=cksum%3A39351467018135d3db7929d24681ae460bcffcef9ec3%7Cenc%3AAQAGAAAB4LAfpiaX1XNFiDFtpTEdZWAf3k%252BG0cxQdDyso%252BsfnJRewPxG54S3DsmowvuLtaYAL074LDQn8f4BO%252FQ4tnhMeCvyvItOMvn9aGVeR0jIgBiCJKa5jp6Qg1tJFMDfSONIILjnzUX%252FKOKhppxys0f9I%252BhBJ7txJuN4sF4CAUDbMdW7mKbQbYhpUMJi5Ezm%252FRh7WDuJ%252FuD%252FWp4JgcihztnZkJJdE3CEvi5CylVvWmrSLJX30dPOgNFdI%252BBfMJY4vegu%252FqE%252FUIaUVAg8GtZxGtDvMSj59qitBkZt%252F2Ca%252BOr8%252FHCTDBnDMklT7uinO3rowg3kguth%252FHYBMbLNHLR4zlcxS01QbVicZjnG7WlsxuvEcwwVuO0r3zPQ0oYhrjy0P1PuKktzVwA2ZySbCaTEolkwcuJZhNRyJNwgoTAAcn3c8t9FFMoPrjKC%252B9sEi5xsQbxCP33HknaJY1JzR05ZbcHyRWDyfj7YQViK9%252BN%252F4wAQDqkzxpncA6zwjCBmRefCVqs5%252BseobqNDkB3NM358%252BasmsJShdxMnLtDFo1%252BIRRPztK2GZTDxSlBS7PjPZAS2lZH0CJE4mBgBqa2VhF1hY%252Fm%252FEjh8uwEqY%252FTZD484aCkIXKN%252F7ztdjmv4vPtI1n4MPc42sw%253D%253D%7Campid%3APL_CLK%7Cclp%3A2563228'))"
      ],
      "execution_count": 5,
      "outputs": [
        {
          "output_type": "stream",
          "name": "stdout",
          "text": [
            "82.99\n"
          ]
        }
      ]
    },
    {
      "cell_type": "code",
      "metadata": {
        "id": "mAj96hmCN2rl"
      },
      "source": [
        ""
      ],
      "execution_count": null,
      "outputs": []
    },
    {
      "cell_type": "code",
      "metadata": {
        "id": "lFq6-47NN2wz"
      },
      "source": [
        ""
      ],
      "execution_count": null,
      "outputs": []
    }
  ]
}