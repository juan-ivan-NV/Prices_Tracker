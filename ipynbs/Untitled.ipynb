{
  "nbformat": 4,
  "nbformat_minor": 0,
  "metadata": {
    "colab": {
      "name": "Untitled.ipynb",
      "provenance": [],
      "collapsed_sections": [
        "9k9xMbPBNp9M"
      ]
    },
    "kernelspec": {
      "name": "python3",
      "display_name": "Python 3"
    },
    "language_info": {
      "name": "python"
    }
  },
  "cells": [
    {
      "cell_type": "markdown",
      "metadata": {
        "id": "9k9xMbPBNp9M"
      },
      "source": [
        "## Libraries & settings"
      ]
    },
    {
      "cell_type": "code",
      "metadata": {
        "colab": {
          "base_uri": "https://localhost:8080/"
        },
        "id": "lFq6-47NN2wz",
        "outputId": "3eb46330-2c25-43ae-a541-8839145c8020"
      },
      "source": [
        "!pip install selenium\n",
        "!apt-get update \n",
        "!apt install chromium-chromedriver\n",
        "!pip install beautifulsoup4\n",
        "\n",
        "from selenium import webdriver\n",
        "chrome_options = webdriver.ChromeOptions()\n",
        "chrome_options.add_argument('--headless')\n",
        "chrome_options.add_argument('--no-sandbox')\n",
        "chrome_options.add_argument('--disable-dev-shm-usage')\n",
        "#chrome_options.add_argument('useAutomationExtention', False)\n",
        "chrome_options.add_argument('--ifnore-certificate-errors')\n",
        "chrome_options.add_argument('--start-maximized')\n",
        "\n",
        "wd = webdriver.Chrome('chromedriver',chrome_options=chrome_options)"
      ],
      "execution_count": 1,
      "outputs": [
        {
          "output_type": "stream",
          "name": "stdout",
          "text": [
            "Collecting selenium\n",
            "  Downloading selenium-4.0.0-py3-none-any.whl (954 kB)\n",
            "\u001b[K     |████████████████████████████████| 954 kB 7.1 MB/s \n",
            "\u001b[?25hCollecting trio-websocket~=0.9\n",
            "  Downloading trio_websocket-0.9.2-py3-none-any.whl (16 kB)\n",
            "Collecting trio~=0.17\n",
            "  Downloading trio-0.19.0-py3-none-any.whl (356 kB)\n",
            "\u001b[K     |████████████████████████████████| 356 kB 44.0 MB/s \n",
            "\u001b[?25hCollecting urllib3[secure]~=1.26\n",
            "  Downloading urllib3-1.26.7-py2.py3-none-any.whl (138 kB)\n",
            "\u001b[K     |████████████████████████████████| 138 kB 58.3 MB/s \n",
            "\u001b[?25hCollecting outcome\n",
            "  Downloading outcome-1.1.0-py2.py3-none-any.whl (9.7 kB)\n",
            "Collecting sniffio\n",
            "  Downloading sniffio-1.2.0-py3-none-any.whl (10 kB)\n",
            "Requirement already satisfied: idna in /usr/local/lib/python3.7/dist-packages (from trio~=0.17->selenium) (2.10)\n",
            "Requirement already satisfied: attrs>=19.2.0 in /usr/local/lib/python3.7/dist-packages (from trio~=0.17->selenium) (21.2.0)\n",
            "Requirement already satisfied: sortedcontainers in /usr/local/lib/python3.7/dist-packages (from trio~=0.17->selenium) (2.4.0)\n",
            "Collecting async-generator>=1.9\n",
            "  Downloading async_generator-1.10-py3-none-any.whl (18 kB)\n",
            "Collecting wsproto>=0.14\n",
            "  Downloading wsproto-1.0.0-py3-none-any.whl (24 kB)\n",
            "Collecting pyOpenSSL>=0.14\n",
            "  Downloading pyOpenSSL-21.0.0-py2.py3-none-any.whl (55 kB)\n",
            "\u001b[K     |████████████████████████████████| 55 kB 2.9 MB/s \n",
            "\u001b[?25hCollecting cryptography>=1.3.4\n",
            "  Downloading cryptography-35.0.0-cp36-abi3-manylinux_2_24_x86_64.whl (3.5 MB)\n",
            "\u001b[K     |████████████████████████████████| 3.5 MB 48.2 MB/s \n",
            "\u001b[?25hRequirement already satisfied: certifi in /usr/local/lib/python3.7/dist-packages (from urllib3[secure]~=1.26->selenium) (2021.5.30)\n",
            "Requirement already satisfied: cffi>=1.12 in /usr/local/lib/python3.7/dist-packages (from cryptography>=1.3.4->urllib3[secure]~=1.26->selenium) (1.14.6)\n",
            "Requirement already satisfied: pycparser in /usr/local/lib/python3.7/dist-packages (from cffi>=1.12->cryptography>=1.3.4->urllib3[secure]~=1.26->selenium) (2.20)\n",
            "Requirement already satisfied: six>=1.5.2 in /usr/local/lib/python3.7/dist-packages (from pyOpenSSL>=0.14->urllib3[secure]~=1.26->selenium) (1.15.0)\n",
            "Collecting h11<1,>=0.9.0\n",
            "  Downloading h11-0.12.0-py3-none-any.whl (54 kB)\n",
            "\u001b[K     |████████████████████████████████| 54 kB 3.3 MB/s \n",
            "\u001b[?25hInstalling collected packages: sniffio, outcome, h11, cryptography, async-generator, wsproto, urllib3, trio, pyOpenSSL, trio-websocket, selenium\n",
            "  Attempting uninstall: urllib3\n",
            "    Found existing installation: urllib3 1.24.3\n",
            "    Uninstalling urllib3-1.24.3:\n",
            "      Successfully uninstalled urllib3-1.24.3\n",
            "\u001b[31mERROR: pip's dependency resolver does not currently take into account all the packages that are installed. This behaviour is the source of the following dependency conflicts.\n",
            "requests 2.23.0 requires urllib3!=1.25.0,!=1.25.1,<1.26,>=1.21.1, but you have urllib3 1.26.7 which is incompatible.\n",
            "datascience 0.10.6 requires folium==0.2.1, but you have folium 0.8.3 which is incompatible.\u001b[0m\n",
            "Successfully installed async-generator-1.10 cryptography-35.0.0 h11-0.12.0 outcome-1.1.0 pyOpenSSL-21.0.0 selenium-4.0.0 sniffio-1.2.0 trio-0.19.0 trio-websocket-0.9.2 urllib3-1.26.7 wsproto-1.0.0\n",
            "Ign:1 https://developer.download.nvidia.com/compute/cuda/repos/ubuntu1804/x86_64  InRelease\n",
            "Get:2 https://cloud.r-project.org/bin/linux/ubuntu bionic-cran40/ InRelease [3,626 B]\n",
            "Ign:3 https://developer.download.nvidia.com/compute/machine-learning/repos/ubuntu1804/x86_64  InRelease\n",
            "Hit:4 https://developer.download.nvidia.com/compute/cuda/repos/ubuntu1804/x86_64  Release\n",
            "Hit:5 https://developer.download.nvidia.com/compute/machine-learning/repos/ubuntu1804/x86_64  Release\n",
            "Get:6 http://security.ubuntu.com/ubuntu bionic-security InRelease [88.7 kB]\n",
            "Get:7 https://cloud.r-project.org/bin/linux/ubuntu bionic-cran40/ Packages [69.5 kB]\n",
            "Hit:8 http://archive.ubuntu.com/ubuntu bionic InRelease\n",
            "Get:9 http://ppa.launchpad.net/c2d4u.team/c2d4u4.0+/ubuntu bionic InRelease [15.9 kB]\n",
            "Get:10 http://archive.ubuntu.com/ubuntu bionic-updates InRelease [88.7 kB]\n",
            "Hit:13 http://ppa.launchpad.net/cran/libgit2/ubuntu bionic InRelease\n",
            "Get:14 http://archive.ubuntu.com/ubuntu bionic-backports InRelease [74.6 kB]\n",
            "Hit:15 http://ppa.launchpad.net/deadsnakes/ppa/ubuntu bionic InRelease\n",
            "Get:16 http://security.ubuntu.com/ubuntu bionic-security/universe amd64 Packages [1,433 kB]\n",
            "Hit:17 http://ppa.launchpad.net/graphics-drivers/ppa/ubuntu bionic InRelease\n",
            "Get:18 http://security.ubuntu.com/ubuntu bionic-security/restricted amd64 Packages [614 kB]\n",
            "Get:19 http://security.ubuntu.com/ubuntu bionic-security/main amd64 Packages [2,372 kB]\n",
            "Get:20 http://ppa.launchpad.net/c2d4u.team/c2d4u4.0+/ubuntu bionic/main Sources [1,809 kB]\n",
            "Get:21 http://archive.ubuntu.com/ubuntu bionic-updates/universe amd64 Packages [2,213 kB]\n",
            "Get:22 http://ppa.launchpad.net/c2d4u.team/c2d4u4.0+/ubuntu bionic/main amd64 Packages [926 kB]\n",
            "Get:23 http://archive.ubuntu.com/ubuntu bionic-updates/main amd64 Packages [2,821 kB]\n",
            "Get:24 http://archive.ubuntu.com/ubuntu bionic-updates/restricted amd64 Packages [658 kB]\n",
            "Fetched 13.2 MB in 5s (2,892 kB/s)\n",
            "Reading package lists... Done\n",
            "Reading package lists... Done\n",
            "Building dependency tree       \n",
            "Reading state information... Done\n",
            "The following additional packages will be installed:\n",
            "  chromium-browser chromium-browser-l10n chromium-codecs-ffmpeg-extra\n",
            "Suggested packages:\n",
            "  webaccounts-chromium-extension unity-chromium-extension\n",
            "The following NEW packages will be installed:\n",
            "  chromium-browser chromium-browser-l10n chromium-chromedriver\n",
            "  chromium-codecs-ffmpeg-extra\n",
            "0 upgraded, 4 newly installed, 0 to remove and 63 not upgraded.\n",
            "Need to get 95.3 MB of archives.\n",
            "After this operation, 323 MB of additional disk space will be used.\n",
            "Get:1 http://archive.ubuntu.com/ubuntu bionic-updates/universe amd64 chromium-codecs-ffmpeg-extra amd64 94.0.4606.81-0ubuntu0.18.04.1 [1,135 kB]\n",
            "Get:2 http://archive.ubuntu.com/ubuntu bionic-updates/universe amd64 chromium-browser amd64 94.0.4606.81-0ubuntu0.18.04.1 [85.0 MB]\n",
            "Get:3 http://archive.ubuntu.com/ubuntu bionic-updates/universe amd64 chromium-browser-l10n all 94.0.4606.81-0ubuntu0.18.04.1 [4,164 kB]\n",
            "Get:4 http://archive.ubuntu.com/ubuntu bionic-updates/universe amd64 chromium-chromedriver amd64 94.0.4606.81-0ubuntu0.18.04.1 [4,963 kB]\n",
            "Fetched 95.3 MB in 6s (16.4 MB/s)\n",
            "Selecting previously unselected package chromium-codecs-ffmpeg-extra.\n",
            "(Reading database ... 155047 files and directories currently installed.)\n",
            "Preparing to unpack .../chromium-codecs-ffmpeg-extra_94.0.4606.81-0ubuntu0.18.04.1_amd64.deb ...\n",
            "Unpacking chromium-codecs-ffmpeg-extra (94.0.4606.81-0ubuntu0.18.04.1) ...\n",
            "Selecting previously unselected package chromium-browser.\n",
            "Preparing to unpack .../chromium-browser_94.0.4606.81-0ubuntu0.18.04.1_amd64.deb ...\n",
            "Unpacking chromium-browser (94.0.4606.81-0ubuntu0.18.04.1) ...\n",
            "Selecting previously unselected package chromium-browser-l10n.\n",
            "Preparing to unpack .../chromium-browser-l10n_94.0.4606.81-0ubuntu0.18.04.1_all.deb ...\n",
            "Unpacking chromium-browser-l10n (94.0.4606.81-0ubuntu0.18.04.1) ...\n",
            "Selecting previously unselected package chromium-chromedriver.\n",
            "Preparing to unpack .../chromium-chromedriver_94.0.4606.81-0ubuntu0.18.04.1_amd64.deb ...\n",
            "Unpacking chromium-chromedriver (94.0.4606.81-0ubuntu0.18.04.1) ...\n",
            "Setting up chromium-codecs-ffmpeg-extra (94.0.4606.81-0ubuntu0.18.04.1) ...\n",
            "Setting up chromium-browser (94.0.4606.81-0ubuntu0.18.04.1) ...\n",
            "update-alternatives: using /usr/bin/chromium-browser to provide /usr/bin/x-www-browser (x-www-browser) in auto mode\n",
            "update-alternatives: using /usr/bin/chromium-browser to provide /usr/bin/gnome-www-browser (gnome-www-browser) in auto mode\n",
            "Setting up chromium-chromedriver (94.0.4606.81-0ubuntu0.18.04.1) ...\n",
            "Setting up chromium-browser-l10n (94.0.4606.81-0ubuntu0.18.04.1) ...\n",
            "Processing triggers for man-db (2.8.3-2ubuntu0.1) ...\n",
            "Processing triggers for hicolor-icon-theme (0.17-2) ...\n",
            "Processing triggers for mime-support (3.60ubuntu1) ...\n",
            "Processing triggers for libc-bin (2.27-3ubuntu1.3) ...\n",
            "/sbin/ldconfig.real: /usr/local/lib/python3.7/dist-packages/ideep4py/lib/libmkldnn.so.0 is not a symbolic link\n",
            "\n",
            "Requirement already satisfied: beautifulsoup4 in /usr/local/lib/python3.7/dist-packages (4.6.3)\n"
          ]
        },
        {
          "output_type": "stream",
          "name": "stderr",
          "text": [
            "/usr/local/lib/python3.7/dist-packages/ipykernel_launcher.py:15: DeprecationWarning: use options instead of chrome_options\n",
            "  from ipykernel import kernelapp as app\n"
          ]
        }
      ]
    },
    {
      "cell_type": "code",
      "metadata": {
        "id": "pTkROFO7PKgn"
      },
      "source": [
        "from selenium.webdriver.support.ui import WebDriverWait, Select\n",
        "from selenium.webdriver.support import expected_conditions as EC\n",
        "from selenium.webdriver.firefox.options import Options\n",
        "from selenium.webdriver.common.by import By\n",
        "from selenium.webdriver.common.action_chains import ActionChains\n",
        "from selenium.webdriver.common.keys import Keys\n",
        "from selenium.common.exceptions import TimeoutException, NoSuchElementException\n",
        "from bs4 import BeautifulSoup \n",
        "import pandas as pd \n",
        "import os\n",
        "import time"
      ],
      "execution_count": 2,
      "outputs": []
    },
    {
      "cell_type": "markdown",
      "metadata": {
        "id": "-JET4ySUPFYh"
      },
      "source": [
        "# Scrapping ebay\n"
      ]
    },
    {
      "cell_type": "code",
      "metadata": {
        "id": "_pLMwaZoPKnD"
      },
      "source": [
        "# https://www.youtube.com/watch?v=9ELd7XWD0PA&t=1067s\n",
        "\n",
        "#user_agent = 'Mozilla/5.0 (Windows NT 10.0; Win64; x64; rv:87.0) Gecko/20100101 Firefox/87.0'\n",
        "#FireFoxDriverPath = os.path.join(os.getcwd(), 'Drivers', 'geckodriver.exe')\n",
        "#FireFoxProfile = webdriver.FirefoxProfile()\n",
        "#FireFoxProfile.set_preference(\"general.useragent.override\", user_agent)\n",
        "url = \"https://www.ebay.com/\"\n",
        "browser = wd\n",
        "browser.implicitly_wait(7)\n",
        "browser.get(url)\n",
        "\n",
        "search_keyword = 'Playstation 5'\n",
        "search_field = browser.find_element_by_id('gh-ac')\n",
        "search_field.clear()\n",
        "search_field.send_keys(search_keyword)\n",
        "search_field.send_keys(Keys.ENTER)\n",
        "\n",
        "total_result = int(browser.find_element_by_class_name('srp-controls__count-heading').find_element_by_class_name('BOLD').text.replace(',', ''))\n",
        "ebay_listings = []\n",
        "\n",
        "current_page = 1\n",
        "to_continue = True"
      ],
      "execution_count": null,
      "outputs": []
    },
    {
      "cell_type": "code",
      "metadata": {
        "id": "YHtNJSGkPKss"
      },
      "source": [
        "while to_continue:\n",
        "    try:\n",
        "        print('Processing page {0}'.format(current_page))\n",
        "\n",
        "        soup = BeautifulSoup(browser.page_source, 'html.parser')\n",
        "        item_list = soup.find_all('li', 's-item--watch-at-corner')\n",
        "        \n",
        "        for listing in item_list:\n",
        "            product_detail = {}\n",
        "\n",
        "            product_detail['product title'] = listing.h3.text\n",
        "            product_detail['product url'] = listing.a['href']\n",
        "            \n",
        "            listing_subtitles = listing.find_all('div', 's-item__subtitle')\n",
        "            if len(listing_subtitles) == 2:\n",
        "                listing_subtitle_1 = listing_subtitles[0].text\n",
        "                listing_subtitle_2 = listing_subtitles[1].text\n",
        "            elif len(listing_subtitles) == 1:\n",
        "                listing_subtitle_1 = listing_subtitles[0].text\n",
        "                listing_subtitle_2 = None\n",
        "            else:\n",
        "                listing_subtitle_1 = None\n",
        "                listing_subtitle_2 = None\n",
        "\n",
        "            product_detail['subtitle1'] = listing_subtitle_1\n",
        "            product_detail['subtitle2'] = listing_subtitle_2\n",
        "\n",
        "\n",
        "            # Star rating and product review count\n",
        "            try:\n",
        "                x_star_rating = listing.find('div', 'x-star-rating')\n",
        "                stars = len(x_star_rating.find_all('svg', 'icon--star-full-small'))\n",
        "                if int(stars) > 4: print(stars) \n",
        "                review_count = int(listing.find('span', 's-item__reviews-count').span.text.replace( ' product ratings', ''))\n",
        "                \n",
        "                product_detail['stars'] = stars\n",
        "                product_detail['product review_count'] = review_count\n",
        "            except Exception as e:\n",
        "                product_detail['stars'] = ''\n",
        "                product_detail['product review_count'] = ''\n",
        "\n",
        "            product_detail['price'] = listing.find('span', 's-item__price').text\n",
        "\n",
        "            try:\n",
        "                product_detail['shipping detail'] = listing.find('span', 's-item__logisticsCost').text\n",
        "            except AttributeError:\n",
        "                product_detail['shipping detail'] = 'Not Available'\n",
        "                \n",
        "            ebay_listings.append(product_detail)\n",
        "\n",
        "\n",
        "        time.sleep(1)\n",
        "        browser.find_element_by_xpath('//a[@class=\"pagination__item\" and text()=\"{0}\"]'.format(current_page+1)).click()\n",
        "        current_page +=1\n",
        "\n",
        "        if current_page > 5:\n",
        "            raise Exception('Stop')\n",
        "\n",
        "    except NoSuchElementException:\n",
        "        print('Last page {0}'.format(current_page))\n",
        "        to_continue = False\n",
        "\n"
      ],
      "execution_count": null,
      "outputs": []
    },
    {
      "cell_type": "code",
      "metadata": {
        "colab": {
          "base_uri": "https://localhost:8080/",
          "height": 561
        },
        "id": "KvU6DbXZSZNe",
        "outputId": "6a9b4ed0-9974-4554-a2ee-f500d3960715"
      },
      "source": [
        "df = pd.DataFrame(ebay_listings)\n",
        "df.head()"
      ],
      "execution_count": null,
      "outputs": [
        {
          "output_type": "execute_result",
          "data": {
            "text/html": [
              "<div>\n",
              "<style scoped>\n",
              "    .dataframe tbody tr th:only-of-type {\n",
              "        vertical-align: middle;\n",
              "    }\n",
              "\n",
              "    .dataframe tbody tr th {\n",
              "        vertical-align: top;\n",
              "    }\n",
              "\n",
              "    .dataframe thead th {\n",
              "        text-align: right;\n",
              "    }\n",
              "</style>\n",
              "<table border=\"1\" class=\"dataframe\">\n",
              "  <thead>\n",
              "    <tr style=\"text-align: right;\">\n",
              "      <th></th>\n",
              "      <th>product title</th>\n",
              "      <th>product url</th>\n",
              "      <th>subtitle1</th>\n",
              "      <th>subtitle2</th>\n",
              "      <th>stars</th>\n",
              "      <th>product review_count</th>\n",
              "      <th>price</th>\n",
              "      <th>shipping detail</th>\n",
              "    </tr>\n",
              "  </thead>\n",
              "  <tbody>\n",
              "    <tr>\n",
              "      <th>0</th>\n",
              "      <td>Sony PlayStation 5 PS5 Console Disc Version *N...</td>\n",
              "      <td>https://www.ebay.com/itm/333896636458?epid=190...</td>\n",
              "      <td>Brand New · Sony PlayStation 5 · Sony PlayStat...</td>\n",
              "      <td>None</td>\n",
              "      <td>0</td>\n",
              "      <td>1976</td>\n",
              "      <td>$1,049.00</td>\n",
              "      <td>Not Available</td>\n",
              "    </tr>\n",
              "    <tr>\n",
              "      <th>1</th>\n",
              "      <td>PS5 Sony PlayStation 5 Console Disc Version</td>\n",
              "      <td>https://www.ebay.com/itm/324483721021?epid=190...</td>\n",
              "      <td>Pre-Owned · Sony PlayStation 5 · Sony PlayStat...</td>\n",
              "      <td>None</td>\n",
              "      <td>0</td>\n",
              "      <td>1976</td>\n",
              "      <td>$859.99</td>\n",
              "      <td>Free shipping</td>\n",
              "    </tr>\n",
              "    <tr>\n",
              "      <th>2</th>\n",
              "      <td>Sony PlayStation 5 Console Disc Version (PS5) ...</td>\n",
              "      <td>https://www.ebay.com/itm/144223680923?epid=190...</td>\n",
              "      <td>Brand New · Sony PlayStation 5 · Sony PlayStat...</td>\n",
              "      <td>None</td>\n",
              "      <td>0</td>\n",
              "      <td>1976</td>\n",
              "      <td>$949.99</td>\n",
              "      <td>Free shipping</td>\n",
              "    </tr>\n",
              "    <tr>\n",
              "      <th>3</th>\n",
              "      <td>Sony PlayStation 5 PS5 Console Disc Version Bl...</td>\n",
              "      <td>https://www.ebay.com/itm/193955663603?epid=190...</td>\n",
              "      <td>Brand New · Sony PlayStation 5 · Sony PlayStat...</td>\n",
              "      <td>None</td>\n",
              "      <td>0</td>\n",
              "      <td>1976</td>\n",
              "      <td>$899.99</td>\n",
              "      <td>Free shipping</td>\n",
              "    </tr>\n",
              "    <tr>\n",
              "      <th>4</th>\n",
              "      <td>New ListingSony PlayStation 5 PS5 DISC Edition...</td>\n",
              "      <td>https://www.ebay.com/itm/203647656449?hash=ite...</td>\n",
              "      <td>Brand New · Sony PlayStation 5</td>\n",
              "      <td>None</td>\n",
              "      <td></td>\n",
              "      <td></td>\n",
              "      <td>$760.00</td>\n",
              "      <td>+$23.77 shipping</td>\n",
              "    </tr>\n",
              "  </tbody>\n",
              "</table>\n",
              "</div>"
            ],
            "text/plain": [
              "                                       product title  ...   shipping detail\n",
              "0  Sony PlayStation 5 PS5 Console Disc Version *N...  ...     Not Available\n",
              "1        PS5 Sony PlayStation 5 Console Disc Version  ...     Free shipping\n",
              "2  Sony PlayStation 5 Console Disc Version (PS5) ...  ...     Free shipping\n",
              "3  Sony PlayStation 5 PS5 Console Disc Version Bl...  ...     Free shipping\n",
              "4  New ListingSony PlayStation 5 PS5 DISC Edition...  ...  +$23.77 shipping\n",
              "\n",
              "[5 rows x 8 columns]"
            ]
          },
          "metadata": {},
          "execution_count": 18
        }
      ]
    },
    {
      "cell_type": "code",
      "metadata": {
        "id": "taFahtVhStIm"
      },
      "source": [
        "df['amount'] = df.price.apply(lambda x: int(\"\".join(filter(str.isdigit, x))))"
      ],
      "execution_count": null,
      "outputs": []
    },
    {
      "cell_type": "code",
      "metadata": {
        "colab": {
          "base_uri": "https://localhost:8080/",
          "height": 1000
        },
        "id": "_IV86jD9XZVp",
        "outputId": "46b9e5dc-8bba-40a0-e53b-acd2780630ef"
      },
      "source": [
        "df.sort_values(by='amount')"
      ],
      "execution_count": null,
      "outputs": [
        {
          "output_type": "execute_result",
          "data": {
            "text/html": [
              "<div>\n",
              "<style scoped>\n",
              "    .dataframe tbody tr th:only-of-type {\n",
              "        vertical-align: middle;\n",
              "    }\n",
              "\n",
              "    .dataframe tbody tr th {\n",
              "        vertical-align: top;\n",
              "    }\n",
              "\n",
              "    .dataframe thead th {\n",
              "        text-align: right;\n",
              "    }\n",
              "</style>\n",
              "<table border=\"1\" class=\"dataframe\">\n",
              "  <thead>\n",
              "    <tr style=\"text-align: right;\">\n",
              "      <th></th>\n",
              "      <th>product title</th>\n",
              "      <th>product url</th>\n",
              "      <th>subtitle1</th>\n",
              "      <th>subtitle2</th>\n",
              "      <th>stars</th>\n",
              "      <th>product review_count</th>\n",
              "      <th>price</th>\n",
              "      <th>shipping detail</th>\n",
              "      <th>amount</th>\n",
              "    </tr>\n",
              "  </thead>\n",
              "  <tbody>\n",
              "    <tr>\n",
              "      <th>7</th>\n",
              "      <td>Turtle Beach Elite Atlas Pro Performance Heads...</td>\n",
              "      <td>https://www.ebay.com/itm/324391510282?hash=ite...</td>\n",
              "      <td>None</td>\n",
              "      <td>None</td>\n",
              "      <td></td>\n",
              "      <td></td>\n",
              "      <td>$59.95</td>\n",
              "      <td>Free shipping</td>\n",
              "      <td>5995</td>\n",
              "    </tr>\n",
              "    <tr>\n",
              "      <th>8</th>\n",
              "      <td>Razer Kraken Gaming Headset For PC, PS4, PS5, ...</td>\n",
              "      <td>https://www.ebay.com/itm/144123396447?hash=ite...</td>\n",
              "      <td>None</td>\n",
              "      <td>None</td>\n",
              "      <td></td>\n",
              "      <td></td>\n",
              "      <td>$59.99</td>\n",
              "      <td>Free shipping</td>\n",
              "      <td>5999</td>\n",
              "    </tr>\n",
              "    <tr>\n",
              "      <th>9</th>\n",
              "      <td>SteelSeries Arctis 5 RGB Wired Gaming Headset ...</td>\n",
              "      <td>https://www.ebay.com/itm/334129396663?hash=ite...</td>\n",
              "      <td>None</td>\n",
              "      <td>None</td>\n",
              "      <td></td>\n",
              "      <td></td>\n",
              "      <td>$89.95</td>\n",
              "      <td>Free shipping</td>\n",
              "      <td>8995</td>\n",
              "    </tr>\n",
              "    <tr>\n",
              "      <th>191</th>\n",
              "      <td>New ListingSony PlayStation 5 PS5 Blu-Ray Edit...</td>\n",
              "      <td>https://www.ebay.com/itm/324827522681?epid=190...</td>\n",
              "      <td>Brand New · Sony PlayStation 5 · Sony PlayStat...</td>\n",
              "      <td>None</td>\n",
              "      <td>0</td>\n",
              "      <td>1976</td>\n",
              "      <td>$102.50</td>\n",
              "      <td>+$77.61 shipping</td>\n",
              "      <td>10250</td>\n",
              "    </tr>\n",
              "    <tr>\n",
              "      <th>113</th>\n",
              "      <td>New Listing🎁Sony PlayStation 5 Console🎁Digital...</td>\n",
              "      <td>https://www.ebay.com/itm/265357244952?epid=250...</td>\n",
              "      <td>Brand New · Sony PlayStation 5 · Sony PlayStat...</td>\n",
              "      <td>None</td>\n",
              "      <td>0</td>\n",
              "      <td>461</td>\n",
              "      <td>$202.50</td>\n",
              "      <td>+$50.00 shipping</td>\n",
              "      <td>20250</td>\n",
              "    </tr>\n",
              "    <tr>\n",
              "      <th>...</th>\n",
              "      <td>...</td>\n",
              "      <td>...</td>\n",
              "      <td>...</td>\n",
              "      <td>...</td>\n",
              "      <td>...</td>\n",
              "      <td>...</td>\n",
              "      <td>...</td>\n",
              "      <td>...</td>\n",
              "      <td>...</td>\n",
              "    </tr>\n",
              "    <tr>\n",
              "      <th>129</th>\n",
              "      <td>New Listingplaystation 5 console</td>\n",
              "      <td>https://www.ebay.com/itm/304180922459?_trkparm...</td>\n",
              "      <td>Brand New · Sony PlayStation 5</td>\n",
              "      <td>None</td>\n",
              "      <td></td>\n",
              "      <td></td>\n",
              "      <td>$1,124.00</td>\n",
              "      <td>+$10.00 shipping</td>\n",
              "      <td>112400</td>\n",
              "    </tr>\n",
              "    <tr>\n",
              "      <th>137</th>\n",
              "      <td>Sony PlayStation 5 Console PS5 [Disc Version] ...</td>\n",
              "      <td>https://www.ebay.com/itm/284478117917?epid=190...</td>\n",
              "      <td>Brand New · Sony PlayStation 5</td>\n",
              "      <td>None</td>\n",
              "      <td>0</td>\n",
              "      <td>1976</td>\n",
              "      <td>$1,151.00</td>\n",
              "      <td>+$30.15 shipping</td>\n",
              "      <td>115100</td>\n",
              "    </tr>\n",
              "    <tr>\n",
              "      <th>64</th>\n",
              "      <td>Sony PlayStation 5 PS5 Console Disc Version BR...</td>\n",
              "      <td>https://www.ebay.com/itm/203581141972?epid=190...</td>\n",
              "      <td>Brand New · Sony PlayStation 5 · Sony PlayStat...</td>\n",
              "      <td>None</td>\n",
              "      <td>0</td>\n",
              "      <td>1976</td>\n",
              "      <td>$1,199.95</td>\n",
              "      <td>Free shipping</td>\n",
              "      <td>119995</td>\n",
              "    </tr>\n",
              "    <tr>\n",
              "      <th>103</th>\n",
              "      <td>PS5 Sony Playstation 5 Console Disc Version 🔥B...</td>\n",
              "      <td>https://www.ebay.com/itm/304128005531?epid=190...</td>\n",
              "      <td>Brand New · Sony PlayStation 5 · Sony PlayStat...</td>\n",
              "      <td>None</td>\n",
              "      <td>0</td>\n",
              "      <td>1976</td>\n",
              "      <td>$1,199.99</td>\n",
              "      <td>Free shipping</td>\n",
              "      <td>119999</td>\n",
              "    </tr>\n",
              "    <tr>\n",
              "      <th>235</th>\n",
              "      <td>Sony Playstation (PS5) Disc/Blu-Ray Edition Co...</td>\n",
              "      <td>https://www.ebay.com/itm/353710456445?epid=190...</td>\n",
              "      <td>Brand New · Sony PlayStation 5 · Sony PlayStat...</td>\n",
              "      <td>None</td>\n",
              "      <td>0</td>\n",
              "      <td>1976</td>\n",
              "      <td>$1,205.00</td>\n",
              "      <td>+$44.16 shipping</td>\n",
              "      <td>120500</td>\n",
              "    </tr>\n",
              "  </tbody>\n",
              "</table>\n",
              "<p>239 rows × 9 columns</p>\n",
              "</div>"
            ],
            "text/plain": [
              "                                         product title  ...  amount\n",
              "7    Turtle Beach Elite Atlas Pro Performance Heads...  ...    5995\n",
              "8    Razer Kraken Gaming Headset For PC, PS4, PS5, ...  ...    5999\n",
              "9    SteelSeries Arctis 5 RGB Wired Gaming Headset ...  ...    8995\n",
              "191  New ListingSony PlayStation 5 PS5 Blu-Ray Edit...  ...   10250\n",
              "113  New Listing🎁Sony PlayStation 5 Console🎁Digital...  ...   20250\n",
              "..                                                 ...  ...     ...\n",
              "129                   New Listingplaystation 5 console  ...  112400\n",
              "137  Sony PlayStation 5 Console PS5 [Disc Version] ...  ...  115100\n",
              "64   Sony PlayStation 5 PS5 Console Disc Version BR...  ...  119995\n",
              "103  PS5 Sony Playstation 5 Console Disc Version 🔥B...  ...  119999\n",
              "235  Sony Playstation (PS5) Disc/Blu-Ray Edition Co...  ...  120500\n",
              "\n",
              "[239 rows x 9 columns]"
            ]
          },
          "metadata": {},
          "execution_count": 20
        }
      ]
    },
    {
      "cell_type": "code",
      "metadata": {
        "id": "bFmtW5UmK8Mz",
        "colab": {
          "base_uri": "https://localhost:8080/"
        },
        "outputId": "1cfcc646-901e-4d4b-c724-4fc563b40bf5"
      },
      "source": [
        "#df.to_excel('playstation 5 listings.xlsx', index=False)\n",
        "print(df.iloc[103])"
      ],
      "execution_count": null,
      "outputs": [
        {
          "output_type": "stream",
          "name": "stdout",
          "text": [
            "product title           PS5 Sony Playstation 5 Console Disc Version 🔥B...\n",
            "product url             https://www.ebay.com/itm/304128005531?epid=190...\n",
            "subtitle1               Brand New · Sony PlayStation 5 · Sony PlayStat...\n",
            "subtitle2                                                            None\n",
            "stars                                                                   0\n",
            "product review_count                                                 1976\n",
            "price                                                           $1,199.99\n",
            "shipping detail                                             Free shipping\n",
            "amount                                                             119999\n",
            "Name: 103, dtype: object\n"
          ]
        }
      ]
    },
    {
      "cell_type": "code",
      "metadata": {
        "id": "ltFgXk3ngPZl"
      },
      "source": [
        ""
      ],
      "execution_count": null,
      "outputs": []
    },
    {
      "cell_type": "code",
      "metadata": {
        "id": "0dVowVyJgPd-"
      },
      "source": [
        ""
      ],
      "execution_count": null,
      "outputs": []
    },
    {
      "cell_type": "code",
      "metadata": {
        "id": "NZzdEgI8gPiZ"
      },
      "source": [
        ""
      ],
      "execution_count": null,
      "outputs": []
    },
    {
      "cell_type": "code",
      "metadata": {
        "id": "Mah6KJFZgPm9"
      },
      "source": [
        "# https://towardsdatascience.com/scraping-multiple-amazon-stores-with-python-5eab811453a8"
      ],
      "execution_count": null,
      "outputs": []
    },
    {
      "cell_type": "markdown",
      "metadata": {
        "id": "MYx4sDuFgRRp"
      },
      "source": [
        "# scrapping Amazon\n",
        "\n"
      ]
    },
    {
      "cell_type": "code",
      "metadata": {
        "id": "QaWdA-EPgPrM"
      },
      "source": [
        "# https://www.youtube.com/watch?v=_AeudsbKYG8\n",
        "\n",
        "def get_url(search_term):\n",
        "  \"\"\"Genetare the Url from search term\"\"\"\n",
        "  template = \"https://www.amazon.com.mx/s?k={}&__mk_es_MX=%C3%85M%C3%85%C5%BD%C3%95%C3%91&ref=nb_sb_noss_1\"\n",
        "  search_term = search_term.replace(' ', '+')\n",
        "  return template.format(search_term)"
      ],
      "execution_count": null,
      "outputs": []
    },
    {
      "cell_type": "code",
      "metadata": {
        "colab": {
          "base_uri": "https://localhost:8080/"
        },
        "id": "rZMWedCp_ubt",
        "outputId": "4eedbdff-9c7e-411f-de64-a7e472a3b55d"
      },
      "source": [
        "url = get_url('jetson nano')\n",
        "print(url)"
      ],
      "execution_count": null,
      "outputs": [
        {
          "output_type": "stream",
          "name": "stdout",
          "text": [
            "https://www.amazon.com.mx/s?k=jetson+nano&__mk_es_MX=%C3%85M%C3%85%C5%BD%C3%95%C3%91&ref=nb_sb_noss_1\n"
          ]
        }
      ]
    },
    {
      "cell_type": "code",
      "metadata": {
        "id": "FBKQeGWgf65F"
      },
      "source": [
        "wd.get(url)"
      ],
      "execution_count": null,
      "outputs": []
    },
    {
      "cell_type": "code",
      "metadata": {
        "id": "Ut4H2jFyAsIv"
      },
      "source": [
        "# Extract the collection\n",
        "soup = BeautifulSoup(wd.page_source, 'html.parser')"
      ],
      "execution_count": null,
      "outputs": []
    },
    {
      "cell_type": "code",
      "metadata": {
        "id": "-IBanDEDAuv6"
      },
      "source": [
        "results = soup.find_all('div', {'data-component-type': 's-search-result'})"
      ],
      "execution_count": null,
      "outputs": []
    },
    {
      "cell_type": "code",
      "metadata": {
        "colab": {
          "base_uri": "https://localhost:8080/"
        },
        "id": "hoSTENSTCjTA",
        "outputId": "4ba22f13-0e75-47f6-b1ae-b0c742620996"
      },
      "source": [
        "len(results)"
      ],
      "execution_count": null,
      "outputs": [
        {
          "output_type": "execute_result",
          "data": {
            "text/plain": [
              "60"
            ]
          },
          "metadata": {},
          "execution_count": 8
        }
      ]
    },
    {
      "cell_type": "code",
      "metadata": {
        "id": "cFoe7XdIF4_q"
      },
      "source": [
        "# prototype the record\n",
        "item = results[0]\n",
        "atag = item.h2.a\n",
        "description = atag.text.strip()\n",
        "url = 'https://www.amazon.com.mx' + atag.get('href')"
      ],
      "execution_count": null,
      "outputs": []
    },
    {
      "cell_type": "code",
      "metadata": {
        "id": "bXUcrozpHDLC"
      },
      "source": [
        "# price\n",
        "price_parent = item.find('span', 'a-price')\n",
        "price = price_parent.find('span', 'a-offscreen').text"
      ],
      "execution_count": null,
      "outputs": []
    },
    {
      "cell_type": "code",
      "metadata": {
        "id": "1VvqQ5ztH51N"
      },
      "source": [
        "# stars\n",
        "rating = item.i.text"
      ],
      "execution_count": null,
      "outputs": []
    },
    {
      "cell_type": "code",
      "metadata": {
        "id": "YbpNF8tMIe6L"
      },
      "source": [
        "# find the reviews\n",
        "review_count = item.find('span', {'class':'a-size-base'}).text"
      ],
      "execution_count": null,
      "outputs": []
    },
    {
      "cell_type": "code",
      "metadata": {
        "id": "dxeoGqEBRl_x"
      },
      "source": [
        "# error handling\n",
        "def extract_record(item):\n",
        "\n",
        "  # description and url\n",
        "  atag = item.h2.a\n",
        "  description = atag.text.strip()\n",
        "  url = 'https://www.amazon.com.mx' + atag.get('href')\n",
        "\n",
        "  try:\n",
        "    # price\n",
        "    price_parent = item.find('span', 'a-price')\n",
        "    price = price_parent.find('span', 'a-offscreen').text\n",
        "  except AttributeError:\n",
        "    return\n",
        "\n",
        "  try:\n",
        "    # reviews and rating\n",
        "    rating = item.i.text\n",
        "    review_count = item.find('span', {'class':'a-size-base'}).text\n",
        "  except AttributeError:\n",
        "    rating = ''\n",
        "    review_count = ''\n",
        "\n",
        "  result = (description, price, rating, review_count, url)\n",
        "\n",
        "  return result\n"
      ],
      "execution_count": null,
      "outputs": []
    },
    {
      "cell_type": "code",
      "metadata": {
        "id": "mRSYDc99RmLy"
      },
      "source": [
        "records = []\n",
        "results = soup.find_all('div', {'data-component-type': 's-search-result'})\n",
        "\n",
        "for item in results:\n",
        "  record = extract_record(item)\n",
        "  if record:\n",
        "    records.append(record)"
      ],
      "execution_count": null,
      "outputs": []
    },
    {
      "cell_type": "code",
      "metadata": {
        "colab": {
          "base_uri": "https://localhost:8080/"
        },
        "id": "H1PBfIHtU9VO",
        "outputId": "740a3e78-ede2-4af3-eafe-a876df501250"
      },
      "source": [
        "print(records[0])"
      ],
      "execution_count": null,
      "outputs": [
        {
          "output_type": "stream",
          "name": "stdout",
          "text": [
            "('NVIDIA Jetson Nano - Kit de desarrollador de 2 GB', '$1,482.99', '4.4 de 5 estrellas', '272', 'https://www.amazon.com.mx/NVIDIA-Jetson-Nano-Kit-desarrollador/dp/B08J157LHH/ref=sr_1_1?__mk_es_MX=%C3%85M%C3%85%C5%BD%C3%95%C3%91&dchild=1&keywords=jetson+nano&qid=1634270630&sr=8-1')\n"
          ]
        }
      ]
    },
    {
      "cell_type": "code",
      "metadata": {
        "id": "qQ6M534XV7wO"
      },
      "source": [
        "# getting the next page\n",
        "def get_urls(search_term):\n",
        "  \"\"\"Genetare the Url from search term\"\"\"\n",
        "  template = \"https://www.amazon.com.mx/s?k={}&__mk_es_MX=%C3%85M%C3%85%C5%BD%C3%95%C3%91&ref=nb_sb_noss_1\"\n",
        "  search_term = search_term.replace(' ', '+')\n",
        "\n",
        "  # add term query to url\n",
        "  url = template.format(search_term)\n",
        "\n",
        "  # add page query placeholder\n",
        "  url += '&page={}'\n",
        "\n",
        "  return template.format(search_term)\n",
        "\n",
        "# error handling\n",
        "def extract_record(item):\n",
        "\n",
        "  # description and url\n",
        "  atag = item.h2.a\n",
        "  description = atag.text.strip()\n",
        "  url = 'https://www.amazon.com.mx' + atag.get('href')\n",
        "\n",
        "  try:\n",
        "    # price\n",
        "    price_parent = item.find('span', 'a-price')\n",
        "    price = price_parent.find('span', 'a-offscreen').text\n",
        "  except AttributeError:\n",
        "    return\n",
        "\n",
        "  try:\n",
        "    # reviews and rating\n",
        "    rating = item.i.text\n",
        "    review_count = item.find('span', {'class':'a-size-base'}).text\n",
        "  except AttributeError:\n",
        "    rating = ''\n",
        "    review_count = ''\n",
        "\n",
        "  result = (description, price, rating, review_count, url)\n",
        "\n",
        "  return result\n",
        "\n",
        "def main(search_term):\n",
        "  \"\"\"run maun program\"\"\"\n",
        "  # set webdrriver if needed\n",
        "\n",
        "  records = []\n",
        "  url = get_urls(search_term)\n",
        "\n",
        "  for page in range(1,6):\n",
        "    wd.get(url.format(page))\n",
        "    soup = BeautifulSoup(wd.page_source, 'html.parser')\n",
        "    results = soup.find_all('div', {'data-component-type': 's-search-result'})\n",
        "\n",
        "    for item in results:\n",
        "      record = extract_record(item)\n",
        "      if record:\n",
        "        records.append(record)\n",
        "  \n",
        "  wd.close()\n",
        "\n",
        "  return pd.DataFrame(records, columns = ['Description', 'Price', 'Rating', 'Reviews', 'Url'])"
      ],
      "execution_count": null,
      "outputs": []
    },
    {
      "cell_type": "code",
      "metadata": {
        "id": "MxGcYzRCciGD"
      },
      "source": [
        "amazon_scrapping_df = main('jetson nano')"
      ],
      "execution_count": null,
      "outputs": []
    },
    {
      "cell_type": "code",
      "metadata": {
        "colab": {
          "base_uri": "https://localhost:8080/",
          "height": 529
        },
        "id": "LLBTE1A3c_9k",
        "outputId": "ebbd5dd3-71a9-45d0-bde2-57ee3023b05f"
      },
      "source": [
        "amazon_scrapping_df.head(10)"
      ],
      "execution_count": null,
      "outputs": [
        {
          "output_type": "execute_result",
          "data": {
            "text/html": [
              "<div>\n",
              "<style scoped>\n",
              "    .dataframe tbody tr th:only-of-type {\n",
              "        vertical-align: middle;\n",
              "    }\n",
              "\n",
              "    .dataframe tbody tr th {\n",
              "        vertical-align: top;\n",
              "    }\n",
              "\n",
              "    .dataframe thead th {\n",
              "        text-align: right;\n",
              "    }\n",
              "</style>\n",
              "<table border=\"1\" class=\"dataframe\">\n",
              "  <thead>\n",
              "    <tr style=\"text-align: right;\">\n",
              "      <th></th>\n",
              "      <th>Description</th>\n",
              "      <th>Price</th>\n",
              "      <th>Rating</th>\n",
              "      <th>Reviews</th>\n",
              "      <th>Url</th>\n",
              "    </tr>\n",
              "  </thead>\n",
              "  <tbody>\n",
              "    <tr>\n",
              "      <th>0</th>\n",
              "      <td>NVIDIA Jetson Nano - Kit de desarrollador de 2 GB</td>\n",
              "      <td>$1,482.99</td>\n",
              "      <td>4.4 de 5 estrellas</td>\n",
              "      <td>272</td>\n",
              "      <td>https://www.amazon.com.mx/NVIDIA-Jetson-Nano-K...</td>\n",
              "    </tr>\n",
              "    <tr>\n",
              "      <th>1</th>\n",
              "      <td>Módulo de cámara para NVIDIA Jetson Nano Devel...</td>\n",
              "      <td>$1,019.00</td>\n",
              "      <td></td>\n",
              "      <td></td>\n",
              "      <td>https://www.amazon.com.mx/Development-pulgadas...</td>\n",
              "    </tr>\n",
              "    <tr>\n",
              "      <th>2</th>\n",
              "      <td>Waveshare Jetson Nano 2GB Developer Kit Packag...</td>\n",
              "      <td>$3,449.99</td>\n",
              "      <td>4.6 de 5 estrellas</td>\n",
              "      <td>13</td>\n",
              "      <td>https://www.amazon.com.mx/Waveshare-Jetson-Nan...</td>\n",
              "    </tr>\n",
              "    <tr>\n",
              "      <th>3</th>\n",
              "      <td>TOP1 Intel AC8265 - NIC de red inalámbrica de ...</td>\n",
              "      <td>$433.32</td>\n",
              "      <td></td>\n",
              "      <td></td>\n",
              "      <td>https://www.amazon.com.mx/TOP1-Intel-AC8265-in...</td>\n",
              "    </tr>\n",
              "    <tr>\n",
              "      <th>4</th>\n",
              "      <td>Yahboom Carcasa de aleación de aluminio para N...</td>\n",
              "      <td>$585.03</td>\n",
              "      <td>4.0 de 5 estrellas</td>\n",
              "      <td>14</td>\n",
              "      <td>https://www.amazon.com.mx/Yahboom-aleaci%C3%B3...</td>\n",
              "    </tr>\n",
              "    <tr>\n",
              "      <th>5</th>\n",
              "      <td>Geekworm N100 - Carcasa de metal para Jetson N...</td>\n",
              "      <td>$499.00</td>\n",
              "      <td>4.3 de 5 estrellas</td>\n",
              "      <td>79</td>\n",
              "      <td>https://www.amazon.com.mx/Geekworm-NVIDIA-Encl...</td>\n",
              "    </tr>\n",
              "    <tr>\n",
              "      <th>6</th>\n",
              "      <td>Bicool Power Supply Adapter for Jetson Nano (A...</td>\n",
              "      <td>$317.46</td>\n",
              "      <td></td>\n",
              "      <td></td>\n",
              "      <td>https://www.amazon.com.mx/Adaptador-alimentaci...</td>\n",
              "    </tr>\n",
              "    <tr>\n",
              "      <th>7</th>\n",
              "      <td>WENDi NVIDIA Jetson Nano Developer Kit, Small ...</td>\n",
              "      <td>$4,343.46</td>\n",
              "      <td></td>\n",
              "      <td></td>\n",
              "      <td>https://www.amazon.com.mx/WENDi-NVIDIA-Develop...</td>\n",
              "    </tr>\n",
              "    <tr>\n",
              "      <th>8</th>\n",
              "      <td>Geekworm UPS T208 18650 de 6 celdas (salida má...</td>\n",
              "      <td>$1,252.93</td>\n",
              "      <td>3.1 de 5 estrellas</td>\n",
              "      <td>3</td>\n",
              "      <td>https://www.amazon.com.mx/Geekworm-tarjeta-exp...</td>\n",
              "    </tr>\n",
              "    <tr>\n",
              "      <th>9</th>\n",
              "      <td>Nvidia Jetson Xavier NX Developer Kit (8126740...</td>\n",
              "      <td>$23,956.00</td>\n",
              "      <td>4.7 de 5 estrellas</td>\n",
              "      <td>120</td>\n",
              "      <td>https://www.amazon.com.mx/nVidia-Jetson-Xavier...</td>\n",
              "    </tr>\n",
              "  </tbody>\n",
              "</table>\n",
              "</div>"
            ],
            "text/plain": [
              "                                         Description  ...                                                Url\n",
              "0  NVIDIA Jetson Nano - Kit de desarrollador de 2 GB  ...  https://www.amazon.com.mx/NVIDIA-Jetson-Nano-K...\n",
              "1  Módulo de cámara para NVIDIA Jetson Nano Devel...  ...  https://www.amazon.com.mx/Development-pulgadas...\n",
              "2  Waveshare Jetson Nano 2GB Developer Kit Packag...  ...  https://www.amazon.com.mx/Waveshare-Jetson-Nan...\n",
              "3  TOP1 Intel AC8265 - NIC de red inalámbrica de ...  ...  https://www.amazon.com.mx/TOP1-Intel-AC8265-in...\n",
              "4  Yahboom Carcasa de aleación de aluminio para N...  ...  https://www.amazon.com.mx/Yahboom-aleaci%C3%B3...\n",
              "5  Geekworm N100 - Carcasa de metal para Jetson N...  ...  https://www.amazon.com.mx/Geekworm-NVIDIA-Encl...\n",
              "6  Bicool Power Supply Adapter for Jetson Nano (A...  ...  https://www.amazon.com.mx/Adaptador-alimentaci...\n",
              "7  WENDi NVIDIA Jetson Nano Developer Kit, Small ...  ...  https://www.amazon.com.mx/WENDi-NVIDIA-Develop...\n",
              "8  Geekworm UPS T208 18650 de 6 celdas (salida má...  ...  https://www.amazon.com.mx/Geekworm-tarjeta-exp...\n",
              "9  Nvidia Jetson Xavier NX Developer Kit (8126740...  ...  https://www.amazon.com.mx/nVidia-Jetson-Xavier...\n",
              "\n",
              "[10 rows x 5 columns]"
            ]
          },
          "metadata": {},
          "execution_count": 8
        }
      ]
    },
    {
      "cell_type": "code",
      "metadata": {
        "id": "V8qjbUWUNO4h"
      },
      "source": [
        ""
      ],
      "execution_count": null,
      "outputs": []
    },
    {
      "cell_type": "markdown",
      "metadata": {
        "id": "QvKFNlsONVSO"
      },
      "source": [
        "# Scrapping mercado libre"
      ]
    },
    {
      "cell_type": "code",
      "metadata": {
        "id": "Q2N4fxRjNO-c"
      },
      "source": [
        "# Search link\n",
        "# https://listado.mercadolibre.com.mx/monitor#D[A:monitor]\n",
        "# Page 2 "
      ],
      "execution_count": null,
      "outputs": []
    },
    {
      "cell_type": "code",
      "metadata": {
        "id": "IAbq2d90NPD0"
      },
      "source": [
        "def get_url(search_term):\n",
        "  link = 'https://listado.mercadolibre.com.mx/{}'.format(search_term.replace(' ','-'))\n",
        "  return link"
      ],
      "execution_count": null,
      "outputs": []
    },
    {
      "cell_type": "code",
      "metadata": {
        "colab": {
          "base_uri": "https://localhost:8080/"
        },
        "id": "BsKk3cM2NPIU",
        "outputId": "cf260ccb-f673-42a7-e896-62228ed3c30e"
      },
      "source": [
        "print(get_url('monitor curvo'))"
      ],
      "execution_count": null,
      "outputs": [
        {
          "output_type": "stream",
          "name": "stdout",
          "text": [
            "https://listado.mercadolibre.com.mx/monitor-curvo\n"
          ]
        }
      ]
    },
    {
      "cell_type": "code",
      "metadata": {
        "id": "Kv1KrIm5NPMZ"
      },
      "source": [
        "url = get_url('monitor curvo')\n",
        "wd.get(url)\n",
        "soup = BeautifulSoup(wd.page_source, 'html.parser')"
      ],
      "execution_count": null,
      "outputs": []
    },
    {
      "cell_type": "code",
      "metadata": {
        "id": "_lOwEubXZ6Nu"
      },
      "source": [
        "results = soup.find_all('li', {'class': 'ui-search-layout__item'})"
      ],
      "execution_count": null,
      "outputs": []
    },
    {
      "cell_type": "code",
      "metadata": {
        "colab": {
          "base_uri": "https://localhost:8080/"
        },
        "id": "6UZ2vFKhaMgm",
        "outputId": "119e2e17-3d5d-42aa-c59a-b17cafaedcec"
      },
      "source": [
        "print(len(results))"
      ],
      "execution_count": null,
      "outputs": [
        {
          "output_type": "stream",
          "name": "stdout",
          "text": [
            "50\n"
          ]
        }
      ]
    },
    {
      "cell_type": "code",
      "metadata": {
        "colab": {
          "base_uri": "https://localhost:8080/"
        },
        "id": "q3Wd8oqgbaTi",
        "outputId": "5e87e77a-f0b2-4b3e-9070-e3c568d80786"
      },
      "source": [
        "print(results[0])"
      ],
      "execution_count": null,
      "outputs": [
        {
          "output_type": "stream",
          "name": "stdout",
          "text": [
            "<li class=\"ui-search-layout__item\"><div class=\"ui-search-result__wrapper\"><div class=\"andes-card andes-card--flat andes-card--default ui-search-result ui-search-result--core andes-card--padding-default\"><div class=\"ui-search-result__image\"><a class=\"ui-search-link\" href=\"https://www.mercadolibre.com.mx/monitor-gamer-curvo-samsung-c32r500-led-32-dark-blue-gray-100v240v/p/MLM17952953?pdp_filters=category:MLM1656#searchVariation=MLM17952953&amp;position=1&amp;search_layout=stack&amp;type=product&amp;tracking_id=b02694ba-73e3-432e-80a7-5292855d8b8b\" title='Monitor gamer curvo Samsung C32R500 led 32 \" dark blue gray 100V/240V'><div class=\"carousel-container arrow-visible\"><div class=\"slick-initialized slick-slider\"><div class=\"slick-list\" role=\"presentation\"><div class=\"slick-track\"><div class=\"slick-slide slick-active\" data-index=\"0\" style=\"outline:none\" tabindex=\"-1\"><img alt='Monitor gamer curvo Samsung C32R500 led 32 \" dark blue gray 100V/240V' class=\"ui-search-result-image__element\" height=\"160\" src=\"https://http2.mlstatic.com/D_NQ_NP_669402-MLA46167260347_052021-V.webp\" width=\"160\"/></div></div></div></div></div></a></div><div class=\"ui-search-result__content-wrapper\"><div class=\"ui-search-item__highlight-label ui-search-item__highlight-label--best_seller\" style=\"background:#FF7733\"><div class=\"ui-search-item__highlight-label__container\"><label class=\"ui-search-styled-label ui-search-item__highlight-label__text\" for=\"\" style=\"color:#FFFFFF\">MÁS VENDIDO</label></div></div><div class=\"ui-search-item__group ui-search-item__group--title\"><a class=\"ui-search-item__group__element ui-search-link\" href=\"https://www.mercadolibre.com.mx/monitor-gamer-curvo-samsung-c32r500-led-32-dark-blue-gray-100v240v/p/MLM17952953?pdp_filters=category:MLM1656#searchVariation=MLM17952953&amp;position=1&amp;search_layout=stack&amp;type=product&amp;tracking_id=b02694ba-73e3-432e-80a7-5292855d8b8b\" title='Monitor gamer curvo Samsung C32R500 led 32 \" dark blue gray 100V/240V'><h2 class=\"ui-search-item__title\">Monitor gamer curvo Samsung C32R500 led 32 \" dark blue gray 100V/240V</h2></a><a class=\"ui-search-official-store-item__link ui-search-link\" href=\"https://tienda.mercadolibre.com.mx/mercado-libre-electronica\"><p class=\"ui-search-official-store-label ui-search-item__group__element ui-search-color--GRAY\">Vendido por Mercado Libre Electronica</p></a></div><div class=\"ui-search-result__content-columns\"><div class=\"ui-search-result__content-column ui-search-result__content-column--left\" tabindex=\"0\"><div class=\"ui-search-item__group ui-search-item__group--price\"><a class=\"ui-search-item__group__element ui-search-link\" href=\"https://www.mercadolibre.com.mx/monitor-gamer-curvo-samsung-c32r500-led-32-dark-blue-gray-100v240v/p/MLM17952953?pdp_filters=category:MLM1656#searchVariation=MLM17952953&amp;position=1&amp;search_layout=stack&amp;type=product&amp;tracking_id=b02694ba-73e3-432e-80a7-5292855d8b8b\" role=\"none presentation\" title='Monitor gamer curvo Samsung C32R500 led 32 \" dark blue gray 100V/240V'><div class=\"ui-search-price ui-search-price--size-medium\"><div class=\"ui-search-price__second-line\"><span class=\"price-tag ui-search-price__part\"><span class=\"price-tag-text-sr-only\">6599 pesos</span><span aria-hidden=\"true\" class=\"price-tag-amount\"><span class=\"price-tag-symbol\">$</span><span class=\"price-tag-fraction\">6,599</span></span></span><span class=\"ui-search-price__second-line__label\"></span></div></div></a><span class=\"ui-search-item__group__element ui-search-installments ui-search-color--BLACK\"><div class=\"ui-search-installments-prefix\"><span>en</span></div>12x <div class=\"ui-search-price ui-search-price--size-x-tiny ui-search-color--BLACK\"><div class=\"ui-search-price__second-line\"><span class=\"price-tag ui-search-price__part\"><span class=\"price-tag-text-sr-only\">650 pesos con 88 centavos </span><span aria-hidden=\"true\" class=\"price-tag-amount\"><span class=\"price-tag-symbol\">$</span><span class=\"price-tag-fraction\">650</span><span class=\"price-tag-decimal-separator\">.</span><span class=\"price-tag-cents\">88</span></span></span></div></div></span></div><div class=\"ui-search-item__group ui-search-item__group--shipping\"><div class=\"ui-search-item__group__element ui-search-item__group__element--shipping\"><p class=\"ui-search-item__shipping ui-search-item__shipping--free\">Envío gratis</p><span class=\"ui-search-item__fulfillment\"><svg aria-label=\"full\" class=\"ui-search-icon ui-search-icon--full\" viewbox=\"0 0 100 32\" xmlns=\"http://www.w3.org/2000/svg\"><use href=\"#full\"></use></svg></span></div></div></div><div class=\"ui-search-result__content-column ui-search-result__content-column--right\"><div class=\"ui-search-item__group ui-search-item__group--reviews\"><div class=\"ui-search-reviews ui-search-item__group__element\"><span class=\"ui-search-reviews__ratings\"><svg class=\"ui-search-icon ui-search-icon--star ui-search-icon--star-full\" fill=\"#3483fa\" height=\"100%\" viewbox=\"0 0 10 10\" width=\"100%\"><use href=\"#start-full\"></use></svg><svg class=\"ui-search-icon ui-search-icon--star ui-search-icon--star-full\" fill=\"#3483fa\" height=\"100%\" viewbox=\"0 0 10 10\" width=\"100%\"><use href=\"#start-full\"></use></svg><svg class=\"ui-search-icon ui-search-icon--star ui-search-icon--star-full\" fill=\"#3483fa\" height=\"100%\" viewbox=\"0 0 10 10\" width=\"100%\"><use href=\"#start-full\"></use></svg><svg class=\"ui-search-icon ui-search-icon--star ui-search-icon--star-full\" fill=\"#3483fa\" height=\"100%\" viewbox=\"0 0 10 10\" width=\"100%\"><use href=\"#start-full\"></use></svg><svg class=\"ui-search-icon ui-search-icon--star ui-search-icon--star-full\" fill=\"#3483fa\" height=\"100%\" viewbox=\"0 0 10 10\" width=\"100%\"><use href=\"#start-full\"></use></svg></span><span class=\"ui-search-reviews__amount\">6</span></div></div></div></div></div><div class=\"ui-search-result__bookmark\"><form action=\"/search/bookmarks/MLM949533383\" class=\"ui-search-bookmark\" method=\"POST\"><button aria-label=\"Agregar a favoritos\" class=\"ui-search-bookmark__btn\" type=\"submit\"><svg class=\"ui-search-icon ui-search-icon--bookmark ui-search-bookmark__icon-bookmark\" viewbox=\"0 0 22 20\" xmlns=\"http://www.w3.org/2000/svg\"><use href=\"#bookmark\"></use></svg><svg class=\"ui-search-icon ui-search-icon--bookmark ui-search-bookmark__icon-bookmark-fill\" viewbox=\"0 0 22 20\" xmlns=\"http://www.w3.org/2000/svg\"><use href=\"#bookmark\"></use></svg></button><input name=\"logginUrl\" type=\"hidden\" value=\"https://www.mercadolibre.com/jms/mlm/lgz/login?platform_id=ML&amp;go=https%3A%2F%2Flistado.mercadolibre.com.mx%2Fmonitor-curvo&amp;loginType=explicit\"/><input name=\"_csrf\" type=\"hidden\" value=\"iZKCDq9x-CB6fqM45y0HcPYy8aeVLGQ2fjcQ\"/><input name=\"method\" type=\"hidden\" value=\"add\"/><input name=\"itemId\" type=\"hidden\" value=\"MLM949533383\"/></form></div></div></div></li>\n"
          ]
        }
      ]
    },
    {
      "cell_type": "code",
      "metadata": {
        "id": "TM_zcOKIcsvc"
      },
      "source": [
        "# prototype the record\n",
        "item = results[0]\n",
        "atag = item.h2.text.strip()\n",
        "#description = atag.text.strip()\n",
        "#url = 'https://listado.mercadolibre.com.mx/' + atag.get('href')"
      ],
      "execution_count": null,
      "outputs": []
    },
    {
      "cell_type": "code",
      "metadata": {
        "colab": {
          "base_uri": "https://localhost:8080/"
        },
        "id": "WfYab4DBcs0n",
        "outputId": "67b8f3c7-d3da-4837-9390-6fb75ae3d79a"
      },
      "source": [
        "print(item.a['href'])"
      ],
      "execution_count": null,
      "outputs": [
        {
          "output_type": "stream",
          "name": "stdout",
          "text": [
            "https://www.mercadolibre.com.mx/monitor-gamer-curvo-samsung-c32r500-led-32-dark-blue-gray-100v240v/p/MLM17952953?pdp_filters=category:MLM1656#searchVariation=MLM17952953&position=1&search_layout=stack&type=product&tracking_id=b02694ba-73e3-432e-80a7-5292855d8b8b\n"
          ]
        }
      ]
    },
    {
      "cell_type": "code",
      "metadata": {
        "colab": {
          "base_uri": "https://localhost:8080/"
        },
        "id": "k3MwgWuhcs4P",
        "outputId": "c1f655c7-9bbb-4bde-bdbc-26a4ebe2d3d5"
      },
      "source": [
        "price_parent = item.find('div', {'class':'ui-search-price__second-line'})\n",
        "price = price_parent.find('span', 'price-tag-amount').text\n",
        "print(price)"
      ],
      "execution_count": null,
      "outputs": [
        {
          "output_type": "stream",
          "name": "stdout",
          "text": [
            "$6,599\n"
          ]
        }
      ]
    },
    {
      "cell_type": "code",
      "metadata": {
        "colab": {
          "base_uri": "https://localhost:8080/"
        },
        "id": "PMojTIoUXNPp",
        "outputId": "bffd1f9b-e4ae-4c00-9fec-18221411142d"
      },
      "source": [
        "stars = item.find_all('svg', {'class':'ui-search-icon ui-search-icon--star ui-search-icon--star-full'})\n",
        "print(len(stars))"
      ],
      "execution_count": null,
      "outputs": [
        {
          "output_type": "stream",
          "name": "stdout",
          "text": [
            "5\n"
          ]
        }
      ]
    },
    {
      "cell_type": "code",
      "metadata": {
        "colab": {
          "base_uri": "https://localhost:8080/"
        },
        "id": "cflwg0oPeTHN",
        "outputId": "aa60bf1e-e38f-4e48-f9f9-35e0648bae75"
      },
      "source": [
        "reviews = item.find('span', {'class':'ui-search-reviews__amount'}).text\n",
        "print(reviews)"
      ],
      "execution_count": null,
      "outputs": [
        {
          "output_type": "stream",
          "name": "stdout",
          "text": [
            "6\n"
          ]
        }
      ]
    },
    {
      "cell_type": "code",
      "metadata": {
        "id": "hHRs-L1zfpc4"
      },
      "source": [
        "# getting the next page\n",
        "def get_urls(search_term):\n",
        "  \"\"\"Genetare the Url from search term\"\"\"\n",
        "  template = \"https://listado.mercadolibre.com.mx/{}\"\n",
        "  search_term = search_term.replace(' ', '-')\n",
        "\n",
        "  # add term query to url\n",
        "  url = template.format(search_term)\n",
        "\n",
        "  # add page query placeholder\n",
        "  url += '_Desde_{}_NoIndex_True'\n",
        "\n",
        "  return template.format(search_term)\n",
        "\n",
        "# error handling\n",
        "def extract_record(item):\n",
        "\n",
        "  # description and url\n",
        "  description = item.h2.text.strip()\n",
        "  url = item.a['href']\n",
        "\n",
        "  try:\n",
        "    # price\n",
        "    price_parent = item.find('div', {'class':'ui-search-price__second-line'})\n",
        "    price = price_parent.find('span', 'price-tag-amount').text\n",
        "  except AttributeError:\n",
        "    return ''\n",
        "\n",
        "  try:\n",
        "    # reviews and rating\n",
        "    stars = item.find_all('svg', {'class':'ui-search-icon ui-search-icon--star ui-search-icon--star-full'})\n",
        "    reviews = item.find('span', {'class':'ui-search-reviews__amount'}).text\n",
        "  except AttributeError:\n",
        "    rating = ''\n",
        "    reviews = ''\n",
        "\n",
        "  result = (description, price, stars, reviews, url)\n",
        "\n",
        "  return result\n",
        "\n",
        "def main(search_term):\n",
        "  \"\"\"run maun program\"\"\"\n",
        "  # set webdrriver if needed\n",
        "\n",
        "  records = []\n",
        "  url = get_urls(search_term)\n",
        "\n",
        "  items_pp = 1\n",
        "  to_continue = True\n",
        "  \n",
        "  while to_continue:\n",
        "\n",
        "    try:\n",
        "      wd.get(url.format(items_pp))\n",
        "      soup = BeautifulSoup(wd.page_source, 'html.parser')\n",
        "      results = soup.find_all('li', {'class': 'ui-search-layout__item'})\n",
        "\n",
        "      for item in results:\n",
        "        record = extract_record(item)\n",
        "      \n",
        "        if record:\n",
        "          records.append(record)\n",
        "      items_pp += 50 \n",
        "    \n",
        "    except NoSuchElementException:\n",
        "      print('Last page {0}'.format(current_page))\n",
        "      to_continue = False\n",
        "\n",
        "  wd.close()\n",
        "\n",
        "  return pd.DataFrame(records, columns = ['Description', 'Price', 'Rating', 'Reviews', 'Url'])"
      ],
      "execution_count": 7,
      "outputs": []
    },
    {
      "cell_type": "code",
      "metadata": {
        "id": "8jO9qaBVtzRx",
        "colab": {
          "base_uri": "https://localhost:8080/",
          "height": 306
        },
        "outputId": "b4bbc077-eca8-4944-8f03-ae6873bf2313"
      },
      "source": [
        "mercado_libre_df = main('beyerdynamic')"
      ],
      "execution_count": 8,
      "outputs": [
        {
          "output_type": "error",
          "ename": "KeyboardInterrupt",
          "evalue": "ignored",
          "traceback": [
            "\u001b[0;31m---------------------------------------------------------------------------\u001b[0m",
            "\u001b[0;31mKeyboardInterrupt\u001b[0m                         Traceback (most recent call last)",
            "\u001b[0;32m<ipython-input-8-576be950f976>\u001b[0m in \u001b[0;36m<module>\u001b[0;34m()\u001b[0m\n\u001b[0;32m----> 1\u001b[0;31m \u001b[0mmercado_libre_df\u001b[0m \u001b[0;34m=\u001b[0m \u001b[0mmain\u001b[0m\u001b[0;34m(\u001b[0m\u001b[0;34m'beyerdynamic'\u001b[0m\u001b[0;34m)\u001b[0m\u001b[0;34m\u001b[0m\u001b[0;34m\u001b[0m\u001b[0m\n\u001b[0m",
            "\u001b[0;32m<ipython-input-7-12b02e2a60f4>\u001b[0m in \u001b[0;36mmain\u001b[0;34m(search_term)\u001b[0m\n\u001b[1;32m     53\u001b[0m     \u001b[0;32mtry\u001b[0m\u001b[0;34m:\u001b[0m\u001b[0;34m\u001b[0m\u001b[0;34m\u001b[0m\u001b[0m\n\u001b[1;32m     54\u001b[0m       \u001b[0mwd\u001b[0m\u001b[0;34m.\u001b[0m\u001b[0mget\u001b[0m\u001b[0;34m(\u001b[0m\u001b[0murl\u001b[0m\u001b[0;34m.\u001b[0m\u001b[0mformat\u001b[0m\u001b[0;34m(\u001b[0m\u001b[0mitems_pp\u001b[0m\u001b[0;34m)\u001b[0m\u001b[0;34m)\u001b[0m\u001b[0;34m\u001b[0m\u001b[0;34m\u001b[0m\u001b[0m\n\u001b[0;32m---> 55\u001b[0;31m       \u001b[0msoup\u001b[0m \u001b[0;34m=\u001b[0m \u001b[0mBeautifulSoup\u001b[0m\u001b[0;34m(\u001b[0m\u001b[0mwd\u001b[0m\u001b[0;34m.\u001b[0m\u001b[0mpage_source\u001b[0m\u001b[0;34m,\u001b[0m \u001b[0;34m'html.parser'\u001b[0m\u001b[0;34m)\u001b[0m\u001b[0;34m\u001b[0m\u001b[0;34m\u001b[0m\u001b[0m\n\u001b[0m\u001b[1;32m     56\u001b[0m       \u001b[0mresults\u001b[0m \u001b[0;34m=\u001b[0m \u001b[0msoup\u001b[0m\u001b[0;34m.\u001b[0m\u001b[0mfind_all\u001b[0m\u001b[0;34m(\u001b[0m\u001b[0;34m'li'\u001b[0m\u001b[0;34m,\u001b[0m \u001b[0;34m{\u001b[0m\u001b[0;34m'class'\u001b[0m\u001b[0;34m:\u001b[0m \u001b[0;34m'ui-search-layout__item'\u001b[0m\u001b[0;34m}\u001b[0m\u001b[0;34m)\u001b[0m\u001b[0;34m\u001b[0m\u001b[0;34m\u001b[0m\u001b[0m\n\u001b[1;32m     57\u001b[0m \u001b[0;34m\u001b[0m\u001b[0m\n",
            "\u001b[0;32m/usr/local/lib/python3.7/dist-packages/bs4/__init__.py\u001b[0m in \u001b[0;36m__init__\u001b[0;34m(self, markup, features, builder, parse_only, from_encoding, exclude_encodings, **kwargs)\u001b[0m\n\u001b[1;32m    280\u001b[0m             \u001b[0mself\u001b[0m\u001b[0;34m.\u001b[0m\u001b[0mreset\u001b[0m\u001b[0;34m(\u001b[0m\u001b[0;34m)\u001b[0m\u001b[0;34m\u001b[0m\u001b[0;34m\u001b[0m\u001b[0m\n\u001b[1;32m    281\u001b[0m             \u001b[0;32mtry\u001b[0m\u001b[0;34m:\u001b[0m\u001b[0;34m\u001b[0m\u001b[0;34m\u001b[0m\u001b[0m\n\u001b[0;32m--> 282\u001b[0;31m                 \u001b[0mself\u001b[0m\u001b[0;34m.\u001b[0m\u001b[0m_feed\u001b[0m\u001b[0;34m(\u001b[0m\u001b[0;34m)\u001b[0m\u001b[0;34m\u001b[0m\u001b[0;34m\u001b[0m\u001b[0m\n\u001b[0m\u001b[1;32m    283\u001b[0m                 \u001b[0;32mbreak\u001b[0m\u001b[0;34m\u001b[0m\u001b[0;34m\u001b[0m\u001b[0m\n\u001b[1;32m    284\u001b[0m             \u001b[0;32mexcept\u001b[0m \u001b[0mParserRejectedMarkup\u001b[0m\u001b[0;34m:\u001b[0m\u001b[0;34m\u001b[0m\u001b[0;34m\u001b[0m\u001b[0m\n",
            "\u001b[0;32m/usr/local/lib/python3.7/dist-packages/bs4/__init__.py\u001b[0m in \u001b[0;36m_feed\u001b[0;34m(self)\u001b[0m\n\u001b[1;32m    341\u001b[0m         \u001b[0mself\u001b[0m\u001b[0;34m.\u001b[0m\u001b[0mbuilder\u001b[0m\u001b[0;34m.\u001b[0m\u001b[0mreset\u001b[0m\u001b[0;34m(\u001b[0m\u001b[0;34m)\u001b[0m\u001b[0;34m\u001b[0m\u001b[0;34m\u001b[0m\u001b[0m\n\u001b[1;32m    342\u001b[0m \u001b[0;34m\u001b[0m\u001b[0m\n\u001b[0;32m--> 343\u001b[0;31m         \u001b[0mself\u001b[0m\u001b[0;34m.\u001b[0m\u001b[0mbuilder\u001b[0m\u001b[0;34m.\u001b[0m\u001b[0mfeed\u001b[0m\u001b[0;34m(\u001b[0m\u001b[0mself\u001b[0m\u001b[0;34m.\u001b[0m\u001b[0mmarkup\u001b[0m\u001b[0;34m)\u001b[0m\u001b[0;34m\u001b[0m\u001b[0;34m\u001b[0m\u001b[0m\n\u001b[0m\u001b[1;32m    344\u001b[0m         \u001b[0;31m# Close out any unfinished strings and close all the open tags.\u001b[0m\u001b[0;34m\u001b[0m\u001b[0;34m\u001b[0m\u001b[0;34m\u001b[0m\u001b[0m\n\u001b[1;32m    345\u001b[0m         \u001b[0mself\u001b[0m\u001b[0;34m.\u001b[0m\u001b[0mendData\u001b[0m\u001b[0;34m(\u001b[0m\u001b[0;34m)\u001b[0m\u001b[0;34m\u001b[0m\u001b[0;34m\u001b[0m\u001b[0m\n",
            "\u001b[0;32m/usr/local/lib/python3.7/dist-packages/bs4/builder/_htmlparser.py\u001b[0m in \u001b[0;36mfeed\u001b[0;34m(self, markup)\u001b[0m\n\u001b[1;32m    245\u001b[0m         \u001b[0mparser\u001b[0m\u001b[0;34m.\u001b[0m\u001b[0msoup\u001b[0m \u001b[0;34m=\u001b[0m \u001b[0mself\u001b[0m\u001b[0;34m.\u001b[0m\u001b[0msoup\u001b[0m\u001b[0;34m\u001b[0m\u001b[0;34m\u001b[0m\u001b[0m\n\u001b[1;32m    246\u001b[0m         \u001b[0;32mtry\u001b[0m\u001b[0;34m:\u001b[0m\u001b[0;34m\u001b[0m\u001b[0;34m\u001b[0m\u001b[0m\n\u001b[0;32m--> 247\u001b[0;31m             \u001b[0mparser\u001b[0m\u001b[0;34m.\u001b[0m\u001b[0mfeed\u001b[0m\u001b[0;34m(\u001b[0m\u001b[0mmarkup\u001b[0m\u001b[0;34m)\u001b[0m\u001b[0;34m\u001b[0m\u001b[0;34m\u001b[0m\u001b[0m\n\u001b[0m\u001b[1;32m    248\u001b[0m             \u001b[0mparser\u001b[0m\u001b[0;34m.\u001b[0m\u001b[0mclose\u001b[0m\u001b[0;34m(\u001b[0m\u001b[0;34m)\u001b[0m\u001b[0;34m\u001b[0m\u001b[0;34m\u001b[0m\u001b[0m\n\u001b[1;32m    249\u001b[0m         \u001b[0;32mexcept\u001b[0m \u001b[0mHTMLParseError\u001b[0m \u001b[0;32mas\u001b[0m \u001b[0me\u001b[0m\u001b[0;34m:\u001b[0m\u001b[0;34m\u001b[0m\u001b[0;34m\u001b[0m\u001b[0m\n",
            "\u001b[0;32m/usr/lib/python3.7/html/parser.py\u001b[0m in \u001b[0;36mfeed\u001b[0;34m(self, data)\u001b[0m\n\u001b[1;32m    109\u001b[0m         \"\"\"\n\u001b[1;32m    110\u001b[0m         \u001b[0mself\u001b[0m\u001b[0;34m.\u001b[0m\u001b[0mrawdata\u001b[0m \u001b[0;34m=\u001b[0m \u001b[0mself\u001b[0m\u001b[0;34m.\u001b[0m\u001b[0mrawdata\u001b[0m \u001b[0;34m+\u001b[0m \u001b[0mdata\u001b[0m\u001b[0;34m\u001b[0m\u001b[0;34m\u001b[0m\u001b[0m\n\u001b[0;32m--> 111\u001b[0;31m         \u001b[0mself\u001b[0m\u001b[0;34m.\u001b[0m\u001b[0mgoahead\u001b[0m\u001b[0;34m(\u001b[0m\u001b[0;36m0\u001b[0m\u001b[0;34m)\u001b[0m\u001b[0;34m\u001b[0m\u001b[0;34m\u001b[0m\u001b[0m\n\u001b[0m\u001b[1;32m    112\u001b[0m \u001b[0;34m\u001b[0m\u001b[0m\n\u001b[1;32m    113\u001b[0m     \u001b[0;32mdef\u001b[0m \u001b[0mclose\u001b[0m\u001b[0;34m(\u001b[0m\u001b[0mself\u001b[0m\u001b[0;34m)\u001b[0m\u001b[0;34m:\u001b[0m\u001b[0;34m\u001b[0m\u001b[0;34m\u001b[0m\u001b[0m\n",
            "\u001b[0;32m/usr/lib/python3.7/html/parser.py\u001b[0m in \u001b[0;36mgoahead\u001b[0;34m(self, end)\u001b[0m\n\u001b[1;32m    169\u001b[0m             \u001b[0;32mif\u001b[0m \u001b[0mstartswith\u001b[0m\u001b[0;34m(\u001b[0m\u001b[0;34m'<'\u001b[0m\u001b[0;34m,\u001b[0m \u001b[0mi\u001b[0m\u001b[0;34m)\u001b[0m\u001b[0;34m:\u001b[0m\u001b[0;34m\u001b[0m\u001b[0;34m\u001b[0m\u001b[0m\n\u001b[1;32m    170\u001b[0m                 \u001b[0;32mif\u001b[0m \u001b[0mstarttagopen\u001b[0m\u001b[0;34m.\u001b[0m\u001b[0mmatch\u001b[0m\u001b[0;34m(\u001b[0m\u001b[0mrawdata\u001b[0m\u001b[0;34m,\u001b[0m \u001b[0mi\u001b[0m\u001b[0;34m)\u001b[0m\u001b[0;34m:\u001b[0m \u001b[0;31m# < + letter\u001b[0m\u001b[0;34m\u001b[0m\u001b[0;34m\u001b[0m\u001b[0m\n\u001b[0;32m--> 171\u001b[0;31m                     \u001b[0mk\u001b[0m \u001b[0;34m=\u001b[0m \u001b[0mself\u001b[0m\u001b[0;34m.\u001b[0m\u001b[0mparse_starttag\u001b[0m\u001b[0;34m(\u001b[0m\u001b[0mi\u001b[0m\u001b[0;34m)\u001b[0m\u001b[0;34m\u001b[0m\u001b[0;34m\u001b[0m\u001b[0m\n\u001b[0m\u001b[1;32m    172\u001b[0m                 \u001b[0;32melif\u001b[0m \u001b[0mstartswith\u001b[0m\u001b[0;34m(\u001b[0m\u001b[0;34m\"</\"\u001b[0m\u001b[0;34m,\u001b[0m \u001b[0mi\u001b[0m\u001b[0;34m)\u001b[0m\u001b[0;34m:\u001b[0m\u001b[0;34m\u001b[0m\u001b[0;34m\u001b[0m\u001b[0m\n\u001b[1;32m    173\u001b[0m                     \u001b[0mk\u001b[0m \u001b[0;34m=\u001b[0m \u001b[0mself\u001b[0m\u001b[0;34m.\u001b[0m\u001b[0mparse_endtag\u001b[0m\u001b[0;34m(\u001b[0m\u001b[0mi\u001b[0m\u001b[0;34m)\u001b[0m\u001b[0;34m\u001b[0m\u001b[0;34m\u001b[0m\u001b[0m\n",
            "\u001b[0;32m/usr/lib/python3.7/html/parser.py\u001b[0m in \u001b[0;36mparse_starttag\u001b[0;34m(self, i)\u001b[0m\n\u001b[1;32m    301\u001b[0m     \u001b[0;32mdef\u001b[0m \u001b[0mparse_starttag\u001b[0m\u001b[0;34m(\u001b[0m\u001b[0mself\u001b[0m\u001b[0;34m,\u001b[0m \u001b[0mi\u001b[0m\u001b[0;34m)\u001b[0m\u001b[0;34m:\u001b[0m\u001b[0;34m\u001b[0m\u001b[0;34m\u001b[0m\u001b[0m\n\u001b[1;32m    302\u001b[0m         \u001b[0mself\u001b[0m\u001b[0;34m.\u001b[0m\u001b[0m__starttag_text\u001b[0m \u001b[0;34m=\u001b[0m \u001b[0;32mNone\u001b[0m\u001b[0;34m\u001b[0m\u001b[0;34m\u001b[0m\u001b[0m\n\u001b[0;32m--> 303\u001b[0;31m         \u001b[0mendpos\u001b[0m \u001b[0;34m=\u001b[0m \u001b[0mself\u001b[0m\u001b[0;34m.\u001b[0m\u001b[0mcheck_for_whole_start_tag\u001b[0m\u001b[0;34m(\u001b[0m\u001b[0mi\u001b[0m\u001b[0;34m)\u001b[0m\u001b[0;34m\u001b[0m\u001b[0;34m\u001b[0m\u001b[0m\n\u001b[0m\u001b[1;32m    304\u001b[0m         \u001b[0;32mif\u001b[0m \u001b[0mendpos\u001b[0m \u001b[0;34m<\u001b[0m \u001b[0;36m0\u001b[0m\u001b[0;34m:\u001b[0m\u001b[0;34m\u001b[0m\u001b[0;34m\u001b[0m\u001b[0m\n\u001b[1;32m    305\u001b[0m             \u001b[0;32mreturn\u001b[0m \u001b[0mendpos\u001b[0m\u001b[0;34m\u001b[0m\u001b[0;34m\u001b[0m\u001b[0m\n",
            "\u001b[0;32m/usr/lib/python3.7/html/parser.py\u001b[0m in \u001b[0;36mcheck_for_whole_start_tag\u001b[0;34m(self, i)\u001b[0m\n\u001b[1;32m    356\u001b[0m             \u001b[0mj\u001b[0m \u001b[0;34m=\u001b[0m \u001b[0mm\u001b[0m\u001b[0;34m.\u001b[0m\u001b[0mend\u001b[0m\u001b[0;34m(\u001b[0m\u001b[0;34m)\u001b[0m\u001b[0;34m\u001b[0m\u001b[0;34m\u001b[0m\u001b[0m\n\u001b[1;32m    357\u001b[0m             \u001b[0mnext\u001b[0m \u001b[0;34m=\u001b[0m \u001b[0mrawdata\u001b[0m\u001b[0;34m[\u001b[0m\u001b[0mj\u001b[0m\u001b[0;34m:\u001b[0m\u001b[0mj\u001b[0m\u001b[0;34m+\u001b[0m\u001b[0;36m1\u001b[0m\u001b[0;34m]\u001b[0m\u001b[0;34m\u001b[0m\u001b[0;34m\u001b[0m\u001b[0m\n\u001b[0;32m--> 358\u001b[0;31m             \u001b[0;32mif\u001b[0m \u001b[0mnext\u001b[0m \u001b[0;34m==\u001b[0m \u001b[0;34m\">\"\u001b[0m\u001b[0;34m:\u001b[0m\u001b[0;34m\u001b[0m\u001b[0;34m\u001b[0m\u001b[0m\n\u001b[0m\u001b[1;32m    359\u001b[0m                 \u001b[0;32mreturn\u001b[0m \u001b[0mj\u001b[0m \u001b[0;34m+\u001b[0m \u001b[0;36m1\u001b[0m\u001b[0;34m\u001b[0m\u001b[0;34m\u001b[0m\u001b[0m\n\u001b[1;32m    360\u001b[0m             \u001b[0;32mif\u001b[0m \u001b[0mnext\u001b[0m \u001b[0;34m==\u001b[0m \u001b[0;34m\"/\"\u001b[0m\u001b[0;34m:\u001b[0m\u001b[0;34m\u001b[0m\u001b[0;34m\u001b[0m\u001b[0m\n",
            "\u001b[0;31mKeyboardInterrupt\u001b[0m: "
          ]
        }
      ]
    },
    {
      "cell_type": "code",
      "metadata": {
        "id": "wMSEQf9DtzXI",
        "colab": {
          "base_uri": "https://localhost:8080/",
          "height": 163
        },
        "outputId": "25c4e7f8-a4c4-4fd9-f749-2acab5c4a4ab"
      },
      "source": [
        "mercado_libre_df.head(10)"
      ],
      "execution_count": 9,
      "outputs": [
        {
          "output_type": "error",
          "ename": "NameError",
          "evalue": "ignored",
          "traceback": [
            "\u001b[0;31m---------------------------------------------------------------------------\u001b[0m",
            "\u001b[0;31mNameError\u001b[0m                                 Traceback (most recent call last)",
            "\u001b[0;32m<ipython-input-9-869212b78f40>\u001b[0m in \u001b[0;36m<module>\u001b[0;34m()\u001b[0m\n\u001b[0;32m----> 1\u001b[0;31m \u001b[0mmercado_libre_df\u001b[0m\u001b[0;34m.\u001b[0m\u001b[0mhead\u001b[0m\u001b[0;34m(\u001b[0m\u001b[0;36m10\u001b[0m\u001b[0;34m)\u001b[0m\u001b[0;34m\u001b[0m\u001b[0;34m\u001b[0m\u001b[0m\n\u001b[0m",
            "\u001b[0;31mNameError\u001b[0m: name 'mercado_libre_df' is not defined"
          ]
        }
      ]
    },
    {
      "cell_type": "code",
      "metadata": {
        "id": "DivFYyxDtzcD"
      },
      "source": [
        ""
      ],
      "execution_count": null,
      "outputs": []
    },
    {
      "cell_type": "code",
      "metadata": {
        "id": "8pAKN1Pwtzg5"
      },
      "source": [
        ""
      ],
      "execution_count": null,
      "outputs": []
    },
    {
      "cell_type": "code",
      "metadata": {
        "id": "9FeP8Dcetzmi"
      },
      "source": [
        ""
      ],
      "execution_count": null,
      "outputs": []
    },
    {
      "cell_type": "code",
      "metadata": {
        "id": "YsqaT457tzqJ"
      },
      "source": [
        "'''\n",
        "https://www.amazon.com.mx/Crawler-Control-Electric-Waterproof-Included/dp/B087NXVYF2/ref=pd_day0_2/146-0449573-7191119?pd_rd_w=5jHPH&pf_rd_p=1c8f9346-a87e-48c7-994a-82c93e96af91&pf_rd_r=76AYTQ5FQTV6VCEBHE6A&pd_rd_r=3fdccf3c-3e6a-44ad-b4a6-b96105683dec&pd_rd_wg=HNu3a&pd_rd_i=B087NXVYF2&psc=1\n",
        "https://github.com/NVIDIA-AI-IOT/jetracer#cars\n",
        "https://gsurma.medium.com/jetson-self-driving-toy-car-part-1-4341c139c0f2\n",
        "\n",
        "'''"
      ],
      "execution_count": null,
      "outputs": []
    }
  ]
}