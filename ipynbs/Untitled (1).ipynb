{
  "nbformat": 4,
  "nbformat_minor": 0,
  "metadata": {
    "colab": {
      "name": "Untitled.ipynb",
      "provenance": []
    },
    "kernelspec": {
      "name": "python3",
      "display_name": "Python 3"
    },
    "language_info": {
      "name": "python"
    }
  },
  "cells": [
    {
      "cell_type": "code",
      "metadata": {
        "id": "fjhN1TYaNbvj"
      },
      "source": [
        "import pandas as pd\n",
        "import requests\n",
        "from bs4 import BeautifulSoup"
      ],
      "execution_count": 1,
      "outputs": []
    },
    {
      "cell_type": "code",
      "metadata": {
        "id": "NZIUhBwGN2O8"
      },
      "source": [
        "def get_price(url):\n",
        "  r = requests.get(url)\n",
        "  soup = BeautifulSoup(r.text, 'html.parser')\n",
        "  price = soup.find('span',{'itemprop': 'price'})['content']\n",
        "  return price\n"
      ],
      "execution_count": 4,
      "outputs": []
    },
    {
      "cell_type": "code",
      "metadata": {
        "colab": {
          "base_uri": "https://localhost:8080/"
        },
        "id": "irMeGSDWN2k7",
        "outputId": "2afaf3a5-13a7-4dd2-ebb1-dd4c8823e45a"
      },
      "source": [
        "print(get_price('https://www.ebay.com/itm/393514670181?_trkparms=amclksrc%3DITM%26aid%3D1110010%26algo%3DHOMESPLICE.DISCCARDS%26ao%3D1%26asc%3D20200818141627%26meid%3D35d3db7929d24681ae460bcffcef9ec3%26pid%3D101110%26rk%3D1%26rkt%3D1%26sd%3D234145481103%26itm%3D393514670181%26pmt%3D1%26noa%3D0%26pg%3D2563228%26algv%3Ddefault%26brand%3DPUMA&_trksid=p2563228.c101110.m1982&amdata=cksum%3A39351467018135d3db7929d24681ae460bcffcef9ec3%7Cenc%3AAQAGAAAB4LAfpiaX1XNFiDFtpTEdZWAf3k%252BG0cxQdDyso%252BsfnJRewPxG54S3DsmowvuLtaYAL074LDQn8f4BO%252FQ4tnhMeCvyvItOMvn9aGVeR0jIgBiCJKa5jp6Qg1tJFMDfSONIILjnzUX%252FKOKhppxys0f9I%252BhBJ7txJuN4sF4CAUDbMdW7mKbQbYhpUMJi5Ezm%252FRh7WDuJ%252FuD%252FWp4JgcihztnZkJJdE3CEvi5CylVvWmrSLJX30dPOgNFdI%252BBfMJY4vegu%252FqE%252FUIaUVAg8GtZxGtDvMSj59qitBkZt%252F2Ca%252BOr8%252FHCTDBnDMklT7uinO3rowg3kguth%252FHYBMbLNHLR4zlcxS01QbVicZjnG7WlsxuvEcwwVuO0r3zPQ0oYhrjy0P1PuKktzVwA2ZySbCaTEolkwcuJZhNRyJNwgoTAAcn3c8t9FFMoPrjKC%252B9sEi5xsQbxCP33HknaJY1JzR05ZbcHyRWDyfj7YQViK9%252BN%252F4wAQDqkzxpncA6zwjCBmRefCVqs5%252BseobqNDkB3NM358%252BasmsJShdxMnLtDFo1%252BIRRPztK2GZTDxSlBS7PjPZAS2lZH0CJE4mBgBqa2VhF1hY%252Fm%252FEjh8uwEqY%252FTZD484aCkIXKN%252F7ztdjmv4vPtI1n4MPc42sw%253D%253D%7Campid%3APL_CLK%7Cclp%3A2563228'))"
      ],
      "execution_count": 5,
      "outputs": [
        {
          "output_type": "stream",
          "name": "stdout",
          "text": [
            "82.99\n"
          ]
        }
      ]
    },
    {
      "cell_type": "code",
      "metadata": {
        "id": "mAj96hmCN2rl"
      },
      "source": [
        ""
      ],
      "execution_count": null,
      "outputs": []
    },
    {
      "cell_type": "markdown",
      "metadata": {
        "id": "-JET4ySUPFYh"
      },
      "source": [
        "### Using selenium\n"
      ]
    },
    {
      "cell_type": "code",
      "metadata": {
        "colab": {
          "base_uri": "https://localhost:8080/"
        },
        "id": "lFq6-47NN2wz",
        "outputId": "35466284-112a-47e4-fe00-b9ff64ea0ea9"
      },
      "source": [
        "!pip install selenium\n",
        "!apt-get update \n",
        "!apt install chromium-chromedriver\n",
        "\n",
        "from selenium import webdriver\n",
        "chrome_options = webdriver.ChromeOptions()\n",
        "chrome_options.add_argument('--headless')\n",
        "chrome_options.add_argument('--no-sandbox')\n",
        "chrome_options.add_argument('--disable-dev-shm-usage')\n",
        "driver = webdriver.Chrome('chromedriver',chrome_options=chrome_options)"
      ],
      "execution_count": 1,
      "outputs": [
        {
          "output_type": "stream",
          "name": "stdout",
          "text": [
            "Collecting selenium\n",
            "  Downloading selenium-3.141.0-py2.py3-none-any.whl (904 kB)\n",
            "\u001b[?25l\r\u001b[K     |▍                               | 10 kB 13.0 MB/s eta 0:00:01\r\u001b[K     |▊                               | 20 kB 9.1 MB/s eta 0:00:01\r\u001b[K     |█                               | 30 kB 7.6 MB/s eta 0:00:01\r\u001b[K     |█▌                              | 40 kB 6.9 MB/s eta 0:00:01\r\u001b[K     |█▉                              | 51 kB 5.5 MB/s eta 0:00:01\r\u001b[K     |██▏                             | 61 kB 5.5 MB/s eta 0:00:01\r\u001b[K     |██▌                             | 71 kB 4.7 MB/s eta 0:00:01\r\u001b[K     |███                             | 81 kB 5.3 MB/s eta 0:00:01\r\u001b[K     |███▎                            | 92 kB 5.1 MB/s eta 0:00:01\r\u001b[K     |███▋                            | 102 kB 5.2 MB/s eta 0:00:01\r\u001b[K     |████                            | 112 kB 5.2 MB/s eta 0:00:01\r\u001b[K     |████▍                           | 122 kB 5.2 MB/s eta 0:00:01\r\u001b[K     |████▊                           | 133 kB 5.2 MB/s eta 0:00:01\r\u001b[K     |█████                           | 143 kB 5.2 MB/s eta 0:00:01\r\u001b[K     |█████▍                          | 153 kB 5.2 MB/s eta 0:00:01\r\u001b[K     |█████▉                          | 163 kB 5.2 MB/s eta 0:00:01\r\u001b[K     |██████▏                         | 174 kB 5.2 MB/s eta 0:00:01\r\u001b[K     |██████▌                         | 184 kB 5.2 MB/s eta 0:00:01\r\u001b[K     |██████▉                         | 194 kB 5.2 MB/s eta 0:00:01\r\u001b[K     |███████▎                        | 204 kB 5.2 MB/s eta 0:00:01\r\u001b[K     |███████▋                        | 215 kB 5.2 MB/s eta 0:00:01\r\u001b[K     |████████                        | 225 kB 5.2 MB/s eta 0:00:01\r\u001b[K     |████████▎                       | 235 kB 5.2 MB/s eta 0:00:01\r\u001b[K     |████████▊                       | 245 kB 5.2 MB/s eta 0:00:01\r\u001b[K     |█████████                       | 256 kB 5.2 MB/s eta 0:00:01\r\u001b[K     |█████████▍                      | 266 kB 5.2 MB/s eta 0:00:01\r\u001b[K     |█████████▉                      | 276 kB 5.2 MB/s eta 0:00:01\r\u001b[K     |██████████▏                     | 286 kB 5.2 MB/s eta 0:00:01\r\u001b[K     |██████████▌                     | 296 kB 5.2 MB/s eta 0:00:01\r\u001b[K     |██████████▉                     | 307 kB 5.2 MB/s eta 0:00:01\r\u001b[K     |███████████▎                    | 317 kB 5.2 MB/s eta 0:00:01\r\u001b[K     |███████████▋                    | 327 kB 5.2 MB/s eta 0:00:01\r\u001b[K     |████████████                    | 337 kB 5.2 MB/s eta 0:00:01\r\u001b[K     |████████████▎                   | 348 kB 5.2 MB/s eta 0:00:01\r\u001b[K     |████████████▊                   | 358 kB 5.2 MB/s eta 0:00:01\r\u001b[K     |█████████████                   | 368 kB 5.2 MB/s eta 0:00:01\r\u001b[K     |█████████████▍                  | 378 kB 5.2 MB/s eta 0:00:01\r\u001b[K     |█████████████▊                  | 389 kB 5.2 MB/s eta 0:00:01\r\u001b[K     |██████████████▏                 | 399 kB 5.2 MB/s eta 0:00:01\r\u001b[K     |██████████████▌                 | 409 kB 5.2 MB/s eta 0:00:01\r\u001b[K     |██████████████▉                 | 419 kB 5.2 MB/s eta 0:00:01\r\u001b[K     |███████████████▏                | 430 kB 5.2 MB/s eta 0:00:01\r\u001b[K     |███████████████▋                | 440 kB 5.2 MB/s eta 0:00:01\r\u001b[K     |████████████████                | 450 kB 5.2 MB/s eta 0:00:01\r\u001b[K     |████████████████▎               | 460 kB 5.2 MB/s eta 0:00:01\r\u001b[K     |████████████████▋               | 471 kB 5.2 MB/s eta 0:00:01\r\u001b[K     |█████████████████               | 481 kB 5.2 MB/s eta 0:00:01\r\u001b[K     |█████████████████▍              | 491 kB 5.2 MB/s eta 0:00:01\r\u001b[K     |█████████████████▊              | 501 kB 5.2 MB/s eta 0:00:01\r\u001b[K     |██████████████████▏             | 512 kB 5.2 MB/s eta 0:00:01\r\u001b[K     |██████████████████▌             | 522 kB 5.2 MB/s eta 0:00:01\r\u001b[K     |██████████████████▉             | 532 kB 5.2 MB/s eta 0:00:01\r\u001b[K     |███████████████████▏            | 542 kB 5.2 MB/s eta 0:00:01\r\u001b[K     |███████████████████▋            | 552 kB 5.2 MB/s eta 0:00:01\r\u001b[K     |████████████████████            | 563 kB 5.2 MB/s eta 0:00:01\r\u001b[K     |████████████████████▎           | 573 kB 5.2 MB/s eta 0:00:01\r\u001b[K     |████████████████████▋           | 583 kB 5.2 MB/s eta 0:00:01\r\u001b[K     |█████████████████████           | 593 kB 5.2 MB/s eta 0:00:01\r\u001b[K     |█████████████████████▍          | 604 kB 5.2 MB/s eta 0:00:01\r\u001b[K     |█████████████████████▊          | 614 kB 5.2 MB/s eta 0:00:01\r\u001b[K     |██████████████████████          | 624 kB 5.2 MB/s eta 0:00:01\r\u001b[K     |██████████████████████▌         | 634 kB 5.2 MB/s eta 0:00:01\r\u001b[K     |██████████████████████▉         | 645 kB 5.2 MB/s eta 0:00:01\r\u001b[K     |███████████████████████▏        | 655 kB 5.2 MB/s eta 0:00:01\r\u001b[K     |███████████████████████▌        | 665 kB 5.2 MB/s eta 0:00:01\r\u001b[K     |████████████████████████        | 675 kB 5.2 MB/s eta 0:00:01\r\u001b[K     |████████████████████████▎       | 686 kB 5.2 MB/s eta 0:00:01\r\u001b[K     |████████████████████████▋       | 696 kB 5.2 MB/s eta 0:00:01\r\u001b[K     |█████████████████████████       | 706 kB 5.2 MB/s eta 0:00:01\r\u001b[K     |█████████████████████████▍      | 716 kB 5.2 MB/s eta 0:00:01\r\u001b[K     |█████████████████████████▊      | 727 kB 5.2 MB/s eta 0:00:01\r\u001b[K     |██████████████████████████      | 737 kB 5.2 MB/s eta 0:00:01\r\u001b[K     |██████████████████████████▍     | 747 kB 5.2 MB/s eta 0:00:01\r\u001b[K     |██████████████████████████▉     | 757 kB 5.2 MB/s eta 0:00:01\r\u001b[K     |███████████████████████████▏    | 768 kB 5.2 MB/s eta 0:00:01\r\u001b[K     |███████████████████████████▌    | 778 kB 5.2 MB/s eta 0:00:01\r\u001b[K     |████████████████████████████    | 788 kB 5.2 MB/s eta 0:00:01\r\u001b[K     |████████████████████████████▎   | 798 kB 5.2 MB/s eta 0:00:01\r\u001b[K     |████████████████████████████▋   | 808 kB 5.2 MB/s eta 0:00:01\r\u001b[K     |█████████████████████████████   | 819 kB 5.2 MB/s eta 0:00:01\r\u001b[K     |█████████████████████████████▍  | 829 kB 5.2 MB/s eta 0:00:01\r\u001b[K     |█████████████████████████████▊  | 839 kB 5.2 MB/s eta 0:00:01\r\u001b[K     |██████████████████████████████  | 849 kB 5.2 MB/s eta 0:00:01\r\u001b[K     |██████████████████████████████▍ | 860 kB 5.2 MB/s eta 0:00:01\r\u001b[K     |██████████████████████████████▉ | 870 kB 5.2 MB/s eta 0:00:01\r\u001b[K     |███████████████████████████████▏| 880 kB 5.2 MB/s eta 0:00:01\r\u001b[K     |███████████████████████████████▌| 890 kB 5.2 MB/s eta 0:00:01\r\u001b[K     |███████████████████████████████▉| 901 kB 5.2 MB/s eta 0:00:01\r\u001b[K     |████████████████████████████████| 904 kB 5.2 MB/s \n",
            "\u001b[?25hRequirement already satisfied: urllib3 in /usr/local/lib/python3.7/dist-packages (from selenium) (1.24.3)\n",
            "Installing collected packages: selenium\n",
            "Successfully installed selenium-3.141.0\n",
            "Get:1 http://security.ubuntu.com/ubuntu bionic-security InRelease [88.7 kB]\n",
            "Get:2 https://cloud.r-project.org/bin/linux/ubuntu bionic-cran40/ InRelease [3,626 B]\n",
            "Ign:3 https://developer.download.nvidia.com/compute/cuda/repos/ubuntu1804/x86_64  InRelease\n",
            "Ign:4 https://developer.download.nvidia.com/compute/machine-learning/repos/ubuntu1804/x86_64  InRelease\n",
            "Get:5 http://ppa.launchpad.net/c2d4u.team/c2d4u4.0+/ubuntu bionic InRelease [15.9 kB]\n",
            "Hit:6 http://archive.ubuntu.com/ubuntu bionic InRelease\n",
            "Hit:7 https://developer.download.nvidia.com/compute/cuda/repos/ubuntu1804/x86_64  Release\n",
            "Hit:8 https://developer.download.nvidia.com/compute/machine-learning/repos/ubuntu1804/x86_64  Release\n",
            "Get:9 http://archive.ubuntu.com/ubuntu bionic-updates InRelease [88.7 kB]\n",
            "Hit:10 http://ppa.launchpad.net/cran/libgit2/ubuntu bionic InRelease\n",
            "Get:11 http://archive.ubuntu.com/ubuntu bionic-backports InRelease [74.6 kB]\n",
            "Get:12 http://ppa.launchpad.net/deadsnakes/ppa/ubuntu bionic InRelease [15.9 kB]\n",
            "Get:13 http://security.ubuntu.com/ubuntu bionic-security/universe amd64 Packages [1,431 kB]\n",
            "Get:14 http://security.ubuntu.com/ubuntu bionic-security/main amd64 Packages [2,365 kB]\n",
            "Hit:15 http://ppa.launchpad.net/graphics-drivers/ppa/ubuntu bionic InRelease\n",
            "Get:18 http://ppa.launchpad.net/c2d4u.team/c2d4u4.0+/ubuntu bionic/main Sources [1,802 kB]\n",
            "Get:19 http://archive.ubuntu.com/ubuntu bionic-updates/main amd64 Packages [2,801 kB]\n",
            "Get:20 http://ppa.launchpad.net/c2d4u.team/c2d4u4.0+/ubuntu bionic/main amd64 Packages [922 kB]\n",
            "Get:21 http://archive.ubuntu.com/ubuntu bionic-updates/universe amd64 Packages [2,210 kB]\n",
            "Get:22 http://ppa.launchpad.net/deadsnakes/ppa/ubuntu bionic/main amd64 Packages [40.8 kB]\n",
            "Fetched 11.9 MB in 4s (3,293 kB/s)\n",
            "Reading package lists... Done\n",
            "Reading package lists... Done\n",
            "Building dependency tree       \n",
            "Reading state information... Done\n",
            "The following additional packages will be installed:\n",
            "  chromium-browser chromium-browser-l10n chromium-codecs-ffmpeg-extra\n",
            "Suggested packages:\n",
            "  webaccounts-chromium-extension unity-chromium-extension\n",
            "The following NEW packages will be installed:\n",
            "  chromium-browser chromium-browser-l10n chromium-chromedriver\n",
            "  chromium-codecs-ffmpeg-extra\n",
            "0 upgraded, 4 newly installed, 0 to remove and 39 not upgraded.\n",
            "Need to get 95.4 MB of archives.\n",
            "After this operation, 323 MB of additional disk space will be used.\n",
            "Get:1 http://archive.ubuntu.com/ubuntu bionic-updates/universe amd64 chromium-codecs-ffmpeg-extra amd64 94.0.4606.71-0ubuntu0.18.04.1 [1,136 kB]\n",
            "Get:2 http://archive.ubuntu.com/ubuntu bionic-updates/universe amd64 chromium-browser amd64 94.0.4606.71-0ubuntu0.18.04.1 [85.1 MB]\n",
            "Get:3 http://archive.ubuntu.com/ubuntu bionic-updates/universe amd64 chromium-browser-l10n all 94.0.4606.71-0ubuntu0.18.04.1 [4,161 kB]\n",
            "Get:4 http://archive.ubuntu.com/ubuntu bionic-updates/universe amd64 chromium-chromedriver amd64 94.0.4606.71-0ubuntu0.18.04.1 [4,964 kB]\n",
            "Fetched 95.4 MB in 4s (23.7 MB/s)\n",
            "Selecting previously unselected package chromium-codecs-ffmpeg-extra.\n",
            "(Reading database ... 155047 files and directories currently installed.)\n",
            "Preparing to unpack .../chromium-codecs-ffmpeg-extra_94.0.4606.71-0ubuntu0.18.04.1_amd64.deb ...\n",
            "Unpacking chromium-codecs-ffmpeg-extra (94.0.4606.71-0ubuntu0.18.04.1) ...\n",
            "Selecting previously unselected package chromium-browser.\n",
            "Preparing to unpack .../chromium-browser_94.0.4606.71-0ubuntu0.18.04.1_amd64.deb ...\n",
            "Unpacking chromium-browser (94.0.4606.71-0ubuntu0.18.04.1) ...\n",
            "Selecting previously unselected package chromium-browser-l10n.\n",
            "Preparing to unpack .../chromium-browser-l10n_94.0.4606.71-0ubuntu0.18.04.1_all.deb ...\n",
            "Unpacking chromium-browser-l10n (94.0.4606.71-0ubuntu0.18.04.1) ...\n",
            "Selecting previously unselected package chromium-chromedriver.\n",
            "Preparing to unpack .../chromium-chromedriver_94.0.4606.71-0ubuntu0.18.04.1_amd64.deb ...\n",
            "Unpacking chromium-chromedriver (94.0.4606.71-0ubuntu0.18.04.1) ...\n",
            "Setting up chromium-codecs-ffmpeg-extra (94.0.4606.71-0ubuntu0.18.04.1) ...\n",
            "Setting up chromium-browser (94.0.4606.71-0ubuntu0.18.04.1) ...\n",
            "update-alternatives: using /usr/bin/chromium-browser to provide /usr/bin/x-www-browser (x-www-browser) in auto mode\n",
            "update-alternatives: using /usr/bin/chromium-browser to provide /usr/bin/gnome-www-browser (gnome-www-browser) in auto mode\n",
            "Setting up chromium-chromedriver (94.0.4606.71-0ubuntu0.18.04.1) ...\n",
            "Setting up chromium-browser-l10n (94.0.4606.71-0ubuntu0.18.04.1) ...\n",
            "Processing triggers for man-db (2.8.3-2ubuntu0.1) ...\n",
            "Processing triggers for hicolor-icon-theme (0.17-2) ...\n",
            "Processing triggers for mime-support (3.60ubuntu1) ...\n",
            "Processing triggers for libc-bin (2.27-3ubuntu1.3) ...\n",
            "/sbin/ldconfig.real: /usr/local/lib/python3.7/dist-packages/ideep4py/lib/libmkldnn.so.0 is not a symbolic link\n",
            "\n"
          ]
        },
        {
          "output_type": "stream",
          "name": "stderr",
          "text": [
            "/usr/local/lib/python3.7/dist-packages/ipykernel_launcher.py:10: DeprecationWarning: use options instead of chrome_options\n",
            "  # Remove the CWD from sys.path while we load stuff.\n"
          ]
        }
      ]
    },
    {
      "cell_type": "code",
      "metadata": {
        "id": "pTkROFO7PKgn"
      },
      "source": [
        "from selenium import webdriver\n",
        "from selenium.webdriver.common.keys import keysimport time\n",
        "from pathlib import Path"
      ],
      "execution_count": null,
      "outputs": []
    },
    {
      "cell_type": "code",
      "metadata": {
        "id": "_pLMwaZoPKnD"
      },
      "source": [
        "source1 = \"https://www.ebay.com/sch/i.html?_from=R40&_trksid=p2047675.m570.l1313&_nkw=puma+deviate+nitro&_sacat=0\"\n",
        "source2 = \"https://www.amazon.com.mx/s?k=puma+deviate+nitro&__mk_es_MX=%C3%85M%C3%85%C5%BD%C3%95%C3%91&ref=nb_sb_noss_1\"\n",
        "source3 = \"https://listado.mercadolibre.com.mx/puma-deviate-nitro#D[A:puma%20deviate%20nitro]\""
      ],
      "execution_count": null,
      "outputs": []
    },
    {
      "cell_type": "code",
      "metadata": {
        "id": "YHtNJSGkPKss"
      },
      "source": [
        "wait_imp = 10\n",
        "CO = webdriver.ChromeOptions()\n",
        "CO.add_experimental_optio('useAutomationExtention',)"
      ],
      "execution_count": null,
      "outputs": []
    }
  ]
}